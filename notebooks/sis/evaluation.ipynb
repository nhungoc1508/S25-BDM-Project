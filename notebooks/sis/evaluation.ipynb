{
 "cells": [
  {
   "cell_type": "code",
   "execution_count": 17,
   "metadata": {},
   "outputs": [],
   "source": [
    "import pandas as pd\n",
    "import numpy as np\n",
    "import random\n",
    "import time"
   ]
  },
  {
   "cell_type": "markdown",
   "metadata": {},
   "source": [
    "# Types of evaluations\n",
    "- Percentages:\n",
    "    - Exam: 30 - 50%\n",
    "    - Assignments: 10% each\n",
    "    - Essays: 10% each\n",
    "    - Projects: 30 - 50%\n",
    "- Rules:\n",
    "    - Exam: yes/no\n",
    "    - Project: yes/no\n",
    "    - Remaining %: assignments or essays"
   ]
  },
  {
   "cell_type": "code",
   "execution_count": 18,
   "metadata": {},
   "outputs": [],
   "source": [
    "def get_cutoff(grade):\n",
    "    if grade >= 20 and grade <= 49:\n",
    "        return (20, 49)\n",
    "    if grade >= 50 and grade <= 59:\n",
    "        return (50, 59)\n",
    "    if grade >= 60 and grade <= 69:\n",
    "        return (60, 69)\n",
    "    if grade >= 70 and grade <= 79:\n",
    "        return (70, 79)\n",
    "    if grade >= 80 and grade <= 89:\n",
    "        return (80, 89)\n",
    "    if grade >= 90 and grade <= 100:\n",
    "        return (90, 100)"
   ]
  },
  {
   "cell_type": "code",
   "execution_count": 19,
   "metadata": {},
   "outputs": [],
   "source": [
    "exam_perc = [30, 40, 50]\n",
    "proj_perc = [30, 40, 50]\n",
    "cutoffs_dict = {\n",
    "    'A': (90, 100),\n",
    "    'B+': (80, 89),\n",
    "    'B': (70, 79),\n",
    "    'C+': (60, 69),\n",
    "    'C': (50, 59),\n",
    "    'F': (20, 49)\n",
    "}\n",
    "grades = ['A', 'B+', 'B', 'C+', 'C', 'F']\n",
    "\n",
    "def assign_eval(row):\n",
    "    grade = row['grade']\n",
    "    perc_sum = 0\n",
    "    avg = 0\n",
    "    row_objs = []\n",
    "    if grade != -1:\n",
    "        # Courses taken\n",
    "        cutoff = get_cutoff(grade)\n",
    "        exam = random.random()\n",
    "        if exam >= 0.5:\n",
    "            perc = random.choice(exam_perc)\n",
    "            perc_sum += perc\n",
    "            score = random.randint(cutoff[0], cutoff[1])\n",
    "            avg += score * perc / 100\n",
    "            row_obj = {'student_id': row['student_id'], 'course_code': row['course_code'], 'evaluation': 'exam', 'weight': perc, 'score': score}\n",
    "            row_objs.append(row_obj)\n",
    "        proj = random.random()\n",
    "        if proj >= 0.5:\n",
    "            perc = random.choice(proj_perc)\n",
    "            perc_sum += perc\n",
    "            if perc_sum != 100: # Not the last one\n",
    "                score = random.randint(cutoff[0], cutoff[1])\n",
    "                avg += score * perc / 100\n",
    "            else: # Is the last one\n",
    "                score = max(0, np.round((grade - avg) / (perc / 100), decimals=1))\n",
    "            row_obj = {'student_id': row['student_id'], 'course_code': row['course_code'], 'evaluation': 'project', 'weight': perc, 'score': score}\n",
    "            row_objs.append(row_obj)\n",
    "        if perc_sum < 100:\n",
    "            perc_remain = 100 - perc_sum\n",
    "            evals_remain = []\n",
    "            essay_assign = random.random()\n",
    "            for i in range(int(perc_remain / 10)):\n",
    "                if essay_assign >= 0.5:\n",
    "                    evals_remain.append('essay')\n",
    "                else:\n",
    "                    evals_remain.append('assignment')\n",
    "            for i in range(len(evals_remain) - 1):\n",
    "                score = random.randint(cutoff[0], cutoff[1])\n",
    "                avg += score * 10 / 100\n",
    "                row_obj = {'student_id': row['student_id'], 'course_code': row['course_code'], 'evaluation': evals_remain[i], 'weight': 10, 'score': score}\n",
    "                row_objs.append(row_obj)\n",
    "            # Last one\n",
    "            score = max(0, np.round((grade - avg) / 0.1, decimals=1))\n",
    "            row_obj = {'student_id': row['student_id'], 'course_code': row['course_code'], 'evaluation': evals_remain[-1], 'weight': 10, 'score': score}\n",
    "            row_objs.append(row_obj)\n",
    "    else:\n",
    "        new_grade = random.choice(grades)\n",
    "        cutoff = cutoffs_dict[new_grade]\n",
    "        # Courses taking\n",
    "        exam = random.random()\n",
    "        if exam >= 0.5:\n",
    "            perc = random.choice(exam_perc)\n",
    "            perc_sum += perc\n",
    "            row_obj = {'student_id': row['student_id'], 'course_code': row['course_code'], 'evaluation': 'exam', 'weight': perc, 'score': None}\n",
    "            row_objs.append(row_obj)\n",
    "        proj = random.random()\n",
    "        if proj >= 0.5:\n",
    "            perc = random.choice(proj_perc)\n",
    "            perc_sum += perc\n",
    "            row_obj = {'student_id': row['student_id'], 'course_code': row['course_code'], 'evaluation': 'project', 'weight': perc, 'score': None}\n",
    "        if perc_sum < 100:\n",
    "            perc_remain = 100 - perc_sum\n",
    "            essay_assign = random.random()\n",
    "            for i in range(int(perc_remain / 10)):\n",
    "                if essay_assign >= 0.5:\n",
    "                    type = 'essay'\n",
    "                else:\n",
    "                    type = 'assignment'\n",
    "                done = random.random()\n",
    "                if done >= 0.5:\n",
    "                    score = random.randint(cutoff[0], cutoff[1])\n",
    "                    row_obj = {'student_id': row['student_id'], 'course_code': row['course_code'], 'evaluation': type, 'weight': 10, 'score': score}\n",
    "                else:\n",
    "                    row_obj = {'student_id': row['student_id'], 'course_code': row['course_code'], 'evaluation': type, 'weight': 10, 'score': None}\n",
    "                row_objs.append(row_obj)\n",
    "    return row_objs"
   ]
  },
  {
   "cell_type": "code",
   "execution_count": 20,
   "metadata": {},
   "outputs": [],
   "source": [
    "PATH = '/Users/ngochoang/Library/CloudStorage/GoogleDrive-nhungoc1508@gmail.com/My Drive/Graduate/Semester 2 (Spring 2025)/Big Data Management/Project/P1 - Landing zone/Data/processed'"
   ]
  },
  {
   "cell_type": "code",
   "execution_count": 21,
   "metadata": {},
   "outputs": [
    {
     "name": "stdout",
     "output_type": "stream",
     "text": [
      "(222720, 5)\n"
     ]
    },
    {
     "data": {
      "text/html": [
       "<div>\n",
       "<style scoped>\n",
       "    .dataframe tbody tr th:only-of-type {\n",
       "        vertical-align: middle;\n",
       "    }\n",
       "\n",
       "    .dataframe tbody tr th {\n",
       "        vertical-align: top;\n",
       "    }\n",
       "\n",
       "    .dataframe thead th {\n",
       "        text-align: right;\n",
       "    }\n",
       "</style>\n",
       "<table border=\"1\" class=\"dataframe\">\n",
       "  <thead>\n",
       "    <tr style=\"text-align: right;\">\n",
       "      <th></th>\n",
       "      <th>student_id</th>\n",
       "      <th>course_code</th>\n",
       "      <th>semester</th>\n",
       "      <th>is_taking</th>\n",
       "      <th>grade</th>\n",
       "    </tr>\n",
       "  </thead>\n",
       "  <tbody>\n",
       "    <tr>\n",
       "      <th>0</th>\n",
       "      <td>dc525</td>\n",
       "      <td>POSC 498</td>\n",
       "      <td>semester_1</td>\n",
       "      <td>0</td>\n",
       "      <td>90.0</td>\n",
       "    </tr>\n",
       "    <tr>\n",
       "      <th>1</th>\n",
       "      <td>dc525</td>\n",
       "      <td>POSC 377</td>\n",
       "      <td>semester_1</td>\n",
       "      <td>0</td>\n",
       "      <td>91.0</td>\n",
       "    </tr>\n",
       "    <tr>\n",
       "      <th>2</th>\n",
       "      <td>dc525</td>\n",
       "      <td>POSC 321</td>\n",
       "      <td>semester_1</td>\n",
       "      <td>0</td>\n",
       "      <td>90.0</td>\n",
       "    </tr>\n",
       "    <tr>\n",
       "      <th>3</th>\n",
       "      <td>dc525</td>\n",
       "      <td>ANTH 322</td>\n",
       "      <td>semester_1</td>\n",
       "      <td>0</td>\n",
       "      <td>90.0</td>\n",
       "    </tr>\n",
       "    <tr>\n",
       "      <th>4</th>\n",
       "      <td>dc525</td>\n",
       "      <td>SOCI 216</td>\n",
       "      <td>semester_1</td>\n",
       "      <td>0</td>\n",
       "      <td>98.0</td>\n",
       "    </tr>\n",
       "  </tbody>\n",
       "</table>\n",
       "</div>"
      ],
      "text/plain": [
       "  student_id course_code    semester  is_taking  grade\n",
       "0      dc525    POSC 498  semester_1          0   90.0\n",
       "1      dc525    POSC 377  semester_1          0   91.0\n",
       "2      dc525    POSC 321  semester_1          0   90.0\n",
       "3      dc525    ANTH 322  semester_1          0   90.0\n",
       "4      dc525    SOCI 216  semester_1          0   98.0"
      ]
     },
     "execution_count": 21,
     "metadata": {},
     "output_type": "execute_result"
    }
   ],
   "source": [
    "enrollment = pd.read_csv(f'{PATH}/enrollment.csv')\n",
    "enrollment['grade'] = enrollment['grade'].fillna(-1)\n",
    "print(enrollment.shape)\n",
    "enrollment.head()"
   ]
  },
  {
   "cell_type": "code",
   "execution_count": 22,
   "metadata": {},
   "outputs": [],
   "source": [
    "evaluations = []\n",
    "for _, enrol in enrollment.iterrows():\n",
    "    rows = assign_eval(enrol)\n",
    "    for row in rows:\n",
    "        evaluations.append(row)"
   ]
  },
  {
   "cell_type": "code",
   "execution_count": 23,
   "metadata": {},
   "outputs": [
    {
     "data": {
      "text/plain": [
       "1537297"
      ]
     },
     "execution_count": 23,
     "metadata": {},
     "output_type": "execute_result"
    }
   ],
   "source": [
    "len(evaluations)"
   ]
  },
  {
   "cell_type": "code",
   "execution_count": 24,
   "metadata": {},
   "outputs": [
    {
     "name": "stdout",
     "output_type": "stream",
     "text": [
      "(1537297, 5)\n"
     ]
    },
    {
     "data": {
      "text/html": [
       "<div>\n",
       "<style scoped>\n",
       "    .dataframe tbody tr th:only-of-type {\n",
       "        vertical-align: middle;\n",
       "    }\n",
       "\n",
       "    .dataframe tbody tr th {\n",
       "        vertical-align: top;\n",
       "    }\n",
       "\n",
       "    .dataframe thead th {\n",
       "        text-align: right;\n",
       "    }\n",
       "</style>\n",
       "<table border=\"1\" class=\"dataframe\">\n",
       "  <thead>\n",
       "    <tr style=\"text-align: right;\">\n",
       "      <th></th>\n",
       "      <th>student_id</th>\n",
       "      <th>course_code</th>\n",
       "      <th>evaluation</th>\n",
       "      <th>weight</th>\n",
       "      <th>score</th>\n",
       "    </tr>\n",
       "  </thead>\n",
       "  <tbody>\n",
       "    <tr>\n",
       "      <th>0</th>\n",
       "      <td>dc525</td>\n",
       "      <td>POSC 498</td>\n",
       "      <td>exam</td>\n",
       "      <td>40</td>\n",
       "      <td>99.0</td>\n",
       "    </tr>\n",
       "    <tr>\n",
       "      <th>1</th>\n",
       "      <td>dc525</td>\n",
       "      <td>POSC 498</td>\n",
       "      <td>assignment</td>\n",
       "      <td>10</td>\n",
       "      <td>92.0</td>\n",
       "    </tr>\n",
       "    <tr>\n",
       "      <th>2</th>\n",
       "      <td>dc525</td>\n",
       "      <td>POSC 498</td>\n",
       "      <td>assignment</td>\n",
       "      <td>10</td>\n",
       "      <td>96.0</td>\n",
       "    </tr>\n",
       "    <tr>\n",
       "      <th>3</th>\n",
       "      <td>dc525</td>\n",
       "      <td>POSC 498</td>\n",
       "      <td>assignment</td>\n",
       "      <td>10</td>\n",
       "      <td>91.0</td>\n",
       "    </tr>\n",
       "    <tr>\n",
       "      <th>4</th>\n",
       "      <td>dc525</td>\n",
       "      <td>POSC 498</td>\n",
       "      <td>assignment</td>\n",
       "      <td>10</td>\n",
       "      <td>96.0</td>\n",
       "    </tr>\n",
       "  </tbody>\n",
       "</table>\n",
       "</div>"
      ],
      "text/plain": [
       "  student_id course_code  evaluation  weight  score\n",
       "0      dc525    POSC 498        exam      40   99.0\n",
       "1      dc525    POSC 498  assignment      10   92.0\n",
       "2      dc525    POSC 498  assignment      10   96.0\n",
       "3      dc525    POSC 498  assignment      10   91.0\n",
       "4      dc525    POSC 498  assignment      10   96.0"
      ]
     },
     "execution_count": 24,
     "metadata": {},
     "output_type": "execute_result"
    }
   ],
   "source": [
    "eval_df = pd.DataFrame.from_records(evaluations)\n",
    "print(eval_df.shape)\n",
    "eval_df.head()"
   ]
  },
  {
   "cell_type": "code",
   "execution_count": 25,
   "metadata": {},
   "outputs": [],
   "source": [
    "eval_df.to_csv(f'{PATH}/evaluations.csv', index=False)"
   ]
  },
  {
   "cell_type": "code",
   "execution_count": null,
   "metadata": {},
   "outputs": [],
   "source": []
  }
 ],
 "metadata": {
  "kernelspec": {
   "display_name": "base",
   "language": "python",
   "name": "python3"
  },
  "language_info": {
   "codemirror_mode": {
    "name": "ipython",
    "version": 3
   },
   "file_extension": ".py",
   "mimetype": "text/x-python",
   "name": "python",
   "nbconvert_exporter": "python",
   "pygments_lexer": "ipython3",
   "version": "3.8.13"
  }
 },
 "nbformat": 4,
 "nbformat_minor": 2
}
