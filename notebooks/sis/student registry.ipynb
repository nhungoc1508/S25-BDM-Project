{
 "cells": [
  {
   "cell_type": "code",
   "execution_count": 937,
   "metadata": {},
   "outputs": [],
   "source": [
    "import pandas as pd\n",
    "import numpy as np\n",
    "from faker import Faker\n",
    "import random"
   ]
  },
  {
   "cell_type": "code",
   "execution_count": 938,
   "metadata": {},
   "outputs": [],
   "source": [
    "random.seed(0)\n",
    "faker = Faker()\n",
    "Faker.seed(0)"
   ]
  },
  {
   "cell_type": "code",
   "execution_count": 939,
   "metadata": {},
   "outputs": [],
   "source": [
    "PATH = '/Users/ngochoang/Library/CloudStorage/GoogleDrive-nhungoc1508@gmail.com/My Drive/Graduate/Semester 2 (Spring 2025)/Big Data Management/Project/P1 - Landing zone/Data'"
   ]
  },
  {
   "cell_type": "code",
   "execution_count": 940,
   "metadata": {},
   "outputs": [
    {
     "name": "stdout",
     "output_type": "stream",
     "text": [
      "(9000, 9)\n"
     ]
    },
    {
     "data": {
      "text/html": [
       "<div>\n",
       "<style scoped>\n",
       "    .dataframe tbody tr th:only-of-type {\n",
       "        vertical-align: middle;\n",
       "    }\n",
       "\n",
       "    .dataframe tbody tr th {\n",
       "        vertical-align: top;\n",
       "    }\n",
       "\n",
       "    .dataframe thead th {\n",
       "        text-align: right;\n",
       "    }\n",
       "</style>\n",
       "<table border=\"1\" class=\"dataframe\">\n",
       "  <thead>\n",
       "    <tr style=\"text-align: right;\">\n",
       "      <th></th>\n",
       "      <th>name</th>\n",
       "      <th>phone</th>\n",
       "      <th>address</th>\n",
       "      <th>gender</th>\n",
       "      <th>student_id</th>\n",
       "      <th>email</th>\n",
       "      <th>year</th>\n",
       "      <th>department</th>\n",
       "      <th>valid_year</th>\n",
       "    </tr>\n",
       "  </thead>\n",
       "  <tbody>\n",
       "    <tr>\n",
       "      <th>0</th>\n",
       "      <td>Donald Contreras</td>\n",
       "      <td>9208625450</td>\n",
       "      <td>478 Mooney Park, New Valerie, VI 28836</td>\n",
       "      <td>male</td>\n",
       "      <td>dc525</td>\n",
       "      <td>dc525@upc.edu</td>\n",
       "      <td>1</td>\n",
       "      <td>POSC</td>\n",
       "      <td>2024 - 2025</td>\n",
       "    </tr>\n",
       "    <tr>\n",
       "      <th>1</th>\n",
       "      <td>Joseph Horton</td>\n",
       "      <td>9886408555</td>\n",
       "      <td>037 Matthew Shores, Greeneton, CA 98399</td>\n",
       "      <td>male</td>\n",
       "      <td>jh502</td>\n",
       "      <td>jh502@upc.edu</td>\n",
       "      <td>2</td>\n",
       "      <td>RELG</td>\n",
       "      <td>2024 - 2025</td>\n",
       "    </tr>\n",
       "    <tr>\n",
       "      <th>2</th>\n",
       "      <td>Savannah Burns</td>\n",
       "      <td>9047592659</td>\n",
       "      <td>96124 Lloyd Streets, Edwardmouth, DC 61677</td>\n",
       "      <td>female</td>\n",
       "      <td>sb577</td>\n",
       "      <td>sb577@upc.edu</td>\n",
       "      <td>1</td>\n",
       "      <td>PHAS</td>\n",
       "      <td>2024 - 2025</td>\n",
       "    </tr>\n",
       "    <tr>\n",
       "      <th>3</th>\n",
       "      <td>William Carter</td>\n",
       "      <td>9048473864</td>\n",
       "      <td>11959 Clark Village, Ivanview, NH 43940</td>\n",
       "      <td>male</td>\n",
       "      <td>wc352</td>\n",
       "      <td>wc352@upc.edu</td>\n",
       "      <td>3</td>\n",
       "      <td>PBSC</td>\n",
       "      <td>2024 - 2025</td>\n",
       "    </tr>\n",
       "    <tr>\n",
       "      <th>4</th>\n",
       "      <td>John Rodriguez</td>\n",
       "      <td>9685225730</td>\n",
       "      <td>051 Weaver Glen Apt. 724, West Davidborough, M...</td>\n",
       "      <td>male</td>\n",
       "      <td>jr330</td>\n",
       "      <td>jr330@upc.edu</td>\n",
       "      <td>3</td>\n",
       "      <td>SOAN</td>\n",
       "      <td>2024 - 2025</td>\n",
       "    </tr>\n",
       "  </tbody>\n",
       "</table>\n",
       "</div>"
      ],
      "text/plain": [
       "               name       phone  \\\n",
       "0  Donald Contreras  9208625450   \n",
       "1     Joseph Horton  9886408555   \n",
       "2    Savannah Burns  9047592659   \n",
       "3    William Carter  9048473864   \n",
       "4    John Rodriguez  9685225730   \n",
       "\n",
       "                                             address  gender student_id  \\\n",
       "0             478 Mooney Park, New Valerie, VI 28836    male      dc525   \n",
       "1            037 Matthew Shores, Greeneton, CA 98399    male      jh502   \n",
       "2         96124 Lloyd Streets, Edwardmouth, DC 61677  female      sb577   \n",
       "3            11959 Clark Village, Ivanview, NH 43940    male      wc352   \n",
       "4  051 Weaver Glen Apt. 724, West Davidborough, M...    male      jr330   \n",
       "\n",
       "           email  year department   valid_year  \n",
       "0  dc525@upc.edu     1       POSC  2024 - 2025  \n",
       "1  jh502@upc.edu     2       RELG  2024 - 2025  \n",
       "2  sb577@upc.edu     1       PHAS  2024 - 2025  \n",
       "3  wc352@upc.edu     3       PBSC  2024 - 2025  \n",
       "4  jr330@upc.edu     3       SOAN  2024 - 2025  "
      ]
     },
     "execution_count": 940,
     "metadata": {},
     "output_type": "execute_result"
    }
   ],
   "source": [
    "current_students = pd.read_csv(f'{PATH}/students.csv')\n",
    "current_students['valid_year'] = '2024 - 2025'\n",
    "print(current_students.shape)\n",
    "current_students.head()"
   ]
  },
  {
   "cell_type": "code",
   "execution_count": 941,
   "metadata": {},
   "outputs": [
    {
     "data": {
      "text/plain": [
       "2287"
      ]
     },
     "execution_count": 941,
     "metadata": {},
     "output_type": "execute_result"
    }
   ],
   "source": [
    "current_students[current_students['year'] == 1].shape[0]"
   ]
  },
  {
   "cell_type": "code",
   "execution_count": 942,
   "metadata": {},
   "outputs": [],
   "source": [
    "all_ids = set(current_students['student_id'].tolist())"
   ]
  },
  {
   "cell_type": "code",
   "execution_count": 943,
   "metadata": {},
   "outputs": [
    {
     "name": "stdout",
     "output_type": "stream",
     "text": [
      "(1851, 9)\n"
     ]
    },
    {
     "data": {
      "text/html": [
       "<div>\n",
       "<style scoped>\n",
       "    .dataframe tbody tr th:only-of-type {\n",
       "        vertical-align: middle;\n",
       "    }\n",
       "\n",
       "    .dataframe tbody tr th {\n",
       "        vertical-align: top;\n",
       "    }\n",
       "\n",
       "    .dataframe thead th {\n",
       "        text-align: right;\n",
       "    }\n",
       "</style>\n",
       "<table border=\"1\" class=\"dataframe\">\n",
       "  <thead>\n",
       "    <tr style=\"text-align: right;\">\n",
       "      <th></th>\n",
       "      <th>course_code</th>\n",
       "      <th>title</th>\n",
       "      <th>description</th>\n",
       "      <th>dept_code</th>\n",
       "      <th>credits</th>\n",
       "      <th>pre_reqs</th>\n",
       "      <th>core_area</th>\n",
       "      <th>inquiry_area</th>\n",
       "      <th>recommendation</th>\n",
       "    </tr>\n",
       "  </thead>\n",
       "  <tbody>\n",
       "    <tr>\n",
       "      <th>0</th>\n",
       "      <td>AHUM 191X</td>\n",
       "      <td>FLAC/French and German</td>\n",
       "      <td>NaN</td>\n",
       "      <td>NaN</td>\n",
       "      <td>0</td>\n",
       "      <td>NaN</td>\n",
       "      <td>NaN</td>\n",
       "      <td>NaN</td>\n",
       "      <td>NaN</td>\n",
       "    </tr>\n",
       "    <tr>\n",
       "      <th>1</th>\n",
       "      <td>AHUM 200X</td>\n",
       "      <td>CLAC Language Pedagogy</td>\n",
       "      <td>NaN</td>\n",
       "      <td>NaN</td>\n",
       "      <td>0</td>\n",
       "      <td>NaN</td>\n",
       "      <td>NaN</td>\n",
       "      <td>NaN</td>\n",
       "      <td>NaN</td>\n",
       "    </tr>\n",
       "  </tbody>\n",
       "</table>\n",
       "</div>"
      ],
      "text/plain": [
       "  course_code                   title description dept_code  credits pre_reqs  \\\n",
       "0   AHUM 191X  FLAC/French and German         NaN       NaN        0      NaN   \n",
       "1   AHUM 200X  CLAC Language Pedagogy         NaN       NaN        0      NaN   \n",
       "\n",
       "  core_area inquiry_area recommendation  \n",
       "0       NaN          NaN            NaN  \n",
       "1       NaN          NaN            NaN  "
      ]
     },
     "execution_count": 943,
     "metadata": {},
     "output_type": "execute_result"
    }
   ],
   "source": [
    "course = pd.read_csv(f'{PATH}/Student/hudsonu-registrar/course', sep='\\t', encoding_errors='ignore')\n",
    "print(course.shape)\n",
    "course.head(2)"
   ]
  },
  {
   "cell_type": "code",
   "execution_count": 944,
   "metadata": {},
   "outputs": [
    {
     "data": {
      "text/plain": [
       "HIST    0.084453\n",
       "ENGL    0.083813\n",
       "SOAN    0.075496\n",
       "ARTS    0.072937\n",
       "BIOL    0.057582\n",
       "EDUC    0.056942\n",
       "POSC    0.056302\n",
       "PBSC    0.044786\n",
       "RMLL    0.044786\n",
       "RELG    0.044786\n",
       "ECON    0.037108\n",
       "CLAS    0.031990\n",
       "PHAS    0.030710\n",
       "GEOG    0.028151\n",
       "MATH    0.025592\n",
       "PHIL    0.024952\n",
       "COSC    0.024312\n",
       "CHEM    0.024312\n",
       "THEA    0.024312\n",
       "WRIT    0.021753\n",
       "EEGS    0.021753\n",
       "MUSI    0.019834\n",
       "EALL    0.019834\n",
       "GERM    0.017914\n",
       "ENST    0.017274\n",
       "MELL    0.008317\n",
       "Name: dept_code, dtype: float64"
      ]
     },
     "execution_count": 944,
     "metadata": {},
     "output_type": "execute_result"
    }
   ],
   "source": [
    "course = course[course['dept_code'] != 'PSCI']\n",
    "dept_count = course['dept_code'].value_counts(normalize=True)\n",
    "dept_count"
   ]
  },
  {
   "cell_type": "code",
   "execution_count": 945,
   "metadata": {},
   "outputs": [],
   "source": [
    "d = {'year': [1, 2, 3, 4]}\n",
    "tmp_df = pd.DataFrame(data=d)\n",
    "year_count = tmp_df['year'].value_counts(normalize=True)"
   ]
  },
  {
   "cell_type": "code",
   "execution_count": 946,
   "metadata": {},
   "outputs": [
    {
     "data": {
      "text/plain": [
       "2    0.333333\n",
       "3    0.333333\n",
       "4    0.333333\n",
       "Name: year, dtype: float64"
      ]
     },
     "execution_count": 946,
     "metadata": {},
     "output_type": "execute_result"
    }
   ],
   "source": [
    "d = {'year': [2, 3, 4]}\n",
    "tmp_df = pd.DataFrame(data=d)\n",
    "loa_count = tmp_df['year'].value_counts(normalize=True)\n",
    "loa_count"
   ]
  },
  {
   "cell_type": "markdown",
   "metadata": {},
   "source": [
    "Select students valid for 2023 - 2024 (taking away freshman students)"
   ]
  },
  {
   "cell_type": "code",
   "execution_count": 947,
   "metadata": {},
   "outputs": [
    {
     "data": {
      "text/plain": [
       "(6713, 9)"
      ]
     },
     "execution_count": 947,
     "metadata": {},
     "output_type": "execute_result"
    }
   ],
   "source": [
    "upperclass = current_students[current_students['year'] > 1]\n",
    "upperclass.shape"
   ]
  },
  {
   "cell_type": "markdown",
   "metadata": {},
   "source": [
    "Changes in student body:\n",
    "- Drop out: ~100 per year = -\n",
    "- Leave of absence: ~150 per year = -\n",
    "- Return from LOA: ~150 per year = +\n",
    "- Repeating the year: ~30 per year\n",
    "- Student graduated"
   ]
  },
  {
   "cell_type": "markdown",
   "metadata": {},
   "source": [
    "Students returning from LOA in 2024 - 2025"
   ]
  },
  {
   "cell_type": "code",
   "execution_count": 948,
   "metadata": {},
   "outputs": [
    {
     "data": {
      "text/plain": [
       "(152, 9)"
      ]
     },
     "execution_count": 948,
     "metadata": {},
     "output_type": "execute_result"
    }
   ],
   "source": [
    "loa_return = upperclass.sample(n=150 + random.randint(-10, 10), random_state=0)\n",
    "loa_return.shape"
   ]
  },
  {
   "cell_type": "code",
   "execution_count": 949,
   "metadata": {},
   "outputs": [
    {
     "data": {
      "text/html": [
       "<div>\n",
       "<style scoped>\n",
       "    .dataframe tbody tr th:only-of-type {\n",
       "        vertical-align: middle;\n",
       "    }\n",
       "\n",
       "    .dataframe tbody tr th {\n",
       "        vertical-align: top;\n",
       "    }\n",
       "\n",
       "    .dataframe thead th {\n",
       "        text-align: right;\n",
       "    }\n",
       "</style>\n",
       "<table border=\"1\" class=\"dataframe\">\n",
       "  <thead>\n",
       "    <tr style=\"text-align: right;\">\n",
       "      <th></th>\n",
       "      <th>name</th>\n",
       "      <th>phone</th>\n",
       "      <th>address</th>\n",
       "      <th>gender</th>\n",
       "      <th>student_id</th>\n",
       "      <th>email</th>\n",
       "      <th>year</th>\n",
       "      <th>department</th>\n",
       "      <th>valid_year</th>\n",
       "      <th>loa_year</th>\n",
       "      <th>return_year</th>\n",
       "    </tr>\n",
       "  </thead>\n",
       "  <tbody>\n",
       "    <tr>\n",
       "      <th>1853</th>\n",
       "      <td>Lauren Petersen</td>\n",
       "      <td>9748931461</td>\n",
       "      <td>Unit 8872 Box 1090, DPO AE 11045</td>\n",
       "      <td>female</td>\n",
       "      <td>lp870</td>\n",
       "      <td>lp870@upc.edu</td>\n",
       "      <td>2</td>\n",
       "      <td>ECON</td>\n",
       "      <td>2024 - 2025</td>\n",
       "      <td>2022 - 2023</td>\n",
       "      <td>2024 - 2025</td>\n",
       "    </tr>\n",
       "    <tr>\n",
       "      <th>4291</th>\n",
       "      <td>Jose Pugh</td>\n",
       "      <td>9853993886</td>\n",
       "      <td>USNS Herrera, FPO AP 76469</td>\n",
       "      <td>male</td>\n",
       "      <td>jp906</td>\n",
       "      <td>jp906@upc.edu</td>\n",
       "      <td>3</td>\n",
       "      <td>PBSC</td>\n",
       "      <td>2024 - 2025</td>\n",
       "      <td>2022 - 2023</td>\n",
       "      <td>2024 - 2025</td>\n",
       "    </tr>\n",
       "  </tbody>\n",
       "</table>\n",
       "</div>"
      ],
      "text/plain": [
       "                 name       phone                           address  gender  \\\n",
       "1853  Lauren Petersen  9748931461  Unit 8872 Box 1090, DPO AE 11045  female   \n",
       "4291        Jose Pugh  9853993886        USNS Herrera, FPO AP 76469    male   \n",
       "\n",
       "     student_id          email  year department   valid_year     loa_year  \\\n",
       "1853      lp870  lp870@upc.edu     2       ECON  2024 - 2025  2022 - 2023   \n",
       "4291      jp906  jp906@upc.edu     3       PBSC  2024 - 2025  2022 - 2023   \n",
       "\n",
       "      return_year  \n",
       "1853  2024 - 2025  \n",
       "4291  2024 - 2025  "
      ]
     },
     "execution_count": 949,
     "metadata": {},
     "output_type": "execute_result"
    }
   ],
   "source": [
    "loa_return['loa_year'] = '2022 - 2023'\n",
    "loa_return['return_year'] = '2024 - 2025'\n",
    "loa_return.head(2)"
   ]
  },
  {
   "cell_type": "code",
   "execution_count": 950,
   "metadata": {},
   "outputs": [],
   "source": [
    "loa_return.to_csv(f'{PATH}/registry/loa_return_2425.csv', index=None)"
   ]
  },
  {
   "cell_type": "markdown",
   "metadata": {},
   "source": [
    "Students repeating the year"
   ]
  },
  {
   "cell_type": "code",
   "execution_count": 951,
   "metadata": {},
   "outputs": [
    {
     "data": {
      "text/plain": [
       "(6561, 9)"
      ]
     },
     "execution_count": 951,
     "metadata": {},
     "output_type": "execute_result"
    }
   ],
   "source": [
    "upperclass = upperclass[~upperclass['student_id'].isin(loa_return['student_id'])]\n",
    "upperclass.shape"
   ]
  },
  {
   "cell_type": "code",
   "execution_count": 952,
   "metadata": {},
   "outputs": [
    {
     "data": {
      "text/plain": [
       "(33, 9)"
      ]
     },
     "execution_count": 952,
     "metadata": {},
     "output_type": "execute_result"
    }
   ],
   "source": [
    "repeating = upperclass.sample(n=30 + random.randint(-10, 10), random_state=0)\n",
    "repeating.shape"
   ]
  },
  {
   "cell_type": "code",
   "execution_count": 953,
   "metadata": {},
   "outputs": [],
   "source": [
    "repeating['repeating_year'] = '2024 - 2025'"
   ]
  },
  {
   "cell_type": "code",
   "execution_count": 954,
   "metadata": {},
   "outputs": [],
   "source": [
    "repeating.to_csv(f'{PATH}/registry/repeating_2425.csv', index=None)"
   ]
  },
  {
   "cell_type": "markdown",
   "metadata": {},
   "source": [
    "Students progressing normally"
   ]
  },
  {
   "cell_type": "code",
   "execution_count": 955,
   "metadata": {},
   "outputs": [
    {
     "data": {
      "text/plain": [
       "(6528, 9)"
      ]
     },
     "execution_count": 955,
     "metadata": {},
     "output_type": "execute_result"
    }
   ],
   "source": [
    "progressing = upperclass[~upperclass['student_id'].isin(repeating['student_id'])]\n",
    "progressing.shape"
   ]
  },
  {
   "cell_type": "code",
   "execution_count": 956,
   "metadata": {},
   "outputs": [
    {
     "data": {
      "text/plain": [
       "3    2191\n",
       "2    2175\n",
       "4    2162\n",
       "Name: year, dtype: int64"
      ]
     },
     "execution_count": 956,
     "metadata": {},
     "output_type": "execute_result"
    }
   ],
   "source": [
    "progressing['year'].value_counts()"
   ]
  },
  {
   "cell_type": "code",
   "execution_count": 957,
   "metadata": {},
   "outputs": [],
   "source": [
    "progressing.to_csv(f'{PATH}/registry/progressing_2425.csv', index=None)"
   ]
  },
  {
   "cell_type": "markdown",
   "metadata": {},
   "source": [
    "# 2023 - 2024"
   ]
  },
  {
   "cell_type": "code",
   "execution_count": 958,
   "metadata": {},
   "outputs": [
    {
     "data": {
      "text/html": [
       "<div>\n",
       "<style scoped>\n",
       "    .dataframe tbody tr th:only-of-type {\n",
       "        vertical-align: middle;\n",
       "    }\n",
       "\n",
       "    .dataframe tbody tr th {\n",
       "        vertical-align: top;\n",
       "    }\n",
       "\n",
       "    .dataframe thead th {\n",
       "        text-align: right;\n",
       "    }\n",
       "</style>\n",
       "<table border=\"1\" class=\"dataframe\">\n",
       "  <thead>\n",
       "    <tr style=\"text-align: right;\">\n",
       "      <th></th>\n",
       "      <th>name</th>\n",
       "      <th>phone</th>\n",
       "      <th>address</th>\n",
       "      <th>gender</th>\n",
       "      <th>student_id</th>\n",
       "      <th>email</th>\n",
       "      <th>year</th>\n",
       "      <th>department</th>\n",
       "      <th>valid_year</th>\n",
       "    </tr>\n",
       "  </thead>\n",
       "  <tbody>\n",
       "    <tr>\n",
       "      <th>1</th>\n",
       "      <td>Joseph Horton</td>\n",
       "      <td>9886408555</td>\n",
       "      <td>037 Matthew Shores, Greeneton, CA 98399</td>\n",
       "      <td>male</td>\n",
       "      <td>jh502</td>\n",
       "      <td>jh502@upc.edu</td>\n",
       "      <td>1</td>\n",
       "      <td>RELG</td>\n",
       "      <td>2023 - 2024</td>\n",
       "    </tr>\n",
       "    <tr>\n",
       "      <th>3</th>\n",
       "      <td>William Carter</td>\n",
       "      <td>9048473864</td>\n",
       "      <td>11959 Clark Village, Ivanview, NH 43940</td>\n",
       "      <td>male</td>\n",
       "      <td>wc352</td>\n",
       "      <td>wc352@upc.edu</td>\n",
       "      <td>2</td>\n",
       "      <td>PBSC</td>\n",
       "      <td>2023 - 2024</td>\n",
       "    </tr>\n",
       "  </tbody>\n",
       "</table>\n",
       "</div>"
      ],
      "text/plain": [
       "             name       phone                                  address gender  \\\n",
       "1   Joseph Horton  9886408555  037 Matthew Shores, Greeneton, CA 98399   male   \n",
       "3  William Carter  9048473864  11959 Clark Village, Ivanview, NH 43940   male   \n",
       "\n",
       "  student_id          email  year department   valid_year  \n",
       "1      jh502  jh502@upc.edu     1       RELG  2023 - 2024  \n",
       "3      wc352  wc352@upc.edu     2       PBSC  2023 - 2024  "
      ]
     },
     "execution_count": 958,
     "metadata": {},
     "output_type": "execute_result"
    }
   ],
   "source": [
    "progressing_2 = progressing.copy()\n",
    "progressing_2['year'] = progressing_2['year'] - 1\n",
    "progressing_2['valid_year'] = '2023 - 2024'\n",
    "progressing_2.head(2)"
   ]
  },
  {
   "cell_type": "code",
   "execution_count": 959,
   "metadata": {},
   "outputs": [
    {
     "data": {
      "text/html": [
       "<div>\n",
       "<style scoped>\n",
       "    .dataframe tbody tr th:only-of-type {\n",
       "        vertical-align: middle;\n",
       "    }\n",
       "\n",
       "    .dataframe tbody tr th {\n",
       "        vertical-align: top;\n",
       "    }\n",
       "\n",
       "    .dataframe thead th {\n",
       "        text-align: right;\n",
       "    }\n",
       "</style>\n",
       "<table border=\"1\" class=\"dataframe\">\n",
       "  <thead>\n",
       "    <tr style=\"text-align: right;\">\n",
       "      <th></th>\n",
       "      <th>name</th>\n",
       "      <th>phone</th>\n",
       "      <th>address</th>\n",
       "      <th>gender</th>\n",
       "      <th>student_id</th>\n",
       "      <th>email</th>\n",
       "      <th>year</th>\n",
       "      <th>department</th>\n",
       "      <th>valid_year</th>\n",
       "    </tr>\n",
       "  </thead>\n",
       "  <tbody>\n",
       "    <tr>\n",
       "      <th>3131</th>\n",
       "      <td>Nicole Meyer</td>\n",
       "      <td>9378728540</td>\n",
       "      <td>PSC 2512, Box 0914, APO AP 12847</td>\n",
       "      <td>female</td>\n",
       "      <td>nm408</td>\n",
       "      <td>nm408@upc.edu</td>\n",
       "      <td>3</td>\n",
       "      <td>BIOL</td>\n",
       "      <td>2023 - 2024</td>\n",
       "    </tr>\n",
       "    <tr>\n",
       "      <th>6109</th>\n",
       "      <td>Joan Flynn</td>\n",
       "      <td>9046397532</td>\n",
       "      <td>238 Charles Court, Lake Williamfurt, VA 34378</td>\n",
       "      <td>female</td>\n",
       "      <td>jf890</td>\n",
       "      <td>jf890@upc.edu</td>\n",
       "      <td>3</td>\n",
       "      <td>WRIT</td>\n",
       "      <td>2023 - 2024</td>\n",
       "    </tr>\n",
       "  </tbody>\n",
       "</table>\n",
       "</div>"
      ],
      "text/plain": [
       "              name       phone                                        address  \\\n",
       "3131  Nicole Meyer  9378728540               PSC 2512, Box 0914, APO AP 12847   \n",
       "6109    Joan Flynn  9046397532  238 Charles Court, Lake Williamfurt, VA 34378   \n",
       "\n",
       "      gender student_id          email  year department   valid_year  \n",
       "3131  female      nm408  nm408@upc.edu     3       BIOL  2023 - 2024  \n",
       "6109  female      jf890  jf890@upc.edu     3       WRIT  2023 - 2024  "
      ]
     },
     "execution_count": 959,
     "metadata": {},
     "output_type": "execute_result"
    }
   ],
   "source": [
    "repeating_2 = repeating.copy()\n",
    "repeating_2['valid_year'] = '2023 - 2024'\n",
    "repeating_2 = repeating_2.drop(columns=['repeating_year'], axis=1)\n",
    "repeating_2.head(2)"
   ]
  },
  {
   "cell_type": "code",
   "execution_count": 960,
   "metadata": {},
   "outputs": [
    {
     "data": {
      "text/plain": [
       "(6561, 9)"
      ]
     },
     "execution_count": 960,
     "metadata": {},
     "output_type": "execute_result"
    }
   ],
   "source": [
    "valid_2324 = pd.concat([progressing_2, repeating_2], ignore_index=True)\n",
    "valid_2324.shape"
   ]
  },
  {
   "cell_type": "markdown",
   "metadata": {},
   "source": [
    "Students graduating this year (seniors)"
   ]
  },
  {
   "cell_type": "code",
   "execution_count": 961,
   "metadata": {},
   "outputs": [
    {
     "data": {
      "text/plain": [
       "2130"
      ]
     },
     "execution_count": 961,
     "metadata": {},
     "output_type": "execute_result"
    }
   ],
   "source": [
    "n_grad = current_students[current_students['year'] == 4].shape[0] + random.randint(-100, 50)\n",
    "n_grad"
   ]
  },
  {
   "cell_type": "code",
   "execution_count": 962,
   "metadata": {},
   "outputs": [
    {
     "data": {
      "text/html": [
       "<div>\n",
       "<style scoped>\n",
       "    .dataframe tbody tr th:only-of-type {\n",
       "        vertical-align: middle;\n",
       "    }\n",
       "\n",
       "    .dataframe tbody tr th {\n",
       "        vertical-align: top;\n",
       "    }\n",
       "\n",
       "    .dataframe thead th {\n",
       "        text-align: right;\n",
       "    }\n",
       "</style>\n",
       "<table border=\"1\" class=\"dataframe\">\n",
       "  <thead>\n",
       "    <tr style=\"text-align: right;\">\n",
       "      <th></th>\n",
       "      <th>name</th>\n",
       "      <th>phone</th>\n",
       "      <th>address</th>\n",
       "      <th>gender</th>\n",
       "      <th>student_id</th>\n",
       "      <th>email</th>\n",
       "      <th>year</th>\n",
       "    </tr>\n",
       "  </thead>\n",
       "  <tbody>\n",
       "    <tr>\n",
       "      <th>0</th>\n",
       "      <td>Ryan Chang</td>\n",
       "      <td>(404)387-6475x93824</td>\n",
       "      <td>924 Jessica Vista Suite 781, Ryanborough, OH 6...</td>\n",
       "      <td>male</td>\n",
       "      <td>None</td>\n",
       "      <td>None</td>\n",
       "      <td>4</td>\n",
       "    </tr>\n",
       "    <tr>\n",
       "      <th>1</th>\n",
       "      <td>Jessica Boyd</td>\n",
       "      <td>5807160975</td>\n",
       "      <td>93328 Davis Island, Rodriguezside, LA 93111</td>\n",
       "      <td>female</td>\n",
       "      <td>None</td>\n",
       "      <td>None</td>\n",
       "      <td>4</td>\n",
       "    </tr>\n",
       "    <tr>\n",
       "      <th>2</th>\n",
       "      <td>Calvin Cook</td>\n",
       "      <td>+1-839-789-4719</td>\n",
       "      <td>32094 Jones Springs Apt. 201, Masseyhaven, KY ...</td>\n",
       "      <td>male</td>\n",
       "      <td>None</td>\n",
       "      <td>None</td>\n",
       "      <td>4</td>\n",
       "    </tr>\n",
       "    <tr>\n",
       "      <th>3</th>\n",
       "      <td>Robin Atkinson</td>\n",
       "      <td>+1-796-594-7751x59179</td>\n",
       "      <td>35256 Craig Drive Apt. 098, North Davidborough...</td>\n",
       "      <td>female</td>\n",
       "      <td>None</td>\n",
       "      <td>None</td>\n",
       "      <td>4</td>\n",
       "    </tr>\n",
       "    <tr>\n",
       "      <th>4</th>\n",
       "      <td>Bryan Davis</td>\n",
       "      <td>209-203-2173</td>\n",
       "      <td>1314 Graham Circle, Williamsville, UT 51786</td>\n",
       "      <td>male</td>\n",
       "      <td>None</td>\n",
       "      <td>None</td>\n",
       "      <td>4</td>\n",
       "    </tr>\n",
       "  </tbody>\n",
       "</table>\n",
       "</div>"
      ],
      "text/plain": [
       "             name                  phone  \\\n",
       "0      Ryan Chang    (404)387-6475x93824   \n",
       "1    Jessica Boyd             5807160975   \n",
       "2     Calvin Cook        +1-839-789-4719   \n",
       "3  Robin Atkinson  +1-796-594-7751x59179   \n",
       "4     Bryan Davis           209-203-2173   \n",
       "\n",
       "                                             address  gender student_id email  \\\n",
       "0  924 Jessica Vista Suite 781, Ryanborough, OH 6...    male       None  None   \n",
       "1        93328 Davis Island, Rodriguezside, LA 93111  female       None  None   \n",
       "2  32094 Jones Springs Apt. 201, Masseyhaven, KY ...    male       None  None   \n",
       "3  35256 Craig Drive Apt. 098, North Davidborough...  female       None  None   \n",
       "4        1314 Graham Circle, Williamsville, UT 51786    male       None  None   \n",
       "\n",
       "   year  \n",
       "0     4  \n",
       "1     4  \n",
       "2     4  \n",
       "3     4  \n",
       "4     4  "
      ]
     },
     "execution_count": 962,
     "metadata": {},
     "output_type": "execute_result"
    }
   ],
   "source": [
    "grad_2324 = []\n",
    "for i in range(n_grad):\n",
    "    if random.random() >= 0.5:\n",
    "        full_name = faker.first_name_female() + ' ' + faker.last_name()\n",
    "        gender = 'female'\n",
    "    else:\n",
    "        full_name = faker.first_name_male() + ' ' + faker.last_name()\n",
    "        gender = 'male'\n",
    "    phone = faker.phone_number()\n",
    "    addr = faker.address().replace('\\n', ', ')\n",
    "    grad_2324.append({\n",
    "        'name': full_name,\n",
    "        'phone': phone,\n",
    "        'address': addr,\n",
    "        'gender': gender,\n",
    "        'student_id': None,\n",
    "        'email': None,\n",
    "        'year': 4\n",
    "    })\n",
    "\n",
    "grad_2324_df = pd.DataFrame.from_records(grad_2324)\n",
    "grad_2324_df.head()"
   ]
  },
  {
   "cell_type": "code",
   "execution_count": 963,
   "metadata": {},
   "outputs": [],
   "source": [
    "grad_2324_df['department'] = np.random.choice(dept_count.index, size=n_grad, p=dept_count.values)\n",
    "grad_2324_df['valid_year'] = '2023 - 2024'\n",
    "grad_2324_df['grad_year'] = '2023 - 2024'\n",
    "grad_2324_df.to_csv(f'{PATH}/registry/grad_2324.csv', index=None)"
   ]
  },
  {
   "cell_type": "markdown",
   "metadata": {},
   "source": [
    "Students dropping out after this year"
   ]
  },
  {
   "cell_type": "code",
   "execution_count": 964,
   "metadata": {},
   "outputs": [
    {
     "data": {
      "text/plain": [
       "112"
      ]
     },
     "execution_count": 964,
     "metadata": {},
     "output_type": "execute_result"
    }
   ],
   "source": [
    "n_dropout = 100 + random.randint(-20, 40)\n",
    "n_dropout"
   ]
  },
  {
   "cell_type": "code",
   "execution_count": 965,
   "metadata": {},
   "outputs": [],
   "source": [
    "dropout_2324 = []\n",
    "for i in range(n_dropout):\n",
    "    if random.random() >= 0.5:\n",
    "        full_name = faker.first_name_female() + ' ' + faker.last_name()\n",
    "        gender = 'female'\n",
    "    else:\n",
    "        full_name = faker.first_name_male() + ' ' + faker.last_name()\n",
    "        gender = 'male'\n",
    "    phone = faker.phone_number()\n",
    "    addr = faker.address().replace('\\n', ', ')\n",
    "    dropout_2324.append({\n",
    "        'name': full_name,\n",
    "        'phone': phone,\n",
    "        'address': addr,\n",
    "        'gender': gender,\n",
    "        'student_id': None,\n",
    "        'email': None\n",
    "    })\n",
    "\n",
    "dropout_2324_df = pd.DataFrame.from_records(dropout_2324)"
   ]
  },
  {
   "cell_type": "code",
   "execution_count": 966,
   "metadata": {},
   "outputs": [
    {
     "data": {
      "text/html": [
       "<div>\n",
       "<style scoped>\n",
       "    .dataframe tbody tr th:only-of-type {\n",
       "        vertical-align: middle;\n",
       "    }\n",
       "\n",
       "    .dataframe tbody tr th {\n",
       "        vertical-align: top;\n",
       "    }\n",
       "\n",
       "    .dataframe thead th {\n",
       "        text-align: right;\n",
       "    }\n",
       "</style>\n",
       "<table border=\"1\" class=\"dataframe\">\n",
       "  <thead>\n",
       "    <tr style=\"text-align: right;\">\n",
       "      <th></th>\n",
       "      <th>name</th>\n",
       "      <th>phone</th>\n",
       "      <th>address</th>\n",
       "      <th>gender</th>\n",
       "      <th>student_id</th>\n",
       "      <th>email</th>\n",
       "      <th>year</th>\n",
       "      <th>department</th>\n",
       "      <th>valid_year</th>\n",
       "      <th>dropout_year</th>\n",
       "    </tr>\n",
       "  </thead>\n",
       "  <tbody>\n",
       "    <tr>\n",
       "      <th>0</th>\n",
       "      <td>Mathew Dudley</td>\n",
       "      <td>(923)792-7855</td>\n",
       "      <td>5321 Scott Bridge Suite 883, New Michaelhaven,...</td>\n",
       "      <td>male</td>\n",
       "      <td>None</td>\n",
       "      <td>None</td>\n",
       "      <td>3</td>\n",
       "      <td>PHIL</td>\n",
       "      <td>2023 - 2024</td>\n",
       "      <td>2023 - 2024</td>\n",
       "    </tr>\n",
       "    <tr>\n",
       "      <th>1</th>\n",
       "      <td>Susan Alvarez</td>\n",
       "      <td>334.589.9067</td>\n",
       "      <td>6625 Jessica Courts, South William, WY 69101</td>\n",
       "      <td>female</td>\n",
       "      <td>None</td>\n",
       "      <td>None</td>\n",
       "      <td>1</td>\n",
       "      <td>HIST</td>\n",
       "      <td>2023 - 2024</td>\n",
       "      <td>2023 - 2024</td>\n",
       "    </tr>\n",
       "  </tbody>\n",
       "</table>\n",
       "</div>"
      ],
      "text/plain": [
       "            name          phone  \\\n",
       "0  Mathew Dudley  (923)792-7855   \n",
       "1  Susan Alvarez   334.589.9067   \n",
       "\n",
       "                                             address  gender student_id email  \\\n",
       "0  5321 Scott Bridge Suite 883, New Michaelhaven,...    male       None  None   \n",
       "1       6625 Jessica Courts, South William, WY 69101  female       None  None   \n",
       "\n",
       "   year department   valid_year dropout_year  \n",
       "0     3       PHIL  2023 - 2024  2023 - 2024  \n",
       "1     1       HIST  2023 - 2024  2023 - 2024  "
      ]
     },
     "execution_count": 966,
     "metadata": {},
     "output_type": "execute_result"
    }
   ],
   "source": [
    "dropout_2324_df['year'] = np.random.choice(year_count.index, size=n_dropout, p=year_count.values)\n",
    "dropout_2324_df['department'] = np.random.choice(dept_count.index, size=n_dropout, p=dept_count.values)\n",
    "dropout_2324_df['valid_year'] = '2023 - 2024'\n",
    "dropout_2324_df['dropout_year'] = '2023 - 2024'\n",
    "dropout_2324_df.head(2)"
   ]
  },
  {
   "cell_type": "code",
   "execution_count": 967,
   "metadata": {},
   "outputs": [],
   "source": [
    "dropout_2324_df.to_csv(f'{PATH}/registry/dropout_2324.csv', index=None)"
   ]
  },
  {
   "cell_type": "code",
   "execution_count": 968,
   "metadata": {},
   "outputs": [
    {
     "data": {
      "text/plain": [
       "8803"
      ]
     },
     "execution_count": 968,
     "metadata": {},
     "output_type": "execute_result"
    }
   ],
   "source": [
    "repeating.shape[0] + progressing_2.shape[0] +\\\n",
    "    dropout_2324_df.shape[0] + grad_2324_df.shape[0]"
   ]
  },
  {
   "cell_type": "markdown",
   "metadata": {},
   "source": [
    "Students returning from LOA"
   ]
  },
  {
   "cell_type": "code",
   "execution_count": 969,
   "metadata": {},
   "outputs": [
    {
     "data": {
      "text/plain": [
       "155"
      ]
     },
     "execution_count": 969,
     "metadata": {},
     "output_type": "execute_result"
    }
   ],
   "source": [
    "n_loa_return = 150 + random.randint(-10, 10)\n",
    "n_loa_return"
   ]
  },
  {
   "cell_type": "code",
   "execution_count": 970,
   "metadata": {},
   "outputs": [],
   "source": [
    "valid_2324 = valid_2324[valid_2324['year'] > 1]"
   ]
  },
  {
   "cell_type": "code",
   "execution_count": 971,
   "metadata": {},
   "outputs": [
    {
     "data": {
      "text/html": [
       "<div>\n",
       "<style scoped>\n",
       "    .dataframe tbody tr th:only-of-type {\n",
       "        vertical-align: middle;\n",
       "    }\n",
       "\n",
       "    .dataframe tbody tr th {\n",
       "        vertical-align: top;\n",
       "    }\n",
       "\n",
       "    .dataframe thead th {\n",
       "        text-align: right;\n",
       "    }\n",
       "</style>\n",
       "<table border=\"1\" class=\"dataframe\">\n",
       "  <thead>\n",
       "    <tr style=\"text-align: right;\">\n",
       "      <th></th>\n",
       "      <th>name</th>\n",
       "      <th>phone</th>\n",
       "      <th>address</th>\n",
       "      <th>gender</th>\n",
       "      <th>student_id</th>\n",
       "      <th>email</th>\n",
       "      <th>year</th>\n",
       "      <th>department</th>\n",
       "      <th>valid_year</th>\n",
       "    </tr>\n",
       "  </thead>\n",
       "  <tbody>\n",
       "    <tr>\n",
       "      <th>4113</th>\n",
       "      <td>Angelica Martin</td>\n",
       "      <td>9292677946</td>\n",
       "      <td>6007 Payne Skyway Apt. 257, Lake Victoria, NJ ...</td>\n",
       "      <td>female</td>\n",
       "      <td>am557</td>\n",
       "      <td>am557@upc.edu</td>\n",
       "      <td>2</td>\n",
       "      <td>ARTS</td>\n",
       "      <td>2023 - 2024</td>\n",
       "    </tr>\n",
       "    <tr>\n",
       "      <th>5906</th>\n",
       "      <td>Ashley Jones</td>\n",
       "      <td>9196054032</td>\n",
       "      <td>2560 Robert Roads Apt. 973, Lauraview, SC 89793</td>\n",
       "      <td>female</td>\n",
       "      <td>aj478</td>\n",
       "      <td>aj478@upc.edu</td>\n",
       "      <td>3</td>\n",
       "      <td>PHAS</td>\n",
       "      <td>2023 - 2024</td>\n",
       "    </tr>\n",
       "  </tbody>\n",
       "</table>\n",
       "</div>"
      ],
      "text/plain": [
       "                 name       phone  \\\n",
       "4113  Angelica Martin  9292677946   \n",
       "5906     Ashley Jones  9196054032   \n",
       "\n",
       "                                                address  gender student_id  \\\n",
       "4113  6007 Payne Skyway Apt. 257, Lake Victoria, NJ ...  female      am557   \n",
       "5906    2560 Robert Roads Apt. 973, Lauraview, SC 89793  female      aj478   \n",
       "\n",
       "              email  year department   valid_year  \n",
       "4113  am557@upc.edu     2       ARTS  2023 - 2024  \n",
       "5906  aj478@upc.edu     3       PHAS  2023 - 2024  "
      ]
     },
     "execution_count": 971,
     "metadata": {},
     "output_type": "execute_result"
    }
   ],
   "source": [
    "loa_return_2324_df = valid_2324.sample(n=n_loa_return, random_state=0)\n",
    "loa_return_2324_df.head(2)"
   ]
  },
  {
   "cell_type": "code",
   "execution_count": 972,
   "metadata": {},
   "outputs": [],
   "source": [
    "loa_return_2324_df['return_year'] = '2023 - 2024'\n",
    "loa_return_2324_df['loa_year'] = '2021 - 2022'\n",
    "loa_return_2324_df.to_csv(f'{PATH}/registry/loa_return_2324.csv', index=None)"
   ]
  },
  {
   "cell_type": "markdown",
   "metadata": {},
   "source": [
    "Students taking LOA after this year"
   ]
  },
  {
   "cell_type": "code",
   "execution_count": 973,
   "metadata": {},
   "outputs": [
    {
     "data": {
      "text/plain": [
       "153"
      ]
     },
     "execution_count": 973,
     "metadata": {},
     "output_type": "execute_result"
    }
   ],
   "source": [
    "n_loa_after = 150 + random.randint(-10, 10)\n",
    "n_loa_after"
   ]
  },
  {
   "cell_type": "code",
   "execution_count": 974,
   "metadata": {},
   "outputs": [
    {
     "data": {
      "text/html": [
       "<div>\n",
       "<style scoped>\n",
       "    .dataframe tbody tr th:only-of-type {\n",
       "        vertical-align: middle;\n",
       "    }\n",
       "\n",
       "    .dataframe tbody tr th {\n",
       "        vertical-align: top;\n",
       "    }\n",
       "\n",
       "    .dataframe thead th {\n",
       "        text-align: right;\n",
       "    }\n",
       "</style>\n",
       "<table border=\"1\" class=\"dataframe\">\n",
       "  <thead>\n",
       "    <tr style=\"text-align: right;\">\n",
       "      <th></th>\n",
       "      <th>name</th>\n",
       "      <th>phone</th>\n",
       "      <th>address</th>\n",
       "      <th>gender</th>\n",
       "      <th>student_id</th>\n",
       "      <th>email</th>\n",
       "      <th>year</th>\n",
       "      <th>department</th>\n",
       "      <th>loa_year</th>\n",
       "      <th>return_year</th>\n",
       "    </tr>\n",
       "  </thead>\n",
       "  <tbody>\n",
       "    <tr>\n",
       "      <th>0</th>\n",
       "      <td>Janice Cortez</td>\n",
       "      <td>+1-349-487-1454</td>\n",
       "      <td>1513 Rogers Mill, Barbaraside, IL 30516</td>\n",
       "      <td>female</td>\n",
       "      <td>None</td>\n",
       "      <td>None</td>\n",
       "      <td>4</td>\n",
       "      <td>ENGL</td>\n",
       "      <td>2023 - 2024</td>\n",
       "      <td>2025 - 2026</td>\n",
       "    </tr>\n",
       "    <tr>\n",
       "      <th>1</th>\n",
       "      <td>Kylie Jones</td>\n",
       "      <td>001-866-661-7899x710</td>\n",
       "      <td>3694 Rebecca Burg, Zacharytown, VI 25697</td>\n",
       "      <td>female</td>\n",
       "      <td>None</td>\n",
       "      <td>None</td>\n",
       "      <td>4</td>\n",
       "      <td>ARTS</td>\n",
       "      <td>2023 - 2024</td>\n",
       "      <td>2025 - 2026</td>\n",
       "    </tr>\n",
       "  </tbody>\n",
       "</table>\n",
       "</div>"
      ],
      "text/plain": [
       "            name                 phone  \\\n",
       "0  Janice Cortez       +1-349-487-1454   \n",
       "1    Kylie Jones  001-866-661-7899x710   \n",
       "\n",
       "                                    address  gender student_id email  year  \\\n",
       "0   1513 Rogers Mill, Barbaraside, IL 30516  female       None  None     4   \n",
       "1  3694 Rebecca Burg, Zacharytown, VI 25697  female       None  None     4   \n",
       "\n",
       "  department     loa_year  return_year  \n",
       "0       ENGL  2023 - 2024  2025 - 2026  \n",
       "1       ARTS  2023 - 2024  2025 - 2026  "
      ]
     },
     "execution_count": 974,
     "metadata": {},
     "output_type": "execute_result"
    }
   ],
   "source": [
    "loa_after_2324 = []\n",
    "for i in range(n_loa_after):\n",
    "    if random.random() >= 0.5:\n",
    "        full_name = faker.first_name_female() + ' ' + faker.last_name()\n",
    "        gender = 'female'\n",
    "    else:\n",
    "        full_name = faker.first_name_male() + ' ' + faker.last_name()\n",
    "        gender = 'male'\n",
    "    phone = faker.phone_number()\n",
    "    addr = faker.address().replace('\\n', ', ')\n",
    "    loa_after_2324.append({\n",
    "        'name': full_name,\n",
    "        'phone': phone,\n",
    "        'address': addr,\n",
    "        'gender': gender,\n",
    "        'student_id': None,\n",
    "        'email': None\n",
    "    })\n",
    "\n",
    "loa_after_2324_df = pd.DataFrame.from_records(loa_after_2324)\n",
    "loa_after_2324_df['year'] = np.random.choice(year_count.index, size=n_loa_after, p=year_count.values)\n",
    "loa_after_2324_df['department'] = np.random.choice(dept_count.index, size=n_loa_after, p=dept_count.values)\n",
    "loa_after_2324_df['loa_year'] = '2023 - 2024'\n",
    "loa_after_2324_df['return_year'] = '2025 - 2026'\n",
    "loa_after_2324_df.head(2)"
   ]
  },
  {
   "cell_type": "code",
   "execution_count": 975,
   "metadata": {},
   "outputs": [],
   "source": [
    "loa_after_2324_df.to_csv(f'{PATH}/registry/loa_after_2324.csv', index=None)"
   ]
  },
  {
   "cell_type": "markdown",
   "metadata": {},
   "source": [
    "Students valid in 2023 - 2024"
   ]
  },
  {
   "cell_type": "code",
   "execution_count": 976,
   "metadata": {},
   "outputs": [],
   "source": [
    "dropout_2324_df_2 = dropout_2324_df.copy()\n",
    "dropout_2324_df_2 = dropout_2324_df_2.drop(columns=['dropout_year'], axis=1)\n",
    "\n",
    "grad_2324_df_2 = grad_2324_df.copy()\n",
    "grad_2324_df_2 = grad_2324_df_2.drop(columns=['grad_year'], axis=1)\n",
    "\n",
    "loa_return_2324_df_2 = loa_return_2324_df.copy()\n",
    "loa_return_2324_df_2 = loa_return_2324_df_2.drop(columns=['loa_year', 'return_year'], axis=1)\n",
    "\n",
    "loa_after_2324_df_2 = loa_after_2324_df.copy()\n",
    "loa_after_2324_df_2 = loa_after_2324_df_2.drop(columns=['loa_year', 'return_year'], axis=1)"
   ]
  },
  {
   "cell_type": "code",
   "execution_count": null,
   "metadata": {},
   "outputs": [],
   "source": []
  },
  {
   "cell_type": "code",
   "execution_count": 977,
   "metadata": {},
   "outputs": [
    {
     "name": "stdout",
     "output_type": "stream",
     "text": [
      "(8956, 9)\n"
     ]
    },
    {
     "data": {
      "text/html": [
       "<div>\n",
       "<style scoped>\n",
       "    .dataframe tbody tr th:only-of-type {\n",
       "        vertical-align: middle;\n",
       "    }\n",
       "\n",
       "    .dataframe tbody tr th {\n",
       "        vertical-align: top;\n",
       "    }\n",
       "\n",
       "    .dataframe thead th {\n",
       "        text-align: right;\n",
       "    }\n",
       "</style>\n",
       "<table border=\"1\" class=\"dataframe\">\n",
       "  <thead>\n",
       "    <tr style=\"text-align: right;\">\n",
       "      <th></th>\n",
       "      <th>name</th>\n",
       "      <th>phone</th>\n",
       "      <th>address</th>\n",
       "      <th>gender</th>\n",
       "      <th>student_id</th>\n",
       "      <th>email</th>\n",
       "      <th>year</th>\n",
       "      <th>department</th>\n",
       "      <th>valid_year</th>\n",
       "    </tr>\n",
       "  </thead>\n",
       "  <tbody>\n",
       "    <tr>\n",
       "      <th>0</th>\n",
       "      <td>Nicole Meyer</td>\n",
       "      <td>9378728540</td>\n",
       "      <td>PSC 2512, Box 0914, APO AP 12847</td>\n",
       "      <td>female</td>\n",
       "      <td>nm408</td>\n",
       "      <td>nm408@upc.edu</td>\n",
       "      <td>3</td>\n",
       "      <td>BIOL</td>\n",
       "      <td>2023 - 2024</td>\n",
       "    </tr>\n",
       "    <tr>\n",
       "      <th>1</th>\n",
       "      <td>Joan Flynn</td>\n",
       "      <td>9046397532</td>\n",
       "      <td>238 Charles Court, Lake Williamfurt, VA 34378</td>\n",
       "      <td>female</td>\n",
       "      <td>jf890</td>\n",
       "      <td>jf890@upc.edu</td>\n",
       "      <td>3</td>\n",
       "      <td>WRIT</td>\n",
       "      <td>2023 - 2024</td>\n",
       "    </tr>\n",
       "    <tr>\n",
       "      <th>2</th>\n",
       "      <td>Hayley Prince</td>\n",
       "      <td>9367116674</td>\n",
       "      <td>0240 Kelly Walk, Lake Charlesborough, ND 16724</td>\n",
       "      <td>female</td>\n",
       "      <td>hp231</td>\n",
       "      <td>hp231@upc.edu</td>\n",
       "      <td>2</td>\n",
       "      <td>GERM</td>\n",
       "      <td>2023 - 2024</td>\n",
       "    </tr>\n",
       "    <tr>\n",
       "      <th>3</th>\n",
       "      <td>Angel Smith</td>\n",
       "      <td>9533913236</td>\n",
       "      <td>92720 Turner Track Suite 935, Port Michelle, N...</td>\n",
       "      <td>male</td>\n",
       "      <td>as351</td>\n",
       "      <td>as351@upc.edu</td>\n",
       "      <td>2</td>\n",
       "      <td>GEOG</td>\n",
       "      <td>2023 - 2024</td>\n",
       "    </tr>\n",
       "    <tr>\n",
       "      <th>4</th>\n",
       "      <td>Amy Alexander</td>\n",
       "      <td>9358859531</td>\n",
       "      <td>4360 Tara Forge Suite 428, New Shannonborough,...</td>\n",
       "      <td>female</td>\n",
       "      <td>aa927</td>\n",
       "      <td>aa927@upc.edu</td>\n",
       "      <td>3</td>\n",
       "      <td>THEA</td>\n",
       "      <td>2023 - 2024</td>\n",
       "    </tr>\n",
       "  </tbody>\n",
       "</table>\n",
       "</div>"
      ],
      "text/plain": [
       "            name       phone  \\\n",
       "0   Nicole Meyer  9378728540   \n",
       "1     Joan Flynn  9046397532   \n",
       "2  Hayley Prince  9367116674   \n",
       "3    Angel Smith  9533913236   \n",
       "4  Amy Alexander  9358859531   \n",
       "\n",
       "                                             address  gender student_id  \\\n",
       "0                   PSC 2512, Box 0914, APO AP 12847  female      nm408   \n",
       "1      238 Charles Court, Lake Williamfurt, VA 34378  female      jf890   \n",
       "2     0240 Kelly Walk, Lake Charlesborough, ND 16724  female      hp231   \n",
       "3  92720 Turner Track Suite 935, Port Michelle, N...    male      as351   \n",
       "4  4360 Tara Forge Suite 428, New Shannonborough,...  female      aa927   \n",
       "\n",
       "           email  year department   valid_year  \n",
       "0  nm408@upc.edu     3       BIOL  2023 - 2024  \n",
       "1  jf890@upc.edu     3       WRIT  2023 - 2024  \n",
       "2  hp231@upc.edu     2       GERM  2023 - 2024  \n",
       "3  as351@upc.edu     2       GEOG  2023 - 2024  \n",
       "4  aa927@upc.edu     3       THEA  2023 - 2024  "
      ]
     },
     "execution_count": 977,
     "metadata": {},
     "output_type": "execute_result"
    }
   ],
   "source": [
    "all_2324 = pd.concat([\n",
    "    repeating_2,\n",
    "    progressing_2,\n",
    "    dropout_2324_df_2,\n",
    "    grad_2324_df_2,\n",
    "    loa_after_2324_df_2\n",
    "], ignore_index=True)\n",
    "print(all_2324.shape)\n",
    "all_2324.head()"
   ]
  },
  {
   "cell_type": "code",
   "execution_count": 978,
   "metadata": {},
   "outputs": [
    {
     "data": {
      "text/plain": [
       "2    2255\n",
       "1    2245\n",
       "3    2234\n",
       "4    2222\n",
       "Name: year, dtype: int64"
      ]
     },
     "execution_count": 978,
     "metadata": {},
     "output_type": "execute_result"
    }
   ],
   "source": [
    "all_2324['year'].value_counts()"
   ]
  },
  {
   "cell_type": "code",
   "execution_count": 979,
   "metadata": {},
   "outputs": [
    {
     "data": {
      "text/plain": [
       "(153, 8)"
      ]
     },
     "execution_count": 979,
     "metadata": {},
     "output_type": "execute_result"
    }
   ],
   "source": [
    "loa_after_2324_df_2.shape"
   ]
  },
  {
   "cell_type": "code",
   "execution_count": 980,
   "metadata": {},
   "outputs": [
    {
     "data": {
      "text/plain": [
       "((33, 9), (6528, 9))"
      ]
     },
     "execution_count": 980,
     "metadata": {},
     "output_type": "execute_result"
    }
   ],
   "source": [
    "repeating_2.shape, progressing_2.shape"
   ]
  },
  {
   "cell_type": "code",
   "execution_count": 981,
   "metadata": {},
   "outputs": [
    {
     "data": {
      "text/plain": [
       "9000"
      ]
     },
     "execution_count": 981,
     "metadata": {},
     "output_type": "execute_result"
    }
   ],
   "source": [
    "len(all_ids)"
   ]
  },
  {
   "cell_type": "code",
   "execution_count": 982,
   "metadata": {},
   "outputs": [
    {
     "data": {
      "text/plain": [
       "(6561, 9)"
      ]
     },
     "execution_count": 982,
     "metadata": {},
     "output_type": "execute_result"
    }
   ],
   "source": [
    "all_2324[~all_2324['student_id'].isnull()].shape"
   ]
  },
  {
   "cell_type": "code",
   "execution_count": 983,
   "metadata": {},
   "outputs": [],
   "source": [
    "def generate_student_id(row):\n",
    "    if row['student_id'] is not None:\n",
    "        return row['student_id']\n",
    "    name_split = row['name'].split(' ')\n",
    "    id = ''\n",
    "    for name in name_split:\n",
    "        id = id + str.lower(name[0])\n",
    "    rand_num = random.randint(100, 999)\n",
    "    while f'{id}{rand_num}' in all_ids:\n",
    "        rand_num = random.randint(100, 999)\n",
    "    student_id = f'{id}{rand_num}'\n",
    "    all_ids.add(student_id)\n",
    "    return student_id"
   ]
  },
  {
   "cell_type": "code",
   "execution_count": 984,
   "metadata": {},
   "outputs": [],
   "source": [
    "def generate_email(row):\n",
    "    if row['email'] is not None:\n",
    "        return row['email']\n",
    "    return f\"{row['student_id']}@upc.edu\""
   ]
  },
  {
   "cell_type": "code",
   "execution_count": 985,
   "metadata": {},
   "outputs": [],
   "source": [
    "all_2324['student_id'] = all_2324.apply(lambda x: generate_student_id(x), axis=1)\n",
    "all_2324['email'] = all_2324.apply(lambda x: generate_email(x), axis=1)"
   ]
  },
  {
   "cell_type": "code",
   "execution_count": 986,
   "metadata": {},
   "outputs": [
    {
     "data": {
      "text/plain": [
       "(8956, 9)"
      ]
     },
     "execution_count": 986,
     "metadata": {},
     "output_type": "execute_result"
    }
   ],
   "source": [
    "all_2324[~all_2324['student_id'].isnull()].shape"
   ]
  },
  {
   "cell_type": "code",
   "execution_count": 987,
   "metadata": {},
   "outputs": [],
   "source": [
    "all_2324.to_csv(f'{PATH}/registry/all_2324.csv', index=None)"
   ]
  },
  {
   "cell_type": "markdown",
   "metadata": {},
   "source": [
    "# 2022 - 2023"
   ]
  },
  {
   "cell_type": "markdown",
   "metadata": {},
   "source": [
    "Upperclassmen"
   ]
  },
  {
   "cell_type": "code",
   "execution_count": 988,
   "metadata": {},
   "outputs": [
    {
     "data": {
      "text/plain": [
       "(6711, 9)"
      ]
     },
     "execution_count": 988,
     "metadata": {},
     "output_type": "execute_result"
    }
   ],
   "source": [
    "upperclass = all_2324[all_2324['year'] > 1]\n",
    "upperclass.shape"
   ]
  },
  {
   "cell_type": "markdown",
   "metadata": {},
   "source": [
    "Students returning from LOA in 2023 - 2024"
   ]
  },
  {
   "cell_type": "code",
   "execution_count": 989,
   "metadata": {},
   "outputs": [
    {
     "name": "stdout",
     "output_type": "stream",
     "text": [
      "(155, 11)\n"
     ]
    },
    {
     "data": {
      "text/html": [
       "<div>\n",
       "<style scoped>\n",
       "    .dataframe tbody tr th:only-of-type {\n",
       "        vertical-align: middle;\n",
       "    }\n",
       "\n",
       "    .dataframe tbody tr th {\n",
       "        vertical-align: top;\n",
       "    }\n",
       "\n",
       "    .dataframe thead th {\n",
       "        text-align: right;\n",
       "    }\n",
       "</style>\n",
       "<table border=\"1\" class=\"dataframe\">\n",
       "  <thead>\n",
       "    <tr style=\"text-align: right;\">\n",
       "      <th></th>\n",
       "      <th>name</th>\n",
       "      <th>phone</th>\n",
       "      <th>address</th>\n",
       "      <th>gender</th>\n",
       "      <th>student_id</th>\n",
       "      <th>email</th>\n",
       "      <th>year</th>\n",
       "      <th>department</th>\n",
       "      <th>valid_year</th>\n",
       "      <th>return_year</th>\n",
       "      <th>loa_year</th>\n",
       "    </tr>\n",
       "  </thead>\n",
       "  <tbody>\n",
       "    <tr>\n",
       "      <th>4113</th>\n",
       "      <td>Angelica Martin</td>\n",
       "      <td>9292677946</td>\n",
       "      <td>6007 Payne Skyway Apt. 257, Lake Victoria, NJ ...</td>\n",
       "      <td>female</td>\n",
       "      <td>am557</td>\n",
       "      <td>am557@upc.edu</td>\n",
       "      <td>2</td>\n",
       "      <td>ARTS</td>\n",
       "      <td>2023 - 2024</td>\n",
       "      <td>2023 - 2024</td>\n",
       "      <td>2021 - 2022</td>\n",
       "    </tr>\n",
       "    <tr>\n",
       "      <th>5906</th>\n",
       "      <td>Ashley Jones</td>\n",
       "      <td>9196054032</td>\n",
       "      <td>2560 Robert Roads Apt. 973, Lauraview, SC 89793</td>\n",
       "      <td>female</td>\n",
       "      <td>aj478</td>\n",
       "      <td>aj478@upc.edu</td>\n",
       "      <td>3</td>\n",
       "      <td>PHAS</td>\n",
       "      <td>2023 - 2024</td>\n",
       "      <td>2023 - 2024</td>\n",
       "      <td>2021 - 2022</td>\n",
       "    </tr>\n",
       "  </tbody>\n",
       "</table>\n",
       "</div>"
      ],
      "text/plain": [
       "                 name       phone  \\\n",
       "4113  Angelica Martin  9292677946   \n",
       "5906     Ashley Jones  9196054032   \n",
       "\n",
       "                                                address  gender student_id  \\\n",
       "4113  6007 Payne Skyway Apt. 257, Lake Victoria, NJ ...  female      am557   \n",
       "5906    2560 Robert Roads Apt. 973, Lauraview, SC 89793  female      aj478   \n",
       "\n",
       "              email  year department   valid_year  return_year     loa_year  \n",
       "4113  am557@upc.edu     2       ARTS  2023 - 2024  2023 - 2024  2021 - 2022  \n",
       "5906  aj478@upc.edu     3       PHAS  2023 - 2024  2023 - 2024  2021 - 2022  "
      ]
     },
     "execution_count": 989,
     "metadata": {},
     "output_type": "execute_result"
    }
   ],
   "source": [
    "print(loa_return_2324_df.shape)\n",
    "loa_return_2324_df.head(2)"
   ]
  },
  {
   "cell_type": "markdown",
   "metadata": {},
   "source": [
    "Student repeating the year"
   ]
  },
  {
   "cell_type": "code",
   "execution_count": 990,
   "metadata": {},
   "outputs": [
    {
     "data": {
      "text/plain": [
       "(6556, 9)"
      ]
     },
     "execution_count": 990,
     "metadata": {},
     "output_type": "execute_result"
    }
   ],
   "source": [
    "upperclass = upperclass[~upperclass['student_id'].isin(loa_return_2324_df['student_id'])]\n",
    "upperclass.shape"
   ]
  },
  {
   "cell_type": "code",
   "execution_count": 991,
   "metadata": {},
   "outputs": [
    {
     "data": {
      "text/plain": [
       "(34, 9)"
      ]
     },
     "execution_count": 991,
     "metadata": {},
     "output_type": "execute_result"
    }
   ],
   "source": [
    "repeating = upperclass.sample(n=30 + random.randint(-10, 10), random_state=0)\n",
    "repeating.shape"
   ]
  },
  {
   "cell_type": "code",
   "execution_count": 992,
   "metadata": {},
   "outputs": [],
   "source": [
    "repeating['repeating_year'] = '2023 - 2024'"
   ]
  },
  {
   "cell_type": "code",
   "execution_count": 993,
   "metadata": {},
   "outputs": [],
   "source": [
    "repeating.to_csv(f'{PATH}/registry/repeating_2324.csv', index=None)"
   ]
  },
  {
   "cell_type": "markdown",
   "metadata": {},
   "source": [
    "Students progressing normally"
   ]
  },
  {
   "cell_type": "code",
   "execution_count": 994,
   "metadata": {},
   "outputs": [
    {
     "data": {
      "text/plain": [
       "(6522, 9)"
      ]
     },
     "execution_count": 994,
     "metadata": {},
     "output_type": "execute_result"
    }
   ],
   "source": [
    "progressing = upperclass[~upperclass['student_id'].isin(repeating['student_id'])]\n",
    "progressing.shape"
   ]
  },
  {
   "cell_type": "code",
   "execution_count": 995,
   "metadata": {},
   "outputs": [
    {
     "data": {
      "text/plain": [
       "4    2203\n",
       "2    2182\n",
       "3    2137\n",
       "Name: year, dtype: int64"
      ]
     },
     "execution_count": 995,
     "metadata": {},
     "output_type": "execute_result"
    }
   ],
   "source": [
    "progressing['year'].value_counts()"
   ]
  },
  {
   "cell_type": "code",
   "execution_count": 996,
   "metadata": {},
   "outputs": [
    {
     "data": {
      "text/html": [
       "<div>\n",
       "<style scoped>\n",
       "    .dataframe tbody tr th:only-of-type {\n",
       "        vertical-align: middle;\n",
       "    }\n",
       "\n",
       "    .dataframe tbody tr th {\n",
       "        vertical-align: top;\n",
       "    }\n",
       "\n",
       "    .dataframe thead th {\n",
       "        text-align: right;\n",
       "    }\n",
       "</style>\n",
       "<table border=\"1\" class=\"dataframe\">\n",
       "  <thead>\n",
       "    <tr style=\"text-align: right;\">\n",
       "      <th></th>\n",
       "      <th>name</th>\n",
       "      <th>phone</th>\n",
       "      <th>address</th>\n",
       "      <th>gender</th>\n",
       "      <th>student_id</th>\n",
       "      <th>email</th>\n",
       "      <th>year</th>\n",
       "      <th>department</th>\n",
       "      <th>valid_year</th>\n",
       "    </tr>\n",
       "  </thead>\n",
       "  <tbody>\n",
       "    <tr>\n",
       "      <th>0</th>\n",
       "      <td>Nicole Meyer</td>\n",
       "      <td>9378728540</td>\n",
       "      <td>PSC 2512, Box 0914, APO AP 12847</td>\n",
       "      <td>female</td>\n",
       "      <td>nm408</td>\n",
       "      <td>nm408@upc.edu</td>\n",
       "      <td>3</td>\n",
       "      <td>BIOL</td>\n",
       "      <td>2023 - 2024</td>\n",
       "    </tr>\n",
       "    <tr>\n",
       "      <th>1</th>\n",
       "      <td>Joan Flynn</td>\n",
       "      <td>9046397532</td>\n",
       "      <td>238 Charles Court, Lake Williamfurt, VA 34378</td>\n",
       "      <td>female</td>\n",
       "      <td>jf890</td>\n",
       "      <td>jf890@upc.edu</td>\n",
       "      <td>3</td>\n",
       "      <td>WRIT</td>\n",
       "      <td>2023 - 2024</td>\n",
       "    </tr>\n",
       "  </tbody>\n",
       "</table>\n",
       "</div>"
      ],
      "text/plain": [
       "           name       phone                                        address  \\\n",
       "0  Nicole Meyer  9378728540               PSC 2512, Box 0914, APO AP 12847   \n",
       "1    Joan Flynn  9046397532  238 Charles Court, Lake Williamfurt, VA 34378   \n",
       "\n",
       "   gender student_id          email  year department   valid_year  \n",
       "0  female      nm408  nm408@upc.edu     3       BIOL  2023 - 2024  \n",
       "1  female      jf890  jf890@upc.edu     3       WRIT  2023 - 2024  "
      ]
     },
     "execution_count": 996,
     "metadata": {},
     "output_type": "execute_result"
    }
   ],
   "source": [
    "progressing.head(2)"
   ]
  },
  {
   "cell_type": "code",
   "execution_count": 997,
   "metadata": {},
   "outputs": [
    {
     "name": "stderr",
     "output_type": "stream",
     "text": [
      "/var/folders/2l/srpzk4jx3bd_85xnzblspysc0000gn/T/ipykernel_39601/671700160.py:1: SettingWithCopyWarning: \n",
      "A value is trying to be set on a copy of a slice from a DataFrame.\n",
      "Try using .loc[row_indexer,col_indexer] = value instead\n",
      "\n",
      "See the caveats in the documentation: https://pandas.pydata.org/pandas-docs/stable/user_guide/indexing.html#returning-a-view-versus-a-copy\n",
      "  progressing['year'] = progressing['year'] - 1\n",
      "/var/folders/2l/srpzk4jx3bd_85xnzblspysc0000gn/T/ipykernel_39601/671700160.py:2: SettingWithCopyWarning: \n",
      "A value is trying to be set on a copy of a slice from a DataFrame.\n",
      "Try using .loc[row_indexer,col_indexer] = value instead\n",
      "\n",
      "See the caveats in the documentation: https://pandas.pydata.org/pandas-docs/stable/user_guide/indexing.html#returning-a-view-versus-a-copy\n",
      "  progressing['valid_year'] = '2022 - 2023'\n"
     ]
    },
    {
     "data": {
      "text/html": [
       "<div>\n",
       "<style scoped>\n",
       "    .dataframe tbody tr th:only-of-type {\n",
       "        vertical-align: middle;\n",
       "    }\n",
       "\n",
       "    .dataframe tbody tr th {\n",
       "        vertical-align: top;\n",
       "    }\n",
       "\n",
       "    .dataframe thead th {\n",
       "        text-align: right;\n",
       "    }\n",
       "</style>\n",
       "<table border=\"1\" class=\"dataframe\">\n",
       "  <thead>\n",
       "    <tr style=\"text-align: right;\">\n",
       "      <th></th>\n",
       "      <th>name</th>\n",
       "      <th>phone</th>\n",
       "      <th>address</th>\n",
       "      <th>gender</th>\n",
       "      <th>student_id</th>\n",
       "      <th>email</th>\n",
       "      <th>year</th>\n",
       "      <th>department</th>\n",
       "      <th>valid_year</th>\n",
       "    </tr>\n",
       "  </thead>\n",
       "  <tbody>\n",
       "    <tr>\n",
       "      <th>0</th>\n",
       "      <td>Nicole Meyer</td>\n",
       "      <td>9378728540</td>\n",
       "      <td>PSC 2512, Box 0914, APO AP 12847</td>\n",
       "      <td>female</td>\n",
       "      <td>nm408</td>\n",
       "      <td>nm408@upc.edu</td>\n",
       "      <td>2</td>\n",
       "      <td>BIOL</td>\n",
       "      <td>2022 - 2023</td>\n",
       "    </tr>\n",
       "    <tr>\n",
       "      <th>1</th>\n",
       "      <td>Joan Flynn</td>\n",
       "      <td>9046397532</td>\n",
       "      <td>238 Charles Court, Lake Williamfurt, VA 34378</td>\n",
       "      <td>female</td>\n",
       "      <td>jf890</td>\n",
       "      <td>jf890@upc.edu</td>\n",
       "      <td>2</td>\n",
       "      <td>WRIT</td>\n",
       "      <td>2022 - 2023</td>\n",
       "    </tr>\n",
       "  </tbody>\n",
       "</table>\n",
       "</div>"
      ],
      "text/plain": [
       "           name       phone                                        address  \\\n",
       "0  Nicole Meyer  9378728540               PSC 2512, Box 0914, APO AP 12847   \n",
       "1    Joan Flynn  9046397532  238 Charles Court, Lake Williamfurt, VA 34378   \n",
       "\n",
       "   gender student_id          email  year department   valid_year  \n",
       "0  female      nm408  nm408@upc.edu     2       BIOL  2022 - 2023  \n",
       "1  female      jf890  jf890@upc.edu     2       WRIT  2022 - 2023  "
      ]
     },
     "execution_count": 997,
     "metadata": {},
     "output_type": "execute_result"
    }
   ],
   "source": [
    "progressing['year'] = progressing['year'] - 1\n",
    "progressing['valid_year'] = '2022 - 2023'\n",
    "progressing.head(2)"
   ]
  },
  {
   "cell_type": "code",
   "execution_count": 998,
   "metadata": {},
   "outputs": [
    {
     "data": {
      "text/html": [
       "<div>\n",
       "<style scoped>\n",
       "    .dataframe tbody tr th:only-of-type {\n",
       "        vertical-align: middle;\n",
       "    }\n",
       "\n",
       "    .dataframe tbody tr th {\n",
       "        vertical-align: top;\n",
       "    }\n",
       "\n",
       "    .dataframe thead th {\n",
       "        text-align: right;\n",
       "    }\n",
       "</style>\n",
       "<table border=\"1\" class=\"dataframe\">\n",
       "  <thead>\n",
       "    <tr style=\"text-align: right;\">\n",
       "      <th></th>\n",
       "      <th>name</th>\n",
       "      <th>phone</th>\n",
       "      <th>address</th>\n",
       "      <th>gender</th>\n",
       "      <th>student_id</th>\n",
       "      <th>email</th>\n",
       "      <th>year</th>\n",
       "      <th>department</th>\n",
       "      <th>valid_year</th>\n",
       "      <th>repeating_year</th>\n",
       "    </tr>\n",
       "  </thead>\n",
       "  <tbody>\n",
       "    <tr>\n",
       "      <th>1194</th>\n",
       "      <td>Brandon Johnson</td>\n",
       "      <td>9954862250</td>\n",
       "      <td>0600 Angela Vista, South Dominic, IL 81065</td>\n",
       "      <td>male</td>\n",
       "      <td>bj983</td>\n",
       "      <td>bj983@upc.edu</td>\n",
       "      <td>3</td>\n",
       "      <td>HIST</td>\n",
       "      <td>2023 - 2024</td>\n",
       "      <td>2023 - 2024</td>\n",
       "    </tr>\n",
       "    <tr>\n",
       "      <th>1841</th>\n",
       "      <td>David Jackson</td>\n",
       "      <td>9270886042</td>\n",
       "      <td>42030 Castillo Villages Apt. 720, Port Carolto...</td>\n",
       "      <td>male</td>\n",
       "      <td>dj576</td>\n",
       "      <td>dj576@upc.edu</td>\n",
       "      <td>3</td>\n",
       "      <td>RMLL</td>\n",
       "      <td>2023 - 2024</td>\n",
       "      <td>2023 - 2024</td>\n",
       "    </tr>\n",
       "  </tbody>\n",
       "</table>\n",
       "</div>"
      ],
      "text/plain": [
       "                 name       phone  \\\n",
       "1194  Brandon Johnson  9954862250   \n",
       "1841    David Jackson  9270886042   \n",
       "\n",
       "                                                address gender student_id  \\\n",
       "1194         0600 Angela Vista, South Dominic, IL 81065   male      bj983   \n",
       "1841  42030 Castillo Villages Apt. 720, Port Carolto...   male      dj576   \n",
       "\n",
       "              email  year department   valid_year repeating_year  \n",
       "1194  bj983@upc.edu     3       HIST  2023 - 2024    2023 - 2024  \n",
       "1841  dj576@upc.edu     3       RMLL  2023 - 2024    2023 - 2024  "
      ]
     },
     "execution_count": 998,
     "metadata": {},
     "output_type": "execute_result"
    }
   ],
   "source": [
    "repeating.head(2)"
   ]
  },
  {
   "cell_type": "code",
   "execution_count": 999,
   "metadata": {},
   "outputs": [],
   "source": [
    "repeating['valid_year'] = '2022 - 2023'\n",
    "repeating = repeating.drop(columns=['repeating_year'], axis=1)"
   ]
  },
  {
   "cell_type": "code",
   "execution_count": 1000,
   "metadata": {},
   "outputs": [
    {
     "data": {
      "text/plain": [
       "(6556, 9)"
      ]
     },
     "execution_count": 1000,
     "metadata": {},
     "output_type": "execute_result"
    }
   ],
   "source": [
    "valid_2223 = pd.concat([progressing, repeating], ignore_index=True)\n",
    "valid_2223.shape"
   ]
  },
  {
   "cell_type": "markdown",
   "metadata": {},
   "source": [
    "Student graduating this year (seniors)"
   ]
  },
  {
   "cell_type": "code",
   "execution_count": 1001,
   "metadata": {},
   "outputs": [
    {
     "data": {
      "text/plain": [
       "(2222, 9)"
      ]
     },
     "execution_count": 1001,
     "metadata": {},
     "output_type": "execute_result"
    }
   ],
   "source": [
    "all_2324[all_2324['year'] == 4].shape"
   ]
  },
  {
   "cell_type": "code",
   "execution_count": 1002,
   "metadata": {},
   "outputs": [
    {
     "data": {
      "text/plain": [
       "2148"
      ]
     },
     "execution_count": 1002,
     "metadata": {},
     "output_type": "execute_result"
    }
   ],
   "source": [
    "n_grad = all_2324[all_2324['year'] == 4].shape[0] + random.randint(-100, 50)\n",
    "n_grad"
   ]
  },
  {
   "cell_type": "code",
   "execution_count": 1003,
   "metadata": {},
   "outputs": [
    {
     "data": {
      "text/html": [
       "<div>\n",
       "<style scoped>\n",
       "    .dataframe tbody tr th:only-of-type {\n",
       "        vertical-align: middle;\n",
       "    }\n",
       "\n",
       "    .dataframe tbody tr th {\n",
       "        vertical-align: top;\n",
       "    }\n",
       "\n",
       "    .dataframe thead th {\n",
       "        text-align: right;\n",
       "    }\n",
       "</style>\n",
       "<table border=\"1\" class=\"dataframe\">\n",
       "  <thead>\n",
       "    <tr style=\"text-align: right;\">\n",
       "      <th></th>\n",
       "      <th>name</th>\n",
       "      <th>phone</th>\n",
       "      <th>address</th>\n",
       "      <th>gender</th>\n",
       "      <th>student_id</th>\n",
       "      <th>email</th>\n",
       "      <th>year</th>\n",
       "    </tr>\n",
       "  </thead>\n",
       "  <tbody>\n",
       "    <tr>\n",
       "      <th>0</th>\n",
       "      <td>Rachel Davis</td>\n",
       "      <td>+1-974-356-2722x7115</td>\n",
       "      <td>791 Matthew Spring, Christyville, NY 92578</td>\n",
       "      <td>female</td>\n",
       "      <td>None</td>\n",
       "      <td>None</td>\n",
       "      <td>4</td>\n",
       "    </tr>\n",
       "    <tr>\n",
       "      <th>1</th>\n",
       "      <td>Lisa Gonzalez</td>\n",
       "      <td>943.253.8827x3843</td>\n",
       "      <td>Unit 2715 Box 4705, DPO AA 45444</td>\n",
       "      <td>female</td>\n",
       "      <td>None</td>\n",
       "      <td>None</td>\n",
       "      <td>4</td>\n",
       "    </tr>\n",
       "    <tr>\n",
       "      <th>2</th>\n",
       "      <td>Erica Harris</td>\n",
       "      <td>(650)691-8293x2455</td>\n",
       "      <td>USNS Gilmore, FPO AA 20049</td>\n",
       "      <td>female</td>\n",
       "      <td>None</td>\n",
       "      <td>None</td>\n",
       "      <td>4</td>\n",
       "    </tr>\n",
       "    <tr>\n",
       "      <th>3</th>\n",
       "      <td>Joseph Dillon</td>\n",
       "      <td>+1-820-313-0277x74501</td>\n",
       "      <td>PSC 3189, Box 1372, APO AE 16399</td>\n",
       "      <td>male</td>\n",
       "      <td>None</td>\n",
       "      <td>None</td>\n",
       "      <td>4</td>\n",
       "    </tr>\n",
       "    <tr>\n",
       "      <th>4</th>\n",
       "      <td>James West</td>\n",
       "      <td>3545711515</td>\n",
       "      <td>7650 Martin Rue Apt. 320, Carolynstad, MH 28971</td>\n",
       "      <td>male</td>\n",
       "      <td>None</td>\n",
       "      <td>None</td>\n",
       "      <td>4</td>\n",
       "    </tr>\n",
       "  </tbody>\n",
       "</table>\n",
       "</div>"
      ],
      "text/plain": [
       "            name                  phone  \\\n",
       "0   Rachel Davis   +1-974-356-2722x7115   \n",
       "1  Lisa Gonzalez      943.253.8827x3843   \n",
       "2   Erica Harris     (650)691-8293x2455   \n",
       "3  Joseph Dillon  +1-820-313-0277x74501   \n",
       "4     James West             3545711515   \n",
       "\n",
       "                                           address  gender student_id email  \\\n",
       "0       791 Matthew Spring, Christyville, NY 92578  female       None  None   \n",
       "1                 Unit 2715 Box 4705, DPO AA 45444  female       None  None   \n",
       "2                       USNS Gilmore, FPO AA 20049  female       None  None   \n",
       "3                 PSC 3189, Box 1372, APO AE 16399    male       None  None   \n",
       "4  7650 Martin Rue Apt. 320, Carolynstad, MH 28971    male       None  None   \n",
       "\n",
       "   year  \n",
       "0     4  \n",
       "1     4  \n",
       "2     4  \n",
       "3     4  \n",
       "4     4  "
      ]
     },
     "execution_count": 1003,
     "metadata": {},
     "output_type": "execute_result"
    }
   ],
   "source": [
    "grad_2223 = []\n",
    "for i in range(n_grad):\n",
    "    if random.random() >= 0.5:\n",
    "        full_name = faker.first_name_female() + ' ' + faker.last_name()\n",
    "        gender = 'female'\n",
    "    else:\n",
    "        full_name = faker.first_name_male() + ' ' + faker.last_name()\n",
    "        gender = 'male'\n",
    "    phone = faker.phone_number()\n",
    "    addr = faker.address().replace('\\n', ', ')\n",
    "    grad_2223.append({\n",
    "        'name': full_name,\n",
    "        'phone': phone,\n",
    "        'address': addr,\n",
    "        'gender': gender,\n",
    "        'student_id': None,\n",
    "        'email': None,\n",
    "        'year': 4\n",
    "    })\n",
    "\n",
    "grad_2223_df = pd.DataFrame.from_records(grad_2223)\n",
    "grad_2223_df.head()"
   ]
  },
  {
   "cell_type": "code",
   "execution_count": 1004,
   "metadata": {},
   "outputs": [],
   "source": [
    "grad_2223_df['department'] = np.random.choice(dept_count.index, size=n_grad, p=dept_count.values)\n",
    "grad_2223_df['valid_year'] = '2022 - 2023'\n",
    "grad_2223_df['grad_year'] = '2022 - 2023'\n",
    "grad_2223_df.to_csv(f'{PATH}/registry/grad_2223.csv', index=None)"
   ]
  },
  {
   "cell_type": "markdown",
   "metadata": {},
   "source": [
    "Students dropping out after this year"
   ]
  },
  {
   "cell_type": "code",
   "execution_count": 1005,
   "metadata": {},
   "outputs": [
    {
     "data": {
      "text/plain": [
       "101"
      ]
     },
     "execution_count": 1005,
     "metadata": {},
     "output_type": "execute_result"
    }
   ],
   "source": [
    "n_dropout = 100 + random.randint(-20, 40)\n",
    "n_dropout"
   ]
  },
  {
   "cell_type": "code",
   "execution_count": 1006,
   "metadata": {},
   "outputs": [],
   "source": [
    "dropout_2223 = []\n",
    "for i in range(n_dropout):\n",
    "    if random.random() >= 0.5:\n",
    "        full_name = faker.first_name_female() + ' ' + faker.last_name()\n",
    "        gender = 'female'\n",
    "    else:\n",
    "        full_name = faker.first_name_male() + ' ' + faker.last_name()\n",
    "        gender = 'male'\n",
    "    phone = faker.phone_number()\n",
    "    addr = faker.address().replace('\\n', ', ')\n",
    "    dropout_2223.append({\n",
    "        'name': full_name,\n",
    "        'phone': phone,\n",
    "        'address': addr,\n",
    "        'gender': gender,\n",
    "        'student_id': None,\n",
    "        'email': None\n",
    "    })\n",
    "\n",
    "dropout_2223_df = pd.DataFrame.from_records(dropout_2223)"
   ]
  },
  {
   "cell_type": "code",
   "execution_count": 1007,
   "metadata": {},
   "outputs": [
    {
     "data": {
      "text/html": [
       "<div>\n",
       "<style scoped>\n",
       "    .dataframe tbody tr th:only-of-type {\n",
       "        vertical-align: middle;\n",
       "    }\n",
       "\n",
       "    .dataframe tbody tr th {\n",
       "        vertical-align: top;\n",
       "    }\n",
       "\n",
       "    .dataframe thead th {\n",
       "        text-align: right;\n",
       "    }\n",
       "</style>\n",
       "<table border=\"1\" class=\"dataframe\">\n",
       "  <thead>\n",
       "    <tr style=\"text-align: right;\">\n",
       "      <th></th>\n",
       "      <th>name</th>\n",
       "      <th>phone</th>\n",
       "      <th>address</th>\n",
       "      <th>gender</th>\n",
       "      <th>student_id</th>\n",
       "      <th>email</th>\n",
       "      <th>year</th>\n",
       "      <th>department</th>\n",
       "      <th>valid_year</th>\n",
       "      <th>dropout_year</th>\n",
       "    </tr>\n",
       "  </thead>\n",
       "  <tbody>\n",
       "    <tr>\n",
       "      <th>0</th>\n",
       "      <td>Ronald Avery</td>\n",
       "      <td>274.854.6386</td>\n",
       "      <td>1587 Parker Canyon Suite 249, South Deanna, TX...</td>\n",
       "      <td>male</td>\n",
       "      <td>None</td>\n",
       "      <td>None</td>\n",
       "      <td>4</td>\n",
       "      <td>EDUC</td>\n",
       "      <td>2022 - 2023</td>\n",
       "      <td>2022 - 2023</td>\n",
       "    </tr>\n",
       "    <tr>\n",
       "      <th>1</th>\n",
       "      <td>Debra Jones</td>\n",
       "      <td>(403)508-4070x422</td>\n",
       "      <td>32194 Griffith Ridges, Lancestad, LA 01379</td>\n",
       "      <td>female</td>\n",
       "      <td>None</td>\n",
       "      <td>None</td>\n",
       "      <td>1</td>\n",
       "      <td>POSC</td>\n",
       "      <td>2022 - 2023</td>\n",
       "      <td>2022 - 2023</td>\n",
       "    </tr>\n",
       "  </tbody>\n",
       "</table>\n",
       "</div>"
      ],
      "text/plain": [
       "           name              phone  \\\n",
       "0  Ronald Avery       274.854.6386   \n",
       "1   Debra Jones  (403)508-4070x422   \n",
       "\n",
       "                                             address  gender student_id email  \\\n",
       "0  1587 Parker Canyon Suite 249, South Deanna, TX...    male       None  None   \n",
       "1         32194 Griffith Ridges, Lancestad, LA 01379  female       None  None   \n",
       "\n",
       "   year department   valid_year dropout_year  \n",
       "0     4       EDUC  2022 - 2023  2022 - 2023  \n",
       "1     1       POSC  2022 - 2023  2022 - 2023  "
      ]
     },
     "execution_count": 1007,
     "metadata": {},
     "output_type": "execute_result"
    }
   ],
   "source": [
    "dropout_2223_df['year'] = np.random.choice(year_count.index, size=n_dropout, p=year_count.values)\n",
    "dropout_2223_df['department'] = np.random.choice(dept_count.index, size=n_dropout, p=dept_count.values)\n",
    "dropout_2223_df['valid_year'] = '2022 - 2023'\n",
    "dropout_2223_df['dropout_year'] = '2022 - 2023'\n",
    "dropout_2223_df.head(2)"
   ]
  },
  {
   "cell_type": "code",
   "execution_count": 1008,
   "metadata": {},
   "outputs": [],
   "source": [
    "dropout_2223_df.to_csv(f'{PATH}/registry/dropout_2223.csv', index=None)"
   ]
  },
  {
   "cell_type": "markdown",
   "metadata": {},
   "source": [
    "Students returning from LOA"
   ]
  },
  {
   "cell_type": "code",
   "execution_count": 1009,
   "metadata": {},
   "outputs": [
    {
     "data": {
      "text/plain": [
       "146"
      ]
     },
     "execution_count": 1009,
     "metadata": {},
     "output_type": "execute_result"
    }
   ],
   "source": [
    "n_loa_return = 150 + random.randint(-10, 10)\n",
    "n_loa_return"
   ]
  },
  {
   "cell_type": "code",
   "execution_count": 1010,
   "metadata": {},
   "outputs": [],
   "source": [
    "valid_2223 = valid_2223[valid_2223['year'] > 1]"
   ]
  },
  {
   "cell_type": "code",
   "execution_count": 1011,
   "metadata": {},
   "outputs": [
    {
     "data": {
      "text/html": [
       "<div>\n",
       "<style scoped>\n",
       "    .dataframe tbody tr th:only-of-type {\n",
       "        vertical-align: middle;\n",
       "    }\n",
       "\n",
       "    .dataframe tbody tr th {\n",
       "        vertical-align: top;\n",
       "    }\n",
       "\n",
       "    .dataframe thead th {\n",
       "        text-align: right;\n",
       "    }\n",
       "</style>\n",
       "<table border=\"1\" class=\"dataframe\">\n",
       "  <thead>\n",
       "    <tr style=\"text-align: right;\">\n",
       "      <th></th>\n",
       "      <th>name</th>\n",
       "      <th>phone</th>\n",
       "      <th>address</th>\n",
       "      <th>gender</th>\n",
       "      <th>student_id</th>\n",
       "      <th>email</th>\n",
       "      <th>year</th>\n",
       "      <th>department</th>\n",
       "      <th>valid_year</th>\n",
       "    </tr>\n",
       "  </thead>\n",
       "  <tbody>\n",
       "    <tr>\n",
       "      <th>5404</th>\n",
       "      <td>Robert Mcdonald</td>\n",
       "      <td>8389727867</td>\n",
       "      <td>15510 Steven Grove Apt. 499, South Theresaport...</td>\n",
       "      <td>male</td>\n",
       "      <td>rm331</td>\n",
       "      <td>rm331@upc.edu</td>\n",
       "      <td>3</td>\n",
       "      <td>RELG</td>\n",
       "      <td>2022 - 2023</td>\n",
       "    </tr>\n",
       "    <tr>\n",
       "      <th>3030</th>\n",
       "      <td>Bradley Marshall</td>\n",
       "      <td>9312151018</td>\n",
       "      <td>Unit 2184 Box 1467, DPO AA 04247</td>\n",
       "      <td>male</td>\n",
       "      <td>bm863</td>\n",
       "      <td>bm863@upc.edu</td>\n",
       "      <td>2</td>\n",
       "      <td>EDUC</td>\n",
       "      <td>2022 - 2023</td>\n",
       "    </tr>\n",
       "  </tbody>\n",
       "</table>\n",
       "</div>"
      ],
      "text/plain": [
       "                  name       phone  \\\n",
       "5404   Robert Mcdonald  8389727867   \n",
       "3030  Bradley Marshall  9312151018   \n",
       "\n",
       "                                                address gender student_id  \\\n",
       "5404  15510 Steven Grove Apt. 499, South Theresaport...   male      rm331   \n",
       "3030                   Unit 2184 Box 1467, DPO AA 04247   male      bm863   \n",
       "\n",
       "              email  year department   valid_year  \n",
       "5404  rm331@upc.edu     3       RELG  2022 - 2023  \n",
       "3030  bm863@upc.edu     2       EDUC  2022 - 2023  "
      ]
     },
     "execution_count": 1011,
     "metadata": {},
     "output_type": "execute_result"
    }
   ],
   "source": [
    "loa_return_2223_df = valid_2223.sample(n=n_loa_return, random_state=0)\n",
    "loa_return_2223_df.head(2)"
   ]
  },
  {
   "cell_type": "code",
   "execution_count": 1012,
   "metadata": {},
   "outputs": [],
   "source": [
    "loa_return_2223_df['return_year'] = '2022 - 2023'\n",
    "loa_return_2223_df['loa_year'] = '2020 - 2021'\n",
    "loa_return_2223_df.to_csv(f'{PATH}/registry/loa_return_2223.csv', index=None)"
   ]
  },
  {
   "cell_type": "markdown",
   "metadata": {},
   "source": [
    "Students taking LOA after this year"
   ]
  },
  {
   "cell_type": "code",
   "execution_count": 1013,
   "metadata": {},
   "outputs": [
    {
     "data": {
      "text/plain": [
       "(152, 11)"
      ]
     },
     "execution_count": 1013,
     "metadata": {},
     "output_type": "execute_result"
    }
   ],
   "source": [
    "loa_after_2223_df = pd.read_csv(f'{PATH}/registry/loa_return_2425.csv')\n",
    "loa_after_2223_df['valid_year'] = '2022 - 2023'\n",
    "loa_after_2223_df['year'] -= 1\n",
    "loa_after_2223_df.shape"
   ]
  },
  {
   "cell_type": "code",
   "execution_count": 1014,
   "metadata": {},
   "outputs": [
    {
     "data": {
      "text/plain": [
       "2    53\n",
       "1    52\n",
       "3    47\n",
       "Name: year, dtype: int64"
      ]
     },
     "execution_count": 1014,
     "metadata": {},
     "output_type": "execute_result"
    }
   ],
   "source": [
    "loa_after_2223_df['year'].value_counts()"
   ]
  },
  {
   "cell_type": "markdown",
   "metadata": {},
   "source": [
    "Students valid in 2022 - 2023"
   ]
  },
  {
   "cell_type": "code",
   "execution_count": 1015,
   "metadata": {},
   "outputs": [],
   "source": [
    "dropout_2223_df_2 = dropout_2223_df.copy()\n",
    "dropout_2223_df_2 = dropout_2223_df_2.drop(columns=['dropout_year'], axis=1)\n",
    "\n",
    "grad_2223_df_2 = grad_2223_df.copy()\n",
    "grad_2223_df_2 = grad_2223_df_2.drop(columns=['grad_year'], axis=1)\n",
    "\n",
    "loa_return_2223_df_2 = loa_return_2223_df.copy()\n",
    "loa_return_2223_df_2 = loa_return_2223_df_2.drop(columns=['loa_year', 'return_year'], axis=1)\n",
    "\n",
    "loa_after_2223_df_2 = loa_after_2223_df.copy()\n",
    "loa_after_2223_df_2 = loa_after_2223_df_2.drop(columns=['loa_year', 'return_year'], axis=1)"
   ]
  },
  {
   "cell_type": "code",
   "execution_count": 1016,
   "metadata": {},
   "outputs": [
    {
     "name": "stdout",
     "output_type": "stream",
     "text": [
      "(8957, 9)\n"
     ]
    },
    {
     "data": {
      "text/html": [
       "<div>\n",
       "<style scoped>\n",
       "    .dataframe tbody tr th:only-of-type {\n",
       "        vertical-align: middle;\n",
       "    }\n",
       "\n",
       "    .dataframe tbody tr th {\n",
       "        vertical-align: top;\n",
       "    }\n",
       "\n",
       "    .dataframe thead th {\n",
       "        text-align: right;\n",
       "    }\n",
       "</style>\n",
       "<table border=\"1\" class=\"dataframe\">\n",
       "  <thead>\n",
       "    <tr style=\"text-align: right;\">\n",
       "      <th></th>\n",
       "      <th>name</th>\n",
       "      <th>phone</th>\n",
       "      <th>address</th>\n",
       "      <th>gender</th>\n",
       "      <th>student_id</th>\n",
       "      <th>email</th>\n",
       "      <th>year</th>\n",
       "      <th>department</th>\n",
       "      <th>valid_year</th>\n",
       "    </tr>\n",
       "  </thead>\n",
       "  <tbody>\n",
       "    <tr>\n",
       "      <th>0</th>\n",
       "      <td>Brandon Johnson</td>\n",
       "      <td>9954862250</td>\n",
       "      <td>0600 Angela Vista, South Dominic, IL 81065</td>\n",
       "      <td>male</td>\n",
       "      <td>bj983</td>\n",
       "      <td>bj983@upc.edu</td>\n",
       "      <td>3</td>\n",
       "      <td>HIST</td>\n",
       "      <td>2022 - 2023</td>\n",
       "    </tr>\n",
       "    <tr>\n",
       "      <th>1</th>\n",
       "      <td>David Jackson</td>\n",
       "      <td>9270886042</td>\n",
       "      <td>42030 Castillo Villages Apt. 720, Port Carolto...</td>\n",
       "      <td>male</td>\n",
       "      <td>dj576</td>\n",
       "      <td>dj576@upc.edu</td>\n",
       "      <td>3</td>\n",
       "      <td>RMLL</td>\n",
       "      <td>2022 - 2023</td>\n",
       "    </tr>\n",
       "    <tr>\n",
       "      <th>2</th>\n",
       "      <td>Lisa Andrews</td>\n",
       "      <td>9835512743</td>\n",
       "      <td>39660 Rollins Pines, Medinaville, MO 57852</td>\n",
       "      <td>female</td>\n",
       "      <td>la217</td>\n",
       "      <td>la217@upc.edu</td>\n",
       "      <td>3</td>\n",
       "      <td>PBSC</td>\n",
       "      <td>2022 - 2023</td>\n",
       "    </tr>\n",
       "    <tr>\n",
       "      <th>3</th>\n",
       "      <td>Amanda Peterson</td>\n",
       "      <td>(894)823-4475</td>\n",
       "      <td>91153 Herrera Cliff Apt. 993, Deborahside, DC ...</td>\n",
       "      <td>female</td>\n",
       "      <td>ap532</td>\n",
       "      <td>ap532@upc.edu</td>\n",
       "      <td>4</td>\n",
       "      <td>RELG</td>\n",
       "      <td>2022 - 2023</td>\n",
       "    </tr>\n",
       "    <tr>\n",
       "      <th>4</th>\n",
       "      <td>Carlos Smith</td>\n",
       "      <td>(468)231-8573x54857</td>\n",
       "      <td>8527 Taylor Roads, Port Susan, NC 29945</td>\n",
       "      <td>male</td>\n",
       "      <td>cs409</td>\n",
       "      <td>cs409@upc.edu</td>\n",
       "      <td>4</td>\n",
       "      <td>POSC</td>\n",
       "      <td>2022 - 2023</td>\n",
       "    </tr>\n",
       "  </tbody>\n",
       "</table>\n",
       "</div>"
      ],
      "text/plain": [
       "              name                phone  \\\n",
       "0  Brandon Johnson           9954862250   \n",
       "1    David Jackson           9270886042   \n",
       "2     Lisa Andrews           9835512743   \n",
       "3  Amanda Peterson        (894)823-4475   \n",
       "4     Carlos Smith  (468)231-8573x54857   \n",
       "\n",
       "                                             address  gender student_id  \\\n",
       "0         0600 Angela Vista, South Dominic, IL 81065    male      bj983   \n",
       "1  42030 Castillo Villages Apt. 720, Port Carolto...    male      dj576   \n",
       "2         39660 Rollins Pines, Medinaville, MO 57852  female      la217   \n",
       "3  91153 Herrera Cliff Apt. 993, Deborahside, DC ...  female      ap532   \n",
       "4            8527 Taylor Roads, Port Susan, NC 29945    male      cs409   \n",
       "\n",
       "           email  year department   valid_year  \n",
       "0  bj983@upc.edu     3       HIST  2022 - 2023  \n",
       "1  dj576@upc.edu     3       RMLL  2022 - 2023  \n",
       "2  la217@upc.edu     3       PBSC  2022 - 2023  \n",
       "3  ap532@upc.edu     4       RELG  2022 - 2023  \n",
       "4  cs409@upc.edu     4       POSC  2022 - 2023  "
      ]
     },
     "execution_count": 1016,
     "metadata": {},
     "output_type": "execute_result"
    }
   ],
   "source": [
    "all_2223 = pd.concat([\n",
    "    repeating,\n",
    "    progressing,\n",
    "    dropout_2223_df_2,\n",
    "    grad_2223_df_2,\n",
    "    loa_after_2223_df_2\n",
    "], ignore_index=True)\n",
    "print(all_2223.shape)\n",
    "all_2223.head()"
   ]
  },
  {
   "cell_type": "code",
   "execution_count": 1017,
   "metadata": {},
   "outputs": [
    {
     "data": {
      "text/plain": [
       "3    2275\n",
       "1    2265\n",
       "2    2222\n",
       "4    2195\n",
       "Name: year, dtype: int64"
      ]
     },
     "execution_count": 1017,
     "metadata": {},
     "output_type": "execute_result"
    }
   ],
   "source": [
    "all_2223['year'].value_counts()"
   ]
  },
  {
   "cell_type": "code",
   "execution_count": 1018,
   "metadata": {},
   "outputs": [
    {
     "data": {
      "text/plain": [
       "((2148, 9), (101, 9), (152, 9))"
      ]
     },
     "execution_count": 1018,
     "metadata": {},
     "output_type": "execute_result"
    }
   ],
   "source": [
    "grad_2223_df_2.shape, dropout_2223_df_2.shape, loa_after_2223_df_2.shape"
   ]
  },
  {
   "cell_type": "code",
   "execution_count": 1019,
   "metadata": {},
   "outputs": [
    {
     "data": {
      "text/plain": [
       "((34, 9), (6522, 9))"
      ]
     },
     "execution_count": 1019,
     "metadata": {},
     "output_type": "execute_result"
    }
   ],
   "source": [
    "repeating.shape, progressing.shape"
   ]
  },
  {
   "cell_type": "code",
   "execution_count": 1020,
   "metadata": {},
   "outputs": [
    {
     "data": {
      "text/plain": [
       "11395"
      ]
     },
     "execution_count": 1020,
     "metadata": {},
     "output_type": "execute_result"
    }
   ],
   "source": [
    "all_ids = set(pd.concat([current_students, all_2324])['student_id'].to_list())\n",
    "len(all_ids)"
   ]
  },
  {
   "cell_type": "code",
   "execution_count": 1021,
   "metadata": {},
   "outputs": [],
   "source": [
    "all_2223['student_id'] = all_2223.apply(lambda x: generate_student_id(x), axis=1)\n",
    "all_2223['email'] = all_2223.apply(lambda x: generate_email(x), axis=1)"
   ]
  },
  {
   "cell_type": "code",
   "execution_count": 1022,
   "metadata": {},
   "outputs": [],
   "source": [
    "all_2223.to_csv(f'{PATH}/registry/all_2223.csv', index=None)"
   ]
  },
  {
   "cell_type": "markdown",
   "metadata": {},
   "source": [
    "# 2021 - 2022"
   ]
  },
  {
   "cell_type": "markdown",
   "metadata": {},
   "source": [
    "Upperclassmen"
   ]
  },
  {
   "cell_type": "code",
   "execution_count": 1023,
   "metadata": {},
   "outputs": [
    {
     "data": {
      "text/plain": [
       "(6692, 9)"
      ]
     },
     "execution_count": 1023,
     "metadata": {},
     "output_type": "execute_result"
    }
   ],
   "source": [
    "upperclass = all_2223[all_2223['year'] > 1]\n",
    "upperclass.shape"
   ]
  },
  {
   "cell_type": "code",
   "execution_count": 1024,
   "metadata": {},
   "outputs": [
    {
     "data": {
      "text/plain": [
       "3    2275\n",
       "2    2222\n",
       "4    2195\n",
       "Name: year, dtype: int64"
      ]
     },
     "execution_count": 1024,
     "metadata": {},
     "output_type": "execute_result"
    }
   ],
   "source": [
    "upperclass['year'].value_counts()"
   ]
  },
  {
   "cell_type": "markdown",
   "metadata": {},
   "source": [
    "Students returning from LOA in 2022 - 2023"
   ]
  },
  {
   "cell_type": "code",
   "execution_count": 1025,
   "metadata": {},
   "outputs": [
    {
     "name": "stdout",
     "output_type": "stream",
     "text": [
      "(146, 11)\n"
     ]
    },
    {
     "data": {
      "text/html": [
       "<div>\n",
       "<style scoped>\n",
       "    .dataframe tbody tr th:only-of-type {\n",
       "        vertical-align: middle;\n",
       "    }\n",
       "\n",
       "    .dataframe tbody tr th {\n",
       "        vertical-align: top;\n",
       "    }\n",
       "\n",
       "    .dataframe thead th {\n",
       "        text-align: right;\n",
       "    }\n",
       "</style>\n",
       "<table border=\"1\" class=\"dataframe\">\n",
       "  <thead>\n",
       "    <tr style=\"text-align: right;\">\n",
       "      <th></th>\n",
       "      <th>name</th>\n",
       "      <th>phone</th>\n",
       "      <th>address</th>\n",
       "      <th>gender</th>\n",
       "      <th>student_id</th>\n",
       "      <th>email</th>\n",
       "      <th>year</th>\n",
       "      <th>department</th>\n",
       "      <th>valid_year</th>\n",
       "      <th>return_year</th>\n",
       "      <th>loa_year</th>\n",
       "    </tr>\n",
       "  </thead>\n",
       "  <tbody>\n",
       "    <tr>\n",
       "      <th>5404</th>\n",
       "      <td>Robert Mcdonald</td>\n",
       "      <td>8389727867</td>\n",
       "      <td>15510 Steven Grove Apt. 499, South Theresaport...</td>\n",
       "      <td>male</td>\n",
       "      <td>rm331</td>\n",
       "      <td>rm331@upc.edu</td>\n",
       "      <td>3</td>\n",
       "      <td>RELG</td>\n",
       "      <td>2022 - 2023</td>\n",
       "      <td>2022 - 2023</td>\n",
       "      <td>2020 - 2021</td>\n",
       "    </tr>\n",
       "    <tr>\n",
       "      <th>3030</th>\n",
       "      <td>Bradley Marshall</td>\n",
       "      <td>9312151018</td>\n",
       "      <td>Unit 2184 Box 1467, DPO AA 04247</td>\n",
       "      <td>male</td>\n",
       "      <td>bm863</td>\n",
       "      <td>bm863@upc.edu</td>\n",
       "      <td>2</td>\n",
       "      <td>EDUC</td>\n",
       "      <td>2022 - 2023</td>\n",
       "      <td>2022 - 2023</td>\n",
       "      <td>2020 - 2021</td>\n",
       "    </tr>\n",
       "  </tbody>\n",
       "</table>\n",
       "</div>"
      ],
      "text/plain": [
       "                  name       phone  \\\n",
       "5404   Robert Mcdonald  8389727867   \n",
       "3030  Bradley Marshall  9312151018   \n",
       "\n",
       "                                                address gender student_id  \\\n",
       "5404  15510 Steven Grove Apt. 499, South Theresaport...   male      rm331   \n",
       "3030                   Unit 2184 Box 1467, DPO AA 04247   male      bm863   \n",
       "\n",
       "              email  year department   valid_year  return_year     loa_year  \n",
       "5404  rm331@upc.edu     3       RELG  2022 - 2023  2022 - 2023  2020 - 2021  \n",
       "3030  bm863@upc.edu     2       EDUC  2022 - 2023  2022 - 2023  2020 - 2021  "
      ]
     },
     "execution_count": 1025,
     "metadata": {},
     "output_type": "execute_result"
    }
   ],
   "source": [
    "print(loa_return_2223_df.shape)\n",
    "loa_return_2223_df.head(2)"
   ]
  },
  {
   "cell_type": "markdown",
   "metadata": {},
   "source": [
    "Students repeating the year"
   ]
  },
  {
   "cell_type": "code",
   "execution_count": 1026,
   "metadata": {},
   "outputs": [
    {
     "data": {
      "text/plain": [
       "(6546, 9)"
      ]
     },
     "execution_count": 1026,
     "metadata": {},
     "output_type": "execute_result"
    }
   ],
   "source": [
    "upperclass = upperclass[~upperclass['student_id'].isin(loa_return_2223_df['student_id'])]\n",
    "upperclass.shape"
   ]
  },
  {
   "cell_type": "code",
   "execution_count": 1027,
   "metadata": {},
   "outputs": [
    {
     "data": {
      "text/plain": [
       "(32, 9)"
      ]
     },
     "execution_count": 1027,
     "metadata": {},
     "output_type": "execute_result"
    }
   ],
   "source": [
    "repeating = upperclass.sample(n=30 + random.randint(-10, 10), random_state=0)\n",
    "repeating.shape"
   ]
  },
  {
   "cell_type": "code",
   "execution_count": 1028,
   "metadata": {},
   "outputs": [],
   "source": [
    "repeating['repeating_year'] = '2022 - 2023'\n",
    "repeating['valid_year'] = '2021 - 2022'"
   ]
  },
  {
   "cell_type": "code",
   "execution_count": 1029,
   "metadata": {},
   "outputs": [],
   "source": [
    "repeating.to_csv(f'{PATH}/registry/repeating_2223.csv', index=None)\n",
    "repeating = repeating.drop(columns=['repeating_year'], axis=1)"
   ]
  },
  {
   "cell_type": "markdown",
   "metadata": {},
   "source": [
    "Students progressing normally"
   ]
  },
  {
   "cell_type": "code",
   "execution_count": 1030,
   "metadata": {},
   "outputs": [
    {
     "data": {
      "text/plain": [
       "(6514, 9)"
      ]
     },
     "execution_count": 1030,
     "metadata": {},
     "output_type": "execute_result"
    }
   ],
   "source": [
    "progressing = upperclass[~upperclass['student_id'].isin(repeating['student_id'])]\n",
    "progressing.shape"
   ]
  },
  {
   "cell_type": "code",
   "execution_count": 1031,
   "metadata": {},
   "outputs": [
    {
     "data": {
      "text/plain": [
       "3    2192\n",
       "4    2191\n",
       "2    2131\n",
       "Name: year, dtype: int64"
      ]
     },
     "execution_count": 1031,
     "metadata": {},
     "output_type": "execute_result"
    }
   ],
   "source": [
    "progressing['year'].value_counts()"
   ]
  },
  {
   "cell_type": "code",
   "execution_count": 1032,
   "metadata": {},
   "outputs": [
    {
     "name": "stderr",
     "output_type": "stream",
     "text": [
      "/var/folders/2l/srpzk4jx3bd_85xnzblspysc0000gn/T/ipykernel_39601/3803819305.py:1: SettingWithCopyWarning: \n",
      "A value is trying to be set on a copy of a slice from a DataFrame.\n",
      "Try using .loc[row_indexer,col_indexer] = value instead\n",
      "\n",
      "See the caveats in the documentation: https://pandas.pydata.org/pandas-docs/stable/user_guide/indexing.html#returning-a-view-versus-a-copy\n",
      "  progressing['year'] = progressing['year'] - 1\n",
      "/var/folders/2l/srpzk4jx3bd_85xnzblspysc0000gn/T/ipykernel_39601/3803819305.py:2: SettingWithCopyWarning: \n",
      "A value is trying to be set on a copy of a slice from a DataFrame.\n",
      "Try using .loc[row_indexer,col_indexer] = value instead\n",
      "\n",
      "See the caveats in the documentation: https://pandas.pydata.org/pandas-docs/stable/user_guide/indexing.html#returning-a-view-versus-a-copy\n",
      "  progressing['valid_year'] = '2021 - 2022'\n"
     ]
    },
    {
     "data": {
      "text/html": [
       "<div>\n",
       "<style scoped>\n",
       "    .dataframe tbody tr th:only-of-type {\n",
       "        vertical-align: middle;\n",
       "    }\n",
       "\n",
       "    .dataframe tbody tr th {\n",
       "        vertical-align: top;\n",
       "    }\n",
       "\n",
       "    .dataframe thead th {\n",
       "        text-align: right;\n",
       "    }\n",
       "</style>\n",
       "<table border=\"1\" class=\"dataframe\">\n",
       "  <thead>\n",
       "    <tr style=\"text-align: right;\">\n",
       "      <th></th>\n",
       "      <th>name</th>\n",
       "      <th>phone</th>\n",
       "      <th>address</th>\n",
       "      <th>gender</th>\n",
       "      <th>student_id</th>\n",
       "      <th>email</th>\n",
       "      <th>year</th>\n",
       "      <th>department</th>\n",
       "      <th>valid_year</th>\n",
       "    </tr>\n",
       "  </thead>\n",
       "  <tbody>\n",
       "    <tr>\n",
       "      <th>0</th>\n",
       "      <td>Brandon Johnson</td>\n",
       "      <td>9954862250</td>\n",
       "      <td>0600 Angela Vista, South Dominic, IL 81065</td>\n",
       "      <td>male</td>\n",
       "      <td>bj983</td>\n",
       "      <td>bj983@upc.edu</td>\n",
       "      <td>2</td>\n",
       "      <td>HIST</td>\n",
       "      <td>2021 - 2022</td>\n",
       "    </tr>\n",
       "    <tr>\n",
       "      <th>1</th>\n",
       "      <td>David Jackson</td>\n",
       "      <td>9270886042</td>\n",
       "      <td>42030 Castillo Villages Apt. 720, Port Carolto...</td>\n",
       "      <td>male</td>\n",
       "      <td>dj576</td>\n",
       "      <td>dj576@upc.edu</td>\n",
       "      <td>2</td>\n",
       "      <td>RMLL</td>\n",
       "      <td>2021 - 2022</td>\n",
       "    </tr>\n",
       "  </tbody>\n",
       "</table>\n",
       "</div>"
      ],
      "text/plain": [
       "              name       phone  \\\n",
       "0  Brandon Johnson  9954862250   \n",
       "1    David Jackson  9270886042   \n",
       "\n",
       "                                             address gender student_id  \\\n",
       "0         0600 Angela Vista, South Dominic, IL 81065   male      bj983   \n",
       "1  42030 Castillo Villages Apt. 720, Port Carolto...   male      dj576   \n",
       "\n",
       "           email  year department   valid_year  \n",
       "0  bj983@upc.edu     2       HIST  2021 - 2022  \n",
       "1  dj576@upc.edu     2       RMLL  2021 - 2022  "
      ]
     },
     "execution_count": 1032,
     "metadata": {},
     "output_type": "execute_result"
    }
   ],
   "source": [
    "progressing['year'] = progressing['year'] - 1\n",
    "progressing['valid_year'] = '2021 - 2022'\n",
    "progressing.head(2)"
   ]
  },
  {
   "cell_type": "code",
   "execution_count": 1033,
   "metadata": {},
   "outputs": [],
   "source": [
    "progressing.to_csv(f'{PATH}/registry/progressing_2223.csv', index=None)"
   ]
  },
  {
   "cell_type": "markdown",
   "metadata": {},
   "source": [
    "Student graduating this year (seniors)"
   ]
  },
  {
   "cell_type": "code",
   "execution_count": 1034,
   "metadata": {},
   "outputs": [
    {
     "data": {
      "text/plain": [
       "2121"
      ]
     },
     "execution_count": 1034,
     "metadata": {},
     "output_type": "execute_result"
    }
   ],
   "source": [
    "n_grad = all_2223[all_2223['year'] == 4].shape[0] + random.randint(-100, 50)\n",
    "n_grad"
   ]
  },
  {
   "cell_type": "code",
   "execution_count": 1035,
   "metadata": {},
   "outputs": [
    {
     "data": {
      "text/html": [
       "<div>\n",
       "<style scoped>\n",
       "    .dataframe tbody tr th:only-of-type {\n",
       "        vertical-align: middle;\n",
       "    }\n",
       "\n",
       "    .dataframe tbody tr th {\n",
       "        vertical-align: top;\n",
       "    }\n",
       "\n",
       "    .dataframe thead th {\n",
       "        text-align: right;\n",
       "    }\n",
       "</style>\n",
       "<table border=\"1\" class=\"dataframe\">\n",
       "  <thead>\n",
       "    <tr style=\"text-align: right;\">\n",
       "      <th></th>\n",
       "      <th>name</th>\n",
       "      <th>phone</th>\n",
       "      <th>address</th>\n",
       "      <th>gender</th>\n",
       "      <th>student_id</th>\n",
       "      <th>email</th>\n",
       "      <th>year</th>\n",
       "    </tr>\n",
       "  </thead>\n",
       "  <tbody>\n",
       "    <tr>\n",
       "      <th>0</th>\n",
       "      <td>Gregory Jones</td>\n",
       "      <td>542.252.0470x00868</td>\n",
       "      <td>Unit 1127 Box 4453, DPO AA 81840</td>\n",
       "      <td>male</td>\n",
       "      <td>None</td>\n",
       "      <td>None</td>\n",
       "      <td>4</td>\n",
       "    </tr>\n",
       "    <tr>\n",
       "      <th>1</th>\n",
       "      <td>Victoria Houston</td>\n",
       "      <td>508-670-2362</td>\n",
       "      <td>623 Jeffrey Road, South David, MI 38618</td>\n",
       "      <td>female</td>\n",
       "      <td>None</td>\n",
       "      <td>None</td>\n",
       "      <td>4</td>\n",
       "    </tr>\n",
       "    <tr>\n",
       "      <th>2</th>\n",
       "      <td>Justin Schmitt</td>\n",
       "      <td>644.317.0159</td>\n",
       "      <td>8775 Sharon Lights Suite 673, East Christina, ...</td>\n",
       "      <td>male</td>\n",
       "      <td>None</td>\n",
       "      <td>None</td>\n",
       "      <td>4</td>\n",
       "    </tr>\n",
       "    <tr>\n",
       "      <th>3</th>\n",
       "      <td>Christopher Grant</td>\n",
       "      <td>5112106359</td>\n",
       "      <td>540 Katherine Valleys Suite 306, North Andrewh...</td>\n",
       "      <td>male</td>\n",
       "      <td>None</td>\n",
       "      <td>None</td>\n",
       "      <td>4</td>\n",
       "    </tr>\n",
       "    <tr>\n",
       "      <th>4</th>\n",
       "      <td>Jeff Livingston</td>\n",
       "      <td>530-713-3403x398</td>\n",
       "      <td>375 Peter Viaduct Apt. 505, New Brent, PR 64322</td>\n",
       "      <td>male</td>\n",
       "      <td>None</td>\n",
       "      <td>None</td>\n",
       "      <td>4</td>\n",
       "    </tr>\n",
       "  </tbody>\n",
       "</table>\n",
       "</div>"
      ],
      "text/plain": [
       "                name               phone  \\\n",
       "0      Gregory Jones  542.252.0470x00868   \n",
       "1   Victoria Houston        508-670-2362   \n",
       "2     Justin Schmitt        644.317.0159   \n",
       "3  Christopher Grant          5112106359   \n",
       "4    Jeff Livingston    530-713-3403x398   \n",
       "\n",
       "                                             address  gender student_id email  \\\n",
       "0                   Unit 1127 Box 4453, DPO AA 81840    male       None  None   \n",
       "1            623 Jeffrey Road, South David, MI 38618  female       None  None   \n",
       "2  8775 Sharon Lights Suite 673, East Christina, ...    male       None  None   \n",
       "3  540 Katherine Valleys Suite 306, North Andrewh...    male       None  None   \n",
       "4    375 Peter Viaduct Apt. 505, New Brent, PR 64322    male       None  None   \n",
       "\n",
       "   year  \n",
       "0     4  \n",
       "1     4  \n",
       "2     4  \n",
       "3     4  \n",
       "4     4  "
      ]
     },
     "execution_count": 1035,
     "metadata": {},
     "output_type": "execute_result"
    }
   ],
   "source": [
    "grad_2122 = []\n",
    "for i in range(n_grad):\n",
    "    if random.random() >= 0.5:\n",
    "        full_name = faker.first_name_female() + ' ' + faker.last_name()\n",
    "        gender = 'female'\n",
    "    else:\n",
    "        full_name = faker.first_name_male() + ' ' + faker.last_name()\n",
    "        gender = 'male'\n",
    "    phone = faker.phone_number()\n",
    "    addr = faker.address().replace('\\n', ', ')\n",
    "    grad_2122.append({\n",
    "        'name': full_name,\n",
    "        'phone': phone,\n",
    "        'address': addr,\n",
    "        'gender': gender,\n",
    "        'student_id': None,\n",
    "        'email': None,\n",
    "        'year': 4\n",
    "    })\n",
    "\n",
    "grad_2122_df = pd.DataFrame.from_records(grad_2122)\n",
    "grad_2122_df.head()"
   ]
  },
  {
   "cell_type": "code",
   "execution_count": 1036,
   "metadata": {},
   "outputs": [],
   "source": [
    "grad_2122_df['department'] = np.random.choice(dept_count.index, size=n_grad, p=dept_count.values)\n",
    "grad_2122_df['valid_year'] = '2021 - 2022'\n",
    "grad_2122_df['grad_year'] = '2021 - 2022'\n",
    "grad_2122_df.to_csv(f'{PATH}/registry/grad_2122.csv', index=None)"
   ]
  },
  {
   "cell_type": "markdown",
   "metadata": {},
   "source": [
    "Students dropping out this year"
   ]
  },
  {
   "cell_type": "code",
   "execution_count": 1037,
   "metadata": {},
   "outputs": [
    {
     "data": {
      "text/plain": [
       "102"
      ]
     },
     "execution_count": 1037,
     "metadata": {},
     "output_type": "execute_result"
    }
   ],
   "source": [
    "n_dropout = 100 + random.randint(-20, 40)\n",
    "n_dropout"
   ]
  },
  {
   "cell_type": "code",
   "execution_count": 1038,
   "metadata": {},
   "outputs": [],
   "source": [
    "dropout_2122 = []\n",
    "for i in range(n_dropout):\n",
    "    if random.random() >= 0.5:\n",
    "        full_name = faker.first_name_female() + ' ' + faker.last_name()\n",
    "        gender = 'female'\n",
    "    else:\n",
    "        full_name = faker.first_name_male() + ' ' + faker.last_name()\n",
    "        gender = 'male'\n",
    "    phone = faker.phone_number()\n",
    "    addr = faker.address().replace('\\n', ', ')\n",
    "    dropout_2122.append({\n",
    "        'name': full_name,\n",
    "        'phone': phone,\n",
    "        'address': addr,\n",
    "        'gender': gender,\n",
    "        'student_id': None,\n",
    "        'email': None\n",
    "    })\n",
    "\n",
    "dropout_2122_df = pd.DataFrame.from_records(dropout_2122)"
   ]
  },
  {
   "cell_type": "code",
   "execution_count": 1039,
   "metadata": {},
   "outputs": [
    {
     "data": {
      "text/html": [
       "<div>\n",
       "<style scoped>\n",
       "    .dataframe tbody tr th:only-of-type {\n",
       "        vertical-align: middle;\n",
       "    }\n",
       "\n",
       "    .dataframe tbody tr th {\n",
       "        vertical-align: top;\n",
       "    }\n",
       "\n",
       "    .dataframe thead th {\n",
       "        text-align: right;\n",
       "    }\n",
       "</style>\n",
       "<table border=\"1\" class=\"dataframe\">\n",
       "  <thead>\n",
       "    <tr style=\"text-align: right;\">\n",
       "      <th></th>\n",
       "      <th>name</th>\n",
       "      <th>phone</th>\n",
       "      <th>address</th>\n",
       "      <th>gender</th>\n",
       "      <th>student_id</th>\n",
       "      <th>email</th>\n",
       "      <th>year</th>\n",
       "      <th>department</th>\n",
       "      <th>valid_year</th>\n",
       "      <th>dropout_year</th>\n",
       "    </tr>\n",
       "  </thead>\n",
       "  <tbody>\n",
       "    <tr>\n",
       "      <th>0</th>\n",
       "      <td>Sandra Vaughn</td>\n",
       "      <td>(339)795-4710x62846</td>\n",
       "      <td>859 Tricia Shoal, Julieburgh, IA 85187</td>\n",
       "      <td>female</td>\n",
       "      <td>None</td>\n",
       "      <td>None</td>\n",
       "      <td>2</td>\n",
       "      <td>HIST</td>\n",
       "      <td>2021 - 2022</td>\n",
       "      <td>2021 - 2022</td>\n",
       "    </tr>\n",
       "    <tr>\n",
       "      <th>1</th>\n",
       "      <td>John Petersen</td>\n",
       "      <td>5775367709</td>\n",
       "      <td>62353 Miller Walks Apt. 946, North Kennethside...</td>\n",
       "      <td>male</td>\n",
       "      <td>None</td>\n",
       "      <td>None</td>\n",
       "      <td>3</td>\n",
       "      <td>PBSC</td>\n",
       "      <td>2021 - 2022</td>\n",
       "      <td>2021 - 2022</td>\n",
       "    </tr>\n",
       "  </tbody>\n",
       "</table>\n",
       "</div>"
      ],
      "text/plain": [
       "            name                phone  \\\n",
       "0  Sandra Vaughn  (339)795-4710x62846   \n",
       "1  John Petersen           5775367709   \n",
       "\n",
       "                                             address  gender student_id email  \\\n",
       "0             859 Tricia Shoal, Julieburgh, IA 85187  female       None  None   \n",
       "1  62353 Miller Walks Apt. 946, North Kennethside...    male       None  None   \n",
       "\n",
       "   year department   valid_year dropout_year  \n",
       "0     2       HIST  2021 - 2022  2021 - 2022  \n",
       "1     3       PBSC  2021 - 2022  2021 - 2022  "
      ]
     },
     "execution_count": 1039,
     "metadata": {},
     "output_type": "execute_result"
    }
   ],
   "source": [
    "dropout_2122_df['year'] = np.random.choice(year_count.index, size=n_dropout, p=year_count.values)\n",
    "dropout_2122_df['department'] = np.random.choice(dept_count.index, size=n_dropout, p=dept_count.values)\n",
    "dropout_2122_df['valid_year'] = '2021 - 2022'\n",
    "dropout_2122_df['dropout_year'] = '2021 - 2022'\n",
    "dropout_2122_df.head(2)"
   ]
  },
  {
   "cell_type": "code",
   "execution_count": 1040,
   "metadata": {},
   "outputs": [],
   "source": [
    "dropout_2122_df.to_csv(f'{PATH}/registry/dropout_2122.csv', index=None)"
   ]
  },
  {
   "cell_type": "markdown",
   "metadata": {},
   "source": [
    "Students returning from LOA"
   ]
  },
  {
   "cell_type": "code",
   "execution_count": 1041,
   "metadata": {},
   "outputs": [
    {
     "data": {
      "text/plain": [
       "159"
      ]
     },
     "execution_count": 1041,
     "metadata": {},
     "output_type": "execute_result"
    }
   ],
   "source": [
    "n_loa_return = 150 + random.randint(-10, 10)\n",
    "n_loa_return"
   ]
  },
  {
   "cell_type": "code",
   "execution_count": 1042,
   "metadata": {},
   "outputs": [
    {
     "data": {
      "text/plain": [
       "(6546, 9)"
      ]
     },
     "execution_count": 1042,
     "metadata": {},
     "output_type": "execute_result"
    }
   ],
   "source": [
    "valid_2122 = pd.concat([progressing, repeating], ignore_index=True)\n",
    "valid_2122.shape"
   ]
  },
  {
   "cell_type": "code",
   "execution_count": 1043,
   "metadata": {},
   "outputs": [],
   "source": [
    "valid_2122 = valid_2122[valid_2122['year'] > 1]"
   ]
  },
  {
   "cell_type": "code",
   "execution_count": 1044,
   "metadata": {},
   "outputs": [
    {
     "data": {
      "text/html": [
       "<div>\n",
       "<style scoped>\n",
       "    .dataframe tbody tr th:only-of-type {\n",
       "        vertical-align: middle;\n",
       "    }\n",
       "\n",
       "    .dataframe tbody tr th {\n",
       "        vertical-align: top;\n",
       "    }\n",
       "\n",
       "    .dataframe thead th {\n",
       "        text-align: right;\n",
       "    }\n",
       "</style>\n",
       "<table border=\"1\" class=\"dataframe\">\n",
       "  <thead>\n",
       "    <tr style=\"text-align: right;\">\n",
       "      <th></th>\n",
       "      <th>name</th>\n",
       "      <th>phone</th>\n",
       "      <th>address</th>\n",
       "      <th>gender</th>\n",
       "      <th>student_id</th>\n",
       "      <th>email</th>\n",
       "      <th>year</th>\n",
       "      <th>department</th>\n",
       "      <th>valid_year</th>\n",
       "    </tr>\n",
       "  </thead>\n",
       "  <tbody>\n",
       "    <tr>\n",
       "      <th>2653</th>\n",
       "      <td>John Allen</td>\n",
       "      <td>+1-202-563-9525x797</td>\n",
       "      <td>60535 Andre Parkways, Timothyport, MD 04753</td>\n",
       "      <td>male</td>\n",
       "      <td>ja975</td>\n",
       "      <td>ja975@upc.edu</td>\n",
       "      <td>2</td>\n",
       "      <td>ECON</td>\n",
       "      <td>2021 - 2022</td>\n",
       "    </tr>\n",
       "    <tr>\n",
       "      <th>6381</th>\n",
       "      <td>Frances Decker</td>\n",
       "      <td>848-579-5752</td>\n",
       "      <td>560 Mclaughlin Mills Apt. 771, Alanhaven, VT 1...</td>\n",
       "      <td>female</td>\n",
       "      <td>fd397</td>\n",
       "      <td>fd397@upc.edu</td>\n",
       "      <td>3</td>\n",
       "      <td>ECON</td>\n",
       "      <td>2021 - 2022</td>\n",
       "    </tr>\n",
       "  </tbody>\n",
       "</table>\n",
       "</div>"
      ],
      "text/plain": [
       "                name                phone  \\\n",
       "2653      John Allen  +1-202-563-9525x797   \n",
       "6381  Frances Decker         848-579-5752   \n",
       "\n",
       "                                                address  gender student_id  \\\n",
       "2653        60535 Andre Parkways, Timothyport, MD 04753    male      ja975   \n",
       "6381  560 Mclaughlin Mills Apt. 771, Alanhaven, VT 1...  female      fd397   \n",
       "\n",
       "              email  year department   valid_year  \n",
       "2653  ja975@upc.edu     2       ECON  2021 - 2022  \n",
       "6381  fd397@upc.edu     3       ECON  2021 - 2022  "
      ]
     },
     "execution_count": 1044,
     "metadata": {},
     "output_type": "execute_result"
    }
   ],
   "source": [
    "loa_return_2122_df = valid_2122.sample(n=n_loa_return, random_state=0)\n",
    "loa_return_2122_df.head(2)"
   ]
  },
  {
   "cell_type": "code",
   "execution_count": 1045,
   "metadata": {},
   "outputs": [],
   "source": [
    "loa_return_2122_df['return_year'] = '2021 - 2022'\n",
    "loa_return_2122_df['loa_year'] = '2019 - 2020'\n",
    "loa_return_2122_df.to_csv(f'{PATH}/registry/loa_return_2122.csv', index=None)"
   ]
  },
  {
   "cell_type": "markdown",
   "metadata": {},
   "source": [
    "Students taking LOA after this year"
   ]
  },
  {
   "cell_type": "code",
   "execution_count": 1046,
   "metadata": {},
   "outputs": [
    {
     "data": {
      "text/plain": [
       "(155, 11)"
      ]
     },
     "execution_count": 1046,
     "metadata": {},
     "output_type": "execute_result"
    }
   ],
   "source": [
    "loa_after_2122_df = pd.read_csv(f'{PATH}/registry/loa_return_2324.csv')\n",
    "loa_after_2122_df['valid_year'] = '2021 - 2022'\n",
    "loa_after_2122_df['year'] -= 1\n",
    "loa_after_2122_df.shape"
   ]
  },
  {
   "cell_type": "markdown",
   "metadata": {},
   "source": [
    "Students valid in 2021 - 2022"
   ]
  },
  {
   "cell_type": "code",
   "execution_count": 1047,
   "metadata": {},
   "outputs": [],
   "source": [
    "dropout_2122_df_2 = dropout_2122_df.copy()\n",
    "dropout_2122_df_2 = dropout_2122_df_2.drop(columns=['dropout_year'], axis=1)\n",
    "\n",
    "grad_2122_df_2 = grad_2122_df.copy()\n",
    "grad_2122_df_2 = grad_2122_df_2.drop(columns=['grad_year'], axis=1)\n",
    "\n",
    "loa_return_2122_df_2 = loa_return_2122_df.copy()\n",
    "loa_return_2122_df_2 = loa_return_2122_df_2.drop(columns=['loa_year', 'return_year'], axis=1)\n",
    "\n",
    "loa_after_2122_df_2 = loa_after_2122_df.copy()\n",
    "loa_after_2122_df_2 = loa_after_2122_df_2.drop(columns=['loa_year', 'return_year'], axis=1)"
   ]
  },
  {
   "cell_type": "code",
   "execution_count": 1048,
   "metadata": {},
   "outputs": [
    {
     "name": "stdout",
     "output_type": "stream",
     "text": [
      "(8924, 9)\n"
     ]
    },
    {
     "data": {
      "text/html": [
       "<div>\n",
       "<style scoped>\n",
       "    .dataframe tbody tr th:only-of-type {\n",
       "        vertical-align: middle;\n",
       "    }\n",
       "\n",
       "    .dataframe tbody tr th {\n",
       "        vertical-align: top;\n",
       "    }\n",
       "\n",
       "    .dataframe thead th {\n",
       "        text-align: right;\n",
       "    }\n",
       "</style>\n",
       "<table border=\"1\" class=\"dataframe\">\n",
       "  <thead>\n",
       "    <tr style=\"text-align: right;\">\n",
       "      <th></th>\n",
       "      <th>name</th>\n",
       "      <th>phone</th>\n",
       "      <th>address</th>\n",
       "      <th>gender</th>\n",
       "      <th>student_id</th>\n",
       "      <th>email</th>\n",
       "      <th>year</th>\n",
       "      <th>department</th>\n",
       "      <th>valid_year</th>\n",
       "    </tr>\n",
       "  </thead>\n",
       "  <tbody>\n",
       "    <tr>\n",
       "      <th>0</th>\n",
       "      <td>Paula Roberts</td>\n",
       "      <td>9104455870</td>\n",
       "      <td>876 Cain Glens Apt. 103, Brendaview, VT 41974</td>\n",
       "      <td>female</td>\n",
       "      <td>pr697</td>\n",
       "      <td>pr697@upc.edu</td>\n",
       "      <td>2</td>\n",
       "      <td>POSC</td>\n",
       "      <td>2021 - 2022</td>\n",
       "    </tr>\n",
       "    <tr>\n",
       "      <th>1</th>\n",
       "      <td>Amy Stuart</td>\n",
       "      <td>420-928-0850</td>\n",
       "      <td>Unit 3129 Box 4601, DPO AE 32932</td>\n",
       "      <td>female</td>\n",
       "      <td>as753</td>\n",
       "      <td>as753@upc.edu</td>\n",
       "      <td>4</td>\n",
       "      <td>EDUC</td>\n",
       "      <td>2021 - 2022</td>\n",
       "    </tr>\n",
       "    <tr>\n",
       "      <th>2</th>\n",
       "      <td>Robert Butler</td>\n",
       "      <td>9376494498</td>\n",
       "      <td>8040 Erica Court Apt. 689, Darleneport, AR 02242</td>\n",
       "      <td>male</td>\n",
       "      <td>rb178</td>\n",
       "      <td>rb178@upc.edu</td>\n",
       "      <td>2</td>\n",
       "      <td>GEOG</td>\n",
       "      <td>2021 - 2022</td>\n",
       "    </tr>\n",
       "    <tr>\n",
       "      <th>3</th>\n",
       "      <td>Perry Marshall</td>\n",
       "      <td>677.505.5287x611</td>\n",
       "      <td>15236 Kerr Trafficway, New Jeffreyside, OK 11067</td>\n",
       "      <td>male</td>\n",
       "      <td>pm529</td>\n",
       "      <td>pm529@upc.edu</td>\n",
       "      <td>4</td>\n",
       "      <td>CLAS</td>\n",
       "      <td>2021 - 2022</td>\n",
       "    </tr>\n",
       "    <tr>\n",
       "      <th>4</th>\n",
       "      <td>Leon Gomez</td>\n",
       "      <td>9834040174</td>\n",
       "      <td>96408 Wallace Keys, Lake Tara, MS 31438</td>\n",
       "      <td>male</td>\n",
       "      <td>lg168</td>\n",
       "      <td>lg168@upc.edu</td>\n",
       "      <td>2</td>\n",
       "      <td>SOAN</td>\n",
       "      <td>2021 - 2022</td>\n",
       "    </tr>\n",
       "  </tbody>\n",
       "</table>\n",
       "</div>"
      ],
      "text/plain": [
       "             name             phone  \\\n",
       "0   Paula Roberts        9104455870   \n",
       "1      Amy Stuart      420-928-0850   \n",
       "2   Robert Butler        9376494498   \n",
       "3  Perry Marshall  677.505.5287x611   \n",
       "4      Leon Gomez        9834040174   \n",
       "\n",
       "                                            address  gender student_id  \\\n",
       "0     876 Cain Glens Apt. 103, Brendaview, VT 41974  female      pr697   \n",
       "1                  Unit 3129 Box 4601, DPO AE 32932  female      as753   \n",
       "2  8040 Erica Court Apt. 689, Darleneport, AR 02242    male      rb178   \n",
       "3  15236 Kerr Trafficway, New Jeffreyside, OK 11067    male      pm529   \n",
       "4           96408 Wallace Keys, Lake Tara, MS 31438    male      lg168   \n",
       "\n",
       "           email  year department   valid_year  \n",
       "0  pr697@upc.edu     2       POSC  2021 - 2022  \n",
       "1  as753@upc.edu     4       EDUC  2021 - 2022  \n",
       "2  rb178@upc.edu     2       GEOG  2021 - 2022  \n",
       "3  pm529@upc.edu     4       CLAS  2021 - 2022  \n",
       "4  lg168@upc.edu     2       SOAN  2021 - 2022  "
      ]
     },
     "execution_count": 1048,
     "metadata": {},
     "output_type": "execute_result"
    }
   ],
   "source": [
    "all_2122 = pd.concat([\n",
    "    repeating,\n",
    "    progressing,\n",
    "    dropout_2122_df_2,\n",
    "    grad_2122_df_2,\n",
    "    loa_after_2122_df_2\n",
    "], ignore_index=True)\n",
    "print(all_2122.shape)\n",
    "all_2122.head()"
   ]
  },
  {
   "cell_type": "code",
   "execution_count": 1049,
   "metadata": {},
   "outputs": [
    {
     "data": {
      "text/plain": [
       "2    2312\n",
       "3    2243\n",
       "1    2221\n",
       "4    2148\n",
       "Name: year, dtype: int64"
      ]
     },
     "execution_count": 1049,
     "metadata": {},
     "output_type": "execute_result"
    }
   ],
   "source": [
    "all_2122['year'].value_counts()"
   ]
  },
  {
   "cell_type": "code",
   "execution_count": 1050,
   "metadata": {},
   "outputs": [
    {
     "data": {
      "text/plain": [
       "13644"
      ]
     },
     "execution_count": 1050,
     "metadata": {},
     "output_type": "execute_result"
    }
   ],
   "source": [
    "len(all_ids)"
   ]
  },
  {
   "cell_type": "code",
   "execution_count": 1051,
   "metadata": {},
   "outputs": [],
   "source": [
    "all_2122['student_id'] = all_2122.apply(lambda x: generate_student_id(x), axis=1)\n",
    "all_2122['email'] = all_2122.apply(lambda x: generate_email(x), axis=1)"
   ]
  },
  {
   "cell_type": "code",
   "execution_count": 1052,
   "metadata": {},
   "outputs": [],
   "source": [
    "all_2122.to_csv(f'{PATH}/registry/all_2122.csv', index=None)"
   ]
  },
  {
   "cell_type": "markdown",
   "metadata": {},
   "source": [
    "# 2020 - 2021"
   ]
  },
  {
   "cell_type": "markdown",
   "metadata": {},
   "source": [
    "Upperclassmen"
   ]
  },
  {
   "cell_type": "code",
   "execution_count": 1053,
   "metadata": {},
   "outputs": [
    {
     "data": {
      "text/plain": [
       "(6703, 9)"
      ]
     },
     "execution_count": 1053,
     "metadata": {},
     "output_type": "execute_result"
    }
   ],
   "source": [
    "upperclass = all_2122[all_2122['year'] > 1]\n",
    "upperclass.shape"
   ]
  },
  {
   "cell_type": "markdown",
   "metadata": {},
   "source": [
    "Students returning from LOA in 2021 - 2022"
   ]
  },
  {
   "cell_type": "code",
   "execution_count": 1054,
   "metadata": {},
   "outputs": [
    {
     "name": "stdout",
     "output_type": "stream",
     "text": [
      "(159, 11)\n"
     ]
    },
    {
     "data": {
      "text/html": [
       "<div>\n",
       "<style scoped>\n",
       "    .dataframe tbody tr th:only-of-type {\n",
       "        vertical-align: middle;\n",
       "    }\n",
       "\n",
       "    .dataframe tbody tr th {\n",
       "        vertical-align: top;\n",
       "    }\n",
       "\n",
       "    .dataframe thead th {\n",
       "        text-align: right;\n",
       "    }\n",
       "</style>\n",
       "<table border=\"1\" class=\"dataframe\">\n",
       "  <thead>\n",
       "    <tr style=\"text-align: right;\">\n",
       "      <th></th>\n",
       "      <th>name</th>\n",
       "      <th>phone</th>\n",
       "      <th>address</th>\n",
       "      <th>gender</th>\n",
       "      <th>student_id</th>\n",
       "      <th>email</th>\n",
       "      <th>year</th>\n",
       "      <th>department</th>\n",
       "      <th>valid_year</th>\n",
       "      <th>return_year</th>\n",
       "      <th>loa_year</th>\n",
       "    </tr>\n",
       "  </thead>\n",
       "  <tbody>\n",
       "    <tr>\n",
       "      <th>2653</th>\n",
       "      <td>John Allen</td>\n",
       "      <td>+1-202-563-9525x797</td>\n",
       "      <td>60535 Andre Parkways, Timothyport, MD 04753</td>\n",
       "      <td>male</td>\n",
       "      <td>ja975</td>\n",
       "      <td>ja975@upc.edu</td>\n",
       "      <td>2</td>\n",
       "      <td>ECON</td>\n",
       "      <td>2021 - 2022</td>\n",
       "      <td>2021 - 2022</td>\n",
       "      <td>2019 - 2020</td>\n",
       "    </tr>\n",
       "    <tr>\n",
       "      <th>6381</th>\n",
       "      <td>Frances Decker</td>\n",
       "      <td>848-579-5752</td>\n",
       "      <td>560 Mclaughlin Mills Apt. 771, Alanhaven, VT 1...</td>\n",
       "      <td>female</td>\n",
       "      <td>fd397</td>\n",
       "      <td>fd397@upc.edu</td>\n",
       "      <td>3</td>\n",
       "      <td>ECON</td>\n",
       "      <td>2021 - 2022</td>\n",
       "      <td>2021 - 2022</td>\n",
       "      <td>2019 - 2020</td>\n",
       "    </tr>\n",
       "  </tbody>\n",
       "</table>\n",
       "</div>"
      ],
      "text/plain": [
       "                name                phone  \\\n",
       "2653      John Allen  +1-202-563-9525x797   \n",
       "6381  Frances Decker         848-579-5752   \n",
       "\n",
       "                                                address  gender student_id  \\\n",
       "2653        60535 Andre Parkways, Timothyport, MD 04753    male      ja975   \n",
       "6381  560 Mclaughlin Mills Apt. 771, Alanhaven, VT 1...  female      fd397   \n",
       "\n",
       "              email  year department   valid_year  return_year     loa_year  \n",
       "2653  ja975@upc.edu     2       ECON  2021 - 2022  2021 - 2022  2019 - 2020  \n",
       "6381  fd397@upc.edu     3       ECON  2021 - 2022  2021 - 2022  2019 - 2020  "
      ]
     },
     "execution_count": 1054,
     "metadata": {},
     "output_type": "execute_result"
    }
   ],
   "source": [
    "print(loa_return_2122_df.shape)\n",
    "loa_return_2122_df.head(2)"
   ]
  },
  {
   "cell_type": "markdown",
   "metadata": {},
   "source": [
    "Students repeating the year"
   ]
  },
  {
   "cell_type": "code",
   "execution_count": 1055,
   "metadata": {},
   "outputs": [
    {
     "data": {
      "text/plain": [
       "(6544, 9)"
      ]
     },
     "execution_count": 1055,
     "metadata": {},
     "output_type": "execute_result"
    }
   ],
   "source": [
    "upperclass = upperclass[~upperclass['student_id'].isin(loa_return_2122_df['student_id'])]\n",
    "upperclass.shape"
   ]
  },
  {
   "cell_type": "code",
   "execution_count": 1056,
   "metadata": {},
   "outputs": [
    {
     "data": {
      "text/plain": [
       "(20, 9)"
      ]
     },
     "execution_count": 1056,
     "metadata": {},
     "output_type": "execute_result"
    }
   ],
   "source": [
    "repeating = upperclass.sample(n=30 + random.randint(-10, 10), random_state=0)\n",
    "repeating.shape"
   ]
  },
  {
   "cell_type": "code",
   "execution_count": 1057,
   "metadata": {},
   "outputs": [],
   "source": [
    "repeating['repeating_year'] = '2021 - 2022'\n",
    "repeating['valid_year'] = '2020 - 2021'"
   ]
  },
  {
   "cell_type": "code",
   "execution_count": 1058,
   "metadata": {},
   "outputs": [],
   "source": [
    "repeating.to_csv(f'{PATH}/registry/repeating_2122.csv', index=None)\n",
    "repeating = repeating.drop(columns=['repeating_year'], axis=1)"
   ]
  },
  {
   "cell_type": "markdown",
   "metadata": {},
   "source": [
    "Students progressing normally"
   ]
  },
  {
   "cell_type": "code",
   "execution_count": 1059,
   "metadata": {},
   "outputs": [
    {
     "data": {
      "text/plain": [
       "(6524, 9)"
      ]
     },
     "execution_count": 1059,
     "metadata": {},
     "output_type": "execute_result"
    }
   ],
   "source": [
    "progressing = upperclass[~upperclass['student_id'].isin(repeating['student_id'])]\n",
    "progressing.shape"
   ]
  },
  {
   "cell_type": "code",
   "execution_count": 1060,
   "metadata": {},
   "outputs": [
    {
     "data": {
      "text/plain": [
       "2    2226\n",
       "3    2152\n",
       "4    2146\n",
       "Name: year, dtype: int64"
      ]
     },
     "execution_count": 1060,
     "metadata": {},
     "output_type": "execute_result"
    }
   ],
   "source": [
    "progressing['year'].value_counts()"
   ]
  },
  {
   "cell_type": "code",
   "execution_count": 1061,
   "metadata": {},
   "outputs": [
    {
     "name": "stderr",
     "output_type": "stream",
     "text": [
      "/var/folders/2l/srpzk4jx3bd_85xnzblspysc0000gn/T/ipykernel_39601/1745272693.py:1: SettingWithCopyWarning: \n",
      "A value is trying to be set on a copy of a slice from a DataFrame.\n",
      "Try using .loc[row_indexer,col_indexer] = value instead\n",
      "\n",
      "See the caveats in the documentation: https://pandas.pydata.org/pandas-docs/stable/user_guide/indexing.html#returning-a-view-versus-a-copy\n",
      "  progressing['year'] = progressing['year'] - 1\n",
      "/var/folders/2l/srpzk4jx3bd_85xnzblspysc0000gn/T/ipykernel_39601/1745272693.py:2: SettingWithCopyWarning: \n",
      "A value is trying to be set on a copy of a slice from a DataFrame.\n",
      "Try using .loc[row_indexer,col_indexer] = value instead\n",
      "\n",
      "See the caveats in the documentation: https://pandas.pydata.org/pandas-docs/stable/user_guide/indexing.html#returning-a-view-versus-a-copy\n",
      "  progressing['valid_year'] = '2020 - 2021'\n"
     ]
    },
    {
     "data": {
      "text/html": [
       "<div>\n",
       "<style scoped>\n",
       "    .dataframe tbody tr th:only-of-type {\n",
       "        vertical-align: middle;\n",
       "    }\n",
       "\n",
       "    .dataframe tbody tr th {\n",
       "        vertical-align: top;\n",
       "    }\n",
       "\n",
       "    .dataframe thead th {\n",
       "        text-align: right;\n",
       "    }\n",
       "</style>\n",
       "<table border=\"1\" class=\"dataframe\">\n",
       "  <thead>\n",
       "    <tr style=\"text-align: right;\">\n",
       "      <th></th>\n",
       "      <th>name</th>\n",
       "      <th>phone</th>\n",
       "      <th>address</th>\n",
       "      <th>gender</th>\n",
       "      <th>student_id</th>\n",
       "      <th>email</th>\n",
       "      <th>year</th>\n",
       "      <th>department</th>\n",
       "      <th>valid_year</th>\n",
       "    </tr>\n",
       "  </thead>\n",
       "  <tbody>\n",
       "    <tr>\n",
       "      <th>0</th>\n",
       "      <td>Paula Roberts</td>\n",
       "      <td>9104455870</td>\n",
       "      <td>876 Cain Glens Apt. 103, Brendaview, VT 41974</td>\n",
       "      <td>female</td>\n",
       "      <td>pr697</td>\n",
       "      <td>pr697@upc.edu</td>\n",
       "      <td>1</td>\n",
       "      <td>POSC</td>\n",
       "      <td>2020 - 2021</td>\n",
       "    </tr>\n",
       "    <tr>\n",
       "      <th>1</th>\n",
       "      <td>Amy Stuart</td>\n",
       "      <td>420-928-0850</td>\n",
       "      <td>Unit 3129 Box 4601, DPO AE 32932</td>\n",
       "      <td>female</td>\n",
       "      <td>as753</td>\n",
       "      <td>as753@upc.edu</td>\n",
       "      <td>3</td>\n",
       "      <td>EDUC</td>\n",
       "      <td>2020 - 2021</td>\n",
       "    </tr>\n",
       "  </tbody>\n",
       "</table>\n",
       "</div>"
      ],
      "text/plain": [
       "            name         phone                                        address  \\\n",
       "0  Paula Roberts    9104455870  876 Cain Glens Apt. 103, Brendaview, VT 41974   \n",
       "1     Amy Stuart  420-928-0850               Unit 3129 Box 4601, DPO AE 32932   \n",
       "\n",
       "   gender student_id          email  year department   valid_year  \n",
       "0  female      pr697  pr697@upc.edu     1       POSC  2020 - 2021  \n",
       "1  female      as753  as753@upc.edu     3       EDUC  2020 - 2021  "
      ]
     },
     "execution_count": 1061,
     "metadata": {},
     "output_type": "execute_result"
    }
   ],
   "source": [
    "progressing['year'] = progressing['year'] - 1\n",
    "progressing['valid_year'] = '2020 - 2021'\n",
    "progressing.head(2)"
   ]
  },
  {
   "cell_type": "code",
   "execution_count": 1062,
   "metadata": {},
   "outputs": [],
   "source": [
    "progressing.to_csv(f'{PATH}/registry/progressing_2122.csv', index=None)"
   ]
  },
  {
   "cell_type": "markdown",
   "metadata": {},
   "source": [
    "Student graduating this year"
   ]
  },
  {
   "cell_type": "code",
   "execution_count": 1063,
   "metadata": {},
   "outputs": [
    {
     "data": {
      "text/plain": [
       "2100"
      ]
     },
     "execution_count": 1063,
     "metadata": {},
     "output_type": "execute_result"
    }
   ],
   "source": [
    "n_grad = all_2122[all_2122['year'] == 4].shape[0] + random.randint(-100, 50)\n",
    "n_grad"
   ]
  },
  {
   "cell_type": "code",
   "execution_count": 1064,
   "metadata": {},
   "outputs": [
    {
     "data": {
      "text/html": [
       "<div>\n",
       "<style scoped>\n",
       "    .dataframe tbody tr th:only-of-type {\n",
       "        vertical-align: middle;\n",
       "    }\n",
       "\n",
       "    .dataframe tbody tr th {\n",
       "        vertical-align: top;\n",
       "    }\n",
       "\n",
       "    .dataframe thead th {\n",
       "        text-align: right;\n",
       "    }\n",
       "</style>\n",
       "<table border=\"1\" class=\"dataframe\">\n",
       "  <thead>\n",
       "    <tr style=\"text-align: right;\">\n",
       "      <th></th>\n",
       "      <th>name</th>\n",
       "      <th>phone</th>\n",
       "      <th>address</th>\n",
       "      <th>gender</th>\n",
       "      <th>student_id</th>\n",
       "      <th>email</th>\n",
       "      <th>year</th>\n",
       "    </tr>\n",
       "  </thead>\n",
       "  <tbody>\n",
       "    <tr>\n",
       "      <th>0</th>\n",
       "      <td>Andrew Campbell</td>\n",
       "      <td>692-433-7092x8926</td>\n",
       "      <td>6747 Evan Glens Suite 088, East Shawn, MO 68821</td>\n",
       "      <td>male</td>\n",
       "      <td>None</td>\n",
       "      <td>None</td>\n",
       "      <td>4</td>\n",
       "    </tr>\n",
       "    <tr>\n",
       "      <th>1</th>\n",
       "      <td>Clifford Jordan</td>\n",
       "      <td>+1-308-688-4317x98783</td>\n",
       "      <td>70393 Alvarez Loaf, West Lauramouth, MA 41661</td>\n",
       "      <td>male</td>\n",
       "      <td>None</td>\n",
       "      <td>None</td>\n",
       "      <td>4</td>\n",
       "    </tr>\n",
       "    <tr>\n",
       "      <th>2</th>\n",
       "      <td>Anita Moore</td>\n",
       "      <td>+1-471-554-6437x156</td>\n",
       "      <td>9035 Jill Coves Apt. 689, Scottchester, AS 57859</td>\n",
       "      <td>female</td>\n",
       "      <td>None</td>\n",
       "      <td>None</td>\n",
       "      <td>4</td>\n",
       "    </tr>\n",
       "    <tr>\n",
       "      <th>3</th>\n",
       "      <td>Karen Andersen</td>\n",
       "      <td>+1-865-814-3111x1487</td>\n",
       "      <td>491 Edward Crossing Suite 110, Oliverborough, ...</td>\n",
       "      <td>female</td>\n",
       "      <td>None</td>\n",
       "      <td>None</td>\n",
       "      <td>4</td>\n",
       "    </tr>\n",
       "    <tr>\n",
       "      <th>4</th>\n",
       "      <td>Teresa Anderson</td>\n",
       "      <td>8168574596</td>\n",
       "      <td>Unit 8930 Box 3049, DPO AE 03209</td>\n",
       "      <td>female</td>\n",
       "      <td>None</td>\n",
       "      <td>None</td>\n",
       "      <td>4</td>\n",
       "    </tr>\n",
       "  </tbody>\n",
       "</table>\n",
       "</div>"
      ],
      "text/plain": [
       "              name                  phone  \\\n",
       "0  Andrew Campbell      692-433-7092x8926   \n",
       "1  Clifford Jordan  +1-308-688-4317x98783   \n",
       "2      Anita Moore    +1-471-554-6437x156   \n",
       "3   Karen Andersen   +1-865-814-3111x1487   \n",
       "4  Teresa Anderson             8168574596   \n",
       "\n",
       "                                             address  gender student_id email  \\\n",
       "0    6747 Evan Glens Suite 088, East Shawn, MO 68821    male       None  None   \n",
       "1      70393 Alvarez Loaf, West Lauramouth, MA 41661    male       None  None   \n",
       "2   9035 Jill Coves Apt. 689, Scottchester, AS 57859  female       None  None   \n",
       "3  491 Edward Crossing Suite 110, Oliverborough, ...  female       None  None   \n",
       "4                   Unit 8930 Box 3049, DPO AE 03209  female       None  None   \n",
       "\n",
       "   year  \n",
       "0     4  \n",
       "1     4  \n",
       "2     4  \n",
       "3     4  \n",
       "4     4  "
      ]
     },
     "execution_count": 1064,
     "metadata": {},
     "output_type": "execute_result"
    }
   ],
   "source": [
    "grad_2021 = []\n",
    "for i in range(n_grad):\n",
    "    if random.random() >= 0.5:\n",
    "        full_name = faker.first_name_female() + ' ' + faker.last_name()\n",
    "        gender = 'female'\n",
    "    else:\n",
    "        full_name = faker.first_name_male() + ' ' + faker.last_name()\n",
    "        gender = 'male'\n",
    "    phone = faker.phone_number()\n",
    "    addr = faker.address().replace('\\n', ', ')\n",
    "    grad_2021.append({\n",
    "        'name': full_name,\n",
    "        'phone': phone,\n",
    "        'address': addr,\n",
    "        'gender': gender,\n",
    "        'student_id': None,\n",
    "        'email': None,\n",
    "        'year': 4\n",
    "    })\n",
    "\n",
    "grad_2021_df = pd.DataFrame.from_records(grad_2021)\n",
    "grad_2021_df.head()"
   ]
  },
  {
   "cell_type": "code",
   "execution_count": 1065,
   "metadata": {},
   "outputs": [],
   "source": [
    "grad_2021_df['department'] = np.random.choice(dept_count.index, size=n_grad, p=dept_count.values)\n",
    "grad_2021_df['valid_year'] = '2020 - 2021'\n",
    "grad_2021_df['grad_year'] = '2020 - 2021'\n",
    "grad_2021_df.to_csv(f'{PATH}/registry/grad_2021.csv', index=None)"
   ]
  },
  {
   "cell_type": "markdown",
   "metadata": {},
   "source": [
    "Students dropping out this year"
   ]
  },
  {
   "cell_type": "code",
   "execution_count": 1066,
   "metadata": {},
   "outputs": [
    {
     "data": {
      "text/plain": [
       "110"
      ]
     },
     "execution_count": 1066,
     "metadata": {},
     "output_type": "execute_result"
    }
   ],
   "source": [
    "n_dropout = 100 + random.randint(-20, 40)\n",
    "n_dropout"
   ]
  },
  {
   "cell_type": "code",
   "execution_count": 1067,
   "metadata": {},
   "outputs": [],
   "source": [
    "dropout_2021 = []\n",
    "for i in range(n_dropout):\n",
    "    if random.random() >= 0.5:\n",
    "        full_name = faker.first_name_female() + ' ' + faker.last_name()\n",
    "        gender = 'female'\n",
    "    else:\n",
    "        full_name = faker.first_name_male() + ' ' + faker.last_name()\n",
    "        gender = 'male'\n",
    "    phone = faker.phone_number()\n",
    "    addr = faker.address().replace('\\n', ', ')\n",
    "    dropout_2021.append({\n",
    "        'name': full_name,\n",
    "        'phone': phone,\n",
    "        'address': addr,\n",
    "        'gender': gender,\n",
    "        'student_id': None,\n",
    "        'email': None\n",
    "    })\n",
    "\n",
    "dropout_2021_df = pd.DataFrame.from_records(dropout_2021)"
   ]
  },
  {
   "cell_type": "code",
   "execution_count": 1068,
   "metadata": {},
   "outputs": [
    {
     "data": {
      "text/html": [
       "<div>\n",
       "<style scoped>\n",
       "    .dataframe tbody tr th:only-of-type {\n",
       "        vertical-align: middle;\n",
       "    }\n",
       "\n",
       "    .dataframe tbody tr th {\n",
       "        vertical-align: top;\n",
       "    }\n",
       "\n",
       "    .dataframe thead th {\n",
       "        text-align: right;\n",
       "    }\n",
       "</style>\n",
       "<table border=\"1\" class=\"dataframe\">\n",
       "  <thead>\n",
       "    <tr style=\"text-align: right;\">\n",
       "      <th></th>\n",
       "      <th>name</th>\n",
       "      <th>phone</th>\n",
       "      <th>address</th>\n",
       "      <th>gender</th>\n",
       "      <th>student_id</th>\n",
       "      <th>email</th>\n",
       "      <th>year</th>\n",
       "      <th>department</th>\n",
       "      <th>valid_year</th>\n",
       "      <th>dropout_year</th>\n",
       "    </tr>\n",
       "  </thead>\n",
       "  <tbody>\n",
       "    <tr>\n",
       "      <th>0</th>\n",
       "      <td>Vanessa Peterson</td>\n",
       "      <td>+1-290-238-9916x081</td>\n",
       "      <td>220 Edward Squares, Lake Andrew, OR 30408</td>\n",
       "      <td>female</td>\n",
       "      <td>None</td>\n",
       "      <td>None</td>\n",
       "      <td>2</td>\n",
       "      <td>EDUC</td>\n",
       "      <td>2020 - 2021</td>\n",
       "      <td>2020 - 2021</td>\n",
       "    </tr>\n",
       "    <tr>\n",
       "      <th>1</th>\n",
       "      <td>Christopher Tate</td>\n",
       "      <td>+1-537-767-6289x783</td>\n",
       "      <td>02815 Christopher Port, North Shirleystad, MD ...</td>\n",
       "      <td>male</td>\n",
       "      <td>None</td>\n",
       "      <td>None</td>\n",
       "      <td>4</td>\n",
       "      <td>ENGL</td>\n",
       "      <td>2020 - 2021</td>\n",
       "      <td>2020 - 2021</td>\n",
       "    </tr>\n",
       "  </tbody>\n",
       "</table>\n",
       "</div>"
      ],
      "text/plain": [
       "               name                phone  \\\n",
       "0  Vanessa Peterson  +1-290-238-9916x081   \n",
       "1  Christopher Tate  +1-537-767-6289x783   \n",
       "\n",
       "                                             address  gender student_id email  \\\n",
       "0          220 Edward Squares, Lake Andrew, OR 30408  female       None  None   \n",
       "1  02815 Christopher Port, North Shirleystad, MD ...    male       None  None   \n",
       "\n",
       "   year department   valid_year dropout_year  \n",
       "0     2       EDUC  2020 - 2021  2020 - 2021  \n",
       "1     4       ENGL  2020 - 2021  2020 - 2021  "
      ]
     },
     "execution_count": 1068,
     "metadata": {},
     "output_type": "execute_result"
    }
   ],
   "source": [
    "dropout_2021_df['year'] = np.random.choice(year_count.index, size=n_dropout, p=year_count.values)\n",
    "dropout_2021_df['department'] = np.random.choice(dept_count.index, size=n_dropout, p=dept_count.values)\n",
    "dropout_2021_df['valid_year'] = '2020 - 2021'\n",
    "dropout_2021_df['dropout_year'] = '2020 - 2021'\n",
    "dropout_2021_df.head(2)"
   ]
  },
  {
   "cell_type": "code",
   "execution_count": 1069,
   "metadata": {},
   "outputs": [],
   "source": [
    "dropout_2021_df.to_csv(f'{PATH}/registry/dropout_2021.csv', index=None)"
   ]
  },
  {
   "cell_type": "markdown",
   "metadata": {},
   "source": [
    "Students returning from LOA"
   ]
  },
  {
   "cell_type": "code",
   "execution_count": 1070,
   "metadata": {},
   "outputs": [
    {
     "data": {
      "text/plain": [
       "145"
      ]
     },
     "execution_count": 1070,
     "metadata": {},
     "output_type": "execute_result"
    }
   ],
   "source": [
    "n_loa_return = 150 + random.randint(-10, 10)\n",
    "n_loa_return"
   ]
  },
  {
   "cell_type": "code",
   "execution_count": 1071,
   "metadata": {},
   "outputs": [
    {
     "data": {
      "text/plain": [
       "(6544, 9)"
      ]
     },
     "execution_count": 1071,
     "metadata": {},
     "output_type": "execute_result"
    }
   ],
   "source": [
    "valid_2021 = pd.concat([progressing, repeating], ignore_index=True)\n",
    "valid_2021.shape"
   ]
  },
  {
   "cell_type": "code",
   "execution_count": 1072,
   "metadata": {},
   "outputs": [],
   "source": [
    "valid_2021 = valid_2021[valid_2021['year'] > 1]"
   ]
  },
  {
   "cell_type": "code",
   "execution_count": 1073,
   "metadata": {},
   "outputs": [
    {
     "data": {
      "text/html": [
       "<div>\n",
       "<style scoped>\n",
       "    .dataframe tbody tr th:only-of-type {\n",
       "        vertical-align: middle;\n",
       "    }\n",
       "\n",
       "    .dataframe tbody tr th {\n",
       "        vertical-align: top;\n",
       "    }\n",
       "\n",
       "    .dataframe thead th {\n",
       "        text-align: right;\n",
       "    }\n",
       "</style>\n",
       "<table border=\"1\" class=\"dataframe\">\n",
       "  <thead>\n",
       "    <tr style=\"text-align: right;\">\n",
       "      <th></th>\n",
       "      <th>name</th>\n",
       "      <th>phone</th>\n",
       "      <th>address</th>\n",
       "      <th>gender</th>\n",
       "      <th>student_id</th>\n",
       "      <th>email</th>\n",
       "      <th>year</th>\n",
       "      <th>department</th>\n",
       "      <th>valid_year</th>\n",
       "    </tr>\n",
       "  </thead>\n",
       "  <tbody>\n",
       "    <tr>\n",
       "      <th>4606</th>\n",
       "      <td>Christine Davis</td>\n",
       "      <td>519.222.5836x9859</td>\n",
       "      <td>04061 Russell Plaza, Mandyfurt, MN 57614</td>\n",
       "      <td>female</td>\n",
       "      <td>cd908</td>\n",
       "      <td>cd908@upc.edu</td>\n",
       "      <td>3</td>\n",
       "      <td>GERM</td>\n",
       "      <td>2020 - 2021</td>\n",
       "    </tr>\n",
       "    <tr>\n",
       "      <th>4765</th>\n",
       "      <td>Dylan Barr</td>\n",
       "      <td>+1-963-811-5161x4406</td>\n",
       "      <td>40559 Brandy Brook, West Steven, ME 04724</td>\n",
       "      <td>male</td>\n",
       "      <td>db681</td>\n",
       "      <td>db681@upc.edu</td>\n",
       "      <td>3</td>\n",
       "      <td>ARTS</td>\n",
       "      <td>2020 - 2021</td>\n",
       "    </tr>\n",
       "  </tbody>\n",
       "</table>\n",
       "</div>"
      ],
      "text/plain": [
       "                 name                 phone  \\\n",
       "4606  Christine Davis     519.222.5836x9859   \n",
       "4765       Dylan Barr  +1-963-811-5161x4406   \n",
       "\n",
       "                                        address  gender student_id  \\\n",
       "4606   04061 Russell Plaza, Mandyfurt, MN 57614  female      cd908   \n",
       "4765  40559 Brandy Brook, West Steven, ME 04724    male      db681   \n",
       "\n",
       "              email  year department   valid_year  \n",
       "4606  cd908@upc.edu     3       GERM  2020 - 2021  \n",
       "4765  db681@upc.edu     3       ARTS  2020 - 2021  "
      ]
     },
     "execution_count": 1073,
     "metadata": {},
     "output_type": "execute_result"
    }
   ],
   "source": [
    "loa_return_2021_df = valid_2021.sample(n=n_loa_return, random_state=0)\n",
    "loa_return_2021_df.head(2)"
   ]
  },
  {
   "cell_type": "code",
   "execution_count": 1074,
   "metadata": {},
   "outputs": [
    {
     "data": {
      "text/plain": [
       "3    77\n",
       "2    68\n",
       "Name: year, dtype: int64"
      ]
     },
     "execution_count": 1074,
     "metadata": {},
     "output_type": "execute_result"
    }
   ],
   "source": [
    "loa_return_2021_df['year'].value_counts()"
   ]
  },
  {
   "cell_type": "code",
   "execution_count": 1075,
   "metadata": {},
   "outputs": [],
   "source": [
    "loa_return_2021_df['return_year'] = '2020 - 2021'\n",
    "loa_return_2021_df['loa_year'] = '2018 - 2019'\n",
    "loa_return_2021_df.to_csv(f'{PATH}/registry/loa_return_2021.csv', index=None)"
   ]
  },
  {
   "cell_type": "markdown",
   "metadata": {},
   "source": [
    "Students taking LOA after this year"
   ]
  },
  {
   "cell_type": "code",
   "execution_count": 1076,
   "metadata": {},
   "outputs": [
    {
     "name": "stdout",
     "output_type": "stream",
     "text": [
      "(146, 11)\n"
     ]
    },
    {
     "data": {
      "text/html": [
       "<div>\n",
       "<style scoped>\n",
       "    .dataframe tbody tr th:only-of-type {\n",
       "        vertical-align: middle;\n",
       "    }\n",
       "\n",
       "    .dataframe tbody tr th {\n",
       "        vertical-align: top;\n",
       "    }\n",
       "\n",
       "    .dataframe thead th {\n",
       "        text-align: right;\n",
       "    }\n",
       "</style>\n",
       "<table border=\"1\" class=\"dataframe\">\n",
       "  <thead>\n",
       "    <tr style=\"text-align: right;\">\n",
       "      <th></th>\n",
       "      <th>name</th>\n",
       "      <th>phone</th>\n",
       "      <th>address</th>\n",
       "      <th>gender</th>\n",
       "      <th>student_id</th>\n",
       "      <th>email</th>\n",
       "      <th>year</th>\n",
       "      <th>department</th>\n",
       "      <th>valid_year</th>\n",
       "      <th>return_year</th>\n",
       "      <th>loa_year</th>\n",
       "    </tr>\n",
       "  </thead>\n",
       "  <tbody>\n",
       "    <tr>\n",
       "      <th>0</th>\n",
       "      <td>Robert Mcdonald</td>\n",
       "      <td>8389727867</td>\n",
       "      <td>15510 Steven Grove Apt. 499, South Theresaport...</td>\n",
       "      <td>male</td>\n",
       "      <td>rm331</td>\n",
       "      <td>rm331@upc.edu</td>\n",
       "      <td>2</td>\n",
       "      <td>RELG</td>\n",
       "      <td>2020 - 2021</td>\n",
       "      <td>2022 - 2023</td>\n",
       "      <td>2020 - 2021</td>\n",
       "    </tr>\n",
       "    <tr>\n",
       "      <th>1</th>\n",
       "      <td>Bradley Marshall</td>\n",
       "      <td>9312151018</td>\n",
       "      <td>Unit 2184 Box 1467, DPO AA 04247</td>\n",
       "      <td>male</td>\n",
       "      <td>bm863</td>\n",
       "      <td>bm863@upc.edu</td>\n",
       "      <td>1</td>\n",
       "      <td>EDUC</td>\n",
       "      <td>2020 - 2021</td>\n",
       "      <td>2022 - 2023</td>\n",
       "      <td>2020 - 2021</td>\n",
       "    </tr>\n",
       "  </tbody>\n",
       "</table>\n",
       "</div>"
      ],
      "text/plain": [
       "               name       phone  \\\n",
       "0   Robert Mcdonald  8389727867   \n",
       "1  Bradley Marshall  9312151018   \n",
       "\n",
       "                                             address gender student_id  \\\n",
       "0  15510 Steven Grove Apt. 499, South Theresaport...   male      rm331   \n",
       "1                   Unit 2184 Box 1467, DPO AA 04247   male      bm863   \n",
       "\n",
       "           email  year department   valid_year  return_year     loa_year  \n",
       "0  rm331@upc.edu     2       RELG  2020 - 2021  2022 - 2023  2020 - 2021  \n",
       "1  bm863@upc.edu     1       EDUC  2020 - 2021  2022 - 2023  2020 - 2021  "
      ]
     },
     "execution_count": 1076,
     "metadata": {},
     "output_type": "execute_result"
    }
   ],
   "source": [
    "loa_after_2021_df = pd.read_csv(f'{PATH}/registry/loa_return_2223.csv')\n",
    "loa_after_2021_df['valid_year'] = '2020 - 2021'\n",
    "loa_after_2021_df['year'] -= 1\n",
    "print(loa_after_2021_df.shape)\n",
    "loa_after_2021_df.head(2)"
   ]
  },
  {
   "cell_type": "code",
   "execution_count": 1077,
   "metadata": {},
   "outputs": [
    {
     "data": {
      "text/plain": [
       "1    79\n",
       "2    67\n",
       "Name: year, dtype: int64"
      ]
     },
     "execution_count": 1077,
     "metadata": {},
     "output_type": "execute_result"
    }
   ],
   "source": [
    "loa_after_2021_df['year'].value_counts()"
   ]
  },
  {
   "cell_type": "markdown",
   "metadata": {},
   "source": [
    "Students valid in 2020 - 2021"
   ]
  },
  {
   "cell_type": "code",
   "execution_count": 1078,
   "metadata": {},
   "outputs": [],
   "source": [
    "dropout_2021_df_2 = dropout_2021_df.copy()\n",
    "dropout_2021_df_2 = dropout_2021_df_2.drop(columns=['dropout_year'], axis=1)\n",
    "\n",
    "grad_2021_df_2 = grad_2021_df.copy()\n",
    "grad_2021_df_2 = grad_2021_df_2.drop(columns=['grad_year'], axis=1)\n",
    "\n",
    "loa_return_2021_df_2 = loa_return_2021_df.copy()\n",
    "loa_return_2021_df_2 = loa_return_2021_df_2.drop(columns=['loa_year', 'return_year'], axis=1)\n",
    "\n",
    "loa_after_2021_df_2 = loa_after_2021_df.copy()\n",
    "loa_after_2021_df_2 = loa_after_2021_df_2.drop(columns=['loa_year', 'return_year'], axis=1)"
   ]
  },
  {
   "cell_type": "code",
   "execution_count": 1079,
   "metadata": {},
   "outputs": [
    {
     "name": "stdout",
     "output_type": "stream",
     "text": [
      "(8900, 9)\n"
     ]
    },
    {
     "data": {
      "text/html": [
       "<div>\n",
       "<style scoped>\n",
       "    .dataframe tbody tr th:only-of-type {\n",
       "        vertical-align: middle;\n",
       "    }\n",
       "\n",
       "    .dataframe tbody tr th {\n",
       "        vertical-align: top;\n",
       "    }\n",
       "\n",
       "    .dataframe thead th {\n",
       "        text-align: right;\n",
       "    }\n",
       "</style>\n",
       "<table border=\"1\" class=\"dataframe\">\n",
       "  <thead>\n",
       "    <tr style=\"text-align: right;\">\n",
       "      <th></th>\n",
       "      <th>name</th>\n",
       "      <th>phone</th>\n",
       "      <th>address</th>\n",
       "      <th>gender</th>\n",
       "      <th>student_id</th>\n",
       "      <th>email</th>\n",
       "      <th>year</th>\n",
       "      <th>department</th>\n",
       "      <th>valid_year</th>\n",
       "    </tr>\n",
       "  </thead>\n",
       "  <tbody>\n",
       "    <tr>\n",
       "      <th>0</th>\n",
       "      <td>Thomas Ramirez</td>\n",
       "      <td>(525)678-8873</td>\n",
       "      <td>9593 Jason Fort, South Susanville, DC 20328</td>\n",
       "      <td>male</td>\n",
       "      <td>tr739</td>\n",
       "      <td>tr739@upc.edu</td>\n",
       "      <td>2</td>\n",
       "      <td>ENST</td>\n",
       "      <td>2020 - 2021</td>\n",
       "    </tr>\n",
       "    <tr>\n",
       "      <th>1</th>\n",
       "      <td>Carlos Kelley</td>\n",
       "      <td>+1-348-941-7872x65651</td>\n",
       "      <td>442 Frank River Apt. 807, Youngport, AK 06556</td>\n",
       "      <td>male</td>\n",
       "      <td>ck353</td>\n",
       "      <td>ck353@upc.edu</td>\n",
       "      <td>4</td>\n",
       "      <td>EEGS</td>\n",
       "      <td>2020 - 2021</td>\n",
       "    </tr>\n",
       "    <tr>\n",
       "      <th>2</th>\n",
       "      <td>Kelly Torres</td>\n",
       "      <td>001-603-426-7216</td>\n",
       "      <td>822 Rice Bypass, Lamview, AS 19659</td>\n",
       "      <td>female</td>\n",
       "      <td>kt266</td>\n",
       "      <td>kt266@upc.edu</td>\n",
       "      <td>2</td>\n",
       "      <td>ENGL</td>\n",
       "      <td>2020 - 2021</td>\n",
       "    </tr>\n",
       "    <tr>\n",
       "      <th>3</th>\n",
       "      <td>Kimberly Sandoval</td>\n",
       "      <td>+1-828-654-8450x36154</td>\n",
       "      <td>0151 Wiggins Parkway Suite 745, Lisabury, GU 3...</td>\n",
       "      <td>female</td>\n",
       "      <td>ks746</td>\n",
       "      <td>ks746@upc.edu</td>\n",
       "      <td>4</td>\n",
       "      <td>CLAS</td>\n",
       "      <td>2020 - 2021</td>\n",
       "    </tr>\n",
       "    <tr>\n",
       "      <th>4</th>\n",
       "      <td>Mark Mcdowell</td>\n",
       "      <td>4373296792</td>\n",
       "      <td>406 Patterson Throughway Suite 820, Juliafort,...</td>\n",
       "      <td>male</td>\n",
       "      <td>mm880</td>\n",
       "      <td>mm880@upc.edu</td>\n",
       "      <td>2</td>\n",
       "      <td>GERM</td>\n",
       "      <td>2020 - 2021</td>\n",
       "    </tr>\n",
       "  </tbody>\n",
       "</table>\n",
       "</div>"
      ],
      "text/plain": [
       "                name                  phone  \\\n",
       "0     Thomas Ramirez          (525)678-8873   \n",
       "1      Carlos Kelley  +1-348-941-7872x65651   \n",
       "2       Kelly Torres       001-603-426-7216   \n",
       "3  Kimberly Sandoval  +1-828-654-8450x36154   \n",
       "4      Mark Mcdowell             4373296792   \n",
       "\n",
       "                                             address  gender student_id  \\\n",
       "0        9593 Jason Fort, South Susanville, DC 20328    male      tr739   \n",
       "1      442 Frank River Apt. 807, Youngport, AK 06556    male      ck353   \n",
       "2                 822 Rice Bypass, Lamview, AS 19659  female      kt266   \n",
       "3  0151 Wiggins Parkway Suite 745, Lisabury, GU 3...  female      ks746   \n",
       "4  406 Patterson Throughway Suite 820, Juliafort,...    male      mm880   \n",
       "\n",
       "           email  year department   valid_year  \n",
       "0  tr739@upc.edu     2       ENST  2020 - 2021  \n",
       "1  ck353@upc.edu     4       EEGS  2020 - 2021  \n",
       "2  kt266@upc.edu     2       ENGL  2020 - 2021  \n",
       "3  ks746@upc.edu     4       CLAS  2020 - 2021  \n",
       "4  mm880@upc.edu     2       GERM  2020 - 2021  "
      ]
     },
     "execution_count": 1079,
     "metadata": {},
     "output_type": "execute_result"
    }
   ],
   "source": [
    "all_2021 = pd.concat([\n",
    "    repeating,\n",
    "    progressing,\n",
    "    dropout_2021_df_2,\n",
    "    grad_2021_df_2,\n",
    "    loa_after_2021_df_2\n",
    "], ignore_index=True)\n",
    "print(all_2021.shape)\n",
    "all_2021.head()"
   ]
  },
  {
   "cell_type": "code",
   "execution_count": 1080,
   "metadata": {},
   "outputs": [
    {
     "data": {
      "text/plain": [
       "1    2332\n",
       "2    2253\n",
       "3    2182\n",
       "4    2133\n",
       "Name: year, dtype: int64"
      ]
     },
     "execution_count": 1080,
     "metadata": {},
     "output_type": "execute_result"
    }
   ],
   "source": [
    "all_2021['year'].value_counts()"
   ]
  },
  {
   "cell_type": "code",
   "execution_count": 1081,
   "metadata": {},
   "outputs": [
    {
     "data": {
      "text/plain": [
       "15867"
      ]
     },
     "execution_count": 1081,
     "metadata": {},
     "output_type": "execute_result"
    }
   ],
   "source": [
    "len(all_ids)"
   ]
  },
  {
   "cell_type": "code",
   "execution_count": 1082,
   "metadata": {},
   "outputs": [],
   "source": [
    "all_2021['student_id'] = all_2021.apply(lambda x: generate_student_id(x), axis=1)\n",
    "all_2021['email'] = all_2021.apply(lambda x: generate_email(x), axis=1)"
   ]
  },
  {
   "cell_type": "code",
   "execution_count": 1083,
   "metadata": {},
   "outputs": [],
   "source": [
    "all_2021.to_csv(f'{PATH}/registry/all_2021.csv', index=None)"
   ]
  },
  {
   "cell_type": "markdown",
   "metadata": {},
   "source": [
    "# 2019 - 2020"
   ]
  },
  {
   "cell_type": "code",
   "execution_count": 1084,
   "metadata": {},
   "outputs": [
    {
     "data": {
      "text/plain": [
       "(6568, 9)"
      ]
     },
     "execution_count": 1084,
     "metadata": {},
     "output_type": "execute_result"
    }
   ],
   "source": [
    "upperclass = all_2021[all_2021['year'] > 1]\n",
    "upperclass.shape"
   ]
  },
  {
   "cell_type": "code",
   "execution_count": 1085,
   "metadata": {},
   "outputs": [
    {
     "name": "stdout",
     "output_type": "stream",
     "text": [
      "(145, 11)\n"
     ]
    },
    {
     "data": {
      "text/html": [
       "<div>\n",
       "<style scoped>\n",
       "    .dataframe tbody tr th:only-of-type {\n",
       "        vertical-align: middle;\n",
       "    }\n",
       "\n",
       "    .dataframe tbody tr th {\n",
       "        vertical-align: top;\n",
       "    }\n",
       "\n",
       "    .dataframe thead th {\n",
       "        text-align: right;\n",
       "    }\n",
       "</style>\n",
       "<table border=\"1\" class=\"dataframe\">\n",
       "  <thead>\n",
       "    <tr style=\"text-align: right;\">\n",
       "      <th></th>\n",
       "      <th>name</th>\n",
       "      <th>phone</th>\n",
       "      <th>address</th>\n",
       "      <th>gender</th>\n",
       "      <th>student_id</th>\n",
       "      <th>email</th>\n",
       "      <th>year</th>\n",
       "      <th>department</th>\n",
       "      <th>valid_year</th>\n",
       "      <th>return_year</th>\n",
       "      <th>loa_year</th>\n",
       "    </tr>\n",
       "  </thead>\n",
       "  <tbody>\n",
       "    <tr>\n",
       "      <th>4606</th>\n",
       "      <td>Christine Davis</td>\n",
       "      <td>519.222.5836x9859</td>\n",
       "      <td>04061 Russell Plaza, Mandyfurt, MN 57614</td>\n",
       "      <td>female</td>\n",
       "      <td>cd908</td>\n",
       "      <td>cd908@upc.edu</td>\n",
       "      <td>3</td>\n",
       "      <td>GERM</td>\n",
       "      <td>2020 - 2021</td>\n",
       "      <td>2020 - 2021</td>\n",
       "      <td>2018 - 2019</td>\n",
       "    </tr>\n",
       "    <tr>\n",
       "      <th>4765</th>\n",
       "      <td>Dylan Barr</td>\n",
       "      <td>+1-963-811-5161x4406</td>\n",
       "      <td>40559 Brandy Brook, West Steven, ME 04724</td>\n",
       "      <td>male</td>\n",
       "      <td>db681</td>\n",
       "      <td>db681@upc.edu</td>\n",
       "      <td>3</td>\n",
       "      <td>ARTS</td>\n",
       "      <td>2020 - 2021</td>\n",
       "      <td>2020 - 2021</td>\n",
       "      <td>2018 - 2019</td>\n",
       "    </tr>\n",
       "  </tbody>\n",
       "</table>\n",
       "</div>"
      ],
      "text/plain": [
       "                 name                 phone  \\\n",
       "4606  Christine Davis     519.222.5836x9859   \n",
       "4765       Dylan Barr  +1-963-811-5161x4406   \n",
       "\n",
       "                                        address  gender student_id  \\\n",
       "4606   04061 Russell Plaza, Mandyfurt, MN 57614  female      cd908   \n",
       "4765  40559 Brandy Brook, West Steven, ME 04724    male      db681   \n",
       "\n",
       "              email  year department   valid_year  return_year     loa_year  \n",
       "4606  cd908@upc.edu     3       GERM  2020 - 2021  2020 - 2021  2018 - 2019  \n",
       "4765  db681@upc.edu     3       ARTS  2020 - 2021  2020 - 2021  2018 - 2019  "
      ]
     },
     "execution_count": 1085,
     "metadata": {},
     "output_type": "execute_result"
    }
   ],
   "source": [
    "print(loa_return_2021_df.shape)\n",
    "loa_return_2021_df.head(2)"
   ]
  },
  {
   "cell_type": "code",
   "execution_count": 1086,
   "metadata": {},
   "outputs": [
    {
     "data": {
      "text/plain": [
       "(6423, 9)"
      ]
     },
     "execution_count": 1086,
     "metadata": {},
     "output_type": "execute_result"
    }
   ],
   "source": [
    "upperclass = upperclass[~upperclass['student_id'].isin(loa_return_2021_df['student_id'])]\n",
    "upperclass.shape"
   ]
  },
  {
   "cell_type": "code",
   "execution_count": 1087,
   "metadata": {},
   "outputs": [
    {
     "data": {
      "text/plain": [
       "(32, 9)"
      ]
     },
     "execution_count": 1087,
     "metadata": {},
     "output_type": "execute_result"
    }
   ],
   "source": [
    "repeating = upperclass.sample(n=30 + random.randint(-10, 10), random_state=0)\n",
    "repeating.shape"
   ]
  },
  {
   "cell_type": "code",
   "execution_count": 1088,
   "metadata": {},
   "outputs": [],
   "source": [
    "repeating['repeating_year'] = '2020 - 2021'\n",
    "repeating['valid_year'] = '2019 - 2020'"
   ]
  },
  {
   "cell_type": "code",
   "execution_count": 1089,
   "metadata": {},
   "outputs": [],
   "source": [
    "repeating.to_csv(f'{PATH}/registry/repeating_2021.csv', index=None)\n",
    "repeating = repeating.drop(columns=['repeating_year'], axis=1)"
   ]
  },
  {
   "cell_type": "code",
   "execution_count": 1090,
   "metadata": {},
   "outputs": [
    {
     "data": {
      "text/plain": [
       "(6391, 9)"
      ]
     },
     "execution_count": 1090,
     "metadata": {},
     "output_type": "execute_result"
    }
   ],
   "source": [
    "progressing = upperclass[~upperclass['student_id'].isin(repeating['student_id'])]\n",
    "progressing.shape"
   ]
  },
  {
   "cell_type": "code",
   "execution_count": 1091,
   "metadata": {},
   "outputs": [
    {
     "data": {
      "text/plain": [
       "2    2175\n",
       "4    2121\n",
       "3    2095\n",
       "Name: year, dtype: int64"
      ]
     },
     "execution_count": 1091,
     "metadata": {},
     "output_type": "execute_result"
    }
   ],
   "source": [
    "progressing['year'].value_counts()"
   ]
  },
  {
   "cell_type": "code",
   "execution_count": 1092,
   "metadata": {},
   "outputs": [
    {
     "name": "stderr",
     "output_type": "stream",
     "text": [
      "/var/folders/2l/srpzk4jx3bd_85xnzblspysc0000gn/T/ipykernel_39601/2303456022.py:1: SettingWithCopyWarning: \n",
      "A value is trying to be set on a copy of a slice from a DataFrame.\n",
      "Try using .loc[row_indexer,col_indexer] = value instead\n",
      "\n",
      "See the caveats in the documentation: https://pandas.pydata.org/pandas-docs/stable/user_guide/indexing.html#returning-a-view-versus-a-copy\n",
      "  progressing['year'] = progressing['year'] - 1\n",
      "/var/folders/2l/srpzk4jx3bd_85xnzblspysc0000gn/T/ipykernel_39601/2303456022.py:2: SettingWithCopyWarning: \n",
      "A value is trying to be set on a copy of a slice from a DataFrame.\n",
      "Try using .loc[row_indexer,col_indexer] = value instead\n",
      "\n",
      "See the caveats in the documentation: https://pandas.pydata.org/pandas-docs/stable/user_guide/indexing.html#returning-a-view-versus-a-copy\n",
      "  progressing['valid_year'] = '2019 - 2020'\n"
     ]
    },
    {
     "data": {
      "text/html": [
       "<div>\n",
       "<style scoped>\n",
       "    .dataframe tbody tr th:only-of-type {\n",
       "        vertical-align: middle;\n",
       "    }\n",
       "\n",
       "    .dataframe tbody tr th {\n",
       "        vertical-align: top;\n",
       "    }\n",
       "\n",
       "    .dataframe thead th {\n",
       "        text-align: right;\n",
       "    }\n",
       "</style>\n",
       "<table border=\"1\" class=\"dataframe\">\n",
       "  <thead>\n",
       "    <tr style=\"text-align: right;\">\n",
       "      <th></th>\n",
       "      <th>name</th>\n",
       "      <th>phone</th>\n",
       "      <th>address</th>\n",
       "      <th>gender</th>\n",
       "      <th>student_id</th>\n",
       "      <th>email</th>\n",
       "      <th>year</th>\n",
       "      <th>department</th>\n",
       "      <th>valid_year</th>\n",
       "    </tr>\n",
       "  </thead>\n",
       "  <tbody>\n",
       "    <tr>\n",
       "      <th>0</th>\n",
       "      <td>Thomas Ramirez</td>\n",
       "      <td>(525)678-8873</td>\n",
       "      <td>9593 Jason Fort, South Susanville, DC 20328</td>\n",
       "      <td>male</td>\n",
       "      <td>tr739</td>\n",
       "      <td>tr739@upc.edu</td>\n",
       "      <td>1</td>\n",
       "      <td>ENST</td>\n",
       "      <td>2019 - 2020</td>\n",
       "    </tr>\n",
       "    <tr>\n",
       "      <th>1</th>\n",
       "      <td>Carlos Kelley</td>\n",
       "      <td>+1-348-941-7872x65651</td>\n",
       "      <td>442 Frank River Apt. 807, Youngport, AK 06556</td>\n",
       "      <td>male</td>\n",
       "      <td>ck353</td>\n",
       "      <td>ck353@upc.edu</td>\n",
       "      <td>3</td>\n",
       "      <td>EEGS</td>\n",
       "      <td>2019 - 2020</td>\n",
       "    </tr>\n",
       "  </tbody>\n",
       "</table>\n",
       "</div>"
      ],
      "text/plain": [
       "             name                  phone  \\\n",
       "0  Thomas Ramirez          (525)678-8873   \n",
       "1   Carlos Kelley  +1-348-941-7872x65651   \n",
       "\n",
       "                                         address gender student_id  \\\n",
       "0    9593 Jason Fort, South Susanville, DC 20328   male      tr739   \n",
       "1  442 Frank River Apt. 807, Youngport, AK 06556   male      ck353   \n",
       "\n",
       "           email  year department   valid_year  \n",
       "0  tr739@upc.edu     1       ENST  2019 - 2020  \n",
       "1  ck353@upc.edu     3       EEGS  2019 - 2020  "
      ]
     },
     "execution_count": 1092,
     "metadata": {},
     "output_type": "execute_result"
    }
   ],
   "source": [
    "progressing['year'] = progressing['year'] - 1\n",
    "progressing['valid_year'] = '2019 - 2020'\n",
    "progressing.head(2)"
   ]
  },
  {
   "cell_type": "code",
   "execution_count": 1093,
   "metadata": {},
   "outputs": [],
   "source": [
    "progressing.to_csv(f'{PATH}/registry/progressing_2021.csv', index=None)"
   ]
  },
  {
   "cell_type": "code",
   "execution_count": 1094,
   "metadata": {},
   "outputs": [
    {
     "data": {
      "text/plain": [
       "2180"
      ]
     },
     "execution_count": 1094,
     "metadata": {},
     "output_type": "execute_result"
    }
   ],
   "source": [
    "n_grad = all_2021[all_2021['year'] == 4].shape[0] + random.randint(-100, 50)\n",
    "n_grad"
   ]
  },
  {
   "cell_type": "code",
   "execution_count": 1095,
   "metadata": {},
   "outputs": [
    {
     "data": {
      "text/html": [
       "<div>\n",
       "<style scoped>\n",
       "    .dataframe tbody tr th:only-of-type {\n",
       "        vertical-align: middle;\n",
       "    }\n",
       "\n",
       "    .dataframe tbody tr th {\n",
       "        vertical-align: top;\n",
       "    }\n",
       "\n",
       "    .dataframe thead th {\n",
       "        text-align: right;\n",
       "    }\n",
       "</style>\n",
       "<table border=\"1\" class=\"dataframe\">\n",
       "  <thead>\n",
       "    <tr style=\"text-align: right;\">\n",
       "      <th></th>\n",
       "      <th>name</th>\n",
       "      <th>phone</th>\n",
       "      <th>address</th>\n",
       "      <th>gender</th>\n",
       "      <th>student_id</th>\n",
       "      <th>email</th>\n",
       "      <th>year</th>\n",
       "    </tr>\n",
       "  </thead>\n",
       "  <tbody>\n",
       "    <tr>\n",
       "      <th>0</th>\n",
       "      <td>Dorothy Harris</td>\n",
       "      <td>001-799-325-7730x77683</td>\n",
       "      <td>2778 Lori Field Suite 465, Jacquelineshire, IL...</td>\n",
       "      <td>female</td>\n",
       "      <td>None</td>\n",
       "      <td>None</td>\n",
       "      <td>4</td>\n",
       "    </tr>\n",
       "    <tr>\n",
       "      <th>1</th>\n",
       "      <td>Tiffany Torres</td>\n",
       "      <td>+1-463-864-2320x21334</td>\n",
       "      <td>67009 Petersen Streets Suite 309, North Willia...</td>\n",
       "      <td>female</td>\n",
       "      <td>None</td>\n",
       "      <td>None</td>\n",
       "      <td>4</td>\n",
       "    </tr>\n",
       "    <tr>\n",
       "      <th>2</th>\n",
       "      <td>Renee Khan</td>\n",
       "      <td>792-460-4343</td>\n",
       "      <td>858 Lowe Glen Apt. 385, North Larry, NH 94742</td>\n",
       "      <td>female</td>\n",
       "      <td>None</td>\n",
       "      <td>None</td>\n",
       "      <td>4</td>\n",
       "    </tr>\n",
       "    <tr>\n",
       "      <th>3</th>\n",
       "      <td>Keith Nelson</td>\n",
       "      <td>821.691.6128x2808</td>\n",
       "      <td>5404 Massey Corners Apt. 020, Port Patriciache...</td>\n",
       "      <td>male</td>\n",
       "      <td>None</td>\n",
       "      <td>None</td>\n",
       "      <td>4</td>\n",
       "    </tr>\n",
       "    <tr>\n",
       "      <th>4</th>\n",
       "      <td>Danielle Jones</td>\n",
       "      <td>412-760-2361</td>\n",
       "      <td>9358 Brittany Forge Suite 339, Williamstown, O...</td>\n",
       "      <td>female</td>\n",
       "      <td>None</td>\n",
       "      <td>None</td>\n",
       "      <td>4</td>\n",
       "    </tr>\n",
       "  </tbody>\n",
       "</table>\n",
       "</div>"
      ],
      "text/plain": [
       "             name                   phone  \\\n",
       "0  Dorothy Harris  001-799-325-7730x77683   \n",
       "1  Tiffany Torres   +1-463-864-2320x21334   \n",
       "2      Renee Khan            792-460-4343   \n",
       "3    Keith Nelson       821.691.6128x2808   \n",
       "4  Danielle Jones            412-760-2361   \n",
       "\n",
       "                                             address  gender student_id email  \\\n",
       "0  2778 Lori Field Suite 465, Jacquelineshire, IL...  female       None  None   \n",
       "1  67009 Petersen Streets Suite 309, North Willia...  female       None  None   \n",
       "2      858 Lowe Glen Apt. 385, North Larry, NH 94742  female       None  None   \n",
       "3  5404 Massey Corners Apt. 020, Port Patriciache...    male       None  None   \n",
       "4  9358 Brittany Forge Suite 339, Williamstown, O...  female       None  None   \n",
       "\n",
       "   year  \n",
       "0     4  \n",
       "1     4  \n",
       "2     4  \n",
       "3     4  \n",
       "4     4  "
      ]
     },
     "execution_count": 1095,
     "metadata": {},
     "output_type": "execute_result"
    }
   ],
   "source": [
    "grad_1920 = []\n",
    "for i in range(n_grad):\n",
    "    if random.random() >= 0.5:\n",
    "        full_name = faker.first_name_female() + ' ' + faker.last_name()\n",
    "        gender = 'female'\n",
    "    else:\n",
    "        full_name = faker.first_name_male() + ' ' + faker.last_name()\n",
    "        gender = 'male'\n",
    "    phone = faker.phone_number()\n",
    "    addr = faker.address().replace('\\n', ', ')\n",
    "    grad_1920.append({\n",
    "        'name': full_name,\n",
    "        'phone': phone,\n",
    "        'address': addr,\n",
    "        'gender': gender,\n",
    "        'student_id': None,\n",
    "        'email': None,\n",
    "        'year': 4\n",
    "    })\n",
    "\n",
    "grad_1920_df = pd.DataFrame.from_records(grad_1920)\n",
    "grad_1920_df.head()"
   ]
  },
  {
   "cell_type": "code",
   "execution_count": 1096,
   "metadata": {},
   "outputs": [],
   "source": [
    "grad_1920_df['department'] = np.random.choice(dept_count.index, size=n_grad, p=dept_count.values)\n",
    "grad_1920_df['valid_year'] = '2019 - 2020'\n",
    "grad_1920_df['grad_year'] = '2019 - 2020'\n",
    "grad_1920_df.to_csv(f'{PATH}/registry/grad_1920.csv', index=None)"
   ]
  },
  {
   "cell_type": "code",
   "execution_count": 1097,
   "metadata": {},
   "outputs": [
    {
     "data": {
      "text/plain": [
       "96"
      ]
     },
     "execution_count": 1097,
     "metadata": {},
     "output_type": "execute_result"
    }
   ],
   "source": [
    "n_dropout = 100 + random.randint(-20, 40)\n",
    "n_dropout"
   ]
  },
  {
   "cell_type": "code",
   "execution_count": 1098,
   "metadata": {},
   "outputs": [],
   "source": [
    "dropout_1920 = []\n",
    "for i in range(n_dropout):\n",
    "    if random.random() >= 0.5:\n",
    "        full_name = faker.first_name_female() + ' ' + faker.last_name()\n",
    "        gender = 'female'\n",
    "    else:\n",
    "        full_name = faker.first_name_male() + ' ' + faker.last_name()\n",
    "        gender = 'male'\n",
    "    phone = faker.phone_number()\n",
    "    addr = faker.address().replace('\\n', ', ')\n",
    "    dropout_1920.append({\n",
    "        'name': full_name,\n",
    "        'phone': phone,\n",
    "        'address': addr,\n",
    "        'gender': gender,\n",
    "        'student_id': None,\n",
    "        'email': None\n",
    "    })\n",
    "\n",
    "dropout_1920_df = pd.DataFrame.from_records(dropout_1920)"
   ]
  },
  {
   "cell_type": "code",
   "execution_count": 1099,
   "metadata": {},
   "outputs": [
    {
     "data": {
      "text/html": [
       "<div>\n",
       "<style scoped>\n",
       "    .dataframe tbody tr th:only-of-type {\n",
       "        vertical-align: middle;\n",
       "    }\n",
       "\n",
       "    .dataframe tbody tr th {\n",
       "        vertical-align: top;\n",
       "    }\n",
       "\n",
       "    .dataframe thead th {\n",
       "        text-align: right;\n",
       "    }\n",
       "</style>\n",
       "<table border=\"1\" class=\"dataframe\">\n",
       "  <thead>\n",
       "    <tr style=\"text-align: right;\">\n",
       "      <th></th>\n",
       "      <th>name</th>\n",
       "      <th>phone</th>\n",
       "      <th>address</th>\n",
       "      <th>gender</th>\n",
       "      <th>student_id</th>\n",
       "      <th>email</th>\n",
       "      <th>year</th>\n",
       "      <th>department</th>\n",
       "      <th>valid_year</th>\n",
       "      <th>dropout_year</th>\n",
       "    </tr>\n",
       "  </thead>\n",
       "  <tbody>\n",
       "    <tr>\n",
       "      <th>0</th>\n",
       "      <td>Teresa Camacho</td>\n",
       "      <td>(470)881-0131</td>\n",
       "      <td>425 Jessica Fort Suite 954, East Johnfurt, DE ...</td>\n",
       "      <td>female</td>\n",
       "      <td>None</td>\n",
       "      <td>None</td>\n",
       "      <td>2</td>\n",
       "      <td>RELG</td>\n",
       "      <td>2019 - 2020</td>\n",
       "      <td>2019 - 2020</td>\n",
       "    </tr>\n",
       "    <tr>\n",
       "      <th>1</th>\n",
       "      <td>Natalie Evans</td>\n",
       "      <td>(822)273-4403x8207</td>\n",
       "      <td>465 Brown Shoal, East Kaylafurt, VT 39685</td>\n",
       "      <td>female</td>\n",
       "      <td>None</td>\n",
       "      <td>None</td>\n",
       "      <td>4</td>\n",
       "      <td>RMLL</td>\n",
       "      <td>2019 - 2020</td>\n",
       "      <td>2019 - 2020</td>\n",
       "    </tr>\n",
       "  </tbody>\n",
       "</table>\n",
       "</div>"
      ],
      "text/plain": [
       "             name               phone  \\\n",
       "0  Teresa Camacho       (470)881-0131   \n",
       "1   Natalie Evans  (822)273-4403x8207   \n",
       "\n",
       "                                             address  gender student_id email  \\\n",
       "0  425 Jessica Fort Suite 954, East Johnfurt, DE ...  female       None  None   \n",
       "1          465 Brown Shoal, East Kaylafurt, VT 39685  female       None  None   \n",
       "\n",
       "   year department   valid_year dropout_year  \n",
       "0     2       RELG  2019 - 2020  2019 - 2020  \n",
       "1     4       RMLL  2019 - 2020  2019 - 2020  "
      ]
     },
     "execution_count": 1099,
     "metadata": {},
     "output_type": "execute_result"
    }
   ],
   "source": [
    "dropout_1920_df['year'] = np.random.choice(year_count.index, size=n_dropout, p=year_count.values)\n",
    "dropout_1920_df['department'] = np.random.choice(dept_count.index, size=n_dropout, p=dept_count.values)\n",
    "dropout_1920_df['valid_year'] = '2019 - 2020'\n",
    "dropout_1920_df['dropout_year'] = '2019 - 2020'\n",
    "dropout_1920_df.head(2)"
   ]
  },
  {
   "cell_type": "code",
   "execution_count": 1100,
   "metadata": {},
   "outputs": [],
   "source": [
    "dropout_1920_df.to_csv(f'{PATH}/registry/dropout_1920.csv', index=None)"
   ]
  },
  {
   "cell_type": "code",
   "execution_count": 1101,
   "metadata": {},
   "outputs": [
    {
     "data": {
      "text/plain": [
       "156"
      ]
     },
     "execution_count": 1101,
     "metadata": {},
     "output_type": "execute_result"
    }
   ],
   "source": [
    "n_loa_return = 150 + random.randint(-10, 10)\n",
    "n_loa_return"
   ]
  },
  {
   "cell_type": "code",
   "execution_count": 1102,
   "metadata": {},
   "outputs": [
    {
     "data": {
      "text/plain": [
       "(6423, 9)"
      ]
     },
     "execution_count": 1102,
     "metadata": {},
     "output_type": "execute_result"
    }
   ],
   "source": [
    "valid_1920 = pd.concat([progressing, repeating], ignore_index=True)\n",
    "valid_1920.shape"
   ]
  },
  {
   "cell_type": "code",
   "execution_count": 1103,
   "metadata": {},
   "outputs": [],
   "source": [
    "valid_1920 = valid_1920[valid_1920['year'] > 1]"
   ]
  },
  {
   "cell_type": "code",
   "execution_count": 1104,
   "metadata": {},
   "outputs": [
    {
     "data": {
      "text/html": [
       "<div>\n",
       "<style scoped>\n",
       "    .dataframe tbody tr th:only-of-type {\n",
       "        vertical-align: middle;\n",
       "    }\n",
       "\n",
       "    .dataframe tbody tr th {\n",
       "        vertical-align: top;\n",
       "    }\n",
       "\n",
       "    .dataframe thead th {\n",
       "        text-align: right;\n",
       "    }\n",
       "</style>\n",
       "<table border=\"1\" class=\"dataframe\">\n",
       "  <thead>\n",
       "    <tr style=\"text-align: right;\">\n",
       "      <th></th>\n",
       "      <th>name</th>\n",
       "      <th>phone</th>\n",
       "      <th>address</th>\n",
       "      <th>gender</th>\n",
       "      <th>student_id</th>\n",
       "      <th>email</th>\n",
       "      <th>year</th>\n",
       "      <th>department</th>\n",
       "      <th>valid_year</th>\n",
       "    </tr>\n",
       "  </thead>\n",
       "  <tbody>\n",
       "    <tr>\n",
       "      <th>4780</th>\n",
       "      <td>Karen Leblanc</td>\n",
       "      <td>+1-986-825-3335x247</td>\n",
       "      <td>38883 Weber Forks, West Kristinahaven, NJ 72432</td>\n",
       "      <td>female</td>\n",
       "      <td>kl789</td>\n",
       "      <td>kl789@upc.edu</td>\n",
       "      <td>3</td>\n",
       "      <td>ARTS</td>\n",
       "      <td>2019 - 2020</td>\n",
       "    </tr>\n",
       "    <tr>\n",
       "      <th>3011</th>\n",
       "      <td>Jack Martin</td>\n",
       "      <td>655.579.3838x1715</td>\n",
       "      <td>828 Cox Ports Suite 573, Hardinside, AS 76408</td>\n",
       "      <td>male</td>\n",
       "      <td>jm917</td>\n",
       "      <td>jm917@upc.edu</td>\n",
       "      <td>2</td>\n",
       "      <td>RELG</td>\n",
       "      <td>2019 - 2020</td>\n",
       "    </tr>\n",
       "  </tbody>\n",
       "</table>\n",
       "</div>"
      ],
      "text/plain": [
       "               name                phone  \\\n",
       "4780  Karen Leblanc  +1-986-825-3335x247   \n",
       "3011    Jack Martin    655.579.3838x1715   \n",
       "\n",
       "                                              address  gender student_id  \\\n",
       "4780  38883 Weber Forks, West Kristinahaven, NJ 72432  female      kl789   \n",
       "3011    828 Cox Ports Suite 573, Hardinside, AS 76408    male      jm917   \n",
       "\n",
       "              email  year department   valid_year  \n",
       "4780  kl789@upc.edu     3       ARTS  2019 - 2020  \n",
       "3011  jm917@upc.edu     2       RELG  2019 - 2020  "
      ]
     },
     "execution_count": 1104,
     "metadata": {},
     "output_type": "execute_result"
    }
   ],
   "source": [
    "loa_return_1920_df = valid_1920.sample(n=n_loa_return, random_state=0)\n",
    "loa_return_1920_df.head(2)"
   ]
  },
  {
   "cell_type": "code",
   "execution_count": 1105,
   "metadata": {},
   "outputs": [
    {
     "data": {
      "text/plain": [
       "3    82\n",
       "2    74\n",
       "Name: year, dtype: int64"
      ]
     },
     "execution_count": 1105,
     "metadata": {},
     "output_type": "execute_result"
    }
   ],
   "source": [
    "loa_return_1920_df['year'].value_counts()"
   ]
  },
  {
   "cell_type": "code",
   "execution_count": 1106,
   "metadata": {},
   "outputs": [],
   "source": [
    "loa_return_1920_df['return_year'] = '2019 - 2020'\n",
    "loa_return_1920_df['loa_year'] = '2017 - 2018'\n",
    "loa_return_1920_df.to_csv(f'{PATH}/registry/loa_return_1920.csv', index=None)"
   ]
  },
  {
   "cell_type": "code",
   "execution_count": 1107,
   "metadata": {},
   "outputs": [
    {
     "name": "stdout",
     "output_type": "stream",
     "text": [
      "(159, 11)\n"
     ]
    },
    {
     "data": {
      "text/html": [
       "<div>\n",
       "<style scoped>\n",
       "    .dataframe tbody tr th:only-of-type {\n",
       "        vertical-align: middle;\n",
       "    }\n",
       "\n",
       "    .dataframe tbody tr th {\n",
       "        vertical-align: top;\n",
       "    }\n",
       "\n",
       "    .dataframe thead th {\n",
       "        text-align: right;\n",
       "    }\n",
       "</style>\n",
       "<table border=\"1\" class=\"dataframe\">\n",
       "  <thead>\n",
       "    <tr style=\"text-align: right;\">\n",
       "      <th></th>\n",
       "      <th>name</th>\n",
       "      <th>phone</th>\n",
       "      <th>address</th>\n",
       "      <th>gender</th>\n",
       "      <th>student_id</th>\n",
       "      <th>email</th>\n",
       "      <th>year</th>\n",
       "      <th>department</th>\n",
       "      <th>valid_year</th>\n",
       "      <th>return_year</th>\n",
       "      <th>loa_year</th>\n",
       "    </tr>\n",
       "  </thead>\n",
       "  <tbody>\n",
       "    <tr>\n",
       "      <th>0</th>\n",
       "      <td>John Allen</td>\n",
       "      <td>+1-202-563-9525x797</td>\n",
       "      <td>60535 Andre Parkways, Timothyport, MD 04753</td>\n",
       "      <td>male</td>\n",
       "      <td>ja975</td>\n",
       "      <td>ja975@upc.edu</td>\n",
       "      <td>1</td>\n",
       "      <td>ECON</td>\n",
       "      <td>2019 - 2020</td>\n",
       "      <td>2021 - 2022</td>\n",
       "      <td>2019 - 2020</td>\n",
       "    </tr>\n",
       "    <tr>\n",
       "      <th>1</th>\n",
       "      <td>Frances Decker</td>\n",
       "      <td>848-579-5752</td>\n",
       "      <td>560 Mclaughlin Mills Apt. 771, Alanhaven, VT 1...</td>\n",
       "      <td>female</td>\n",
       "      <td>fd397</td>\n",
       "      <td>fd397@upc.edu</td>\n",
       "      <td>2</td>\n",
       "      <td>ECON</td>\n",
       "      <td>2019 - 2020</td>\n",
       "      <td>2021 - 2022</td>\n",
       "      <td>2019 - 2020</td>\n",
       "    </tr>\n",
       "  </tbody>\n",
       "</table>\n",
       "</div>"
      ],
      "text/plain": [
       "             name                phone  \\\n",
       "0      John Allen  +1-202-563-9525x797   \n",
       "1  Frances Decker         848-579-5752   \n",
       "\n",
       "                                             address  gender student_id  \\\n",
       "0        60535 Andre Parkways, Timothyport, MD 04753    male      ja975   \n",
       "1  560 Mclaughlin Mills Apt. 771, Alanhaven, VT 1...  female      fd397   \n",
       "\n",
       "           email  year department   valid_year  return_year     loa_year  \n",
       "0  ja975@upc.edu     1       ECON  2019 - 2020  2021 - 2022  2019 - 2020  \n",
       "1  fd397@upc.edu     2       ECON  2019 - 2020  2021 - 2022  2019 - 2020  "
      ]
     },
     "execution_count": 1107,
     "metadata": {},
     "output_type": "execute_result"
    }
   ],
   "source": [
    "loa_after_1920_df = pd.read_csv(f'{PATH}/registry/loa_return_2122.csv')\n",
    "loa_after_1920_df['valid_year'] = '2019 - 2020'\n",
    "loa_after_1920_df['year'] -= 1\n",
    "print(loa_after_1920_df.shape)\n",
    "loa_after_1920_df.head(2)"
   ]
  },
  {
   "cell_type": "code",
   "execution_count": 1108,
   "metadata": {},
   "outputs": [
    {
     "data": {
      "text/plain": [
       "2    84\n",
       "1    75\n",
       "Name: year, dtype: int64"
      ]
     },
     "execution_count": 1108,
     "metadata": {},
     "output_type": "execute_result"
    }
   ],
   "source": [
    "loa_after_1920_df['year'].value_counts()"
   ]
  },
  {
   "cell_type": "code",
   "execution_count": 1109,
   "metadata": {},
   "outputs": [],
   "source": [
    "dropout_1920_df_2 = dropout_1920_df.copy()\n",
    "dropout_1920_df_2 = dropout_1920_df_2.drop(columns=['dropout_year'], axis=1)\n",
    "\n",
    "grad_1920_df_2 = grad_1920_df.copy()\n",
    "grad_1920_df_2 = grad_1920_df.drop(columns=['grad_year'], axis=1)\n",
    "\n",
    "loa_return_1920_df_2 = loa_return_1920_df.copy()\n",
    "loa_return_1920_df_2 = loa_return_1920_df_2.drop(columns=['loa_year', 'return_year'], axis=1)\n",
    "\n",
    "loa_after_1920_df_2 = loa_after_1920_df.copy()\n",
    "loa_after_1920_df_2 = loa_after_1920_df_2.drop(columns=['loa_year', 'return_year'], axis=1)"
   ]
  },
  {
   "cell_type": "code",
   "execution_count": 1110,
   "metadata": {},
   "outputs": [
    {
     "name": "stdout",
     "output_type": "stream",
     "text": [
      "(8858, 9)\n"
     ]
    },
    {
     "data": {
      "text/html": [
       "<div>\n",
       "<style scoped>\n",
       "    .dataframe tbody tr th:only-of-type {\n",
       "        vertical-align: middle;\n",
       "    }\n",
       "\n",
       "    .dataframe tbody tr th {\n",
       "        vertical-align: top;\n",
       "    }\n",
       "\n",
       "    .dataframe thead th {\n",
       "        text-align: right;\n",
       "    }\n",
       "</style>\n",
       "<table border=\"1\" class=\"dataframe\">\n",
       "  <thead>\n",
       "    <tr style=\"text-align: right;\">\n",
       "      <th></th>\n",
       "      <th>name</th>\n",
       "      <th>phone</th>\n",
       "      <th>address</th>\n",
       "      <th>gender</th>\n",
       "      <th>student_id</th>\n",
       "      <th>email</th>\n",
       "      <th>year</th>\n",
       "      <th>department</th>\n",
       "      <th>valid_year</th>\n",
       "    </tr>\n",
       "  </thead>\n",
       "  <tbody>\n",
       "    <tr>\n",
       "      <th>0</th>\n",
       "      <td>John Ramirez</td>\n",
       "      <td>517-852-4095x49602</td>\n",
       "      <td>907 Pierce Street Suite 815, Kingstad, TN 24520</td>\n",
       "      <td>male</td>\n",
       "      <td>jr183</td>\n",
       "      <td>jr183@upc.edu</td>\n",
       "      <td>2</td>\n",
       "      <td>EALL</td>\n",
       "      <td>2019 - 2020</td>\n",
       "    </tr>\n",
       "    <tr>\n",
       "      <th>1</th>\n",
       "      <td>Geoffrey Watkins</td>\n",
       "      <td>(924)311-3992x276</td>\n",
       "      <td>PSC 7025, Box 7315, APO AA 72603</td>\n",
       "      <td>male</td>\n",
       "      <td>gw634</td>\n",
       "      <td>gw634@upc.edu</td>\n",
       "      <td>2</td>\n",
       "      <td>ECON</td>\n",
       "      <td>2019 - 2020</td>\n",
       "    </tr>\n",
       "    <tr>\n",
       "      <th>2</th>\n",
       "      <td>Wendy Jackson</td>\n",
       "      <td>352.331.4243x67859</td>\n",
       "      <td>95561 Paul Pike, Bobbymouth, WI 66916</td>\n",
       "      <td>female</td>\n",
       "      <td>wj983</td>\n",
       "      <td>wj983@upc.edu</td>\n",
       "      <td>4</td>\n",
       "      <td>HIST</td>\n",
       "      <td>2019 - 2020</td>\n",
       "    </tr>\n",
       "    <tr>\n",
       "      <th>3</th>\n",
       "      <td>Judy Mason</td>\n",
       "      <td>880.876.7239x6276</td>\n",
       "      <td>62802 Matthew Causeway, Port Virginiaville, VI...</td>\n",
       "      <td>female</td>\n",
       "      <td>jm512</td>\n",
       "      <td>jm512@upc.edu</td>\n",
       "      <td>2</td>\n",
       "      <td>SOAN</td>\n",
       "      <td>2019 - 2020</td>\n",
       "    </tr>\n",
       "    <tr>\n",
       "      <th>4</th>\n",
       "      <td>Audrey Carter</td>\n",
       "      <td>544.256.8122x610</td>\n",
       "      <td>7495 Brooke Way Apt. 084, South Alejandroview,...</td>\n",
       "      <td>female</td>\n",
       "      <td>ac359</td>\n",
       "      <td>ac359@upc.edu</td>\n",
       "      <td>3</td>\n",
       "      <td>CLAS</td>\n",
       "      <td>2019 - 2020</td>\n",
       "    </tr>\n",
       "  </tbody>\n",
       "</table>\n",
       "</div>"
      ],
      "text/plain": [
       "               name               phone  \\\n",
       "0      John Ramirez  517-852-4095x49602   \n",
       "1  Geoffrey Watkins   (924)311-3992x276   \n",
       "2     Wendy Jackson  352.331.4243x67859   \n",
       "3        Judy Mason   880.876.7239x6276   \n",
       "4     Audrey Carter    544.256.8122x610   \n",
       "\n",
       "                                             address  gender student_id  \\\n",
       "0    907 Pierce Street Suite 815, Kingstad, TN 24520    male      jr183   \n",
       "1                   PSC 7025, Box 7315, APO AA 72603    male      gw634   \n",
       "2              95561 Paul Pike, Bobbymouth, WI 66916  female      wj983   \n",
       "3  62802 Matthew Causeway, Port Virginiaville, VI...  female      jm512   \n",
       "4  7495 Brooke Way Apt. 084, South Alejandroview,...  female      ac359   \n",
       "\n",
       "           email  year department   valid_year  \n",
       "0  jr183@upc.edu     2       EALL  2019 - 2020  \n",
       "1  gw634@upc.edu     2       ECON  2019 - 2020  \n",
       "2  wj983@upc.edu     4       HIST  2019 - 2020  \n",
       "3  jm512@upc.edu     2       SOAN  2019 - 2020  \n",
       "4  ac359@upc.edu     3       CLAS  2019 - 2020  "
      ]
     },
     "execution_count": 1110,
     "metadata": {},
     "output_type": "execute_result"
    }
   ],
   "source": [
    "all_1920 = pd.concat([\n",
    "    repeating,\n",
    "    progressing,\n",
    "    dropout_1920_df_2,\n",
    "    grad_1920_df_2,\n",
    "    loa_after_1920_df_2\n",
    "], ignore_index=True)\n",
    "print(all_1920.shape)\n",
    "all_1920.head()"
   ]
  },
  {
   "cell_type": "code",
   "execution_count": 1111,
   "metadata": {},
   "outputs": [
    {
     "data": {
      "text/plain": [
       "1    2274\n",
       "4    2220\n",
       "2    2203\n",
       "3    2161\n",
       "Name: year, dtype: int64"
      ]
     },
     "execution_count": 1111,
     "metadata": {},
     "output_type": "execute_result"
    }
   ],
   "source": [
    "all_1920['year'].value_counts()"
   ]
  },
  {
   "cell_type": "code",
   "execution_count": 1112,
   "metadata": {},
   "outputs": [
    {
     "data": {
      "text/plain": [
       "18077"
      ]
     },
     "execution_count": 1112,
     "metadata": {},
     "output_type": "execute_result"
    }
   ],
   "source": [
    "len(all_ids)"
   ]
  },
  {
   "cell_type": "code",
   "execution_count": 1113,
   "metadata": {},
   "outputs": [],
   "source": [
    "all_1920['student_id'] = all_1920.apply(lambda x: generate_student_id(x), axis=1)\n",
    "all_1920['email'] = all_1920.apply(lambda x: generate_email(x), axis=1)"
   ]
  },
  {
   "cell_type": "code",
   "execution_count": 1114,
   "metadata": {},
   "outputs": [],
   "source": [
    "all_1920.to_csv(f'{PATH}/registry/all_1920.csv', index=None)"
   ]
  },
  {
   "cell_type": "markdown",
   "metadata": {},
   "source": [
    "# 2018 - 2019"
   ]
  },
  {
   "cell_type": "code",
   "execution_count": 1115,
   "metadata": {},
   "outputs": [
    {
     "data": {
      "text/plain": [
       "(6584, 9)"
      ]
     },
     "execution_count": 1115,
     "metadata": {},
     "output_type": "execute_result"
    }
   ],
   "source": [
    "upperclass = all_1920[all_1920['year'] > 1]\n",
    "upperclass.shape"
   ]
  },
  {
   "cell_type": "code",
   "execution_count": 1116,
   "metadata": {},
   "outputs": [
    {
     "name": "stdout",
     "output_type": "stream",
     "text": [
      "(156, 11)\n"
     ]
    },
    {
     "data": {
      "text/html": [
       "<div>\n",
       "<style scoped>\n",
       "    .dataframe tbody tr th:only-of-type {\n",
       "        vertical-align: middle;\n",
       "    }\n",
       "\n",
       "    .dataframe tbody tr th {\n",
       "        vertical-align: top;\n",
       "    }\n",
       "\n",
       "    .dataframe thead th {\n",
       "        text-align: right;\n",
       "    }\n",
       "</style>\n",
       "<table border=\"1\" class=\"dataframe\">\n",
       "  <thead>\n",
       "    <tr style=\"text-align: right;\">\n",
       "      <th></th>\n",
       "      <th>name</th>\n",
       "      <th>phone</th>\n",
       "      <th>address</th>\n",
       "      <th>gender</th>\n",
       "      <th>student_id</th>\n",
       "      <th>email</th>\n",
       "      <th>year</th>\n",
       "      <th>department</th>\n",
       "      <th>valid_year</th>\n",
       "      <th>return_year</th>\n",
       "      <th>loa_year</th>\n",
       "    </tr>\n",
       "  </thead>\n",
       "  <tbody>\n",
       "    <tr>\n",
       "      <th>4780</th>\n",
       "      <td>Karen Leblanc</td>\n",
       "      <td>+1-986-825-3335x247</td>\n",
       "      <td>38883 Weber Forks, West Kristinahaven, NJ 72432</td>\n",
       "      <td>female</td>\n",
       "      <td>kl789</td>\n",
       "      <td>kl789@upc.edu</td>\n",
       "      <td>3</td>\n",
       "      <td>ARTS</td>\n",
       "      <td>2019 - 2020</td>\n",
       "      <td>2019 - 2020</td>\n",
       "      <td>2017 - 2018</td>\n",
       "    </tr>\n",
       "    <tr>\n",
       "      <th>3011</th>\n",
       "      <td>Jack Martin</td>\n",
       "      <td>655.579.3838x1715</td>\n",
       "      <td>828 Cox Ports Suite 573, Hardinside, AS 76408</td>\n",
       "      <td>male</td>\n",
       "      <td>jm917</td>\n",
       "      <td>jm917@upc.edu</td>\n",
       "      <td>2</td>\n",
       "      <td>RELG</td>\n",
       "      <td>2019 - 2020</td>\n",
       "      <td>2019 - 2020</td>\n",
       "      <td>2017 - 2018</td>\n",
       "    </tr>\n",
       "  </tbody>\n",
       "</table>\n",
       "</div>"
      ],
      "text/plain": [
       "               name                phone  \\\n",
       "4780  Karen Leblanc  +1-986-825-3335x247   \n",
       "3011    Jack Martin    655.579.3838x1715   \n",
       "\n",
       "                                              address  gender student_id  \\\n",
       "4780  38883 Weber Forks, West Kristinahaven, NJ 72432  female      kl789   \n",
       "3011    828 Cox Ports Suite 573, Hardinside, AS 76408    male      jm917   \n",
       "\n",
       "              email  year department   valid_year  return_year     loa_year  \n",
       "4780  kl789@upc.edu     3       ARTS  2019 - 2020  2019 - 2020  2017 - 2018  \n",
       "3011  jm917@upc.edu     2       RELG  2019 - 2020  2019 - 2020  2017 - 2018  "
      ]
     },
     "execution_count": 1116,
     "metadata": {},
     "output_type": "execute_result"
    }
   ],
   "source": [
    "print(loa_return_1920_df.shape)\n",
    "loa_return_1920_df.head(2)"
   ]
  },
  {
   "cell_type": "code",
   "execution_count": 1117,
   "metadata": {},
   "outputs": [
    {
     "data": {
      "text/plain": [
       "(6428, 9)"
      ]
     },
     "execution_count": 1117,
     "metadata": {},
     "output_type": "execute_result"
    }
   ],
   "source": [
    "upperclass = upperclass[~upperclass['student_id'].isin(loa_return_1920_df['student_id'])]\n",
    "upperclass.shape"
   ]
  },
  {
   "cell_type": "code",
   "execution_count": 1118,
   "metadata": {},
   "outputs": [
    {
     "data": {
      "text/plain": [
       "(40, 9)"
      ]
     },
     "execution_count": 1118,
     "metadata": {},
     "output_type": "execute_result"
    }
   ],
   "source": [
    "repeating = upperclass.sample(n=30 + random.randint(-10, 10), random_state=0)\n",
    "repeating.shape"
   ]
  },
  {
   "cell_type": "code",
   "execution_count": 1119,
   "metadata": {},
   "outputs": [],
   "source": [
    "repeating['repeating_year'] = '2019 - 2020'\n",
    "repeating['valid_year'] = '2018 - 2019'"
   ]
  },
  {
   "cell_type": "code",
   "execution_count": 1120,
   "metadata": {},
   "outputs": [],
   "source": [
    "repeating.to_csv(f'{PATH}/registry/repeating_1920.csv', index=None)\n",
    "repeating = repeating.drop(columns=['repeating_year'], axis=1)"
   ]
  },
  {
   "cell_type": "code",
   "execution_count": 1121,
   "metadata": {},
   "outputs": [
    {
     "data": {
      "text/plain": [
       "(6388, 9)"
      ]
     },
     "execution_count": 1121,
     "metadata": {},
     "output_type": "execute_result"
    }
   ],
   "source": [
    "progressing = upperclass[~upperclass['student_id'].isin(repeating['student_id'])]\n",
    "progressing.shape"
   ]
  },
  {
   "cell_type": "code",
   "execution_count": 1122,
   "metadata": {},
   "outputs": [
    {
     "data": {
      "text/plain": [
       "4    2205\n",
       "2    2117\n",
       "3    2066\n",
       "Name: year, dtype: int64"
      ]
     },
     "execution_count": 1122,
     "metadata": {},
     "output_type": "execute_result"
    }
   ],
   "source": [
    "progressing['year'].value_counts()"
   ]
  },
  {
   "cell_type": "code",
   "execution_count": 1123,
   "metadata": {},
   "outputs": [
    {
     "name": "stderr",
     "output_type": "stream",
     "text": [
      "/var/folders/2l/srpzk4jx3bd_85xnzblspysc0000gn/T/ipykernel_39601/136221951.py:1: SettingWithCopyWarning: \n",
      "A value is trying to be set on a copy of a slice from a DataFrame.\n",
      "Try using .loc[row_indexer,col_indexer] = value instead\n",
      "\n",
      "See the caveats in the documentation: https://pandas.pydata.org/pandas-docs/stable/user_guide/indexing.html#returning-a-view-versus-a-copy\n",
      "  progressing['year'] = progressing['year'] - 1\n",
      "/var/folders/2l/srpzk4jx3bd_85xnzblspysc0000gn/T/ipykernel_39601/136221951.py:2: SettingWithCopyWarning: \n",
      "A value is trying to be set on a copy of a slice from a DataFrame.\n",
      "Try using .loc[row_indexer,col_indexer] = value instead\n",
      "\n",
      "See the caveats in the documentation: https://pandas.pydata.org/pandas-docs/stable/user_guide/indexing.html#returning-a-view-versus-a-copy\n",
      "  progressing['valid_year'] = '2018 - 2019'\n"
     ]
    },
    {
     "data": {
      "text/html": [
       "<div>\n",
       "<style scoped>\n",
       "    .dataframe tbody tr th:only-of-type {\n",
       "        vertical-align: middle;\n",
       "    }\n",
       "\n",
       "    .dataframe tbody tr th {\n",
       "        vertical-align: top;\n",
       "    }\n",
       "\n",
       "    .dataframe thead th {\n",
       "        text-align: right;\n",
       "    }\n",
       "</style>\n",
       "<table border=\"1\" class=\"dataframe\">\n",
       "  <thead>\n",
       "    <tr style=\"text-align: right;\">\n",
       "      <th></th>\n",
       "      <th>name</th>\n",
       "      <th>phone</th>\n",
       "      <th>address</th>\n",
       "      <th>gender</th>\n",
       "      <th>student_id</th>\n",
       "      <th>email</th>\n",
       "      <th>year</th>\n",
       "      <th>department</th>\n",
       "      <th>valid_year</th>\n",
       "    </tr>\n",
       "  </thead>\n",
       "  <tbody>\n",
       "    <tr>\n",
       "      <th>0</th>\n",
       "      <td>John Ramirez</td>\n",
       "      <td>517-852-4095x49602</td>\n",
       "      <td>907 Pierce Street Suite 815, Kingstad, TN 24520</td>\n",
       "      <td>male</td>\n",
       "      <td>jr183</td>\n",
       "      <td>jr183@upc.edu</td>\n",
       "      <td>1</td>\n",
       "      <td>EALL</td>\n",
       "      <td>2018 - 2019</td>\n",
       "    </tr>\n",
       "    <tr>\n",
       "      <th>1</th>\n",
       "      <td>Geoffrey Watkins</td>\n",
       "      <td>(924)311-3992x276</td>\n",
       "      <td>PSC 7025, Box 7315, APO AA 72603</td>\n",
       "      <td>male</td>\n",
       "      <td>gw634</td>\n",
       "      <td>gw634@upc.edu</td>\n",
       "      <td>1</td>\n",
       "      <td>ECON</td>\n",
       "      <td>2018 - 2019</td>\n",
       "    </tr>\n",
       "  </tbody>\n",
       "</table>\n",
       "</div>"
      ],
      "text/plain": [
       "               name               phone  \\\n",
       "0      John Ramirez  517-852-4095x49602   \n",
       "1  Geoffrey Watkins   (924)311-3992x276   \n",
       "\n",
       "                                           address gender student_id  \\\n",
       "0  907 Pierce Street Suite 815, Kingstad, TN 24520   male      jr183   \n",
       "1                 PSC 7025, Box 7315, APO AA 72603   male      gw634   \n",
       "\n",
       "           email  year department   valid_year  \n",
       "0  jr183@upc.edu     1       EALL  2018 - 2019  \n",
       "1  gw634@upc.edu     1       ECON  2018 - 2019  "
      ]
     },
     "execution_count": 1123,
     "metadata": {},
     "output_type": "execute_result"
    }
   ],
   "source": [
    "progressing['year'] = progressing['year'] - 1\n",
    "progressing['valid_year'] = '2018 - 2019'\n",
    "progressing.head(2)"
   ]
  },
  {
   "cell_type": "code",
   "execution_count": 1124,
   "metadata": {},
   "outputs": [],
   "source": [
    "progressing.to_csv(f'{PATH}/registry/progressing_1920.csv', index=None)"
   ]
  },
  {
   "cell_type": "code",
   "execution_count": 1125,
   "metadata": {},
   "outputs": [
    {
     "data": {
      "text/plain": [
       "2241"
      ]
     },
     "execution_count": 1125,
     "metadata": {},
     "output_type": "execute_result"
    }
   ],
   "source": [
    "n_grad = all_1920[all_1920['year'] == 4].shape[0] + random.randint(-100, 50)\n",
    "n_grad"
   ]
  },
  {
   "cell_type": "code",
   "execution_count": 1126,
   "metadata": {},
   "outputs": [
    {
     "data": {
      "text/html": [
       "<div>\n",
       "<style scoped>\n",
       "    .dataframe tbody tr th:only-of-type {\n",
       "        vertical-align: middle;\n",
       "    }\n",
       "\n",
       "    .dataframe tbody tr th {\n",
       "        vertical-align: top;\n",
       "    }\n",
       "\n",
       "    .dataframe thead th {\n",
       "        text-align: right;\n",
       "    }\n",
       "</style>\n",
       "<table border=\"1\" class=\"dataframe\">\n",
       "  <thead>\n",
       "    <tr style=\"text-align: right;\">\n",
       "      <th></th>\n",
       "      <th>name</th>\n",
       "      <th>phone</th>\n",
       "      <th>address</th>\n",
       "      <th>gender</th>\n",
       "      <th>student_id</th>\n",
       "      <th>email</th>\n",
       "      <th>year</th>\n",
       "    </tr>\n",
       "  </thead>\n",
       "  <tbody>\n",
       "    <tr>\n",
       "      <th>0</th>\n",
       "      <td>Ana Hull</td>\n",
       "      <td>+1-528-513-5467x3331</td>\n",
       "      <td>PSC 8456, Box 9853, APO AA 53297</td>\n",
       "      <td>female</td>\n",
       "      <td>None</td>\n",
       "      <td>None</td>\n",
       "      <td>4</td>\n",
       "    </tr>\n",
       "    <tr>\n",
       "      <th>1</th>\n",
       "      <td>Lucas Williams</td>\n",
       "      <td>468.286.1043</td>\n",
       "      <td>USNS Norris, FPO AA 68068</td>\n",
       "      <td>male</td>\n",
       "      <td>None</td>\n",
       "      <td>None</td>\n",
       "      <td>4</td>\n",
       "    </tr>\n",
       "    <tr>\n",
       "      <th>2</th>\n",
       "      <td>Isaac Russo</td>\n",
       "      <td>573-315-0442x374</td>\n",
       "      <td>1563 Baker Trafficway, East Tammy, PR 33526</td>\n",
       "      <td>male</td>\n",
       "      <td>None</td>\n",
       "      <td>None</td>\n",
       "      <td>4</td>\n",
       "    </tr>\n",
       "    <tr>\n",
       "      <th>3</th>\n",
       "      <td>Michael Brock</td>\n",
       "      <td>+1-667-201-6097x14705</td>\n",
       "      <td>33368 Thomas Ranch, Rodriguezfurt, AR 79344</td>\n",
       "      <td>male</td>\n",
       "      <td>None</td>\n",
       "      <td>None</td>\n",
       "      <td>4</td>\n",
       "    </tr>\n",
       "    <tr>\n",
       "      <th>4</th>\n",
       "      <td>Lauren Marshall</td>\n",
       "      <td>+1-893-277-4765x895</td>\n",
       "      <td>4151 Hunt Grove Apt. 684, Port Christine, VI 8...</td>\n",
       "      <td>female</td>\n",
       "      <td>None</td>\n",
       "      <td>None</td>\n",
       "      <td>4</td>\n",
       "    </tr>\n",
       "  </tbody>\n",
       "</table>\n",
       "</div>"
      ],
      "text/plain": [
       "              name                  phone  \\\n",
       "0         Ana Hull   +1-528-513-5467x3331   \n",
       "1   Lucas Williams           468.286.1043   \n",
       "2      Isaac Russo       573-315-0442x374   \n",
       "3    Michael Brock  +1-667-201-6097x14705   \n",
       "4  Lauren Marshall    +1-893-277-4765x895   \n",
       "\n",
       "                                             address  gender student_id email  \\\n",
       "0                   PSC 8456, Box 9853, APO AA 53297  female       None  None   \n",
       "1                          USNS Norris, FPO AA 68068    male       None  None   \n",
       "2        1563 Baker Trafficway, East Tammy, PR 33526    male       None  None   \n",
       "3        33368 Thomas Ranch, Rodriguezfurt, AR 79344    male       None  None   \n",
       "4  4151 Hunt Grove Apt. 684, Port Christine, VI 8...  female       None  None   \n",
       "\n",
       "   year  \n",
       "0     4  \n",
       "1     4  \n",
       "2     4  \n",
       "3     4  \n",
       "4     4  "
      ]
     },
     "execution_count": 1126,
     "metadata": {},
     "output_type": "execute_result"
    }
   ],
   "source": [
    "grad_1819 = []\n",
    "for i in range(n_grad):\n",
    "    if random.random() >= 0.5:\n",
    "        full_name = faker.first_name_female() + ' ' + faker.last_name()\n",
    "        gender = 'female'\n",
    "    else:\n",
    "        full_name = faker.first_name_male() + ' ' + faker.last_name()\n",
    "        gender = 'male'\n",
    "    phone = faker.phone_number()\n",
    "    addr = faker.address().replace('\\n', ', ')\n",
    "    grad_1819.append({\n",
    "        'name': full_name,\n",
    "        'phone': phone,\n",
    "        'address': addr,\n",
    "        'gender': gender,\n",
    "        'student_id': None,\n",
    "        'email': None,\n",
    "        'year': 4\n",
    "    })\n",
    "\n",
    "grad_1819_df = pd.DataFrame.from_records(grad_1819)\n",
    "grad_1819_df.head()"
   ]
  },
  {
   "cell_type": "code",
   "execution_count": 1127,
   "metadata": {},
   "outputs": [],
   "source": [
    "grad_1819_df['department'] = np.random.choice(dept_count.index, size=n_grad, p=dept_count.values)\n",
    "grad_1819_df['valid_year'] = '2018 - 2019'\n",
    "grad_1819_df['grad_year'] = '2018 - 2019'\n",
    "grad_1819_df.to_csv(f'{PATH}/registry/grad_1819.csv', index=None)"
   ]
  },
  {
   "cell_type": "code",
   "execution_count": 1128,
   "metadata": {},
   "outputs": [
    {
     "data": {
      "text/plain": [
       "126"
      ]
     },
     "execution_count": 1128,
     "metadata": {},
     "output_type": "execute_result"
    }
   ],
   "source": [
    "n_dropout = 100 + random.randint(-20, 40)\n",
    "n_dropout"
   ]
  },
  {
   "cell_type": "code",
   "execution_count": 1129,
   "metadata": {},
   "outputs": [],
   "source": [
    "dropout_1819 = []\n",
    "for i in range(n_dropout):\n",
    "    if random.random() >= 0.5:\n",
    "        full_name = faker.first_name_female() + ' ' + faker.last_name()\n",
    "        gender = 'female'\n",
    "    else:\n",
    "        full_name = faker.first_name_male() + ' ' + faker.last_name()\n",
    "        gender = 'male'\n",
    "    phone = faker.phone_number()\n",
    "    addr = faker.address().replace('\\n', ', ')\n",
    "    dropout_1819.append({\n",
    "        'name': full_name,\n",
    "        'phone': phone,\n",
    "        'address': addr,\n",
    "        'gender': gender,\n",
    "        'student_id': None,\n",
    "        'email': None\n",
    "    })\n",
    "\n",
    "dropout_1819_df = pd.DataFrame.from_records(dropout_1819)"
   ]
  },
  {
   "cell_type": "code",
   "execution_count": 1130,
   "metadata": {},
   "outputs": [
    {
     "data": {
      "text/html": [
       "<div>\n",
       "<style scoped>\n",
       "    .dataframe tbody tr th:only-of-type {\n",
       "        vertical-align: middle;\n",
       "    }\n",
       "\n",
       "    .dataframe tbody tr th {\n",
       "        vertical-align: top;\n",
       "    }\n",
       "\n",
       "    .dataframe thead th {\n",
       "        text-align: right;\n",
       "    }\n",
       "</style>\n",
       "<table border=\"1\" class=\"dataframe\">\n",
       "  <thead>\n",
       "    <tr style=\"text-align: right;\">\n",
       "      <th></th>\n",
       "      <th>name</th>\n",
       "      <th>phone</th>\n",
       "      <th>address</th>\n",
       "      <th>gender</th>\n",
       "      <th>student_id</th>\n",
       "      <th>email</th>\n",
       "      <th>year</th>\n",
       "      <th>department</th>\n",
       "      <th>valid_year</th>\n",
       "      <th>dropout_year</th>\n",
       "    </tr>\n",
       "  </thead>\n",
       "  <tbody>\n",
       "    <tr>\n",
       "      <th>0</th>\n",
       "      <td>Paul Johnson</td>\n",
       "      <td>(793)202-7654x11267</td>\n",
       "      <td>PSC 2898, Box 0054, APO AP 83435</td>\n",
       "      <td>male</td>\n",
       "      <td>None</td>\n",
       "      <td>None</td>\n",
       "      <td>3</td>\n",
       "      <td>BIOL</td>\n",
       "      <td>2018 - 2019</td>\n",
       "      <td>2018 - 2019</td>\n",
       "    </tr>\n",
       "    <tr>\n",
       "      <th>1</th>\n",
       "      <td>Erin Gould</td>\n",
       "      <td>580.224.6772x110</td>\n",
       "      <td>58678 Briana Squares Suite 623, Lake Ellenmout...</td>\n",
       "      <td>female</td>\n",
       "      <td>None</td>\n",
       "      <td>None</td>\n",
       "      <td>1</td>\n",
       "      <td>GEOG</td>\n",
       "      <td>2018 - 2019</td>\n",
       "      <td>2018 - 2019</td>\n",
       "    </tr>\n",
       "  </tbody>\n",
       "</table>\n",
       "</div>"
      ],
      "text/plain": [
       "           name                phone  \\\n",
       "0  Paul Johnson  (793)202-7654x11267   \n",
       "1    Erin Gould     580.224.6772x110   \n",
       "\n",
       "                                             address  gender student_id email  \\\n",
       "0                   PSC 2898, Box 0054, APO AP 83435    male       None  None   \n",
       "1  58678 Briana Squares Suite 623, Lake Ellenmout...  female       None  None   \n",
       "\n",
       "   year department   valid_year dropout_year  \n",
       "0     3       BIOL  2018 - 2019  2018 - 2019  \n",
       "1     1       GEOG  2018 - 2019  2018 - 2019  "
      ]
     },
     "execution_count": 1130,
     "metadata": {},
     "output_type": "execute_result"
    }
   ],
   "source": [
    "dropout_1819_df['year'] = np.random.choice(year_count.index, size=n_dropout, p=year_count.values)\n",
    "dropout_1819_df['department'] = np.random.choice(dept_count.index, size=n_dropout, p=dept_count.values)\n",
    "dropout_1819_df['valid_year'] = '2018 - 2019'\n",
    "dropout_1819_df['dropout_year'] = '2018 - 2019'\n",
    "dropout_1819_df.head(2)"
   ]
  },
  {
   "cell_type": "code",
   "execution_count": 1131,
   "metadata": {},
   "outputs": [],
   "source": [
    "dropout_1819_df.to_csv(f'{PATH}/registry/dropout_1819.csv', index=None)"
   ]
  },
  {
   "cell_type": "code",
   "execution_count": 1132,
   "metadata": {},
   "outputs": [
    {
     "data": {
      "text/plain": [
       "158"
      ]
     },
     "execution_count": 1132,
     "metadata": {},
     "output_type": "execute_result"
    }
   ],
   "source": [
    "n_loa_return = 150 + random.randint(-10, 10)\n",
    "n_loa_return"
   ]
  },
  {
   "cell_type": "code",
   "execution_count": 1133,
   "metadata": {},
   "outputs": [
    {
     "data": {
      "text/plain": [
       "(6428, 9)"
      ]
     },
     "execution_count": 1133,
     "metadata": {},
     "output_type": "execute_result"
    }
   ],
   "source": [
    "valid_1819 = pd.concat([progressing, repeating], ignore_index=True)\n",
    "valid_1819.shape"
   ]
  },
  {
   "cell_type": "code",
   "execution_count": 1134,
   "metadata": {},
   "outputs": [],
   "source": [
    "valid_1819 = valid_1819[valid_1819['year'] > 1]"
   ]
  },
  {
   "cell_type": "code",
   "execution_count": 1135,
   "metadata": {},
   "outputs": [
    {
     "data": {
      "text/html": [
       "<div>\n",
       "<style scoped>\n",
       "    .dataframe tbody tr th:only-of-type {\n",
       "        vertical-align: middle;\n",
       "    }\n",
       "\n",
       "    .dataframe tbody tr th {\n",
       "        vertical-align: top;\n",
       "    }\n",
       "\n",
       "    .dataframe thead th {\n",
       "        text-align: right;\n",
       "    }\n",
       "</style>\n",
       "<table border=\"1\" class=\"dataframe\">\n",
       "  <thead>\n",
       "    <tr style=\"text-align: right;\">\n",
       "      <th></th>\n",
       "      <th>name</th>\n",
       "      <th>phone</th>\n",
       "      <th>address</th>\n",
       "      <th>gender</th>\n",
       "      <th>student_id</th>\n",
       "      <th>email</th>\n",
       "      <th>year</th>\n",
       "      <th>department</th>\n",
       "      <th>valid_year</th>\n",
       "    </tr>\n",
       "  </thead>\n",
       "  <tbody>\n",
       "    <tr>\n",
       "      <th>4195</th>\n",
       "      <td>Ashlee Parks</td>\n",
       "      <td>459.737.4734</td>\n",
       "      <td>USCGC Scott, FPO AE 93913</td>\n",
       "      <td>female</td>\n",
       "      <td>ap466</td>\n",
       "      <td>ap466@upc.edu</td>\n",
       "      <td>3</td>\n",
       "      <td>PBSC</td>\n",
       "      <td>2018 - 2019</td>\n",
       "    </tr>\n",
       "    <tr>\n",
       "      <th>6145</th>\n",
       "      <td>Christopher Mendez</td>\n",
       "      <td>799.485.1690x099</td>\n",
       "      <td>066 Robert Harbor, New Scott, FL 64963</td>\n",
       "      <td>male</td>\n",
       "      <td>cm139</td>\n",
       "      <td>cm139@upc.edu</td>\n",
       "      <td>3</td>\n",
       "      <td>MATH</td>\n",
       "      <td>2018 - 2019</td>\n",
       "    </tr>\n",
       "  </tbody>\n",
       "</table>\n",
       "</div>"
      ],
      "text/plain": [
       "                    name             phone  \\\n",
       "4195        Ashlee Parks      459.737.4734   \n",
       "6145  Christopher Mendez  799.485.1690x099   \n",
       "\n",
       "                                     address  gender student_id  \\\n",
       "4195               USCGC Scott, FPO AE 93913  female      ap466   \n",
       "6145  066 Robert Harbor, New Scott, FL 64963    male      cm139   \n",
       "\n",
       "              email  year department   valid_year  \n",
       "4195  ap466@upc.edu     3       PBSC  2018 - 2019  \n",
       "6145  cm139@upc.edu     3       MATH  2018 - 2019  "
      ]
     },
     "execution_count": 1135,
     "metadata": {},
     "output_type": "execute_result"
    }
   ],
   "source": [
    "loa_return_1819_df = valid_1819.sample(n=n_loa_return, random_state=0)\n",
    "loa_return_1819_df.head(2)"
   ]
  },
  {
   "cell_type": "code",
   "execution_count": 1136,
   "metadata": {},
   "outputs": [
    {
     "data": {
      "text/plain": [
       "3    82\n",
       "2    76\n",
       "Name: year, dtype: int64"
      ]
     },
     "execution_count": 1136,
     "metadata": {},
     "output_type": "execute_result"
    }
   ],
   "source": [
    "loa_return_1819_df['year'].value_counts()"
   ]
  },
  {
   "cell_type": "code",
   "execution_count": 1137,
   "metadata": {},
   "outputs": [],
   "source": [
    "loa_return_1819_df['return_year'] = '2018 - 2019'\n",
    "loa_return_1819_df['loa_year'] = '2016 - 2017'\n",
    "loa_return_1819_df.to_csv(f'{PATH}/registry/loa_return_1819.csv', index=None)"
   ]
  },
  {
   "cell_type": "code",
   "execution_count": 1138,
   "metadata": {},
   "outputs": [
    {
     "name": "stdout",
     "output_type": "stream",
     "text": [
      "(145, 11)\n"
     ]
    },
    {
     "data": {
      "text/html": [
       "<div>\n",
       "<style scoped>\n",
       "    .dataframe tbody tr th:only-of-type {\n",
       "        vertical-align: middle;\n",
       "    }\n",
       "\n",
       "    .dataframe tbody tr th {\n",
       "        vertical-align: top;\n",
       "    }\n",
       "\n",
       "    .dataframe thead th {\n",
       "        text-align: right;\n",
       "    }\n",
       "</style>\n",
       "<table border=\"1\" class=\"dataframe\">\n",
       "  <thead>\n",
       "    <tr style=\"text-align: right;\">\n",
       "      <th></th>\n",
       "      <th>name</th>\n",
       "      <th>phone</th>\n",
       "      <th>address</th>\n",
       "      <th>gender</th>\n",
       "      <th>student_id</th>\n",
       "      <th>email</th>\n",
       "      <th>year</th>\n",
       "      <th>department</th>\n",
       "      <th>valid_year</th>\n",
       "      <th>return_year</th>\n",
       "      <th>loa_year</th>\n",
       "    </tr>\n",
       "  </thead>\n",
       "  <tbody>\n",
       "    <tr>\n",
       "      <th>0</th>\n",
       "      <td>Christine Davis</td>\n",
       "      <td>519.222.5836x9859</td>\n",
       "      <td>04061 Russell Plaza, Mandyfurt, MN 57614</td>\n",
       "      <td>female</td>\n",
       "      <td>cd908</td>\n",
       "      <td>cd908@upc.edu</td>\n",
       "      <td>2</td>\n",
       "      <td>GERM</td>\n",
       "      <td>2018 - 2019</td>\n",
       "      <td>2020 - 2021</td>\n",
       "      <td>2018 - 2019</td>\n",
       "    </tr>\n",
       "    <tr>\n",
       "      <th>1</th>\n",
       "      <td>Dylan Barr</td>\n",
       "      <td>+1-963-811-5161x4406</td>\n",
       "      <td>40559 Brandy Brook, West Steven, ME 04724</td>\n",
       "      <td>male</td>\n",
       "      <td>db681</td>\n",
       "      <td>db681@upc.edu</td>\n",
       "      <td>2</td>\n",
       "      <td>ARTS</td>\n",
       "      <td>2018 - 2019</td>\n",
       "      <td>2020 - 2021</td>\n",
       "      <td>2018 - 2019</td>\n",
       "    </tr>\n",
       "  </tbody>\n",
       "</table>\n",
       "</div>"
      ],
      "text/plain": [
       "              name                 phone  \\\n",
       "0  Christine Davis     519.222.5836x9859   \n",
       "1       Dylan Barr  +1-963-811-5161x4406   \n",
       "\n",
       "                                     address  gender student_id  \\\n",
       "0   04061 Russell Plaza, Mandyfurt, MN 57614  female      cd908   \n",
       "1  40559 Brandy Brook, West Steven, ME 04724    male      db681   \n",
       "\n",
       "           email  year department   valid_year  return_year     loa_year  \n",
       "0  cd908@upc.edu     2       GERM  2018 - 2019  2020 - 2021  2018 - 2019  \n",
       "1  db681@upc.edu     2       ARTS  2018 - 2019  2020 - 2021  2018 - 2019  "
      ]
     },
     "execution_count": 1138,
     "metadata": {},
     "output_type": "execute_result"
    }
   ],
   "source": [
    "loa_after_1819_df = pd.read_csv(f'{PATH}/registry/loa_return_2021.csv')\n",
    "loa_after_1819_df['valid_year'] = '2018 - 2019'\n",
    "loa_after_1819_df['year'] -= 1\n",
    "print(loa_after_1819_df.shape)\n",
    "loa_after_1819_df.head(2)"
   ]
  },
  {
   "cell_type": "code",
   "execution_count": 1139,
   "metadata": {},
   "outputs": [
    {
     "data": {
      "text/plain": [
       "2    77\n",
       "1    68\n",
       "Name: year, dtype: int64"
      ]
     },
     "execution_count": 1139,
     "metadata": {},
     "output_type": "execute_result"
    }
   ],
   "source": [
    "loa_after_1819_df['year'].value_counts()"
   ]
  },
  {
   "cell_type": "code",
   "execution_count": 1140,
   "metadata": {},
   "outputs": [],
   "source": [
    "dropout_1819_df_2 = dropout_1819_df.copy()\n",
    "dropout_1819_df_2 = dropout_1819_df_2.drop(columns=['dropout_year'], axis=1)\n",
    "\n",
    "grad_1819_df_2 = grad_1819_df.copy()\n",
    "grad_1819_df_2 = grad_1819_df_2.drop(columns=['grad_year'], axis=1)\n",
    "\n",
    "loa_return_1819_df_2 = loa_return_1819_df.copy()\n",
    "loa_return_1819_df_2 = loa_return_1819_df_2.drop(columns=['loa_year', 'return_year'], axis=1)\n",
    "\n",
    "loa_after_1819_df_2 = loa_after_1819_df.copy()\n",
    "loa_after_1819_df_2 = loa_after_1819_df_2.drop(columns=['loa_year', 'return_year'], axis=1)"
   ]
  },
  {
   "cell_type": "code",
   "execution_count": 1141,
   "metadata": {},
   "outputs": [
    {
     "name": "stdout",
     "output_type": "stream",
     "text": [
      "(8940, 9)\n"
     ]
    },
    {
     "data": {
      "text/html": [
       "<div>\n",
       "<style scoped>\n",
       "    .dataframe tbody tr th:only-of-type {\n",
       "        vertical-align: middle;\n",
       "    }\n",
       "\n",
       "    .dataframe tbody tr th {\n",
       "        vertical-align: top;\n",
       "    }\n",
       "\n",
       "    .dataframe thead th {\n",
       "        text-align: right;\n",
       "    }\n",
       "</style>\n",
       "<table border=\"1\" class=\"dataframe\">\n",
       "  <thead>\n",
       "    <tr style=\"text-align: right;\">\n",
       "      <th></th>\n",
       "      <th>name</th>\n",
       "      <th>phone</th>\n",
       "      <th>address</th>\n",
       "      <th>gender</th>\n",
       "      <th>student_id</th>\n",
       "      <th>email</th>\n",
       "      <th>year</th>\n",
       "      <th>department</th>\n",
       "      <th>valid_year</th>\n",
       "    </tr>\n",
       "  </thead>\n",
       "  <tbody>\n",
       "    <tr>\n",
       "      <th>0</th>\n",
       "      <td>Brian Silva</td>\n",
       "      <td>8324997473</td>\n",
       "      <td>67000 Brown Turnpike, Lake Veronicaville, IN 3...</td>\n",
       "      <td>male</td>\n",
       "      <td>bs671</td>\n",
       "      <td>bs671@upc.edu</td>\n",
       "      <td>2</td>\n",
       "      <td>RELG</td>\n",
       "      <td>2018 - 2019</td>\n",
       "    </tr>\n",
       "    <tr>\n",
       "      <th>1</th>\n",
       "      <td>Robert Webb</td>\n",
       "      <td>968.861.5857</td>\n",
       "      <td>63417 Kristin Flats, Anaburgh, NV 01133</td>\n",
       "      <td>male</td>\n",
       "      <td>rw790</td>\n",
       "      <td>rw790@upc.edu</td>\n",
       "      <td>2</td>\n",
       "      <td>PHIL</td>\n",
       "      <td>2018 - 2019</td>\n",
       "    </tr>\n",
       "    <tr>\n",
       "      <th>2</th>\n",
       "      <td>Brittany Huerta</td>\n",
       "      <td>336-874-2922x8804</td>\n",
       "      <td>1105 Carlos Squares Suite 442, Morganfurt, OK ...</td>\n",
       "      <td>female</td>\n",
       "      <td>bh657</td>\n",
       "      <td>bh657@upc.edu</td>\n",
       "      <td>3</td>\n",
       "      <td>MUSI</td>\n",
       "      <td>2018 - 2019</td>\n",
       "    </tr>\n",
       "    <tr>\n",
       "      <th>3</th>\n",
       "      <td>Tonya Hoover</td>\n",
       "      <td>3375835721</td>\n",
       "      <td>0098 Butler Union, North Ashley, ID 65641</td>\n",
       "      <td>female</td>\n",
       "      <td>th950</td>\n",
       "      <td>th950@upc.edu</td>\n",
       "      <td>2</td>\n",
       "      <td>HIST</td>\n",
       "      <td>2018 - 2019</td>\n",
       "    </tr>\n",
       "    <tr>\n",
       "      <th>4</th>\n",
       "      <td>Catherine Greene</td>\n",
       "      <td>938-925-2508x847</td>\n",
       "      <td>2817 Espinoza Circle, Greenstad, CO 48740</td>\n",
       "      <td>female</td>\n",
       "      <td>cg768</td>\n",
       "      <td>cg768@upc.edu</td>\n",
       "      <td>3</td>\n",
       "      <td>ENST</td>\n",
       "      <td>2018 - 2019</td>\n",
       "    </tr>\n",
       "  </tbody>\n",
       "</table>\n",
       "</div>"
      ],
      "text/plain": [
       "               name              phone  \\\n",
       "0       Brian Silva         8324997473   \n",
       "1       Robert Webb       968.861.5857   \n",
       "2   Brittany Huerta  336-874-2922x8804   \n",
       "3      Tonya Hoover         3375835721   \n",
       "4  Catherine Greene   938-925-2508x847   \n",
       "\n",
       "                                             address  gender student_id  \\\n",
       "0  67000 Brown Turnpike, Lake Veronicaville, IN 3...    male      bs671   \n",
       "1            63417 Kristin Flats, Anaburgh, NV 01133    male      rw790   \n",
       "2  1105 Carlos Squares Suite 442, Morganfurt, OK ...  female      bh657   \n",
       "3          0098 Butler Union, North Ashley, ID 65641  female      th950   \n",
       "4          2817 Espinoza Circle, Greenstad, CO 48740  female      cg768   \n",
       "\n",
       "           email  year department   valid_year  \n",
       "0  bs671@upc.edu     2       RELG  2018 - 2019  \n",
       "1  rw790@upc.edu     2       PHIL  2018 - 2019  \n",
       "2  bh657@upc.edu     3       MUSI  2018 - 2019  \n",
       "3  th950@upc.edu     2       HIST  2018 - 2019  \n",
       "4  cg768@upc.edu     3       ENST  2018 - 2019  "
      ]
     },
     "execution_count": 1141,
     "metadata": {},
     "output_type": "execute_result"
    }
   ],
   "source": [
    "all_1819 = pd.concat([\n",
    "    repeating,\n",
    "    progressing,\n",
    "    dropout_1819_df_2,\n",
    "    grad_1819_df_2,\n",
    "    loa_after_1819_df_2\n",
    "], ignore_index=True)\n",
    "print(all_1819.shape)\n",
    "all_1819.head()"
   ]
  },
  {
   "cell_type": "code",
   "execution_count": 1142,
   "metadata": {},
   "outputs": [
    {
     "data": {
      "text/plain": [
       "4    2286\n",
       "3    2248\n",
       "1    2220\n",
       "2    2186\n",
       "Name: year, dtype: int64"
      ]
     },
     "execution_count": 1142,
     "metadata": {},
     "output_type": "execute_result"
    }
   ],
   "source": [
    "all_1819['year'].value_counts()"
   ]
  },
  {
   "cell_type": "code",
   "execution_count": 1143,
   "metadata": {},
   "outputs": [
    {
     "data": {
      "text/plain": [
       "20353"
      ]
     },
     "execution_count": 1143,
     "metadata": {},
     "output_type": "execute_result"
    }
   ],
   "source": [
    "len(all_ids)"
   ]
  },
  {
   "cell_type": "code",
   "execution_count": 1144,
   "metadata": {},
   "outputs": [],
   "source": [
    "all_1819['student_id'] = all_1819.apply(lambda x: generate_student_id(x), axis=1)\n",
    "all_1819['email'] = all_1819.apply(lambda x: generate_email(x), axis=1)"
   ]
  },
  {
   "cell_type": "code",
   "execution_count": 1145,
   "metadata": {},
   "outputs": [],
   "source": [
    "all_1819.to_csv(f'{PATH}/registry/all_1819.csv', index=None)"
   ]
  },
  {
   "cell_type": "markdown",
   "metadata": {},
   "source": [
    "# 2017 - 2018"
   ]
  },
  {
   "cell_type": "code",
   "execution_count": 1146,
   "metadata": {},
   "outputs": [
    {
     "data": {
      "text/plain": [
       "(6720, 9)"
      ]
     },
     "execution_count": 1146,
     "metadata": {},
     "output_type": "execute_result"
    }
   ],
   "source": [
    "upperclass = all_1819[all_1819['year'] > 1]\n",
    "upperclass.shape"
   ]
  },
  {
   "cell_type": "code",
   "execution_count": 1147,
   "metadata": {},
   "outputs": [
    {
     "name": "stdout",
     "output_type": "stream",
     "text": [
      "(158, 11)\n"
     ]
    },
    {
     "data": {
      "text/html": [
       "<div>\n",
       "<style scoped>\n",
       "    .dataframe tbody tr th:only-of-type {\n",
       "        vertical-align: middle;\n",
       "    }\n",
       "\n",
       "    .dataframe tbody tr th {\n",
       "        vertical-align: top;\n",
       "    }\n",
       "\n",
       "    .dataframe thead th {\n",
       "        text-align: right;\n",
       "    }\n",
       "</style>\n",
       "<table border=\"1\" class=\"dataframe\">\n",
       "  <thead>\n",
       "    <tr style=\"text-align: right;\">\n",
       "      <th></th>\n",
       "      <th>name</th>\n",
       "      <th>phone</th>\n",
       "      <th>address</th>\n",
       "      <th>gender</th>\n",
       "      <th>student_id</th>\n",
       "      <th>email</th>\n",
       "      <th>year</th>\n",
       "      <th>department</th>\n",
       "      <th>valid_year</th>\n",
       "      <th>return_year</th>\n",
       "      <th>loa_year</th>\n",
       "    </tr>\n",
       "  </thead>\n",
       "  <tbody>\n",
       "    <tr>\n",
       "      <th>4195</th>\n",
       "      <td>Ashlee Parks</td>\n",
       "      <td>459.737.4734</td>\n",
       "      <td>USCGC Scott, FPO AE 93913</td>\n",
       "      <td>female</td>\n",
       "      <td>ap466</td>\n",
       "      <td>ap466@upc.edu</td>\n",
       "      <td>3</td>\n",
       "      <td>PBSC</td>\n",
       "      <td>2018 - 2019</td>\n",
       "      <td>2018 - 2019</td>\n",
       "      <td>2016 - 2017</td>\n",
       "    </tr>\n",
       "    <tr>\n",
       "      <th>6145</th>\n",
       "      <td>Christopher Mendez</td>\n",
       "      <td>799.485.1690x099</td>\n",
       "      <td>066 Robert Harbor, New Scott, FL 64963</td>\n",
       "      <td>male</td>\n",
       "      <td>cm139</td>\n",
       "      <td>cm139@upc.edu</td>\n",
       "      <td>3</td>\n",
       "      <td>MATH</td>\n",
       "      <td>2018 - 2019</td>\n",
       "      <td>2018 - 2019</td>\n",
       "      <td>2016 - 2017</td>\n",
       "    </tr>\n",
       "  </tbody>\n",
       "</table>\n",
       "</div>"
      ],
      "text/plain": [
       "                    name             phone  \\\n",
       "4195        Ashlee Parks      459.737.4734   \n",
       "6145  Christopher Mendez  799.485.1690x099   \n",
       "\n",
       "                                     address  gender student_id  \\\n",
       "4195               USCGC Scott, FPO AE 93913  female      ap466   \n",
       "6145  066 Robert Harbor, New Scott, FL 64963    male      cm139   \n",
       "\n",
       "              email  year department   valid_year  return_year     loa_year  \n",
       "4195  ap466@upc.edu     3       PBSC  2018 - 2019  2018 - 2019  2016 - 2017  \n",
       "6145  cm139@upc.edu     3       MATH  2018 - 2019  2018 - 2019  2016 - 2017  "
      ]
     },
     "execution_count": 1147,
     "metadata": {},
     "output_type": "execute_result"
    }
   ],
   "source": [
    "print(loa_return_1819_df.shape)\n",
    "loa_return_1819_df.head(2)"
   ]
  },
  {
   "cell_type": "code",
   "execution_count": 1148,
   "metadata": {},
   "outputs": [
    {
     "data": {
      "text/plain": [
       "(6562, 9)"
      ]
     },
     "execution_count": 1148,
     "metadata": {},
     "output_type": "execute_result"
    }
   ],
   "source": [
    "upperclass = upperclass[~upperclass['student_id'].isin(loa_return_1819_df['student_id'])]\n",
    "upperclass.shape"
   ]
  },
  {
   "cell_type": "code",
   "execution_count": 1149,
   "metadata": {},
   "outputs": [
    {
     "data": {
      "text/plain": [
       "(37, 9)"
      ]
     },
     "execution_count": 1149,
     "metadata": {},
     "output_type": "execute_result"
    }
   ],
   "source": [
    "repeating = upperclass.sample(n=30 + random.randint(-10, 10), random_state=0)\n",
    "repeating.shape"
   ]
  },
  {
   "cell_type": "code",
   "execution_count": 1150,
   "metadata": {},
   "outputs": [],
   "source": [
    "repeating['repeating_year'] = '2018 - 2019'\n",
    "repeating['valid_year'] = '2017 - 2018'"
   ]
  },
  {
   "cell_type": "code",
   "execution_count": 1151,
   "metadata": {},
   "outputs": [],
   "source": [
    "repeating.to_csv(f'{PATH}/registry/repeating_1819.csv', index=None)\n",
    "repeating = repeating.drop(columns=['repeating_year'], axis=1)"
   ]
  },
  {
   "cell_type": "code",
   "execution_count": 1152,
   "metadata": {},
   "outputs": [
    {
     "data": {
      "text/plain": [
       "(6525, 9)"
      ]
     },
     "execution_count": 1152,
     "metadata": {},
     "output_type": "execute_result"
    }
   ],
   "source": [
    "progressing = upperclass[~upperclass['student_id'].isin(repeating['student_id'])]\n",
    "progressing.shape"
   ]
  },
  {
   "cell_type": "code",
   "execution_count": 1153,
   "metadata": {},
   "outputs": [
    {
     "data": {
      "text/plain": [
       "4    2268\n",
       "3    2157\n",
       "2    2100\n",
       "Name: year, dtype: int64"
      ]
     },
     "execution_count": 1153,
     "metadata": {},
     "output_type": "execute_result"
    }
   ],
   "source": [
    "progressing['year'].value_counts()"
   ]
  },
  {
   "cell_type": "code",
   "execution_count": 1154,
   "metadata": {},
   "outputs": [
    {
     "name": "stderr",
     "output_type": "stream",
     "text": [
      "/var/folders/2l/srpzk4jx3bd_85xnzblspysc0000gn/T/ipykernel_39601/1773846302.py:1: SettingWithCopyWarning: \n",
      "A value is trying to be set on a copy of a slice from a DataFrame.\n",
      "Try using .loc[row_indexer,col_indexer] = value instead\n",
      "\n",
      "See the caveats in the documentation: https://pandas.pydata.org/pandas-docs/stable/user_guide/indexing.html#returning-a-view-versus-a-copy\n",
      "  progressing['year'] = progressing['year'] - 1\n",
      "/var/folders/2l/srpzk4jx3bd_85xnzblspysc0000gn/T/ipykernel_39601/1773846302.py:2: SettingWithCopyWarning: \n",
      "A value is trying to be set on a copy of a slice from a DataFrame.\n",
      "Try using .loc[row_indexer,col_indexer] = value instead\n",
      "\n",
      "See the caveats in the documentation: https://pandas.pydata.org/pandas-docs/stable/user_guide/indexing.html#returning-a-view-versus-a-copy\n",
      "  progressing['valid_year'] = '2017 - 2018'\n"
     ]
    },
    {
     "data": {
      "text/html": [
       "<div>\n",
       "<style scoped>\n",
       "    .dataframe tbody tr th:only-of-type {\n",
       "        vertical-align: middle;\n",
       "    }\n",
       "\n",
       "    .dataframe tbody tr th {\n",
       "        vertical-align: top;\n",
       "    }\n",
       "\n",
       "    .dataframe thead th {\n",
       "        text-align: right;\n",
       "    }\n",
       "</style>\n",
       "<table border=\"1\" class=\"dataframe\">\n",
       "  <thead>\n",
       "    <tr style=\"text-align: right;\">\n",
       "      <th></th>\n",
       "      <th>name</th>\n",
       "      <th>phone</th>\n",
       "      <th>address</th>\n",
       "      <th>gender</th>\n",
       "      <th>student_id</th>\n",
       "      <th>email</th>\n",
       "      <th>year</th>\n",
       "      <th>department</th>\n",
       "      <th>valid_year</th>\n",
       "    </tr>\n",
       "  </thead>\n",
       "  <tbody>\n",
       "    <tr>\n",
       "      <th>0</th>\n",
       "      <td>Brian Silva</td>\n",
       "      <td>8324997473</td>\n",
       "      <td>67000 Brown Turnpike, Lake Veronicaville, IN 3...</td>\n",
       "      <td>male</td>\n",
       "      <td>bs671</td>\n",
       "      <td>bs671@upc.edu</td>\n",
       "      <td>1</td>\n",
       "      <td>RELG</td>\n",
       "      <td>2017 - 2018</td>\n",
       "    </tr>\n",
       "    <tr>\n",
       "      <th>1</th>\n",
       "      <td>Robert Webb</td>\n",
       "      <td>968.861.5857</td>\n",
       "      <td>63417 Kristin Flats, Anaburgh, NV 01133</td>\n",
       "      <td>male</td>\n",
       "      <td>rw790</td>\n",
       "      <td>rw790@upc.edu</td>\n",
       "      <td>1</td>\n",
       "      <td>PHIL</td>\n",
       "      <td>2017 - 2018</td>\n",
       "    </tr>\n",
       "  </tbody>\n",
       "</table>\n",
       "</div>"
      ],
      "text/plain": [
       "          name         phone  \\\n",
       "0  Brian Silva    8324997473   \n",
       "1  Robert Webb  968.861.5857   \n",
       "\n",
       "                                             address gender student_id  \\\n",
       "0  67000 Brown Turnpike, Lake Veronicaville, IN 3...   male      bs671   \n",
       "1            63417 Kristin Flats, Anaburgh, NV 01133   male      rw790   \n",
       "\n",
       "           email  year department   valid_year  \n",
       "0  bs671@upc.edu     1       RELG  2017 - 2018  \n",
       "1  rw790@upc.edu     1       PHIL  2017 - 2018  "
      ]
     },
     "execution_count": 1154,
     "metadata": {},
     "output_type": "execute_result"
    }
   ],
   "source": [
    "progressing['year'] = progressing['year'] - 1\n",
    "progressing['valid_year'] = '2017 - 2018'\n",
    "progressing.head(2)"
   ]
  },
  {
   "cell_type": "code",
   "execution_count": 1155,
   "metadata": {},
   "outputs": [],
   "source": [
    "progressing.to_csv(f'{PATH}/registry/progressing_1819.csv', index=None)"
   ]
  },
  {
   "cell_type": "code",
   "execution_count": 1156,
   "metadata": {},
   "outputs": [
    {
     "data": {
      "text/plain": [
       "2318"
      ]
     },
     "execution_count": 1156,
     "metadata": {},
     "output_type": "execute_result"
    }
   ],
   "source": [
    "n_grad = all_1819[all_1819['year'] == 4].shape[0] + random.randint(-100, 50)\n",
    "n_grad"
   ]
  },
  {
   "cell_type": "code",
   "execution_count": 1157,
   "metadata": {},
   "outputs": [
    {
     "data": {
      "text/html": [
       "<div>\n",
       "<style scoped>\n",
       "    .dataframe tbody tr th:only-of-type {\n",
       "        vertical-align: middle;\n",
       "    }\n",
       "\n",
       "    .dataframe tbody tr th {\n",
       "        vertical-align: top;\n",
       "    }\n",
       "\n",
       "    .dataframe thead th {\n",
       "        text-align: right;\n",
       "    }\n",
       "</style>\n",
       "<table border=\"1\" class=\"dataframe\">\n",
       "  <thead>\n",
       "    <tr style=\"text-align: right;\">\n",
       "      <th></th>\n",
       "      <th>name</th>\n",
       "      <th>phone</th>\n",
       "      <th>address</th>\n",
       "      <th>gender</th>\n",
       "      <th>student_id</th>\n",
       "      <th>email</th>\n",
       "      <th>year</th>\n",
       "    </tr>\n",
       "  </thead>\n",
       "  <tbody>\n",
       "    <tr>\n",
       "      <th>0</th>\n",
       "      <td>Olivia Miller</td>\n",
       "      <td>742.742.0417</td>\n",
       "      <td>12048 Rogers Shores Apt. 303, South Billychest...</td>\n",
       "      <td>female</td>\n",
       "      <td>None</td>\n",
       "      <td>None</td>\n",
       "      <td>4</td>\n",
       "    </tr>\n",
       "    <tr>\n",
       "      <th>1</th>\n",
       "      <td>Catherine Lucas</td>\n",
       "      <td>771.602.5707</td>\n",
       "      <td>665 Jackson Trail, Brettmouth, PW 31567</td>\n",
       "      <td>female</td>\n",
       "      <td>None</td>\n",
       "      <td>None</td>\n",
       "      <td>4</td>\n",
       "    </tr>\n",
       "    <tr>\n",
       "      <th>2</th>\n",
       "      <td>Lisa Mccoy</td>\n",
       "      <td>(337)875-0145x85521</td>\n",
       "      <td>023 Shaffer Branch, New Allison, MO 29298</td>\n",
       "      <td>female</td>\n",
       "      <td>None</td>\n",
       "      <td>None</td>\n",
       "      <td>4</td>\n",
       "    </tr>\n",
       "    <tr>\n",
       "      <th>3</th>\n",
       "      <td>Stephanie Rhodes</td>\n",
       "      <td>001-937-732-8622x93889</td>\n",
       "      <td>Unit 5326 Box 3814, DPO AE 99037</td>\n",
       "      <td>female</td>\n",
       "      <td>None</td>\n",
       "      <td>None</td>\n",
       "      <td>4</td>\n",
       "    </tr>\n",
       "    <tr>\n",
       "      <th>4</th>\n",
       "      <td>Brandon Martinez</td>\n",
       "      <td>370.292.3099x9866</td>\n",
       "      <td>18278 Patrick Parkway, South Daniel, MI 78611</td>\n",
       "      <td>male</td>\n",
       "      <td>None</td>\n",
       "      <td>None</td>\n",
       "      <td>4</td>\n",
       "    </tr>\n",
       "  </tbody>\n",
       "</table>\n",
       "</div>"
      ],
      "text/plain": [
       "               name                   phone  \\\n",
       "0     Olivia Miller            742.742.0417   \n",
       "1   Catherine Lucas            771.602.5707   \n",
       "2        Lisa Mccoy     (337)875-0145x85521   \n",
       "3  Stephanie Rhodes  001-937-732-8622x93889   \n",
       "4  Brandon Martinez       370.292.3099x9866   \n",
       "\n",
       "                                             address  gender student_id email  \\\n",
       "0  12048 Rogers Shores Apt. 303, South Billychest...  female       None  None   \n",
       "1            665 Jackson Trail, Brettmouth, PW 31567  female       None  None   \n",
       "2          023 Shaffer Branch, New Allison, MO 29298  female       None  None   \n",
       "3                   Unit 5326 Box 3814, DPO AE 99037  female       None  None   \n",
       "4      18278 Patrick Parkway, South Daniel, MI 78611    male       None  None   \n",
       "\n",
       "   year  \n",
       "0     4  \n",
       "1     4  \n",
       "2     4  \n",
       "3     4  \n",
       "4     4  "
      ]
     },
     "execution_count": 1157,
     "metadata": {},
     "output_type": "execute_result"
    }
   ],
   "source": [
    "grad_1718 = []\n",
    "for i in range(n_grad):\n",
    "    if random.random() >= 0.5:\n",
    "        full_name = faker.first_name_female() + ' ' + faker.last_name()\n",
    "        gender = 'female'\n",
    "    else:\n",
    "        full_name = faker.first_name_male() + ' ' + faker.last_name()\n",
    "        gender = 'male'\n",
    "    phone = faker.phone_number()\n",
    "    addr = faker.address().replace('\\n', ', ')\n",
    "    grad_1718.append({\n",
    "        'name': full_name,\n",
    "        'phone': phone,\n",
    "        'address': addr,\n",
    "        'gender': gender,\n",
    "        'student_id': None,\n",
    "        'email': None,\n",
    "        'year': 4\n",
    "    })\n",
    "\n",
    "grad_1718_df = pd.DataFrame.from_records(grad_1718)\n",
    "grad_1718_df.head()"
   ]
  },
  {
   "cell_type": "code",
   "execution_count": 1158,
   "metadata": {},
   "outputs": [],
   "source": [
    "grad_1718_df['department'] = np.random.choice(dept_count.index, size=n_grad, p=dept_count.values)\n",
    "grad_1718_df['valid_year'] = '2017 - 2018'\n",
    "grad_1718_df['grad_year'] = '2017 - 2018'\n",
    "grad_1718_df.to_csv(f'{PATH}/registry/grad_1718.csv', index=None)"
   ]
  },
  {
   "cell_type": "code",
   "execution_count": 1159,
   "metadata": {},
   "outputs": [
    {
     "data": {
      "text/plain": [
       "107"
      ]
     },
     "execution_count": 1159,
     "metadata": {},
     "output_type": "execute_result"
    }
   ],
   "source": [
    "n_dropout = 100 + random.randint(-20, 40)\n",
    "n_dropout"
   ]
  },
  {
   "cell_type": "code",
   "execution_count": 1160,
   "metadata": {},
   "outputs": [],
   "source": [
    "dropout_1718 = []\n",
    "for i in range(n_dropout):\n",
    "    if random.random() >= 0.5:\n",
    "        full_name = faker.first_name_female() + ' ' + faker.last_name()\n",
    "        gender = 'female'\n",
    "    else:\n",
    "        full_name = faker.first_name_male() + ' ' + faker.last_name()\n",
    "        gender = 'male'\n",
    "    phone = faker.phone_number()\n",
    "    addr = faker.address().replace('\\n', ', ')\n",
    "    dropout_1718.append({\n",
    "        'name': full_name,\n",
    "        'phone': phone,\n",
    "        'address': addr,\n",
    "        'gender': gender,\n",
    "        'student_id': None,\n",
    "        'email': None\n",
    "    })\n",
    "\n",
    "dropout_1718_df = pd.DataFrame.from_records(dropout_1718)"
   ]
  },
  {
   "cell_type": "code",
   "execution_count": 1161,
   "metadata": {},
   "outputs": [
    {
     "data": {
      "text/html": [
       "<div>\n",
       "<style scoped>\n",
       "    .dataframe tbody tr th:only-of-type {\n",
       "        vertical-align: middle;\n",
       "    }\n",
       "\n",
       "    .dataframe tbody tr th {\n",
       "        vertical-align: top;\n",
       "    }\n",
       "\n",
       "    .dataframe thead th {\n",
       "        text-align: right;\n",
       "    }\n",
       "</style>\n",
       "<table border=\"1\" class=\"dataframe\">\n",
       "  <thead>\n",
       "    <tr style=\"text-align: right;\">\n",
       "      <th></th>\n",
       "      <th>name</th>\n",
       "      <th>phone</th>\n",
       "      <th>address</th>\n",
       "      <th>gender</th>\n",
       "      <th>student_id</th>\n",
       "      <th>email</th>\n",
       "      <th>year</th>\n",
       "      <th>department</th>\n",
       "      <th>valid_year</th>\n",
       "      <th>dropout_year</th>\n",
       "    </tr>\n",
       "  </thead>\n",
       "  <tbody>\n",
       "    <tr>\n",
       "      <th>0</th>\n",
       "      <td>Julia Smith</td>\n",
       "      <td>417.218.3999</td>\n",
       "      <td>818 Brian Brook, East Michelle, MH 39841</td>\n",
       "      <td>female</td>\n",
       "      <td>None</td>\n",
       "      <td>None</td>\n",
       "      <td>4</td>\n",
       "      <td>EDUC</td>\n",
       "      <td>2017 - 2018</td>\n",
       "      <td>2017 - 2018</td>\n",
       "    </tr>\n",
       "    <tr>\n",
       "      <th>1</th>\n",
       "      <td>Sara Carey</td>\n",
       "      <td>9343117316</td>\n",
       "      <td>1564 Lisa Hollow Suite 939, Fernandoville, MH ...</td>\n",
       "      <td>female</td>\n",
       "      <td>None</td>\n",
       "      <td>None</td>\n",
       "      <td>1</td>\n",
       "      <td>SOAN</td>\n",
       "      <td>2017 - 2018</td>\n",
       "      <td>2017 - 2018</td>\n",
       "    </tr>\n",
       "  </tbody>\n",
       "</table>\n",
       "</div>"
      ],
      "text/plain": [
       "          name         phone  \\\n",
       "0  Julia Smith  417.218.3999   \n",
       "1   Sara Carey    9343117316   \n",
       "\n",
       "                                             address  gender student_id email  \\\n",
       "0           818 Brian Brook, East Michelle, MH 39841  female       None  None   \n",
       "1  1564 Lisa Hollow Suite 939, Fernandoville, MH ...  female       None  None   \n",
       "\n",
       "   year department   valid_year dropout_year  \n",
       "0     4       EDUC  2017 - 2018  2017 - 2018  \n",
       "1     1       SOAN  2017 - 2018  2017 - 2018  "
      ]
     },
     "execution_count": 1161,
     "metadata": {},
     "output_type": "execute_result"
    }
   ],
   "source": [
    "dropout_1718_df['year'] = np.random.choice(year_count.index, size=n_dropout, p=year_count.values)\n",
    "dropout_1718_df['department'] = np.random.choice(dept_count.index, size=n_dropout, p=dept_count.values)\n",
    "dropout_1718_df['valid_year'] = '2017 - 2018'\n",
    "dropout_1718_df['dropout_year'] = '2017 - 2018'\n",
    "dropout_1718_df.head(2)"
   ]
  },
  {
   "cell_type": "code",
   "execution_count": 1162,
   "metadata": {},
   "outputs": [],
   "source": [
    "dropout_1718_df.to_csv(f'{PATH}/registry/dropout_1718.csv', index=None)"
   ]
  },
  {
   "cell_type": "code",
   "execution_count": 1163,
   "metadata": {},
   "outputs": [
    {
     "data": {
      "text/plain": [
       "155"
      ]
     },
     "execution_count": 1163,
     "metadata": {},
     "output_type": "execute_result"
    }
   ],
   "source": [
    "n_loa_return = 150 + random.randint(-10, 10)\n",
    "n_loa_return"
   ]
  },
  {
   "cell_type": "code",
   "execution_count": 1164,
   "metadata": {},
   "outputs": [
    {
     "data": {
      "text/plain": [
       "(6562, 9)"
      ]
     },
     "execution_count": 1164,
     "metadata": {},
     "output_type": "execute_result"
    }
   ],
   "source": [
    "valid_1718 = pd.concat([progressing, repeating], ignore_index=True)\n",
    "valid_1718.shape"
   ]
  },
  {
   "cell_type": "code",
   "execution_count": 1165,
   "metadata": {},
   "outputs": [],
   "source": [
    "valid_1718 = valid_1718[valid_1718['year'] > 1]"
   ]
  },
  {
   "cell_type": "code",
   "execution_count": 1166,
   "metadata": {},
   "outputs": [
    {
     "data": {
      "text/html": [
       "<div>\n",
       "<style scoped>\n",
       "    .dataframe tbody tr th:only-of-type {\n",
       "        vertical-align: middle;\n",
       "    }\n",
       "\n",
       "    .dataframe tbody tr th {\n",
       "        vertical-align: top;\n",
       "    }\n",
       "\n",
       "    .dataframe thead th {\n",
       "        text-align: right;\n",
       "    }\n",
       "</style>\n",
       "<table border=\"1\" class=\"dataframe\">\n",
       "  <thead>\n",
       "    <tr style=\"text-align: right;\">\n",
       "      <th></th>\n",
       "      <th>name</th>\n",
       "      <th>phone</th>\n",
       "      <th>address</th>\n",
       "      <th>gender</th>\n",
       "      <th>student_id</th>\n",
       "      <th>email</th>\n",
       "      <th>year</th>\n",
       "      <th>department</th>\n",
       "      <th>valid_year</th>\n",
       "    </tr>\n",
       "  </thead>\n",
       "  <tbody>\n",
       "    <tr>\n",
       "      <th>3755</th>\n",
       "      <td>Amy Lane</td>\n",
       "      <td>001-409-765-0777</td>\n",
       "      <td>66107 Craig Loop, Martinezborough, GA 93695</td>\n",
       "      <td>female</td>\n",
       "      <td>al829</td>\n",
       "      <td>al829@upc.edu</td>\n",
       "      <td>2</td>\n",
       "      <td>WRIT</td>\n",
       "      <td>2017 - 2018</td>\n",
       "    </tr>\n",
       "    <tr>\n",
       "      <th>5964</th>\n",
       "      <td>Michael Johnson</td>\n",
       "      <td>(271)742-3806x395</td>\n",
       "      <td>8458 Brian Streets, Michaelmouth, IN 44450</td>\n",
       "      <td>male</td>\n",
       "      <td>mj111</td>\n",
       "      <td>mj111@upc.edu</td>\n",
       "      <td>3</td>\n",
       "      <td>POSC</td>\n",
       "      <td>2017 - 2018</td>\n",
       "    </tr>\n",
       "  </tbody>\n",
       "</table>\n",
       "</div>"
      ],
      "text/plain": [
       "                 name              phone  \\\n",
       "3755         Amy Lane   001-409-765-0777   \n",
       "5964  Michael Johnson  (271)742-3806x395   \n",
       "\n",
       "                                          address  gender student_id  \\\n",
       "3755  66107 Craig Loop, Martinezborough, GA 93695  female      al829   \n",
       "5964   8458 Brian Streets, Michaelmouth, IN 44450    male      mj111   \n",
       "\n",
       "              email  year department   valid_year  \n",
       "3755  al829@upc.edu     2       WRIT  2017 - 2018  \n",
       "5964  mj111@upc.edu     3       POSC  2017 - 2018  "
      ]
     },
     "execution_count": 1166,
     "metadata": {},
     "output_type": "execute_result"
    }
   ],
   "source": [
    "loa_return_1718_df = valid_1718.sample(n=n_loa_return, random_state=0)\n",
    "loa_return_1718_df.head(2)"
   ]
  },
  {
   "cell_type": "code",
   "execution_count": 1167,
   "metadata": {},
   "outputs": [
    {
     "data": {
      "text/plain": [
       "2    78\n",
       "3    77\n",
       "Name: year, dtype: int64"
      ]
     },
     "execution_count": 1167,
     "metadata": {},
     "output_type": "execute_result"
    }
   ],
   "source": [
    "loa_return_1718_df['year'].value_counts()"
   ]
  },
  {
   "cell_type": "code",
   "execution_count": 1168,
   "metadata": {},
   "outputs": [],
   "source": [
    "loa_return_1718_df['return_year'] = '2017 - 2018'\n",
    "loa_return_1718_df['loa_year'] = '2015 - 2016'\n",
    "loa_return_1718_df.to_csv(f'{PATH}/registry/loa_return_1718.csv', index=None)"
   ]
  },
  {
   "cell_type": "code",
   "execution_count": 1169,
   "metadata": {},
   "outputs": [
    {
     "name": "stdout",
     "output_type": "stream",
     "text": [
      "(156, 11)\n"
     ]
    },
    {
     "data": {
      "text/html": [
       "<div>\n",
       "<style scoped>\n",
       "    .dataframe tbody tr th:only-of-type {\n",
       "        vertical-align: middle;\n",
       "    }\n",
       "\n",
       "    .dataframe tbody tr th {\n",
       "        vertical-align: top;\n",
       "    }\n",
       "\n",
       "    .dataframe thead th {\n",
       "        text-align: right;\n",
       "    }\n",
       "</style>\n",
       "<table border=\"1\" class=\"dataframe\">\n",
       "  <thead>\n",
       "    <tr style=\"text-align: right;\">\n",
       "      <th></th>\n",
       "      <th>name</th>\n",
       "      <th>phone</th>\n",
       "      <th>address</th>\n",
       "      <th>gender</th>\n",
       "      <th>student_id</th>\n",
       "      <th>email</th>\n",
       "      <th>year</th>\n",
       "      <th>department</th>\n",
       "      <th>valid_year</th>\n",
       "      <th>return_year</th>\n",
       "      <th>loa_year</th>\n",
       "    </tr>\n",
       "  </thead>\n",
       "  <tbody>\n",
       "    <tr>\n",
       "      <th>0</th>\n",
       "      <td>Karen Leblanc</td>\n",
       "      <td>+1-986-825-3335x247</td>\n",
       "      <td>38883 Weber Forks, West Kristinahaven, NJ 72432</td>\n",
       "      <td>female</td>\n",
       "      <td>kl789</td>\n",
       "      <td>kl789@upc.edu</td>\n",
       "      <td>2</td>\n",
       "      <td>ARTS</td>\n",
       "      <td>2017 - 2018</td>\n",
       "      <td>2019 - 2020</td>\n",
       "      <td>2017 - 2018</td>\n",
       "    </tr>\n",
       "    <tr>\n",
       "      <th>1</th>\n",
       "      <td>Jack Martin</td>\n",
       "      <td>655.579.3838x1715</td>\n",
       "      <td>828 Cox Ports Suite 573, Hardinside, AS 76408</td>\n",
       "      <td>male</td>\n",
       "      <td>jm917</td>\n",
       "      <td>jm917@upc.edu</td>\n",
       "      <td>1</td>\n",
       "      <td>RELG</td>\n",
       "      <td>2017 - 2018</td>\n",
       "      <td>2019 - 2020</td>\n",
       "      <td>2017 - 2018</td>\n",
       "    </tr>\n",
       "  </tbody>\n",
       "</table>\n",
       "</div>"
      ],
      "text/plain": [
       "            name                phone  \\\n",
       "0  Karen Leblanc  +1-986-825-3335x247   \n",
       "1    Jack Martin    655.579.3838x1715   \n",
       "\n",
       "                                           address  gender student_id  \\\n",
       "0  38883 Weber Forks, West Kristinahaven, NJ 72432  female      kl789   \n",
       "1    828 Cox Ports Suite 573, Hardinside, AS 76408    male      jm917   \n",
       "\n",
       "           email  year department   valid_year  return_year     loa_year  \n",
       "0  kl789@upc.edu     2       ARTS  2017 - 2018  2019 - 2020  2017 - 2018  \n",
       "1  jm917@upc.edu     1       RELG  2017 - 2018  2019 - 2020  2017 - 2018  "
      ]
     },
     "execution_count": 1169,
     "metadata": {},
     "output_type": "execute_result"
    }
   ],
   "source": [
    "loa_after_1718_df = pd.read_csv(f'{PATH}/registry/loa_return_1920.csv')\n",
    "loa_after_1718_df['valid_year'] = '2017 - 2018'\n",
    "loa_after_1718_df['year'] -= 1\n",
    "print(loa_after_1718_df.shape)\n",
    "loa_after_1718_df.head(2)"
   ]
  },
  {
   "cell_type": "code",
   "execution_count": 1170,
   "metadata": {},
   "outputs": [
    {
     "data": {
      "text/plain": [
       "2    82\n",
       "1    74\n",
       "Name: year, dtype: int64"
      ]
     },
     "execution_count": 1170,
     "metadata": {},
     "output_type": "execute_result"
    }
   ],
   "source": [
    "loa_after_1718_df['year'].value_counts()"
   ]
  },
  {
   "cell_type": "code",
   "execution_count": 1171,
   "metadata": {},
   "outputs": [],
   "source": [
    "dropout_1718_df_2 = dropout_1718_df.copy()\n",
    "dropout_1718_df_2 = dropout_1718_df_2.drop(columns=['dropout_year'], axis=1)\n",
    "\n",
    "grad_1718_df_2 = grad_1718_df.copy()\n",
    "grad_1718_df_2 = grad_1718_df_2.drop(columns=['grad_year'], axis=1)\n",
    "\n",
    "loa_return_1718_df_2 = loa_return_1718_df.copy()\n",
    "loa_return_1718_df_2 = loa_return_1718_df_2.drop(columns=['loa_year', 'return_year'], axis=1)\n",
    "\n",
    "loa_after_1718_df_2 = loa_after_1718_df.copy()\n",
    "loa_after_1718_df_2 = loa_after_1718_df_2.drop(columns=['loa_year', 'return_year'], axis=1)"
   ]
  },
  {
   "cell_type": "code",
   "execution_count": 1172,
   "metadata": {},
   "outputs": [
    {
     "name": "stdout",
     "output_type": "stream",
     "text": [
      "(9143, 9)\n"
     ]
    },
    {
     "data": {
      "text/html": [
       "<div>\n",
       "<style scoped>\n",
       "    .dataframe tbody tr th:only-of-type {\n",
       "        vertical-align: middle;\n",
       "    }\n",
       "\n",
       "    .dataframe tbody tr th {\n",
       "        vertical-align: top;\n",
       "    }\n",
       "\n",
       "    .dataframe thead th {\n",
       "        text-align: right;\n",
       "    }\n",
       "</style>\n",
       "<table border=\"1\" class=\"dataframe\">\n",
       "  <thead>\n",
       "    <tr style=\"text-align: right;\">\n",
       "      <th></th>\n",
       "      <th>name</th>\n",
       "      <th>phone</th>\n",
       "      <th>address</th>\n",
       "      <th>gender</th>\n",
       "      <th>student_id</th>\n",
       "      <th>email</th>\n",
       "      <th>year</th>\n",
       "      <th>department</th>\n",
       "      <th>valid_year</th>\n",
       "    </tr>\n",
       "  </thead>\n",
       "  <tbody>\n",
       "    <tr>\n",
       "      <th>0</th>\n",
       "      <td>Mary Stone</td>\n",
       "      <td>001-877-868-6397x009</td>\n",
       "      <td>44127 Wagner Avenue Suite 935, North David, VI...</td>\n",
       "      <td>female</td>\n",
       "      <td>ms532</td>\n",
       "      <td>ms532@upc.edu</td>\n",
       "      <td>3</td>\n",
       "      <td>ARTS</td>\n",
       "      <td>2017 - 2018</td>\n",
       "    </tr>\n",
       "    <tr>\n",
       "      <th>1</th>\n",
       "      <td>Madison Davis</td>\n",
       "      <td>2959046217</td>\n",
       "      <td>7264 Aaron Common, West Patrickmouth, HI 01246</td>\n",
       "      <td>female</td>\n",
       "      <td>md855</td>\n",
       "      <td>md855@upc.edu</td>\n",
       "      <td>4</td>\n",
       "      <td>PBSC</td>\n",
       "      <td>2017 - 2018</td>\n",
       "    </tr>\n",
       "    <tr>\n",
       "      <th>2</th>\n",
       "      <td>Christopher Lopez</td>\n",
       "      <td>001-735-370-6715x63237</td>\n",
       "      <td>00223 Howard Cove Suite 553, Gonzalezbury, SD ...</td>\n",
       "      <td>male</td>\n",
       "      <td>cl764</td>\n",
       "      <td>cl764@upc.edu</td>\n",
       "      <td>4</td>\n",
       "      <td>CHEM</td>\n",
       "      <td>2017 - 2018</td>\n",
       "    </tr>\n",
       "    <tr>\n",
       "      <th>3</th>\n",
       "      <td>Arthur Dickson</td>\n",
       "      <td>(773)562-8494x3488</td>\n",
       "      <td>45265 Parker Plains, Port Marystad, VT 30287</td>\n",
       "      <td>male</td>\n",
       "      <td>ad129</td>\n",
       "      <td>ad129@upc.edu</td>\n",
       "      <td>2</td>\n",
       "      <td>POSC</td>\n",
       "      <td>2017 - 2018</td>\n",
       "    </tr>\n",
       "    <tr>\n",
       "      <th>4</th>\n",
       "      <td>Samantha Walker</td>\n",
       "      <td>467.649.5685</td>\n",
       "      <td>7027 Alvarado Estates, Mclaughlinberg, SC 26202</td>\n",
       "      <td>female</td>\n",
       "      <td>sw386</td>\n",
       "      <td>sw386@upc.edu</td>\n",
       "      <td>2</td>\n",
       "      <td>ECON</td>\n",
       "      <td>2017 - 2018</td>\n",
       "    </tr>\n",
       "  </tbody>\n",
       "</table>\n",
       "</div>"
      ],
      "text/plain": [
       "                name                   phone  \\\n",
       "0         Mary Stone    001-877-868-6397x009   \n",
       "1      Madison Davis              2959046217   \n",
       "2  Christopher Lopez  001-735-370-6715x63237   \n",
       "3     Arthur Dickson      (773)562-8494x3488   \n",
       "4    Samantha Walker            467.649.5685   \n",
       "\n",
       "                                             address  gender student_id  \\\n",
       "0  44127 Wagner Avenue Suite 935, North David, VI...  female      ms532   \n",
       "1     7264 Aaron Common, West Patrickmouth, HI 01246  female      md855   \n",
       "2  00223 Howard Cove Suite 553, Gonzalezbury, SD ...    male      cl764   \n",
       "3       45265 Parker Plains, Port Marystad, VT 30287    male      ad129   \n",
       "4    7027 Alvarado Estates, Mclaughlinberg, SC 26202  female      sw386   \n",
       "\n",
       "           email  year department   valid_year  \n",
       "0  ms532@upc.edu     3       ARTS  2017 - 2018  \n",
       "1  md855@upc.edu     4       PBSC  2017 - 2018  \n",
       "2  cl764@upc.edu     4       CHEM  2017 - 2018  \n",
       "3  ad129@upc.edu     2       POSC  2017 - 2018  \n",
       "4  sw386@upc.edu     2       ECON  2017 - 2018  "
      ]
     },
     "execution_count": 1172,
     "metadata": {},
     "output_type": "execute_result"
    }
   ],
   "source": [
    "all_1718 = pd.concat([\n",
    "    repeating,\n",
    "    progressing,\n",
    "    dropout_1718_df_2,\n",
    "    grad_1718_df_2,\n",
    "    loa_after_1718_df_2\n",
    "], ignore_index=True)\n",
    "print(all_1718.shape)\n",
    "all_1718.head()"
   ]
  },
  {
   "cell_type": "code",
   "execution_count": 1173,
   "metadata": {},
   "outputs": [
    {
     "data": {
      "text/plain": [
       "4    2362\n",
       "3    2306\n",
       "2    2274\n",
       "1    2201\n",
       "Name: year, dtype: int64"
      ]
     },
     "execution_count": 1173,
     "metadata": {},
     "output_type": "execute_result"
    }
   ],
   "source": [
    "all_1718['year'].value_counts()"
   ]
  },
  {
   "cell_type": "code",
   "execution_count": 1174,
   "metadata": {},
   "outputs": [
    {
     "data": {
      "text/plain": [
       "22720"
      ]
     },
     "execution_count": 1174,
     "metadata": {},
     "output_type": "execute_result"
    }
   ],
   "source": [
    "len(all_ids)"
   ]
  },
  {
   "cell_type": "code",
   "execution_count": 1175,
   "metadata": {},
   "outputs": [],
   "source": [
    "all_1718['student_id'] = all_1718.apply(lambda x: generate_student_id(x), axis=1)\n",
    "all_1718['email'] = all_1718.apply(lambda x: generate_email(x), axis=1)"
   ]
  },
  {
   "cell_type": "code",
   "execution_count": 1176,
   "metadata": {},
   "outputs": [],
   "source": [
    "all_1718.to_csv(f'{PATH}/registry/all_1718.csv', index=None)"
   ]
  },
  {
   "cell_type": "markdown",
   "metadata": {},
   "source": [
    "# 2016 - 2017"
   ]
  },
  {
   "cell_type": "code",
   "execution_count": 1177,
   "metadata": {},
   "outputs": [
    {
     "data": {
      "text/plain": [
       "(6942, 9)"
      ]
     },
     "execution_count": 1177,
     "metadata": {},
     "output_type": "execute_result"
    }
   ],
   "source": [
    "upperclass = all_1718[all_1718['year'] > 1]\n",
    "upperclass.shape"
   ]
  },
  {
   "cell_type": "code",
   "execution_count": 1178,
   "metadata": {},
   "outputs": [
    {
     "name": "stdout",
     "output_type": "stream",
     "text": [
      "(155, 11)\n"
     ]
    },
    {
     "data": {
      "text/html": [
       "<div>\n",
       "<style scoped>\n",
       "    .dataframe tbody tr th:only-of-type {\n",
       "        vertical-align: middle;\n",
       "    }\n",
       "\n",
       "    .dataframe tbody tr th {\n",
       "        vertical-align: top;\n",
       "    }\n",
       "\n",
       "    .dataframe thead th {\n",
       "        text-align: right;\n",
       "    }\n",
       "</style>\n",
       "<table border=\"1\" class=\"dataframe\">\n",
       "  <thead>\n",
       "    <tr style=\"text-align: right;\">\n",
       "      <th></th>\n",
       "      <th>name</th>\n",
       "      <th>phone</th>\n",
       "      <th>address</th>\n",
       "      <th>gender</th>\n",
       "      <th>student_id</th>\n",
       "      <th>email</th>\n",
       "      <th>year</th>\n",
       "      <th>department</th>\n",
       "      <th>valid_year</th>\n",
       "      <th>return_year</th>\n",
       "      <th>loa_year</th>\n",
       "    </tr>\n",
       "  </thead>\n",
       "  <tbody>\n",
       "    <tr>\n",
       "      <th>3755</th>\n",
       "      <td>Amy Lane</td>\n",
       "      <td>001-409-765-0777</td>\n",
       "      <td>66107 Craig Loop, Martinezborough, GA 93695</td>\n",
       "      <td>female</td>\n",
       "      <td>al829</td>\n",
       "      <td>al829@upc.edu</td>\n",
       "      <td>2</td>\n",
       "      <td>WRIT</td>\n",
       "      <td>2017 - 2018</td>\n",
       "      <td>2017 - 2018</td>\n",
       "      <td>2015 - 2016</td>\n",
       "    </tr>\n",
       "    <tr>\n",
       "      <th>5964</th>\n",
       "      <td>Michael Johnson</td>\n",
       "      <td>(271)742-3806x395</td>\n",
       "      <td>8458 Brian Streets, Michaelmouth, IN 44450</td>\n",
       "      <td>male</td>\n",
       "      <td>mj111</td>\n",
       "      <td>mj111@upc.edu</td>\n",
       "      <td>3</td>\n",
       "      <td>POSC</td>\n",
       "      <td>2017 - 2018</td>\n",
       "      <td>2017 - 2018</td>\n",
       "      <td>2015 - 2016</td>\n",
       "    </tr>\n",
       "  </tbody>\n",
       "</table>\n",
       "</div>"
      ],
      "text/plain": [
       "                 name              phone  \\\n",
       "3755         Amy Lane   001-409-765-0777   \n",
       "5964  Michael Johnson  (271)742-3806x395   \n",
       "\n",
       "                                          address  gender student_id  \\\n",
       "3755  66107 Craig Loop, Martinezborough, GA 93695  female      al829   \n",
       "5964   8458 Brian Streets, Michaelmouth, IN 44450    male      mj111   \n",
       "\n",
       "              email  year department   valid_year  return_year     loa_year  \n",
       "3755  al829@upc.edu     2       WRIT  2017 - 2018  2017 - 2018  2015 - 2016  \n",
       "5964  mj111@upc.edu     3       POSC  2017 - 2018  2017 - 2018  2015 - 2016  "
      ]
     },
     "execution_count": 1178,
     "metadata": {},
     "output_type": "execute_result"
    }
   ],
   "source": [
    "print(loa_return_1718_df.shape)\n",
    "loa_return_1718_df.head(2)"
   ]
  },
  {
   "cell_type": "code",
   "execution_count": 1179,
   "metadata": {},
   "outputs": [
    {
     "data": {
      "text/plain": [
       "(6787, 9)"
      ]
     },
     "execution_count": 1179,
     "metadata": {},
     "output_type": "execute_result"
    }
   ],
   "source": [
    "upperclass = upperclass[~upperclass['student_id'].isin(loa_return_1718_df['student_id'])]\n",
    "upperclass.shape"
   ]
  },
  {
   "cell_type": "code",
   "execution_count": 1180,
   "metadata": {},
   "outputs": [
    {
     "data": {
      "text/plain": [
       "(27, 9)"
      ]
     },
     "execution_count": 1180,
     "metadata": {},
     "output_type": "execute_result"
    }
   ],
   "source": [
    "repeating = upperclass.sample(n=30 + random.randint(-10, 10), random_state=0)\n",
    "repeating.shape"
   ]
  },
  {
   "cell_type": "code",
   "execution_count": 1181,
   "metadata": {},
   "outputs": [],
   "source": [
    "repeating['repeating_year'] = '2017 - 2018'\n",
    "repeating['valid_year'] = '2016 - 2017'"
   ]
  },
  {
   "cell_type": "code",
   "execution_count": 1182,
   "metadata": {},
   "outputs": [],
   "source": [
    "repeating.to_csv(f'{PATH}/registry/repeating_1718.csv', index=None)\n",
    "repeating = repeating.drop(columns=['repeating_year'], axis=1)"
   ]
  },
  {
   "cell_type": "code",
   "execution_count": 1183,
   "metadata": {},
   "outputs": [
    {
     "data": {
      "text/plain": [
       "(6760, 9)"
      ]
     },
     "execution_count": 1183,
     "metadata": {},
     "output_type": "execute_result"
    }
   ],
   "source": [
    "progressing = upperclass[~upperclass['student_id'].isin(repeating['student_id'])]\n",
    "progressing.shape"
   ]
  },
  {
   "cell_type": "code",
   "execution_count": 1184,
   "metadata": {},
   "outputs": [
    {
     "data": {
      "text/plain": [
       "4    2353\n",
       "3    2223\n",
       "2    2184\n",
       "Name: year, dtype: int64"
      ]
     },
     "execution_count": 1184,
     "metadata": {},
     "output_type": "execute_result"
    }
   ],
   "source": [
    "progressing['year'].value_counts()"
   ]
  },
  {
   "cell_type": "code",
   "execution_count": 1185,
   "metadata": {},
   "outputs": [
    {
     "name": "stderr",
     "output_type": "stream",
     "text": [
      "/var/folders/2l/srpzk4jx3bd_85xnzblspysc0000gn/T/ipykernel_39601/3969097886.py:1: SettingWithCopyWarning: \n",
      "A value is trying to be set on a copy of a slice from a DataFrame.\n",
      "Try using .loc[row_indexer,col_indexer] = value instead\n",
      "\n",
      "See the caveats in the documentation: https://pandas.pydata.org/pandas-docs/stable/user_guide/indexing.html#returning-a-view-versus-a-copy\n",
      "  progressing['year'] = progressing['year'] - 1\n",
      "/var/folders/2l/srpzk4jx3bd_85xnzblspysc0000gn/T/ipykernel_39601/3969097886.py:2: SettingWithCopyWarning: \n",
      "A value is trying to be set on a copy of a slice from a DataFrame.\n",
      "Try using .loc[row_indexer,col_indexer] = value instead\n",
      "\n",
      "See the caveats in the documentation: https://pandas.pydata.org/pandas-docs/stable/user_guide/indexing.html#returning-a-view-versus-a-copy\n",
      "  progressing['valid_year'] = '2016 - 2017'\n"
     ]
    },
    {
     "data": {
      "text/html": [
       "<div>\n",
       "<style scoped>\n",
       "    .dataframe tbody tr th:only-of-type {\n",
       "        vertical-align: middle;\n",
       "    }\n",
       "\n",
       "    .dataframe tbody tr th {\n",
       "        vertical-align: top;\n",
       "    }\n",
       "\n",
       "    .dataframe thead th {\n",
       "        text-align: right;\n",
       "    }\n",
       "</style>\n",
       "<table border=\"1\" class=\"dataframe\">\n",
       "  <thead>\n",
       "    <tr style=\"text-align: right;\">\n",
       "      <th></th>\n",
       "      <th>name</th>\n",
       "      <th>phone</th>\n",
       "      <th>address</th>\n",
       "      <th>gender</th>\n",
       "      <th>student_id</th>\n",
       "      <th>email</th>\n",
       "      <th>year</th>\n",
       "      <th>department</th>\n",
       "      <th>valid_year</th>\n",
       "    </tr>\n",
       "  </thead>\n",
       "  <tbody>\n",
       "    <tr>\n",
       "      <th>0</th>\n",
       "      <td>Mary Stone</td>\n",
       "      <td>001-877-868-6397x009</td>\n",
       "      <td>44127 Wagner Avenue Suite 935, North David, VI...</td>\n",
       "      <td>female</td>\n",
       "      <td>ms532</td>\n",
       "      <td>ms532@upc.edu</td>\n",
       "      <td>2</td>\n",
       "      <td>ARTS</td>\n",
       "      <td>2016 - 2017</td>\n",
       "    </tr>\n",
       "    <tr>\n",
       "      <th>1</th>\n",
       "      <td>Madison Davis</td>\n",
       "      <td>2959046217</td>\n",
       "      <td>7264 Aaron Common, West Patrickmouth, HI 01246</td>\n",
       "      <td>female</td>\n",
       "      <td>md855</td>\n",
       "      <td>md855@upc.edu</td>\n",
       "      <td>3</td>\n",
       "      <td>PBSC</td>\n",
       "      <td>2016 - 2017</td>\n",
       "    </tr>\n",
       "  </tbody>\n",
       "</table>\n",
       "</div>"
      ],
      "text/plain": [
       "            name                 phone  \\\n",
       "0     Mary Stone  001-877-868-6397x009   \n",
       "1  Madison Davis            2959046217   \n",
       "\n",
       "                                             address  gender student_id  \\\n",
       "0  44127 Wagner Avenue Suite 935, North David, VI...  female      ms532   \n",
       "1     7264 Aaron Common, West Patrickmouth, HI 01246  female      md855   \n",
       "\n",
       "           email  year department   valid_year  \n",
       "0  ms532@upc.edu     2       ARTS  2016 - 2017  \n",
       "1  md855@upc.edu     3       PBSC  2016 - 2017  "
      ]
     },
     "execution_count": 1185,
     "metadata": {},
     "output_type": "execute_result"
    }
   ],
   "source": [
    "progressing['year'] = progressing['year'] - 1\n",
    "progressing['valid_year'] = '2016 - 2017'\n",
    "progressing.head(2)"
   ]
  },
  {
   "cell_type": "code",
   "execution_count": 1186,
   "metadata": {},
   "outputs": [],
   "source": [
    "progressing.to_csv(f'{PATH}/registry/progressing_1718.csv', index=None)"
   ]
  },
  {
   "cell_type": "code",
   "execution_count": 1187,
   "metadata": {},
   "outputs": [
    {
     "data": {
      "text/plain": [
       "2402"
      ]
     },
     "execution_count": 1187,
     "metadata": {},
     "output_type": "execute_result"
    }
   ],
   "source": [
    "n_grad = all_1718[all_1718['year'] == 4].shape[0] + random.randint(-100, 50)\n",
    "n_grad"
   ]
  },
  {
   "cell_type": "code",
   "execution_count": 1188,
   "metadata": {},
   "outputs": [
    {
     "data": {
      "text/html": [
       "<div>\n",
       "<style scoped>\n",
       "    .dataframe tbody tr th:only-of-type {\n",
       "        vertical-align: middle;\n",
       "    }\n",
       "\n",
       "    .dataframe tbody tr th {\n",
       "        vertical-align: top;\n",
       "    }\n",
       "\n",
       "    .dataframe thead th {\n",
       "        text-align: right;\n",
       "    }\n",
       "</style>\n",
       "<table border=\"1\" class=\"dataframe\">\n",
       "  <thead>\n",
       "    <tr style=\"text-align: right;\">\n",
       "      <th></th>\n",
       "      <th>name</th>\n",
       "      <th>phone</th>\n",
       "      <th>address</th>\n",
       "      <th>gender</th>\n",
       "      <th>student_id</th>\n",
       "      <th>email</th>\n",
       "      <th>year</th>\n",
       "    </tr>\n",
       "  </thead>\n",
       "  <tbody>\n",
       "    <tr>\n",
       "      <th>0</th>\n",
       "      <td>Megan Maldonado</td>\n",
       "      <td>989.340.9027x8994</td>\n",
       "      <td>Unit 5116 Box 1741, DPO AA 66349</td>\n",
       "      <td>female</td>\n",
       "      <td>None</td>\n",
       "      <td>None</td>\n",
       "      <td>4</td>\n",
       "    </tr>\n",
       "    <tr>\n",
       "      <th>1</th>\n",
       "      <td>Marc Gonzales</td>\n",
       "      <td>(905)449-1785x4552</td>\n",
       "      <td>71666 Smith Hills, New Nicholasland, PA 61181</td>\n",
       "      <td>male</td>\n",
       "      <td>None</td>\n",
       "      <td>None</td>\n",
       "      <td>4</td>\n",
       "    </tr>\n",
       "    <tr>\n",
       "      <th>2</th>\n",
       "      <td>Christopher Smith</td>\n",
       "      <td>001-912-890-3429x1277</td>\n",
       "      <td>PSC 9358, Box 5638, APO AP 84577</td>\n",
       "      <td>male</td>\n",
       "      <td>None</td>\n",
       "      <td>None</td>\n",
       "      <td>4</td>\n",
       "    </tr>\n",
       "    <tr>\n",
       "      <th>3</th>\n",
       "      <td>Jason Morgan</td>\n",
       "      <td>001-719-262-8698x3728</td>\n",
       "      <td>324 Lewis Camp Suite 251, Williamsberg, NC 03068</td>\n",
       "      <td>male</td>\n",
       "      <td>None</td>\n",
       "      <td>None</td>\n",
       "      <td>4</td>\n",
       "    </tr>\n",
       "    <tr>\n",
       "      <th>4</th>\n",
       "      <td>Matthew Weaver</td>\n",
       "      <td>001-552-677-4237x713</td>\n",
       "      <td>6076 Winters Haven Apt. 437, North Michellebur...</td>\n",
       "      <td>male</td>\n",
       "      <td>None</td>\n",
       "      <td>None</td>\n",
       "      <td>4</td>\n",
       "    </tr>\n",
       "  </tbody>\n",
       "</table>\n",
       "</div>"
      ],
      "text/plain": [
       "                name                  phone  \\\n",
       "0    Megan Maldonado      989.340.9027x8994   \n",
       "1      Marc Gonzales     (905)449-1785x4552   \n",
       "2  Christopher Smith  001-912-890-3429x1277   \n",
       "3       Jason Morgan  001-719-262-8698x3728   \n",
       "4     Matthew Weaver   001-552-677-4237x713   \n",
       "\n",
       "                                             address  gender student_id email  \\\n",
       "0                   Unit 5116 Box 1741, DPO AA 66349  female       None  None   \n",
       "1      71666 Smith Hills, New Nicholasland, PA 61181    male       None  None   \n",
       "2                   PSC 9358, Box 5638, APO AP 84577    male       None  None   \n",
       "3   324 Lewis Camp Suite 251, Williamsberg, NC 03068    male       None  None   \n",
       "4  6076 Winters Haven Apt. 437, North Michellebur...    male       None  None   \n",
       "\n",
       "   year  \n",
       "0     4  \n",
       "1     4  \n",
       "2     4  \n",
       "3     4  \n",
       "4     4  "
      ]
     },
     "execution_count": 1188,
     "metadata": {},
     "output_type": "execute_result"
    }
   ],
   "source": [
    "grad_1617 = []\n",
    "for i in range(n_grad):\n",
    "    if random.random() >= 0.5:\n",
    "        full_name = faker.first_name_female() + ' ' + faker.last_name()\n",
    "        gender = 'female'\n",
    "    else:\n",
    "        full_name = faker.first_name_male() + ' ' + faker.last_name()\n",
    "        gender = 'male'\n",
    "    phone = faker.phone_number()\n",
    "    addr = faker.address().replace('\\n', ', ')\n",
    "    grad_1617.append({\n",
    "        'name': full_name,\n",
    "        'phone': phone,\n",
    "        'address': addr,\n",
    "        'gender': gender,\n",
    "        'student_id': None,\n",
    "        'email': None,\n",
    "        'year': 4\n",
    "    })\n",
    "\n",
    "grad_1617_df = pd.DataFrame.from_records(grad_1617)\n",
    "grad_1617_df.head()"
   ]
  },
  {
   "cell_type": "code",
   "execution_count": 1189,
   "metadata": {},
   "outputs": [],
   "source": [
    "grad_1617_df['department'] = np.random.choice(dept_count.index, size=n_grad, p=dept_count.values)\n",
    "grad_1617_df['valid_year'] = '2016 - 2017'\n",
    "grad_1617_df['grad_year'] = '2016 - 2017'\n",
    "grad_1617_df.to_csv(f'{PATH}/registry/grad_1617.csv', index=None)"
   ]
  },
  {
   "cell_type": "code",
   "execution_count": 1190,
   "metadata": {},
   "outputs": [],
   "source": [
    "grad_1617_df['department'] = np.random.choice(dept_count.index, size=n_grad, p=dept_count.values)\n",
    "grad_1617_df['valid_year'] = '2016 - 2017'\n",
    "grad_1617_df['grad_year'] = '2016 - 2017'\n",
    "grad_1617_df.to_csv(f'{PATH}/registry/grad_1617.csv', index=None)"
   ]
  },
  {
   "cell_type": "code",
   "execution_count": 1191,
   "metadata": {},
   "outputs": [
    {
     "data": {
      "text/plain": [
       "114"
      ]
     },
     "execution_count": 1191,
     "metadata": {},
     "output_type": "execute_result"
    }
   ],
   "source": [
    "n_dropout = 100 + random.randint(-20, 40)\n",
    "n_dropout"
   ]
  },
  {
   "cell_type": "code",
   "execution_count": 1192,
   "metadata": {},
   "outputs": [],
   "source": [
    "dropout_1617 = []\n",
    "for i in range(n_dropout):\n",
    "    if random.random() >= 0.5:\n",
    "        full_name = faker.first_name_female() + ' ' + faker.last_name()\n",
    "        gender = 'female'\n",
    "    else:\n",
    "        full_name = faker.first_name_male() + ' ' + faker.last_name()\n",
    "        gender = 'male'\n",
    "    phone = faker.phone_number()\n",
    "    addr = faker.address().replace('\\n', ', ')\n",
    "    dropout_1617.append({\n",
    "        'name': full_name,\n",
    "        'phone': phone,\n",
    "        'address': addr,\n",
    "        'gender': gender,\n",
    "        'student_id': None,\n",
    "        'email': None\n",
    "    })\n",
    "\n",
    "dropout_1617_df = pd.DataFrame.from_records(dropout_1617)"
   ]
  },
  {
   "cell_type": "code",
   "execution_count": 1193,
   "metadata": {},
   "outputs": [
    {
     "data": {
      "text/html": [
       "<div>\n",
       "<style scoped>\n",
       "    .dataframe tbody tr th:only-of-type {\n",
       "        vertical-align: middle;\n",
       "    }\n",
       "\n",
       "    .dataframe tbody tr th {\n",
       "        vertical-align: top;\n",
       "    }\n",
       "\n",
       "    .dataframe thead th {\n",
       "        text-align: right;\n",
       "    }\n",
       "</style>\n",
       "<table border=\"1\" class=\"dataframe\">\n",
       "  <thead>\n",
       "    <tr style=\"text-align: right;\">\n",
       "      <th></th>\n",
       "      <th>name</th>\n",
       "      <th>phone</th>\n",
       "      <th>address</th>\n",
       "      <th>gender</th>\n",
       "      <th>student_id</th>\n",
       "      <th>email</th>\n",
       "      <th>year</th>\n",
       "      <th>department</th>\n",
       "      <th>valid_year</th>\n",
       "      <th>dropout_year</th>\n",
       "    </tr>\n",
       "  </thead>\n",
       "  <tbody>\n",
       "    <tr>\n",
       "      <th>0</th>\n",
       "      <td>Jennifer Strickland</td>\n",
       "      <td>6557603326</td>\n",
       "      <td>Unit 8737 Box 8781, DPO AA 45510</td>\n",
       "      <td>female</td>\n",
       "      <td>None</td>\n",
       "      <td>None</td>\n",
       "      <td>3</td>\n",
       "      <td>HIST</td>\n",
       "      <td>2016 - 2017</td>\n",
       "      <td>2016 - 2017</td>\n",
       "    </tr>\n",
       "    <tr>\n",
       "      <th>1</th>\n",
       "      <td>Linda Black</td>\n",
       "      <td>001-559-739-1290x272</td>\n",
       "      <td>5783 Monica Points, Norrisville, CO 56138</td>\n",
       "      <td>female</td>\n",
       "      <td>None</td>\n",
       "      <td>None</td>\n",
       "      <td>1</td>\n",
       "      <td>PHIL</td>\n",
       "      <td>2016 - 2017</td>\n",
       "      <td>2016 - 2017</td>\n",
       "    </tr>\n",
       "  </tbody>\n",
       "</table>\n",
       "</div>"
      ],
      "text/plain": [
       "                  name                 phone  \\\n",
       "0  Jennifer Strickland            6557603326   \n",
       "1          Linda Black  001-559-739-1290x272   \n",
       "\n",
       "                                     address  gender student_id email  year  \\\n",
       "0           Unit 8737 Box 8781, DPO AA 45510  female       None  None     3   \n",
       "1  5783 Monica Points, Norrisville, CO 56138  female       None  None     1   \n",
       "\n",
       "  department   valid_year dropout_year  \n",
       "0       HIST  2016 - 2017  2016 - 2017  \n",
       "1       PHIL  2016 - 2017  2016 - 2017  "
      ]
     },
     "execution_count": 1193,
     "metadata": {},
     "output_type": "execute_result"
    }
   ],
   "source": [
    "dropout_1617_df['year'] = np.random.choice(year_count.index, size=n_dropout, p=year_count.values)\n",
    "dropout_1617_df['department'] = np.random.choice(dept_count.index, size=n_dropout, p=dept_count.values)\n",
    "dropout_1617_df['valid_year'] = '2016 - 2017'\n",
    "dropout_1617_df['dropout_year'] = '2016 - 2017'\n",
    "dropout_1617_df.head(2)"
   ]
  },
  {
   "cell_type": "code",
   "execution_count": 1194,
   "metadata": {},
   "outputs": [],
   "source": [
    "dropout_1617_df.to_csv(f'{PATH}/registry/dropout_1617.csv', index=None)"
   ]
  },
  {
   "cell_type": "code",
   "execution_count": 1195,
   "metadata": {},
   "outputs": [
    {
     "data": {
      "text/plain": [
       "153"
      ]
     },
     "execution_count": 1195,
     "metadata": {},
     "output_type": "execute_result"
    }
   ],
   "source": [
    "n_loa_return = 150 + random.randint(-10, 10)\n",
    "n_loa_return"
   ]
  },
  {
   "cell_type": "code",
   "execution_count": 1196,
   "metadata": {},
   "outputs": [
    {
     "data": {
      "text/plain": [
       "(6787, 9)"
      ]
     },
     "execution_count": 1196,
     "metadata": {},
     "output_type": "execute_result"
    }
   ],
   "source": [
    "valid_1617 = pd.concat([progressing, repeating], ignore_index=True)\n",
    "valid_1617.shape"
   ]
  },
  {
   "cell_type": "code",
   "execution_count": 1197,
   "metadata": {},
   "outputs": [],
   "source": [
    "valid_1617 = valid_1617[valid_1617['year'] > 1]"
   ]
  },
  {
   "cell_type": "code",
   "execution_count": 1198,
   "metadata": {},
   "outputs": [
    {
     "data": {
      "text/html": [
       "<div>\n",
       "<style scoped>\n",
       "    .dataframe tbody tr th:only-of-type {\n",
       "        vertical-align: middle;\n",
       "    }\n",
       "\n",
       "    .dataframe tbody tr th {\n",
       "        vertical-align: top;\n",
       "    }\n",
       "\n",
       "    .dataframe thead th {\n",
       "        text-align: right;\n",
       "    }\n",
       "</style>\n",
       "<table border=\"1\" class=\"dataframe\">\n",
       "  <thead>\n",
       "    <tr style=\"text-align: right;\">\n",
       "      <th></th>\n",
       "      <th>name</th>\n",
       "      <th>phone</th>\n",
       "      <th>address</th>\n",
       "      <th>gender</th>\n",
       "      <th>student_id</th>\n",
       "      <th>email</th>\n",
       "      <th>year</th>\n",
       "      <th>department</th>\n",
       "      <th>valid_year</th>\n",
       "    </tr>\n",
       "  </thead>\n",
       "  <tbody>\n",
       "    <tr>\n",
       "      <th>3909</th>\n",
       "      <td>Amber Hall</td>\n",
       "      <td>001-936-304-8233</td>\n",
       "      <td>PSC 7440, Box 6664, APO AP 93100</td>\n",
       "      <td>female</td>\n",
       "      <td>ah241</td>\n",
       "      <td>ah241@upc.edu</td>\n",
       "      <td>2</td>\n",
       "      <td>RELG</td>\n",
       "      <td>2016 - 2017</td>\n",
       "    </tr>\n",
       "    <tr>\n",
       "      <th>3800</th>\n",
       "      <td>Ronald Watson</td>\n",
       "      <td>650-346-0501</td>\n",
       "      <td>951 Brown Expressway Suite 579, Matthewshaven,...</td>\n",
       "      <td>male</td>\n",
       "      <td>rw923</td>\n",
       "      <td>rw923@upc.edu</td>\n",
       "      <td>2</td>\n",
       "      <td>RELG</td>\n",
       "      <td>2016 - 2017</td>\n",
       "    </tr>\n",
       "  </tbody>\n",
       "</table>\n",
       "</div>"
      ],
      "text/plain": [
       "               name             phone  \\\n",
       "3909     Amber Hall  001-936-304-8233   \n",
       "3800  Ronald Watson      650-346-0501   \n",
       "\n",
       "                                                address  gender student_id  \\\n",
       "3909                   PSC 7440, Box 6664, APO AP 93100  female      ah241   \n",
       "3800  951 Brown Expressway Suite 579, Matthewshaven,...    male      rw923   \n",
       "\n",
       "              email  year department   valid_year  \n",
       "3909  ah241@upc.edu     2       RELG  2016 - 2017  \n",
       "3800  rw923@upc.edu     2       RELG  2016 - 2017  "
      ]
     },
     "execution_count": 1198,
     "metadata": {},
     "output_type": "execute_result"
    }
   ],
   "source": [
    "loa_return_1617_df = valid_1617.sample(n=n_loa_return, random_state=0)\n",
    "loa_return_1617_df.head(2)"
   ]
  },
  {
   "cell_type": "code",
   "execution_count": 1199,
   "metadata": {},
   "outputs": [
    {
     "data": {
      "text/plain": [
       "3    83\n",
       "2    70\n",
       "Name: year, dtype: int64"
      ]
     },
     "execution_count": 1199,
     "metadata": {},
     "output_type": "execute_result"
    }
   ],
   "source": [
    "loa_return_1617_df['year'].value_counts()"
   ]
  },
  {
   "cell_type": "code",
   "execution_count": 1200,
   "metadata": {},
   "outputs": [],
   "source": [
    "loa_return_1617_df['return_year'] = '2016 - 2017'\n",
    "loa_return_1617_df['loa_year'] = '2014 - 2015'\n",
    "loa_return_1617_df.to_csv(f'{PATH}/registry/loa_return_1617.csv', index=None)"
   ]
  },
  {
   "cell_type": "code",
   "execution_count": 1201,
   "metadata": {},
   "outputs": [
    {
     "name": "stdout",
     "output_type": "stream",
     "text": [
      "(158, 11)\n"
     ]
    },
    {
     "data": {
      "text/html": [
       "<div>\n",
       "<style scoped>\n",
       "    .dataframe tbody tr th:only-of-type {\n",
       "        vertical-align: middle;\n",
       "    }\n",
       "\n",
       "    .dataframe tbody tr th {\n",
       "        vertical-align: top;\n",
       "    }\n",
       "\n",
       "    .dataframe thead th {\n",
       "        text-align: right;\n",
       "    }\n",
       "</style>\n",
       "<table border=\"1\" class=\"dataframe\">\n",
       "  <thead>\n",
       "    <tr style=\"text-align: right;\">\n",
       "      <th></th>\n",
       "      <th>name</th>\n",
       "      <th>phone</th>\n",
       "      <th>address</th>\n",
       "      <th>gender</th>\n",
       "      <th>student_id</th>\n",
       "      <th>email</th>\n",
       "      <th>year</th>\n",
       "      <th>department</th>\n",
       "      <th>valid_year</th>\n",
       "      <th>return_year</th>\n",
       "      <th>loa_year</th>\n",
       "    </tr>\n",
       "  </thead>\n",
       "  <tbody>\n",
       "    <tr>\n",
       "      <th>0</th>\n",
       "      <td>Ashlee Parks</td>\n",
       "      <td>459.737.4734</td>\n",
       "      <td>USCGC Scott, FPO AE 93913</td>\n",
       "      <td>female</td>\n",
       "      <td>ap466</td>\n",
       "      <td>ap466@upc.edu</td>\n",
       "      <td>2</td>\n",
       "      <td>PBSC</td>\n",
       "      <td>2016 - 2017</td>\n",
       "      <td>2018 - 2019</td>\n",
       "      <td>2016 - 2017</td>\n",
       "    </tr>\n",
       "    <tr>\n",
       "      <th>1</th>\n",
       "      <td>Christopher Mendez</td>\n",
       "      <td>799.485.1690x099</td>\n",
       "      <td>066 Robert Harbor, New Scott, FL 64963</td>\n",
       "      <td>male</td>\n",
       "      <td>cm139</td>\n",
       "      <td>cm139@upc.edu</td>\n",
       "      <td>2</td>\n",
       "      <td>MATH</td>\n",
       "      <td>2016 - 2017</td>\n",
       "      <td>2018 - 2019</td>\n",
       "      <td>2016 - 2017</td>\n",
       "    </tr>\n",
       "  </tbody>\n",
       "</table>\n",
       "</div>"
      ],
      "text/plain": [
       "                 name             phone  \\\n",
       "0        Ashlee Parks      459.737.4734   \n",
       "1  Christopher Mendez  799.485.1690x099   \n",
       "\n",
       "                                  address  gender student_id          email  \\\n",
       "0               USCGC Scott, FPO AE 93913  female      ap466  ap466@upc.edu   \n",
       "1  066 Robert Harbor, New Scott, FL 64963    male      cm139  cm139@upc.edu   \n",
       "\n",
       "   year department   valid_year  return_year     loa_year  \n",
       "0     2       PBSC  2016 - 2017  2018 - 2019  2016 - 2017  \n",
       "1     2       MATH  2016 - 2017  2018 - 2019  2016 - 2017  "
      ]
     },
     "execution_count": 1201,
     "metadata": {},
     "output_type": "execute_result"
    }
   ],
   "source": [
    "loa_after_1617_df = pd.read_csv(f'{PATH}/registry/loa_return_1819.csv')\n",
    "loa_after_1617_df['valid_year'] = '2016 - 2017'\n",
    "loa_after_1617_df['year'] -= 1\n",
    "print(loa_after_1617_df.shape)\n",
    "loa_after_1617_df.head(2)"
   ]
  },
  {
   "cell_type": "code",
   "execution_count": 1202,
   "metadata": {},
   "outputs": [
    {
     "data": {
      "text/plain": [
       "2    82\n",
       "1    76\n",
       "Name: year, dtype: int64"
      ]
     },
     "execution_count": 1202,
     "metadata": {},
     "output_type": "execute_result"
    }
   ],
   "source": [
    "loa_after_1617_df['year'].value_counts()"
   ]
  },
  {
   "cell_type": "code",
   "execution_count": 1203,
   "metadata": {},
   "outputs": [],
   "source": [
    "dropout_1617_df_2 = dropout_1617_df.copy()\n",
    "dropout_1617_df_2 = dropout_1617_df_2.drop(columns=['dropout_year'], axis=1)\n",
    "\n",
    "grad_1617_df_2 = grad_1617_df.copy()\n",
    "grad_1617_df_2 = grad_1617_df_2.drop(columns=['grad_year'], axis=1)\n",
    "\n",
    "loa_return_1617_df_2 = loa_return_1617_df.copy()\n",
    "loa_return_1617_df_2 = loa_return_1617_df_2.drop(columns=['loa_year', 'return_year'], axis=1)\n",
    "\n",
    "loa_after_1617_df_2 = loa_after_1617_df.copy()\n",
    "loa_after_1617_df_2 = loa_after_1617_df_2.drop(columns=['loa_year', 'return_year'], axis=1)"
   ]
  },
  {
   "cell_type": "code",
   "execution_count": 1204,
   "metadata": {},
   "outputs": [
    {
     "name": "stdout",
     "output_type": "stream",
     "text": [
      "(9461, 9)\n"
     ]
    },
    {
     "data": {
      "text/html": [
       "<div>\n",
       "<style scoped>\n",
       "    .dataframe tbody tr th:only-of-type {\n",
       "        vertical-align: middle;\n",
       "    }\n",
       "\n",
       "    .dataframe tbody tr th {\n",
       "        vertical-align: top;\n",
       "    }\n",
       "\n",
       "    .dataframe thead th {\n",
       "        text-align: right;\n",
       "    }\n",
       "</style>\n",
       "<table border=\"1\" class=\"dataframe\">\n",
       "  <thead>\n",
       "    <tr style=\"text-align: right;\">\n",
       "      <th></th>\n",
       "      <th>name</th>\n",
       "      <th>phone</th>\n",
       "      <th>address</th>\n",
       "      <th>gender</th>\n",
       "      <th>student_id</th>\n",
       "      <th>email</th>\n",
       "      <th>year</th>\n",
       "      <th>department</th>\n",
       "      <th>valid_year</th>\n",
       "    </tr>\n",
       "  </thead>\n",
       "  <tbody>\n",
       "    <tr>\n",
       "      <th>0</th>\n",
       "      <td>Bruce Stevens</td>\n",
       "      <td>470-403-8655x16038</td>\n",
       "      <td>35826 Hernandez Locks, East Davidville, WI 01314</td>\n",
       "      <td>male</td>\n",
       "      <td>bs371</td>\n",
       "      <td>bs371@upc.edu</td>\n",
       "      <td>3</td>\n",
       "      <td>EDUC</td>\n",
       "      <td>2016 - 2017</td>\n",
       "    </tr>\n",
       "    <tr>\n",
       "      <th>1</th>\n",
       "      <td>Katie Lara</td>\n",
       "      <td>7129674672</td>\n",
       "      <td>781 Lee Squares Suite 515, East Aaronfurt, NY ...</td>\n",
       "      <td>female</td>\n",
       "      <td>kl858</td>\n",
       "      <td>kl858@upc.edu</td>\n",
       "      <td>2</td>\n",
       "      <td>GEOG</td>\n",
       "      <td>2016 - 2017</td>\n",
       "    </tr>\n",
       "    <tr>\n",
       "      <th>2</th>\n",
       "      <td>James Lopez</td>\n",
       "      <td>2904399703</td>\n",
       "      <td>57291 Scott Springs Suite 563, West Collin, NV...</td>\n",
       "      <td>male</td>\n",
       "      <td>jl889</td>\n",
       "      <td>jl889@upc.edu</td>\n",
       "      <td>4</td>\n",
       "      <td>POSC</td>\n",
       "      <td>2016 - 2017</td>\n",
       "    </tr>\n",
       "    <tr>\n",
       "      <th>3</th>\n",
       "      <td>Robert Torres</td>\n",
       "      <td>(350)203-5678</td>\n",
       "      <td>31960 Wilson Station Suite 624, Dustinfort, VT...</td>\n",
       "      <td>male</td>\n",
       "      <td>rt814</td>\n",
       "      <td>rt814@upc.edu</td>\n",
       "      <td>4</td>\n",
       "      <td>ENST</td>\n",
       "      <td>2016 - 2017</td>\n",
       "    </tr>\n",
       "    <tr>\n",
       "      <th>4</th>\n",
       "      <td>Bonnie Lynn</td>\n",
       "      <td>2569634540</td>\n",
       "      <td>90836 Brian Mountain, New Catherine, GU 48074</td>\n",
       "      <td>female</td>\n",
       "      <td>bl667</td>\n",
       "      <td>bl667@upc.edu</td>\n",
       "      <td>2</td>\n",
       "      <td>ECON</td>\n",
       "      <td>2016 - 2017</td>\n",
       "    </tr>\n",
       "  </tbody>\n",
       "</table>\n",
       "</div>"
      ],
      "text/plain": [
       "            name               phone  \\\n",
       "0  Bruce Stevens  470-403-8655x16038   \n",
       "1     Katie Lara          7129674672   \n",
       "2    James Lopez          2904399703   \n",
       "3  Robert Torres       (350)203-5678   \n",
       "4    Bonnie Lynn          2569634540   \n",
       "\n",
       "                                             address  gender student_id  \\\n",
       "0   35826 Hernandez Locks, East Davidville, WI 01314    male      bs371   \n",
       "1  781 Lee Squares Suite 515, East Aaronfurt, NY ...  female      kl858   \n",
       "2  57291 Scott Springs Suite 563, West Collin, NV...    male      jl889   \n",
       "3  31960 Wilson Station Suite 624, Dustinfort, VT...    male      rt814   \n",
       "4      90836 Brian Mountain, New Catherine, GU 48074  female      bl667   \n",
       "\n",
       "           email  year department   valid_year  \n",
       "0  bs371@upc.edu     3       EDUC  2016 - 2017  \n",
       "1  kl858@upc.edu     2       GEOG  2016 - 2017  \n",
       "2  jl889@upc.edu     4       POSC  2016 - 2017  \n",
       "3  rt814@upc.edu     4       ENST  2016 - 2017  \n",
       "4  bl667@upc.edu     2       ECON  2016 - 2017  "
      ]
     },
     "execution_count": 1204,
     "metadata": {},
     "output_type": "execute_result"
    }
   ],
   "source": [
    "all_1617 = pd.concat([\n",
    "    repeating,\n",
    "    progressing,\n",
    "    dropout_1617_df_2,\n",
    "    grad_1617_df_2,\n",
    "    loa_after_1617_df_2\n",
    "], ignore_index=True)\n",
    "print(all_1617.shape)\n",
    "all_1617.head()"
   ]
  },
  {
   "cell_type": "code",
   "execution_count": 1205,
   "metadata": {},
   "outputs": [
    {
     "data": {
      "text/plain": [
       "4    2441\n",
       "3    2388\n",
       "2    2348\n",
       "1    2284\n",
       "Name: year, dtype: int64"
      ]
     },
     "execution_count": 1205,
     "metadata": {},
     "output_type": "execute_result"
    }
   ],
   "source": [
    "all_1617['year'].value_counts()"
   ]
  },
  {
   "cell_type": "code",
   "execution_count": 1206,
   "metadata": {},
   "outputs": [
    {
     "data": {
      "text/plain": [
       "25145"
      ]
     },
     "execution_count": 1206,
     "metadata": {},
     "output_type": "execute_result"
    }
   ],
   "source": [
    "len(all_ids)"
   ]
  },
  {
   "cell_type": "code",
   "execution_count": 1207,
   "metadata": {},
   "outputs": [],
   "source": [
    "all_1617['student_id'] = all_1617.apply(lambda x: generate_student_id(x), axis=1)\n",
    "all_1617['email'] = all_1617.apply(lambda x: generate_email(x), axis=1)"
   ]
  },
  {
   "cell_type": "code",
   "execution_count": 1208,
   "metadata": {},
   "outputs": [],
   "source": [
    "all_1617.to_csv(f'{PATH}/registry/all_1617.csv', index=None)"
   ]
  },
  {
   "cell_type": "markdown",
   "metadata": {},
   "source": [
    "# 2015 - 2016"
   ]
  },
  {
   "cell_type": "code",
   "execution_count": 1209,
   "metadata": {},
   "outputs": [
    {
     "data": {
      "text/plain": [
       "(7177, 9)"
      ]
     },
     "execution_count": 1209,
     "metadata": {},
     "output_type": "execute_result"
    }
   ],
   "source": [
    "upperclass = all_1617[all_1617['year'] > 1]\n",
    "upperclass.shape"
   ]
  },
  {
   "cell_type": "code",
   "execution_count": 1210,
   "metadata": {},
   "outputs": [
    {
     "name": "stdout",
     "output_type": "stream",
     "text": [
      "(153, 11)\n"
     ]
    },
    {
     "data": {
      "text/html": [
       "<div>\n",
       "<style scoped>\n",
       "    .dataframe tbody tr th:only-of-type {\n",
       "        vertical-align: middle;\n",
       "    }\n",
       "\n",
       "    .dataframe tbody tr th {\n",
       "        vertical-align: top;\n",
       "    }\n",
       "\n",
       "    .dataframe thead th {\n",
       "        text-align: right;\n",
       "    }\n",
       "</style>\n",
       "<table border=\"1\" class=\"dataframe\">\n",
       "  <thead>\n",
       "    <tr style=\"text-align: right;\">\n",
       "      <th></th>\n",
       "      <th>name</th>\n",
       "      <th>phone</th>\n",
       "      <th>address</th>\n",
       "      <th>gender</th>\n",
       "      <th>student_id</th>\n",
       "      <th>email</th>\n",
       "      <th>year</th>\n",
       "      <th>department</th>\n",
       "      <th>valid_year</th>\n",
       "      <th>return_year</th>\n",
       "      <th>loa_year</th>\n",
       "    </tr>\n",
       "  </thead>\n",
       "  <tbody>\n",
       "    <tr>\n",
       "      <th>3909</th>\n",
       "      <td>Amber Hall</td>\n",
       "      <td>001-936-304-8233</td>\n",
       "      <td>PSC 7440, Box 6664, APO AP 93100</td>\n",
       "      <td>female</td>\n",
       "      <td>ah241</td>\n",
       "      <td>ah241@upc.edu</td>\n",
       "      <td>2</td>\n",
       "      <td>RELG</td>\n",
       "      <td>2016 - 2017</td>\n",
       "      <td>2016 - 2017</td>\n",
       "      <td>2014 - 2015</td>\n",
       "    </tr>\n",
       "    <tr>\n",
       "      <th>3800</th>\n",
       "      <td>Ronald Watson</td>\n",
       "      <td>650-346-0501</td>\n",
       "      <td>951 Brown Expressway Suite 579, Matthewshaven,...</td>\n",
       "      <td>male</td>\n",
       "      <td>rw923</td>\n",
       "      <td>rw923@upc.edu</td>\n",
       "      <td>2</td>\n",
       "      <td>RELG</td>\n",
       "      <td>2016 - 2017</td>\n",
       "      <td>2016 - 2017</td>\n",
       "      <td>2014 - 2015</td>\n",
       "    </tr>\n",
       "  </tbody>\n",
       "</table>\n",
       "</div>"
      ],
      "text/plain": [
       "               name             phone  \\\n",
       "3909     Amber Hall  001-936-304-8233   \n",
       "3800  Ronald Watson      650-346-0501   \n",
       "\n",
       "                                                address  gender student_id  \\\n",
       "3909                   PSC 7440, Box 6664, APO AP 93100  female      ah241   \n",
       "3800  951 Brown Expressway Suite 579, Matthewshaven,...    male      rw923   \n",
       "\n",
       "              email  year department   valid_year  return_year     loa_year  \n",
       "3909  ah241@upc.edu     2       RELG  2016 - 2017  2016 - 2017  2014 - 2015  \n",
       "3800  rw923@upc.edu     2       RELG  2016 - 2017  2016 - 2017  2014 - 2015  "
      ]
     },
     "execution_count": 1210,
     "metadata": {},
     "output_type": "execute_result"
    }
   ],
   "source": [
    "print(loa_return_1617_df.shape)\n",
    "loa_return_1617_df.head(2)"
   ]
  },
  {
   "cell_type": "code",
   "execution_count": 1211,
   "metadata": {},
   "outputs": [
    {
     "data": {
      "text/plain": [
       "(7024, 9)"
      ]
     },
     "execution_count": 1211,
     "metadata": {},
     "output_type": "execute_result"
    }
   ],
   "source": [
    "upperclass = upperclass[~upperclass['student_id'].isin(loa_return_1617_df['student_id'])]\n",
    "upperclass.shape"
   ]
  },
  {
   "cell_type": "code",
   "execution_count": 1212,
   "metadata": {},
   "outputs": [
    {
     "data": {
      "text/plain": [
       "(27, 9)"
      ]
     },
     "execution_count": 1212,
     "metadata": {},
     "output_type": "execute_result"
    }
   ],
   "source": [
    "repeating = upperclass.sample(n=30 + random.randint(-10, 10), random_state=0)\n",
    "repeating.shape"
   ]
  },
  {
   "cell_type": "code",
   "execution_count": 1213,
   "metadata": {},
   "outputs": [],
   "source": [
    "repeating['repeating_year'] = '2016 - 2017'\n",
    "repeating['valid_year'] = '2015 - 2016'"
   ]
  },
  {
   "cell_type": "code",
   "execution_count": 1214,
   "metadata": {},
   "outputs": [],
   "source": [
    "repeating.to_csv(f'{PATH}/registry/repeating_1617.csv', index=None)\n",
    "repeating = repeating.drop(columns=['repeating_year'], axis=1)"
   ]
  },
  {
   "cell_type": "code",
   "execution_count": 1215,
   "metadata": {},
   "outputs": [
    {
     "data": {
      "text/plain": [
       "(6997, 9)"
      ]
     },
     "execution_count": 1215,
     "metadata": {},
     "output_type": "execute_result"
    }
   ],
   "source": [
    "progressing = upperclass[~upperclass['student_id'].isin(repeating['student_id'])]\n",
    "progressing.shape"
   ]
  },
  {
   "cell_type": "code",
   "execution_count": 1216,
   "metadata": {},
   "outputs": [
    {
     "data": {
      "text/plain": [
       "4    2434\n",
       "3    2297\n",
       "2    2266\n",
       "Name: year, dtype: int64"
      ]
     },
     "execution_count": 1216,
     "metadata": {},
     "output_type": "execute_result"
    }
   ],
   "source": [
    "progressing['year'].value_counts()"
   ]
  },
  {
   "cell_type": "code",
   "execution_count": 1217,
   "metadata": {},
   "outputs": [
    {
     "name": "stderr",
     "output_type": "stream",
     "text": [
      "/var/folders/2l/srpzk4jx3bd_85xnzblspysc0000gn/T/ipykernel_39601/496985961.py:1: SettingWithCopyWarning: \n",
      "A value is trying to be set on a copy of a slice from a DataFrame.\n",
      "Try using .loc[row_indexer,col_indexer] = value instead\n",
      "\n",
      "See the caveats in the documentation: https://pandas.pydata.org/pandas-docs/stable/user_guide/indexing.html#returning-a-view-versus-a-copy\n",
      "  progressing['year'] = progressing['year'] - 1\n",
      "/var/folders/2l/srpzk4jx3bd_85xnzblspysc0000gn/T/ipykernel_39601/496985961.py:2: SettingWithCopyWarning: \n",
      "A value is trying to be set on a copy of a slice from a DataFrame.\n",
      "Try using .loc[row_indexer,col_indexer] = value instead\n",
      "\n",
      "See the caveats in the documentation: https://pandas.pydata.org/pandas-docs/stable/user_guide/indexing.html#returning-a-view-versus-a-copy\n",
      "  progressing['valid_year'] = '2015 - 2016'\n"
     ]
    },
    {
     "data": {
      "text/html": [
       "<div>\n",
       "<style scoped>\n",
       "    .dataframe tbody tr th:only-of-type {\n",
       "        vertical-align: middle;\n",
       "    }\n",
       "\n",
       "    .dataframe tbody tr th {\n",
       "        vertical-align: top;\n",
       "    }\n",
       "\n",
       "    .dataframe thead th {\n",
       "        text-align: right;\n",
       "    }\n",
       "</style>\n",
       "<table border=\"1\" class=\"dataframe\">\n",
       "  <thead>\n",
       "    <tr style=\"text-align: right;\">\n",
       "      <th></th>\n",
       "      <th>name</th>\n",
       "      <th>phone</th>\n",
       "      <th>address</th>\n",
       "      <th>gender</th>\n",
       "      <th>student_id</th>\n",
       "      <th>email</th>\n",
       "      <th>year</th>\n",
       "      <th>department</th>\n",
       "      <th>valid_year</th>\n",
       "    </tr>\n",
       "  </thead>\n",
       "  <tbody>\n",
       "    <tr>\n",
       "      <th>0</th>\n",
       "      <td>Bruce Stevens</td>\n",
       "      <td>470-403-8655x16038</td>\n",
       "      <td>35826 Hernandez Locks, East Davidville, WI 01314</td>\n",
       "      <td>male</td>\n",
       "      <td>bs371</td>\n",
       "      <td>bs371@upc.edu</td>\n",
       "      <td>2</td>\n",
       "      <td>EDUC</td>\n",
       "      <td>2015 - 2016</td>\n",
       "    </tr>\n",
       "    <tr>\n",
       "      <th>1</th>\n",
       "      <td>Katie Lara</td>\n",
       "      <td>7129674672</td>\n",
       "      <td>781 Lee Squares Suite 515, East Aaronfurt, NY ...</td>\n",
       "      <td>female</td>\n",
       "      <td>kl858</td>\n",
       "      <td>kl858@upc.edu</td>\n",
       "      <td>1</td>\n",
       "      <td>GEOG</td>\n",
       "      <td>2015 - 2016</td>\n",
       "    </tr>\n",
       "  </tbody>\n",
       "</table>\n",
       "</div>"
      ],
      "text/plain": [
       "            name               phone  \\\n",
       "0  Bruce Stevens  470-403-8655x16038   \n",
       "1     Katie Lara          7129674672   \n",
       "\n",
       "                                             address  gender student_id  \\\n",
       "0   35826 Hernandez Locks, East Davidville, WI 01314    male      bs371   \n",
       "1  781 Lee Squares Suite 515, East Aaronfurt, NY ...  female      kl858   \n",
       "\n",
       "           email  year department   valid_year  \n",
       "0  bs371@upc.edu     2       EDUC  2015 - 2016  \n",
       "1  kl858@upc.edu     1       GEOG  2015 - 2016  "
      ]
     },
     "execution_count": 1217,
     "metadata": {},
     "output_type": "execute_result"
    }
   ],
   "source": [
    "progressing['year'] = progressing['year'] - 1\n",
    "progressing['valid_year'] = '2015 - 2016'\n",
    "progressing.head(2)"
   ]
  },
  {
   "cell_type": "code",
   "execution_count": 1218,
   "metadata": {},
   "outputs": [],
   "source": [
    "progressing.to_csv(f'{PATH}/registry/progressing_1617.csv', index=None)"
   ]
  },
  {
   "cell_type": "code",
   "execution_count": 1219,
   "metadata": {},
   "outputs": [
    {
     "data": {
      "text/plain": [
       "2444"
      ]
     },
     "execution_count": 1219,
     "metadata": {},
     "output_type": "execute_result"
    }
   ],
   "source": [
    "n_grad = all_1617[all_1617['year'] == 4].shape[0] + random.randint(-100, 50)\n",
    "n_grad"
   ]
  },
  {
   "cell_type": "code",
   "execution_count": 1220,
   "metadata": {},
   "outputs": [
    {
     "data": {
      "text/html": [
       "<div>\n",
       "<style scoped>\n",
       "    .dataframe tbody tr th:only-of-type {\n",
       "        vertical-align: middle;\n",
       "    }\n",
       "\n",
       "    .dataframe tbody tr th {\n",
       "        vertical-align: top;\n",
       "    }\n",
       "\n",
       "    .dataframe thead th {\n",
       "        text-align: right;\n",
       "    }\n",
       "</style>\n",
       "<table border=\"1\" class=\"dataframe\">\n",
       "  <thead>\n",
       "    <tr style=\"text-align: right;\">\n",
       "      <th></th>\n",
       "      <th>name</th>\n",
       "      <th>phone</th>\n",
       "      <th>address</th>\n",
       "      <th>gender</th>\n",
       "      <th>student_id</th>\n",
       "      <th>email</th>\n",
       "      <th>year</th>\n",
       "    </tr>\n",
       "  </thead>\n",
       "  <tbody>\n",
       "    <tr>\n",
       "      <th>0</th>\n",
       "      <td>Andrea Griffith</td>\n",
       "      <td>772-986-7029x0398</td>\n",
       "      <td>USCGC Nelson, FPO AA 80933</td>\n",
       "      <td>female</td>\n",
       "      <td>None</td>\n",
       "      <td>None</td>\n",
       "      <td>4</td>\n",
       "    </tr>\n",
       "    <tr>\n",
       "      <th>1</th>\n",
       "      <td>Peter Dean</td>\n",
       "      <td>001-340-463-4957x88605</td>\n",
       "      <td>2177 Joshua Lock, Lynchfurt, PA 19139</td>\n",
       "      <td>male</td>\n",
       "      <td>None</td>\n",
       "      <td>None</td>\n",
       "      <td>4</td>\n",
       "    </tr>\n",
       "    <tr>\n",
       "      <th>2</th>\n",
       "      <td>Stephen Hernandez</td>\n",
       "      <td>949-980-9034</td>\n",
       "      <td>556 Jonathan Courts Apt. 766, Richardfort, PW ...</td>\n",
       "      <td>male</td>\n",
       "      <td>None</td>\n",
       "      <td>None</td>\n",
       "      <td>4</td>\n",
       "    </tr>\n",
       "    <tr>\n",
       "      <th>3</th>\n",
       "      <td>Matthew Douglas</td>\n",
       "      <td>977-860-5918</td>\n",
       "      <td>356 Gregory Highway Apt. 605, Davidberg, NJ 74561</td>\n",
       "      <td>male</td>\n",
       "      <td>None</td>\n",
       "      <td>None</td>\n",
       "      <td>4</td>\n",
       "    </tr>\n",
       "    <tr>\n",
       "      <th>4</th>\n",
       "      <td>John Hernandez</td>\n",
       "      <td>001-535-291-3343x071</td>\n",
       "      <td>PSC 8326, Box 5159, APO AP 65717</td>\n",
       "      <td>male</td>\n",
       "      <td>None</td>\n",
       "      <td>None</td>\n",
       "      <td>4</td>\n",
       "    </tr>\n",
       "  </tbody>\n",
       "</table>\n",
       "</div>"
      ],
      "text/plain": [
       "                name                   phone  \\\n",
       "0    Andrea Griffith       772-986-7029x0398   \n",
       "1         Peter Dean  001-340-463-4957x88605   \n",
       "2  Stephen Hernandez            949-980-9034   \n",
       "3    Matthew Douglas            977-860-5918   \n",
       "4     John Hernandez    001-535-291-3343x071   \n",
       "\n",
       "                                             address  gender student_id email  \\\n",
       "0                         USCGC Nelson, FPO AA 80933  female       None  None   \n",
       "1              2177 Joshua Lock, Lynchfurt, PA 19139    male       None  None   \n",
       "2  556 Jonathan Courts Apt. 766, Richardfort, PW ...    male       None  None   \n",
       "3  356 Gregory Highway Apt. 605, Davidberg, NJ 74561    male       None  None   \n",
       "4                   PSC 8326, Box 5159, APO AP 65717    male       None  None   \n",
       "\n",
       "   year  \n",
       "0     4  \n",
       "1     4  \n",
       "2     4  \n",
       "3     4  \n",
       "4     4  "
      ]
     },
     "execution_count": 1220,
     "metadata": {},
     "output_type": "execute_result"
    }
   ],
   "source": [
    "grad_1516 = []\n",
    "for i in range(n_grad):\n",
    "    if random.random() >= 0.5:\n",
    "        full_name = faker.first_name_female() + ' ' + faker.last_name()\n",
    "        gender = 'female'\n",
    "    else:\n",
    "        full_name = faker.first_name_male() + ' ' + faker.last_name()\n",
    "        gender = 'male'\n",
    "    phone = faker.phone_number()\n",
    "    addr = faker.address().replace('\\n', ', ')\n",
    "    grad_1516.append({\n",
    "        'name': full_name,\n",
    "        'phone': phone,\n",
    "        'address': addr,\n",
    "        'gender': gender,\n",
    "        'student_id': None,\n",
    "        'email': None,\n",
    "        'year': 4\n",
    "    })\n",
    "\n",
    "grad_1516_df = pd.DataFrame.from_records(grad_1516)\n",
    "grad_1516_df.head()"
   ]
  },
  {
   "cell_type": "code",
   "execution_count": 1221,
   "metadata": {},
   "outputs": [],
   "source": [
    "grad_1516_df['department'] = np.random.choice(dept_count.index, size=n_grad, p=dept_count.values)\n",
    "grad_1516_df['valid_year'] = '2015 - 2016'\n",
    "grad_1516_df['grad_year'] = '2015 - 2016'\n",
    "grad_1516_df.to_csv(f'{PATH}/registry/grad_1516.csv', index=None)"
   ]
  },
  {
   "cell_type": "code",
   "execution_count": 1222,
   "metadata": {},
   "outputs": [],
   "source": [
    "grad_1516_df['department'] = np.random.choice(dept_count.index, size=n_grad, p=dept_count.values)\n",
    "grad_1516_df['valid_year'] = '2015 - 2016'\n",
    "grad_1516_df['grad_year'] = '2015 - 2016'\n",
    "grad_1516_df.to_csv(f'{PATH}/registry/grad_1516.csv', index=None)"
   ]
  },
  {
   "cell_type": "code",
   "execution_count": 1223,
   "metadata": {},
   "outputs": [
    {
     "data": {
      "text/plain": [
       "98"
      ]
     },
     "execution_count": 1223,
     "metadata": {},
     "output_type": "execute_result"
    }
   ],
   "source": [
    "n_dropout = 100 + random.randint(-20, 40)\n",
    "n_dropout"
   ]
  },
  {
   "cell_type": "code",
   "execution_count": 1224,
   "metadata": {},
   "outputs": [],
   "source": [
    "dropout_1516 = []\n",
    "for i in range(n_dropout):\n",
    "    if random.random() >= 0.5:\n",
    "        full_name = faker.first_name_female() + ' ' + faker.last_name()\n",
    "        gender = 'female'\n",
    "    else:\n",
    "        full_name = faker.first_name_male() + ' ' + faker.last_name()\n",
    "        gender = 'male'\n",
    "    phone = faker.phone_number()\n",
    "    addr = faker.address().replace('\\n', ', ')\n",
    "    dropout_1516.append({\n",
    "        'name': full_name,\n",
    "        'phone': phone,\n",
    "        'address': addr,\n",
    "        'gender': gender,\n",
    "        'student_id': None,\n",
    "        'email': None\n",
    "    })\n",
    "\n",
    "dropout_1516_df = pd.DataFrame.from_records(dropout_1516)"
   ]
  },
  {
   "cell_type": "code",
   "execution_count": 1225,
   "metadata": {},
   "outputs": [
    {
     "data": {
      "text/html": [
       "<div>\n",
       "<style scoped>\n",
       "    .dataframe tbody tr th:only-of-type {\n",
       "        vertical-align: middle;\n",
       "    }\n",
       "\n",
       "    .dataframe tbody tr th {\n",
       "        vertical-align: top;\n",
       "    }\n",
       "\n",
       "    .dataframe thead th {\n",
       "        text-align: right;\n",
       "    }\n",
       "</style>\n",
       "<table border=\"1\" class=\"dataframe\">\n",
       "  <thead>\n",
       "    <tr style=\"text-align: right;\">\n",
       "      <th></th>\n",
       "      <th>name</th>\n",
       "      <th>phone</th>\n",
       "      <th>address</th>\n",
       "      <th>gender</th>\n",
       "      <th>student_id</th>\n",
       "      <th>email</th>\n",
       "      <th>year</th>\n",
       "      <th>department</th>\n",
       "      <th>valid_year</th>\n",
       "      <th>dropout_year</th>\n",
       "    </tr>\n",
       "  </thead>\n",
       "  <tbody>\n",
       "    <tr>\n",
       "      <th>0</th>\n",
       "      <td>Vincent Wong</td>\n",
       "      <td>001-337-983-8784x052</td>\n",
       "      <td>1109 Heather Course Suite 906, West Jessica, W...</td>\n",
       "      <td>male</td>\n",
       "      <td>None</td>\n",
       "      <td>None</td>\n",
       "      <td>3</td>\n",
       "      <td>THEA</td>\n",
       "      <td>2015 - 2016</td>\n",
       "      <td>2015 - 2016</td>\n",
       "    </tr>\n",
       "    <tr>\n",
       "      <th>1</th>\n",
       "      <td>Amanda Chapman</td>\n",
       "      <td>(315)262-9669x70191</td>\n",
       "      <td>91075 Philip Radial, East Sarahport, MS 70070</td>\n",
       "      <td>female</td>\n",
       "      <td>None</td>\n",
       "      <td>None</td>\n",
       "      <td>1</td>\n",
       "      <td>ECON</td>\n",
       "      <td>2015 - 2016</td>\n",
       "      <td>2015 - 2016</td>\n",
       "    </tr>\n",
       "  </tbody>\n",
       "</table>\n",
       "</div>"
      ],
      "text/plain": [
       "             name                 phone  \\\n",
       "0    Vincent Wong  001-337-983-8784x052   \n",
       "1  Amanda Chapman   (315)262-9669x70191   \n",
       "\n",
       "                                             address  gender student_id email  \\\n",
       "0  1109 Heather Course Suite 906, West Jessica, W...    male       None  None   \n",
       "1      91075 Philip Radial, East Sarahport, MS 70070  female       None  None   \n",
       "\n",
       "   year department   valid_year dropout_year  \n",
       "0     3       THEA  2015 - 2016  2015 - 2016  \n",
       "1     1       ECON  2015 - 2016  2015 - 2016  "
      ]
     },
     "execution_count": 1225,
     "metadata": {},
     "output_type": "execute_result"
    }
   ],
   "source": [
    "dropout_1516_df['year'] = np.random.choice(year_count.index, size=n_dropout, p=year_count.values)\n",
    "dropout_1516_df['department'] = np.random.choice(dept_count.index, size=n_dropout, p=dept_count.values)\n",
    "dropout_1516_df['valid_year'] = '2015 - 2016'\n",
    "dropout_1516_df['dropout_year'] = '2015 - 2016'\n",
    "dropout_1516_df.head(2)"
   ]
  },
  {
   "cell_type": "code",
   "execution_count": 1226,
   "metadata": {},
   "outputs": [],
   "source": [
    "dropout_1516_df.to_csv(f'{PATH}/registry/dropout_1516.csv', index=None)"
   ]
  },
  {
   "cell_type": "code",
   "execution_count": 1227,
   "metadata": {},
   "outputs": [
    {
     "data": {
      "text/plain": [
       "151"
      ]
     },
     "execution_count": 1227,
     "metadata": {},
     "output_type": "execute_result"
    }
   ],
   "source": [
    "n_loa_return = 150 + random.randint(-10, 10)\n",
    "n_loa_return"
   ]
  },
  {
   "cell_type": "code",
   "execution_count": 1228,
   "metadata": {},
   "outputs": [
    {
     "data": {
      "text/plain": [
       "(7024, 9)"
      ]
     },
     "execution_count": 1228,
     "metadata": {},
     "output_type": "execute_result"
    }
   ],
   "source": [
    "valid_1516 = pd.concat([progressing, repeating], ignore_index=True)\n",
    "valid_1516.shape"
   ]
  },
  {
   "cell_type": "code",
   "execution_count": 1229,
   "metadata": {},
   "outputs": [],
   "source": [
    "valid_1516 = valid_1516[valid_1516['year'] > 1]"
   ]
  },
  {
   "cell_type": "code",
   "execution_count": 1230,
   "metadata": {},
   "outputs": [
    {
     "data": {
      "text/html": [
       "<div>\n",
       "<style scoped>\n",
       "    .dataframe tbody tr th:only-of-type {\n",
       "        vertical-align: middle;\n",
       "    }\n",
       "\n",
       "    .dataframe tbody tr th {\n",
       "        vertical-align: top;\n",
       "    }\n",
       "\n",
       "    .dataframe thead th {\n",
       "        text-align: right;\n",
       "    }\n",
       "</style>\n",
       "<table border=\"1\" class=\"dataframe\">\n",
       "  <thead>\n",
       "    <tr style=\"text-align: right;\">\n",
       "      <th></th>\n",
       "      <th>name</th>\n",
       "      <th>phone</th>\n",
       "      <th>address</th>\n",
       "      <th>gender</th>\n",
       "      <th>student_id</th>\n",
       "      <th>email</th>\n",
       "      <th>year</th>\n",
       "      <th>department</th>\n",
       "      <th>valid_year</th>\n",
       "    </tr>\n",
       "  </thead>\n",
       "  <tbody>\n",
       "    <tr>\n",
       "      <th>4414</th>\n",
       "      <td>Crystal Spencer</td>\n",
       "      <td>437.488.7749x1299</td>\n",
       "      <td>798 Heather Brooks Suite 787, Brettmouth, ND 6...</td>\n",
       "      <td>female</td>\n",
       "      <td>cs950</td>\n",
       "      <td>cs950@upc.edu</td>\n",
       "      <td>2</td>\n",
       "      <td>COSC</td>\n",
       "      <td>2015 - 2016</td>\n",
       "    </tr>\n",
       "    <tr>\n",
       "      <th>6509</th>\n",
       "      <td>Sydney Gaines</td>\n",
       "      <td>663-896-0063</td>\n",
       "      <td>02273 Wolf Burgs Suite 908, Gomezmouth, OR 21860</td>\n",
       "      <td>female</td>\n",
       "      <td>sg575</td>\n",
       "      <td>sg575@upc.edu</td>\n",
       "      <td>3</td>\n",
       "      <td>ENST</td>\n",
       "      <td>2015 - 2016</td>\n",
       "    </tr>\n",
       "  </tbody>\n",
       "</table>\n",
       "</div>"
      ],
      "text/plain": [
       "                 name              phone  \\\n",
       "4414  Crystal Spencer  437.488.7749x1299   \n",
       "6509    Sydney Gaines       663-896-0063   \n",
       "\n",
       "                                                address  gender student_id  \\\n",
       "4414  798 Heather Brooks Suite 787, Brettmouth, ND 6...  female      cs950   \n",
       "6509   02273 Wolf Burgs Suite 908, Gomezmouth, OR 21860  female      sg575   \n",
       "\n",
       "              email  year department   valid_year  \n",
       "4414  cs950@upc.edu     2       COSC  2015 - 2016  \n",
       "6509  sg575@upc.edu     3       ENST  2015 - 2016  "
      ]
     },
     "execution_count": 1230,
     "metadata": {},
     "output_type": "execute_result"
    }
   ],
   "source": [
    "loa_return_1516_df = valid_1516.sample(n=n_loa_return, random_state=0)\n",
    "loa_return_1516_df.head(2)"
   ]
  },
  {
   "cell_type": "code",
   "execution_count": 1231,
   "metadata": {},
   "outputs": [
    {
     "data": {
      "text/plain": [
       "3    77\n",
       "2    74\n",
       "Name: year, dtype: int64"
      ]
     },
     "execution_count": 1231,
     "metadata": {},
     "output_type": "execute_result"
    }
   ],
   "source": [
    "loa_return_1516_df['year'].value_counts()"
   ]
  },
  {
   "cell_type": "code",
   "execution_count": 1232,
   "metadata": {},
   "outputs": [],
   "source": [
    "loa_return_1516_df['return_year'] = '2015 - 2016'\n",
    "loa_return_1516_df['loa_year'] = '2013 - 2014'\n",
    "loa_return_1516_df.to_csv(f'{PATH}/registry/loa_return_1516.csv', index=None)"
   ]
  },
  {
   "cell_type": "code",
   "execution_count": 1233,
   "metadata": {},
   "outputs": [
    {
     "name": "stdout",
     "output_type": "stream",
     "text": [
      "(155, 11)\n"
     ]
    },
    {
     "data": {
      "text/html": [
       "<div>\n",
       "<style scoped>\n",
       "    .dataframe tbody tr th:only-of-type {\n",
       "        vertical-align: middle;\n",
       "    }\n",
       "\n",
       "    .dataframe tbody tr th {\n",
       "        vertical-align: top;\n",
       "    }\n",
       "\n",
       "    .dataframe thead th {\n",
       "        text-align: right;\n",
       "    }\n",
       "</style>\n",
       "<table border=\"1\" class=\"dataframe\">\n",
       "  <thead>\n",
       "    <tr style=\"text-align: right;\">\n",
       "      <th></th>\n",
       "      <th>name</th>\n",
       "      <th>phone</th>\n",
       "      <th>address</th>\n",
       "      <th>gender</th>\n",
       "      <th>student_id</th>\n",
       "      <th>email</th>\n",
       "      <th>year</th>\n",
       "      <th>department</th>\n",
       "      <th>valid_year</th>\n",
       "      <th>return_year</th>\n",
       "      <th>loa_year</th>\n",
       "    </tr>\n",
       "  </thead>\n",
       "  <tbody>\n",
       "    <tr>\n",
       "      <th>0</th>\n",
       "      <td>Amy Lane</td>\n",
       "      <td>001-409-765-0777</td>\n",
       "      <td>66107 Craig Loop, Martinezborough, GA 93695</td>\n",
       "      <td>female</td>\n",
       "      <td>al829</td>\n",
       "      <td>al829@upc.edu</td>\n",
       "      <td>1</td>\n",
       "      <td>WRIT</td>\n",
       "      <td>2015 - 2016</td>\n",
       "      <td>2017 - 2018</td>\n",
       "      <td>2015 - 2016</td>\n",
       "    </tr>\n",
       "    <tr>\n",
       "      <th>1</th>\n",
       "      <td>Michael Johnson</td>\n",
       "      <td>(271)742-3806x395</td>\n",
       "      <td>8458 Brian Streets, Michaelmouth, IN 44450</td>\n",
       "      <td>male</td>\n",
       "      <td>mj111</td>\n",
       "      <td>mj111@upc.edu</td>\n",
       "      <td>2</td>\n",
       "      <td>POSC</td>\n",
       "      <td>2015 - 2016</td>\n",
       "      <td>2017 - 2018</td>\n",
       "      <td>2015 - 2016</td>\n",
       "    </tr>\n",
       "  </tbody>\n",
       "</table>\n",
       "</div>"
      ],
      "text/plain": [
       "              name              phone  \\\n",
       "0         Amy Lane   001-409-765-0777   \n",
       "1  Michael Johnson  (271)742-3806x395   \n",
       "\n",
       "                                       address  gender student_id  \\\n",
       "0  66107 Craig Loop, Martinezborough, GA 93695  female      al829   \n",
       "1   8458 Brian Streets, Michaelmouth, IN 44450    male      mj111   \n",
       "\n",
       "           email  year department   valid_year  return_year     loa_year  \n",
       "0  al829@upc.edu     1       WRIT  2015 - 2016  2017 - 2018  2015 - 2016  \n",
       "1  mj111@upc.edu     2       POSC  2015 - 2016  2017 - 2018  2015 - 2016  "
      ]
     },
     "execution_count": 1233,
     "metadata": {},
     "output_type": "execute_result"
    }
   ],
   "source": [
    "loa_after_1516_df = pd.read_csv(f'{PATH}/registry/loa_return_1718.csv')\n",
    "loa_after_1516_df['valid_year'] = '2015 - 2016'\n",
    "loa_after_1516_df['year'] -= 1\n",
    "print(loa_after_1516_df.shape)\n",
    "loa_after_1516_df.head(2)"
   ]
  },
  {
   "cell_type": "code",
   "execution_count": 1234,
   "metadata": {},
   "outputs": [
    {
     "data": {
      "text/plain": [
       "1    78\n",
       "2    77\n",
       "Name: year, dtype: int64"
      ]
     },
     "execution_count": 1234,
     "metadata": {},
     "output_type": "execute_result"
    }
   ],
   "source": [
    "loa_after_1516_df['year'].value_counts()"
   ]
  },
  {
   "cell_type": "code",
   "execution_count": 1235,
   "metadata": {},
   "outputs": [],
   "source": [
    "dropout_1516_df_2 = dropout_1516_df.copy()\n",
    "dropout_1516_df_2 = dropout_1516_df_2.drop(columns=['dropout_year'], axis=1)\n",
    "\n",
    "grad_1516_df_2 = grad_1516_df.copy()\n",
    "grad_1516_df_2 = grad_1516_df_2.drop(columns=['grad_year'], axis=1)\n",
    "\n",
    "loa_return_1516_df_2 = loa_return_1516_df.copy()\n",
    "loa_return_1516_df_2 = loa_return_1516_df_2.drop(columns=['loa_year', 'return_year'], axis=1)\n",
    "\n",
    "loa_after_1516_df_2 = loa_after_1516_df.copy()\n",
    "loa_after_1516_df_2 = loa_after_1516_df_2.drop(columns=['loa_year', 'return_year'], axis=1)"
   ]
  },
  {
   "cell_type": "code",
   "execution_count": 1236,
   "metadata": {},
   "outputs": [
    {
     "name": "stdout",
     "output_type": "stream",
     "text": [
      "(9721, 9)\n"
     ]
    },
    {
     "data": {
      "text/html": [
       "<div>\n",
       "<style scoped>\n",
       "    .dataframe tbody tr th:only-of-type {\n",
       "        vertical-align: middle;\n",
       "    }\n",
       "\n",
       "    .dataframe tbody tr th {\n",
       "        vertical-align: top;\n",
       "    }\n",
       "\n",
       "    .dataframe thead th {\n",
       "        text-align: right;\n",
       "    }\n",
       "</style>\n",
       "<table border=\"1\" class=\"dataframe\">\n",
       "  <thead>\n",
       "    <tr style=\"text-align: right;\">\n",
       "      <th></th>\n",
       "      <th>name</th>\n",
       "      <th>phone</th>\n",
       "      <th>address</th>\n",
       "      <th>gender</th>\n",
       "      <th>student_id</th>\n",
       "      <th>email</th>\n",
       "      <th>year</th>\n",
       "      <th>department</th>\n",
       "      <th>valid_year</th>\n",
       "    </tr>\n",
       "  </thead>\n",
       "  <tbody>\n",
       "    <tr>\n",
       "      <th>0</th>\n",
       "      <td>Tony Hampton</td>\n",
       "      <td>857.443.1517x5605</td>\n",
       "      <td>126 Monica Ferry, East Ryan, SC 96445</td>\n",
       "      <td>male</td>\n",
       "      <td>th232</td>\n",
       "      <td>th232@upc.edu</td>\n",
       "      <td>3</td>\n",
       "      <td>PHAS</td>\n",
       "      <td>2015 - 2016</td>\n",
       "    </tr>\n",
       "    <tr>\n",
       "      <th>1</th>\n",
       "      <td>Susan Brooks</td>\n",
       "      <td>781-515-9635</td>\n",
       "      <td>8933 Cook Mall, South Mary, MA 63522</td>\n",
       "      <td>female</td>\n",
       "      <td>sb478</td>\n",
       "      <td>sb478@upc.edu</td>\n",
       "      <td>2</td>\n",
       "      <td>ENST</td>\n",
       "      <td>2015 - 2016</td>\n",
       "    </tr>\n",
       "    <tr>\n",
       "      <th>2</th>\n",
       "      <td>Jennifer Joyce</td>\n",
       "      <td>(479)385-8165</td>\n",
       "      <td>2317 Cynthia Brook, West Scott, VA 83075</td>\n",
       "      <td>female</td>\n",
       "      <td>jj456</td>\n",
       "      <td>jj456@upc.edu</td>\n",
       "      <td>2</td>\n",
       "      <td>ARTS</td>\n",
       "      <td>2015 - 2016</td>\n",
       "    </tr>\n",
       "    <tr>\n",
       "      <th>3</th>\n",
       "      <td>Michael Anderson</td>\n",
       "      <td>001-475-760-4874x2450</td>\n",
       "      <td>06654 Kelly Expressway, New Patricia, NJ 35133</td>\n",
       "      <td>male</td>\n",
       "      <td>ma853</td>\n",
       "      <td>ma853@upc.edu</td>\n",
       "      <td>2</td>\n",
       "      <td>CHEM</td>\n",
       "      <td>2015 - 2016</td>\n",
       "    </tr>\n",
       "    <tr>\n",
       "      <th>4</th>\n",
       "      <td>Nicole Hernandez</td>\n",
       "      <td>001-954-635-9788x658</td>\n",
       "      <td>336 Parker Groves Apt. 481, West Kelly, PA 64204</td>\n",
       "      <td>female</td>\n",
       "      <td>nh496</td>\n",
       "      <td>nh496@upc.edu</td>\n",
       "      <td>2</td>\n",
       "      <td>PHAS</td>\n",
       "      <td>2015 - 2016</td>\n",
       "    </tr>\n",
       "  </tbody>\n",
       "</table>\n",
       "</div>"
      ],
      "text/plain": [
       "               name                  phone  \\\n",
       "0      Tony Hampton      857.443.1517x5605   \n",
       "1      Susan Brooks           781-515-9635   \n",
       "2    Jennifer Joyce          (479)385-8165   \n",
       "3  Michael Anderson  001-475-760-4874x2450   \n",
       "4  Nicole Hernandez   001-954-635-9788x658   \n",
       "\n",
       "                                            address  gender student_id  \\\n",
       "0             126 Monica Ferry, East Ryan, SC 96445    male      th232   \n",
       "1              8933 Cook Mall, South Mary, MA 63522  female      sb478   \n",
       "2          2317 Cynthia Brook, West Scott, VA 83075  female      jj456   \n",
       "3    06654 Kelly Expressway, New Patricia, NJ 35133    male      ma853   \n",
       "4  336 Parker Groves Apt. 481, West Kelly, PA 64204  female      nh496   \n",
       "\n",
       "           email  year department   valid_year  \n",
       "0  th232@upc.edu     3       PHAS  2015 - 2016  \n",
       "1  sb478@upc.edu     2       ENST  2015 - 2016  \n",
       "2  jj456@upc.edu     2       ARTS  2015 - 2016  \n",
       "3  ma853@upc.edu     2       CHEM  2015 - 2016  \n",
       "4  nh496@upc.edu     2       PHAS  2015 - 2016  "
      ]
     },
     "execution_count": 1236,
     "metadata": {},
     "output_type": "execute_result"
    }
   ],
   "source": [
    "all_1516 = pd.concat([\n",
    "    repeating,\n",
    "    progressing,\n",
    "    dropout_1516_df_2,\n",
    "    grad_1516_df_2,\n",
    "    loa_after_1516_df_2\n",
    "], ignore_index=True)\n",
    "print(all_1516.shape)\n",
    "all_1516.head()"
   ]
  },
  {
   "cell_type": "code",
   "execution_count": 1237,
   "metadata": {},
   "outputs": [
    {
     "data": {
      "text/plain": [
       "4    2477\n",
       "3    2461\n",
       "2    2420\n",
       "1    2363\n",
       "Name: year, dtype: int64"
      ]
     },
     "execution_count": 1237,
     "metadata": {},
     "output_type": "execute_result"
    }
   ],
   "source": [
    "all_1516['year'].value_counts()"
   ]
  },
  {
   "cell_type": "code",
   "execution_count": 1238,
   "metadata": {},
   "outputs": [
    {
     "data": {
      "text/plain": [
       "27661"
      ]
     },
     "execution_count": 1238,
     "metadata": {},
     "output_type": "execute_result"
    }
   ],
   "source": [
    "len(all_ids)"
   ]
  },
  {
   "cell_type": "code",
   "execution_count": 1239,
   "metadata": {},
   "outputs": [],
   "source": [
    "all_1516['student_id'] = all_1516.apply(lambda x: generate_student_id(x), axis=1)\n",
    "all_1516['email'] = all_1516.apply(lambda x: generate_email(x), axis=1)"
   ]
  },
  {
   "cell_type": "code",
   "execution_count": 1240,
   "metadata": {},
   "outputs": [],
   "source": [
    "all_1516.to_csv(f'{PATH}/registry/all_1516.csv', index=None)"
   ]
  },
  {
   "cell_type": "code",
   "execution_count": 1241,
   "metadata": {},
   "outputs": [
    {
     "data": {
      "text/plain": [
       "30203"
      ]
     },
     "execution_count": 1241,
     "metadata": {},
     "output_type": "execute_result"
    }
   ],
   "source": [
    "len(all_ids)"
   ]
  },
  {
   "cell_type": "code",
   "execution_count": null,
   "metadata": {},
   "outputs": [],
   "source": []
  }
 ],
 "metadata": {
  "kernelspec": {
   "display_name": "base",
   "language": "python",
   "name": "python3"
  },
  "language_info": {
   "codemirror_mode": {
    "name": "ipython",
    "version": 3
   },
   "file_extension": ".py",
   "mimetype": "text/x-python",
   "name": "python",
   "nbconvert_exporter": "python",
   "pygments_lexer": "ipython3",
   "version": "3.8.13"
  }
 },
 "nbformat": 4,
 "nbformat_minor": 2
}
