{
 "cells": [
  {
   "cell_type": "code",
   "execution_count": 1,
   "metadata": {},
   "outputs": [],
   "source": [
    "import json\n",
    "import random\n",
    "from datetime import datetime, timedelta\n",
    "from faker import Faker\n",
    "import psycopg2\n",
    "import uuid\n",
    "import requests"
   ]
  },
  {
   "cell_type": "code",
   "execution_count": 2,
   "metadata": {},
   "outputs": [],
   "source": [
    "fake = Faker()"
   ]
  },
  {
   "cell_type": "code",
   "execution_count": 3,
   "metadata": {},
   "outputs": [],
   "source": [
    "def get_db_connection():\n",
    "    return psycopg2.connect(\n",
    "        host='localhost',\n",
    "        port='5433',\n",
    "        user='admin',\n",
    "        password='password',\n",
    "        database='university'\n",
    "    )\n",
    "\n",
    "def load_student_ids():\n",
    "    student_ids = []\n",
    "    try:\n",
    "        conn = get_db_connection()\n",
    "        cur = conn.cursor()\n",
    "        cur.execute(\"SELECT student_id FROM students\")\n",
    "        student_ids = [row[0] for row in cur.fetchall()]\n",
    "        cur.close()\n",
    "        conn.close()\n",
    "    except Exception as e:\n",
    "        print(f\"Error loading student IDs: {e}\")\n",
    "    \n",
    "    return student_ids\n",
    "\n",
    "def load_counselor_ids():\n",
    "    api_url = 'http://localhost:8002/counselors'\n",
    "    response = requests.get(api_url)\n",
    "    json_data = response.json()\n",
    "    counselor_ids = []\n",
    "    for obj in json_data:\n",
    "        counselor_ids.append(obj['counselor_id'])\n",
    "\n",
    "    return counselor_ids"
   ]
  },
  {
   "cell_type": "code",
   "execution_count": 5,
   "metadata": {},
   "outputs": [
    {
     "name": "stdout",
     "output_type": "stream",
     "text": [
      "9000 12\n"
     ]
    }
   ],
   "source": [
    "student_ids = load_student_ids()\n",
    "counselor_ids = load_counselor_ids()\n",
    "print(len(student_ids), len(counselor_ids))"
   ]
  },
  {
   "cell_type": "code",
   "execution_count": 6,
   "metadata": {},
   "outputs": [],
   "source": [
    "NUM_RECORDS = 500\n",
    "START_DATE = datetime(2023, 8, 1)\n",
    "END_DATE = datetime(2024, 8, 31)"
   ]
  },
  {
   "cell_type": "code",
   "execution_count": 7,
   "metadata": {},
   "outputs": [],
   "source": [
    "REGISTRATION_MONTHS = [4, 11]  # April and November\n",
    "EXAM_MONTHS = [5, 12]          # May and December\n",
    "\n",
    "def is_peak_season(dt):\n",
    "    return dt.month in REGISTRATION_MONTHS or dt.month in EXAM_MONTHS\n",
    "\n",
    "def generate_request_time(date):\n",
    "    if date.weekday() >= 5:  # Weekend\n",
    "        hour = random.choices(\n",
    "            [10, 11, 12, 13, 14], weights=[1, 2, 3, 2, 1], k=1\n",
    "        )[0]\n",
    "    else:  # Weekday\n",
    "        hour = random.choices(\n",
    "            [9, 10, 11, 13, 14, 15, 16], weights=[1, 2, 3, 3, 2, 2, 1], k=1\n",
    "        )[0]\n",
    "    minute = random.randint(0, 59)\n",
    "    second = random.randint(0, 59)\n",
    "    return date.replace(hour=hour, minute=minute, second=second)"
   ]
  },
  {
   "cell_type": "code",
   "execution_count": 8,
   "metadata": {},
   "outputs": [],
   "source": [
    "def weighted_dates():\n",
    "    \"\"\"Generate a list of weighted dates based on seasonality.\"\"\"\n",
    "    current = START_DATE\n",
    "    date_weights = []\n",
    "\n",
    "    while current <= END_DATE:\n",
    "        weight = 1\n",
    "        if current.weekday() < 5:\n",
    "            weight += 2  # Weekday\n",
    "        if is_peak_season(current):\n",
    "            weight += 2\n",
    "        date_weights.extend([current] * weight)\n",
    "        current += timedelta(days=1)\n",
    "\n",
    "    return date_weights"
   ]
  },
  {
   "cell_type": "code",
   "execution_count": 12,
   "metadata": {},
   "outputs": [],
   "source": [
    "def generate_reports(student_ids, counselor_ids):\n",
    "    date_pool = weighted_dates()\n",
    "    data = []\n",
    "\n",
    "    for _ in range(NUM_RECORDS):\n",
    "        meeting_id = str(uuid.uuid4())\n",
    "        student_id = random.choice(student_ids)\n",
    "        counselor_id = random.choice(counselor_ids)\n",
    "        date = random.choice(date_pool)\n",
    "        timestamp = generate_request_time(date)\n",
    "        format = random.choice([\"in-person\", \"online\"])\n",
    "        report_content = fake.paragraph(nb_sentences=10)\n",
    "\n",
    "        data.append({\n",
    "            \"meeting_id\": meeting_id,\n",
    "            \"student_id\": student_id,\n",
    "            \"counselor_id\": counselor_id,\n",
    "            \"meeting_date\": timestamp.isoformat(),\n",
    "            \"format\": format,\n",
    "            \"report_content\": report_content\n",
    "        })\n",
    "\n",
    "    return data"
   ]
  },
  {
   "cell_type": "code",
   "execution_count": 13,
   "metadata": {},
   "outputs": [
    {
     "data": {
      "text/plain": [
       "500"
      ]
     },
     "execution_count": 13,
     "metadata": {},
     "output_type": "execute_result"
    }
   ],
   "source": [
    "data = generate_reports(student_ids, counselor_ids)\n",
    "len(data)"
   ]
  },
  {
   "cell_type": "code",
   "execution_count": 17,
   "metadata": {},
   "outputs": [],
   "source": [
    "data_sorted = sorted(data, key=lambda d: d['meeting_date'])"
   ]
  },
  {
   "cell_type": "code",
   "execution_count": 18,
   "metadata": {},
   "outputs": [
    {
     "data": {
      "text/plain": [
       "[{'meeting_id': '6c8c3ee2-e259-430f-9dfd-ecdd22b7b811',\n",
       "  'student_id': 'lr451',\n",
       "  'counselor_id': 'jthompson',\n",
       "  'meeting_date': '2023-08-02T13:45:40',\n",
       "  'format': 'in-person',\n",
       "  'report_content': 'Weight little product single parent themselves. Area marriage throughout no. Economic represent cut yard plan Republican. Really soldier though town increase indeed. Magazine tend ready citizen beautiful clearly. House window worker prepare might design various exactly. Least approach success face hit race themselves machine. Admit modern possible loss skin. Hospital argue anything. Debate amount light real color. Describe page gas hold collection stay new. Language catch magazine ever speech.'},\n",
       " {'meeting_id': 'ec963d09-d7cf-49d0-9bbd-a90f025ad2a6',\n",
       "  'student_id': 'ak647',\n",
       "  'counselor_id': 'acasados',\n",
       "  'meeting_date': '2023-08-02T14:16:27',\n",
       "  'format': 'in-person',\n",
       "  'report_content': 'Result read have success. Character operation personal table benefit computer. Notice near set. Film role indicate. Any hit leave difficult. Above attack blood listen. He trouble it age assume candidate. Sound strategy attention lay wear compare position. Order second ball clear resource pick enough pay. Indicate good admit feeling. Happen office compare need image open commercial. Throw beyond step even make strategy identify.'},\n",
       " {'meeting_id': '99d410b7-4b75-4354-8e9d-adee0b5a443f',\n",
       "  'student_id': 'jp301',\n",
       "  'counselor_id': 'schen',\n",
       "  'meeting_date': '2023-08-02T16:26:38',\n",
       "  'format': 'online',\n",
       "  'report_content': 'Opportunity top music unit strong possible man. Week talk food action tax. Physical professional be water. Theory ready discover save. Loss write something. Employee area race. Respond anyone until reality appear. Value fight cold. None none traditional fly. Enjoy ball because daughter attention her. Their local mother anyone member still. There plant report person impact stop international race. Risk hospital instead unit set prepare audience.'},\n",
       " {'meeting_id': 'be9058b9-1c15-4493-be1a-541e5b95a4e8',\n",
       "  'student_id': 'sp668',\n",
       "  'counselor_id': 'acasados',\n",
       "  'meeting_date': '2023-08-03T13:27:15',\n",
       "  'format': 'in-person',\n",
       "  'report_content': 'Alone traditional now near always own. Program firm bit attorney property. Mrs sit consider lose entire can question. Sure nothing kid. Trial choice simple well smile. Now determine quality. Official past worry player this government what. Surface always than rich hold man effect. Special student mission within. Series receive message region. Child sense choose fire natural affect goal glass.'},\n",
       " {'meeting_id': '3bbef7aa-f85e-4be7-bc98-b722396178dc',\n",
       "  'student_id': 'kb347',\n",
       "  'counselor_id': 'rsharma',\n",
       "  'meeting_date': '2023-08-03T13:59:10',\n",
       "  'format': 'online',\n",
       "  'report_content': 'Play simple seek capital whatever world song attack. Along party structure him interview. Their hold by both quite. Around machine own success detail century. Project social language rule on sort. Into will move operation likely. Throw school almost decision gun approach point police. Including capital moment conference spring lead number. Mind special discuss left lot. Thank after security recognize keep next hour light. Partner consumer wife else.'}]"
      ]
     },
     "execution_count": 18,
     "metadata": {},
     "output_type": "execute_result"
    }
   ],
   "source": [
    "data_sorted[:5]"
   ]
  },
  {
   "cell_type": "code",
   "execution_count": 19,
   "metadata": {},
   "outputs": [],
   "source": [
    "with open(\"/Users/ngochoang/Library/CloudStorage/GoogleDrive-nhungoc1508@gmail.com/My Drive/Graduate/Semester 2 (Spring 2025)/Big Data Management/Project/P1 - Landing zone/Data/past_meeting_reports.json\", \"w\") as f:\n",
    "    json.dump(data_sorted, f, indent=4)"
   ]
  },
  {
   "cell_type": "code",
   "execution_count": null,
   "metadata": {},
   "outputs": [],
   "source": []
  }
 ],
 "metadata": {
  "kernelspec": {
   "display_name": "base",
   "language": "python",
   "name": "python3"
  },
  "language_info": {
   "codemirror_mode": {
    "name": "ipython",
    "version": 3
   },
   "file_extension": ".py",
   "mimetype": "text/x-python",
   "name": "python",
   "nbconvert_exporter": "python",
   "pygments_lexer": "ipython3",
   "version": "3.8.13"
  }
 },
 "nbformat": 4,
 "nbformat_minor": 2
}
