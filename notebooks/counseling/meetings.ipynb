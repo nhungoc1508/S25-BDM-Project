{
 "cells": [
  {
   "cell_type": "code",
   "execution_count": 57,
   "metadata": {},
   "outputs": [],
   "source": [
    "import json\n",
    "import random\n",
    "from datetime import datetime, timedelta\n",
    "from faker import Faker\n",
    "import psycopg2\n",
    "import uuid\n",
    "import requests"
   ]
  },
  {
   "cell_type": "code",
   "execution_count": 58,
   "metadata": {},
   "outputs": [],
   "source": [
    "fake = Faker()"
   ]
  },
  {
   "cell_type": "code",
   "execution_count": 59,
   "metadata": {},
   "outputs": [],
   "source": [
    "def get_db_connection():\n",
    "    return psycopg2.connect(\n",
    "        host='localhost',\n",
    "        port='5433',\n",
    "        user='admin',\n",
    "        password='password',\n",
    "        database='university'\n",
    "    )\n",
    "\n",
    "def load_student_ids():\n",
    "    student_ids = []\n",
    "    try:\n",
    "        conn = get_db_connection()\n",
    "        cur = conn.cursor()\n",
    "        cur.execute(\"SELECT student_id FROM students\")\n",
    "        student_ids = [row[0] for row in cur.fetchall()]\n",
    "        cur.close()\n",
    "        conn.close()\n",
    "    except Exception as e:\n",
    "        print(f\"Error loading student IDs: {e}\")\n",
    "    \n",
    "    return student_ids\n",
    "\n",
    "def load_courses():\n",
    "    courses = []\n",
    "    try:\n",
    "        conn = get_db_connection()\n",
    "        cur = conn.cursor()\n",
    "        cur.execute(\"SELECT title FROM courses\")\n",
    "        courses = [row[0] for row in cur.fetchall()]\n",
    "        cur.close()\n",
    "        conn.close()\n",
    "    except Exception as e:\n",
    "        print(f\"Error loading courses: {e}\")\n",
    "    \n",
    "    return courses\n",
    "\n",
    "def load_majors():\n",
    "    majors = []\n",
    "    try:\n",
    "        conn = get_db_connection()\n",
    "        cur = conn.cursor()\n",
    "        cur.execute(\"SELECT name FROM departments\")\n",
    "        majors = [row[0] for row in cur.fetchall()]\n",
    "        cur.close()\n",
    "        conn.close()\n",
    "    except Exception as e:\n",
    "        print(f\"Error loading majors: {e}\")\n",
    "\n",
    "    return majors\n",
    "\n",
    "def load_counselor_ids():\n",
    "    api_url = 'http://localhost:8002/counselors'\n",
    "    response = requests.get(api_url)\n",
    "    json_data = response.json()\n",
    "    counselor_ids = []\n",
    "    for obj in json_data:\n",
    "        counselor_ids.append(obj['counselor_id'])\n",
    "\n",
    "    return counselor_ids"
   ]
  },
  {
   "cell_type": "code",
   "execution_count": 60,
   "metadata": {},
   "outputs": [
    {
     "name": "stdout",
     "output_type": "stream",
     "text": [
      "9000 12 1797 26\n"
     ]
    }
   ],
   "source": [
    "student_ids = load_student_ids()\n",
    "counselor_ids = load_counselor_ids()\n",
    "courses = load_courses()\n",
    "majors = load_majors()\n",
    "print(len(student_ids), len(counselor_ids), len(courses), len(majors))"
   ]
  },
  {
   "cell_type": "code",
   "execution_count": 61,
   "metadata": {},
   "outputs": [],
   "source": [
    "NUM_RECORDS = 300\n",
    "START_DATE = datetime(2023, 8, 1)\n",
    "END_DATE = datetime(2024, 8, 31)"
   ]
  },
  {
   "cell_type": "code",
   "execution_count": 62,
   "metadata": {},
   "outputs": [],
   "source": [
    "MEETING_PURPOSES = [\n",
    "    \"Academic Progress Review\",\n",
    "    \"Course Selection Assistance\",\n",
    "    \"Major Declaration\",\n",
    "    \"Study Plan Development\",\n",
    "    \"Academic Probation Meeting\",\n",
    "    \"Graduation Requirements Check\",\n",
    "    \"Internship Application Help\",\n",
    "    \"Career Path Guidance\",\n",
    "    \"Transfer Credit Evaluation\",\n",
    "    \"Mental Health Resources\",\n",
    "    \"Accommodations Request\",\n",
    "    \"Research Opportunity Discussion\",\n",
    "    \"Study Abroad Planning\",\n",
    "    \"Financial Aid Questions\",\n",
    "    \"Academic Difficulty Support\"\n",
    "]"
   ]
  },
  {
   "cell_type": "code",
   "execution_count": 63,
   "metadata": {},
   "outputs": [],
   "source": [
    "DESCRIPTION_TEMPLATES = [\n",
    "    \"I'm struggling with {course} and need help understanding how to improve my grade. My current grade is {grade}.\",\n",
    "    \"I want to change my major and need advice on what courses I should take next semester.\",\n",
    "    \"I need to review my graduation requirements to make sure I'm on track to graduate in {timeframe}.\",\n",
    "    \"I've been dealing with {issue} this semester and it's affecting my academics. I need advice on how to proceed.\",\n",
    "    \"I'm interested in studying abroad in {country} and need guidance on how this will affect my graduation timeline.\",\n",
    "    \"I'm having trouble balancing my coursework with my job as a {job_title}. I need advice on time management.\",\n",
    "    \"I would like to discuss potential career paths for someone with a {major} degree.\",\n",
    "    \"I need help selecting courses for next semester that align with my interest in {interest_area}.\",\n",
    "    \"I recently transferred from another university and want to discuss how my credits transferred over.\",\n",
    "    \"I'm on academic probation and need to create a plan to improve my GPA this semester.\"\n",
    "]"
   ]
  },
  {
   "cell_type": "code",
   "execution_count": 64,
   "metadata": {},
   "outputs": [],
   "source": [
    "REGISTRATION_MONTHS = [4, 11]  # April and November\n",
    "EXAM_MONTHS = [5, 12]          # May and December\n",
    "\n",
    "def is_peak_season(dt):\n",
    "    return dt.month in REGISTRATION_MONTHS or dt.month in EXAM_MONTHS\n",
    "\n",
    "def generate_request_time(date):\n",
    "    if date.weekday() >= 5:  # Weekend\n",
    "        hour = random.choices(\n",
    "            [10, 11, 12, 13, 14], weights=[1, 2, 3, 2, 1], k=1\n",
    "        )[0]\n",
    "    else:  # Weekday\n",
    "        hour = random.choices(\n",
    "            [9, 10, 11, 13, 14, 15, 16], weights=[1, 2, 3, 3, 2, 2, 1], k=1\n",
    "        )[0]\n",
    "    minute = random.randint(0, 59)\n",
    "    second = random.randint(0, 59)\n",
    "    return date.replace(hour=hour, minute=minute, second=second)"
   ]
  },
  {
   "cell_type": "code",
   "execution_count": 65,
   "metadata": {},
   "outputs": [],
   "source": [
    "def weighted_dates():\n",
    "    \"\"\"Generate a list of weighted dates based on seasonality.\"\"\"\n",
    "    current = START_DATE\n",
    "    date_weights = []\n",
    "\n",
    "    while current <= END_DATE:\n",
    "        weight = 1\n",
    "        if current.weekday() < 5:\n",
    "            weight += 2  # Weekday\n",
    "        if is_peak_season(current):\n",
    "            weight += 2\n",
    "        date_weights.extend([current] * weight)\n",
    "        current += timedelta(days=1)\n",
    "\n",
    "    return date_weights"
   ]
  },
  {
   "cell_type": "code",
   "execution_count": 66,
   "metadata": {},
   "outputs": [],
   "source": [
    "def generate_batch_requests(student_ids, batch_size=20):\n",
    "    batch = []\n",
    "\n",
    "    themes = [\n",
    "        \"Mid-term grade interventions\",\n",
    "        \"First-generation student check-in\",\n",
    "        \"Financial aid warning follow-up\",\n",
    "        \"Academic probation meeting\",\n",
    "        \"Graduation requirement check\"\n",
    "    ]\n",
    "    selected_students = random.sample(student_ids, batch_size)\n",
    "    \n",
    "    date_pool = weighted_dates()\n",
    "    \n",
    "    for student_id in selected_students:\n",
    "        theme = random.choice(themes)\n",
    "        description = f\"Required meeting for {theme.lower()}. Please schedule at your earliest convenience.\"\n",
    "        date = random.choice(date_pool)\n",
    "        timestamp = generate_request_time(date)\n",
    "        \n",
    "        batch.append({\n",
    "            \"request_id\": str(uuid.uuid4()),\n",
    "            \"student_id\": student_id,\n",
    "            \"purpose\": theme,\n",
    "            \"description\": description,\n",
    "            \"request_timestamp\": timestamp.isoformat(),\n",
    "            \"requestor_type\": \"counselor\"\n",
    "        })\n",
    "    \n",
    "    return batch"
   ]
  },
  {
   "cell_type": "code",
   "execution_count": 67,
   "metadata": {},
   "outputs": [],
   "source": [
    "def generate_mock_requests():\n",
    "    date_pool = weighted_dates()\n",
    "    data = []\n",
    "\n",
    "    for _ in range(NUM_RECORDS):\n",
    "        student_id = random.choice(student_ids)\n",
    "        purpose = random.choice(MEETING_PURPOSES)\n",
    "        date = random.choice(date_pool)\n",
    "        timestamp = generate_request_time(date)\n",
    "        \n",
    "        template = random.choice(DESCRIPTION_TEMPLATES)\n",
    "        description = template.format(\n",
    "            course=random.choice(courses),\n",
    "            grade=random.choice([\"C-\", \"D+\", \"F\", \"B-\", \"C+\"]),\n",
    "            timeframe=random.choice([\"Spring 2025\", \"Fall 2025\", \"Spring 2026\"]),\n",
    "            issue=random.choice([\"anxiety\", \"family emergency\", \"health issues\", \"work conflicts\"]),\n",
    "            country=fake.country(),\n",
    "            job_title=fake.job(),\n",
    "            major=random.choice(majors),\n",
    "            interest_area=random.choice([\"data science\", \"marketing\", \"research\", \"sustainability\", \"healthcare\"])\n",
    "        )\n",
    "        if random.random() < 0.3:\n",
    "            description += \"\\n\\n\" + fake.paragraph()\n",
    "\n",
    "        data.append({\n",
    "            \"request_id\": str(uuid.uuid4()),\n",
    "            \"student_id\": student_id,\n",
    "            \"purpose\": purpose,\n",
    "            \"description\": description,\n",
    "            \"request_timestamp\": timestamp.isoformat(),\n",
    "            \"requestor_type\": \"student\"\n",
    "        })\n",
    "\n",
    "        if len(data) % 20 == 0: # Every 10 requests\n",
    "            batch_requests = generate_batch_requests(student_ids, batch_size=10)\n",
    "            for req in batch_requests:\n",
    "                data.append(req)\n",
    "\n",
    "    return data"
   ]
  },
  {
   "cell_type": "code",
   "execution_count": 68,
   "metadata": {},
   "outputs": [
    {
     "data": {
      "text/plain": [
       "590"
      ]
     },
     "execution_count": 68,
     "metadata": {},
     "output_type": "execute_result"
    }
   ],
   "source": [
    "data = generate_mock_requests()\n",
    "len(data)"
   ]
  },
  {
   "cell_type": "code",
   "execution_count": 69,
   "metadata": {},
   "outputs": [
    {
     "data": {
      "text/plain": [
       "[{'request_id': 'a3f487a1-dded-4cc3-a32f-91c20e98d920',\n",
       "  'student_id': 'cp694',\n",
       "  'purpose': 'Financial Aid Questions',\n",
       "  'description': 'I recently transferred from another university and want to discuss how my credits transferred over.',\n",
       "  'request_timestamp': '2024-06-26T11:12:57',\n",
       "  'requestor_type': 'student'},\n",
       " {'request_id': 'e9971e4c-2e00-4381-a885-df95212d3d16',\n",
       "  'student_id': 'hw967',\n",
       "  'purpose': 'Financial Aid Questions',\n",
       "  'description': \"I'm having trouble balancing my coursework with my job as a Comptroller. I need advice on time management.\",\n",
       "  'request_timestamp': '2024-04-29T10:09:44',\n",
       "  'requestor_type': 'student'},\n",
       " {'request_id': '1e584479-ad67-454a-afbc-5ebcf1fd282a',\n",
       "  'student_id': 'hb378',\n",
       "  'purpose': 'Course Selection Assistance',\n",
       "  'description': \"I'm on academic probation and need to create a plan to improve my GPA this semester.\",\n",
       "  'request_timestamp': '2024-04-17T10:51:55',\n",
       "  'requestor_type': 'student'},\n",
       " {'request_id': 'd7761474-fc15-43c4-93a5-73f8586576a8',\n",
       "  'student_id': 'bb583',\n",
       "  'purpose': 'Study Abroad Planning',\n",
       "  'description': \"I'm interested in studying abroad in Finland and need guidance on how this will affect my graduation timeline.\",\n",
       "  'request_timestamp': '2024-03-11T15:04:30',\n",
       "  'requestor_type': 'student'},\n",
       " {'request_id': '2e4fe3d2-c93c-4ff6-b59f-2bddaabe00a8',\n",
       "  'student_id': 'dc999',\n",
       "  'purpose': 'Major Declaration',\n",
       "  'description': \"I'm on academic probation and need to create a plan to improve my GPA this semester.\",\n",
       "  'request_timestamp': '2024-05-25T14:47:05',\n",
       "  'requestor_type': 'student'}]"
      ]
     },
     "execution_count": 69,
     "metadata": {},
     "output_type": "execute_result"
    }
   ],
   "source": [
    "data[:5]"
   ]
  },
  {
   "cell_type": "code",
   "execution_count": 70,
   "metadata": {},
   "outputs": [],
   "source": [
    "data_sorted = sorted(data, key=lambda d: d['request_timestamp'])"
   ]
  },
  {
   "cell_type": "code",
   "execution_count": 71,
   "metadata": {},
   "outputs": [
    {
     "data": {
      "text/plain": [
       "[{'request_id': '2376ccc4-ebb2-4eeb-9bc2-e09adb642170',\n",
       "  'student_id': 'cp181',\n",
       "  'purpose': 'Graduation Requirements Check',\n",
       "  'description': 'I want to change my major and need advice on what courses I should take next semester.\\n\\nBoth serve despite return represent security woman. Lead behavior on fast.',\n",
       "  'request_timestamp': '2023-08-01T13:54:06',\n",
       "  'requestor_type': 'student'},\n",
       " {'request_id': '5d84c96c-2818-4384-9571-09db8ca7a20d',\n",
       "  'student_id': 'ag375',\n",
       "  'purpose': 'Course Selection Assistance',\n",
       "  'description': 'I recently transferred from another university and want to discuss how my credits transferred over.\\n\\nStyle student now push arm have. Degree ready wonder can.',\n",
       "  'request_timestamp': '2023-08-01T14:52:26',\n",
       "  'requestor_type': 'student'},\n",
       " {'request_id': '791b1550-8d83-4901-a736-1dbdea0dec6e',\n",
       "  'student_id': 'kb436',\n",
       "  'purpose': 'Academic Difficulty Support',\n",
       "  'description': 'I want to change my major and need advice on what courses I should take next semester.\\n\\nGo course discover maybe term training. Budget part though reason. Good raise table happen.',\n",
       "  'request_timestamp': '2023-08-01T15:01:12',\n",
       "  'requestor_type': 'student'}]"
      ]
     },
     "execution_count": 71,
     "metadata": {},
     "output_type": "execute_result"
    }
   ],
   "source": [
    "data_sorted[:3]"
   ]
  },
  {
   "cell_type": "code",
   "execution_count": 72,
   "metadata": {},
   "outputs": [],
   "source": [
    "with open(\"/Users/ngochoang/Library/CloudStorage/GoogleDrive-nhungoc1508@gmail.com/My Drive/Graduate/Semester 2 (Spring 2025)/Big Data Management/Project/P1 - Landing zone/Data/past_meeting_requests.json\", \"w\") as f:\n",
    "    json.dump(data_sorted, f, indent=4)"
   ]
  },
  {
   "cell_type": "code",
   "execution_count": null,
   "metadata": {},
   "outputs": [],
   "source": []
  }
 ],
 "metadata": {
  "kernelspec": {
   "display_name": "base",
   "language": "python",
   "name": "python3"
  },
  "language_info": {
   "codemirror_mode": {
    "name": "ipython",
    "version": 3
   },
   "file_extension": ".py",
   "mimetype": "text/x-python",
   "name": "python",
   "nbconvert_exporter": "python",
   "pygments_lexer": "ipython3",
   "version": "3.8.13"
  }
 },
 "nbformat": 4,
 "nbformat_minor": 2
}
